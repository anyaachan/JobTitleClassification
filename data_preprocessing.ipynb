{
 "cells": [
  {
   "metadata": {
    "ExecuteTime": {
     "end_time": "2024-09-30T10:51:28.911307Z",
     "start_time": "2024-09-30T10:51:25.242547Z"
    }
   },
   "cell_type": "code",
   "source": [
    "import pandas as pd\n",
    "from collections import Counter\n",
    "import matplotlib.pyplot as plt\n",
    "from transformers import BertTokenizer, BertModel\n",
    "from sklearn.model_selection import train_test_split\n",
    "from sklearn.preprocessing import MultiLabelBinarizer\n",
    "\n",
    "import torch\n",
    "import torch.nn as nn\n",
    "from torch.utils.data import Dataset\n",
    "from torch.utils.data import DataLoader"
   ],
   "id": "198fb30a93ad8f07",
   "outputs": [
    {
     "name": "stderr",
     "output_type": "stream",
     "text": [
      "/Users/anna-alexandradanchenko/local/JobTitleClassification/venv/lib/python3.12/site-packages/tqdm/auto.py:21: TqdmWarning: IProgress not found. Please update jupyter and ipywidgets. See https://ipywidgets.readthedocs.io/en/stable/user_install.html\n",
      "  from .autonotebook import tqdm as notebook_tqdm\n"
     ]
    }
   ],
   "execution_count": 1
  },
  {
   "metadata": {
    "ExecuteTime": {
     "end_time": "2024-09-30T10:51:28.925529Z",
     "start_time": "2024-09-30T10:51:28.922254Z"
    }
   },
   "cell_type": "code",
   "source": [
    "from torch import cuda\n",
    "device = 'cuda' if cuda.is_available() else 'cpu'"
   ],
   "id": "cca6ac6f55888475",
   "outputs": [],
   "execution_count": 2
  },
  {
   "metadata": {},
   "cell_type": "markdown",
   "source": [
    "# EDA\n",
    "### Import Data"
   ],
   "id": "b0f8d8dc1eed0229"
  },
  {
   "metadata": {
    "ExecuteTime": {
     "end_time": "2024-09-30T10:51:29.198972Z",
     "start_time": "2024-09-30T10:51:28.941880Z"
    }
   },
   "cell_type": "code",
   "source": [
    "job_level_data = pd.read_excel(\"data/JobLevelData.xlsx\")\n",
    "job_level_data.head()"
   ],
   "id": "3032b53ca5872bad",
   "outputs": [
    {
     "data": {
      "text/plain": [
       "                                               Title        Column 1  \\\n",
       "0   Vice President / Director of Systems Engineering  Vice President   \n",
       "1                Systems Engineer; Systems Architect         Manager   \n",
       "2  Executive Director, Global IT Infrastructure /...        Director   \n",
       "3      CTO/Executive Director of Technology Services        Director   \n",
       "4                                Vice President, CIO  Vice President   \n",
       "\n",
       "                       Column 2 Column 3 Column 4  \n",
       "0                           NaN      NaN      NaN  \n",
       "1  Individual Contributor/Staff      NaN      NaN  \n",
       "2                 Chief Officer      NaN      NaN  \n",
       "3                 Chief Officer      NaN      NaN  \n",
       "4                           NaN      NaN      NaN  "
      ],
      "text/html": [
       "<div>\n",
       "<style scoped>\n",
       "    .dataframe tbody tr th:only-of-type {\n",
       "        vertical-align: middle;\n",
       "    }\n",
       "\n",
       "    .dataframe tbody tr th {\n",
       "        vertical-align: top;\n",
       "    }\n",
       "\n",
       "    .dataframe thead th {\n",
       "        text-align: right;\n",
       "    }\n",
       "</style>\n",
       "<table border=\"1\" class=\"dataframe\">\n",
       "  <thead>\n",
       "    <tr style=\"text-align: right;\">\n",
       "      <th></th>\n",
       "      <th>Title</th>\n",
       "      <th>Column 1</th>\n",
       "      <th>Column 2</th>\n",
       "      <th>Column 3</th>\n",
       "      <th>Column 4</th>\n",
       "    </tr>\n",
       "  </thead>\n",
       "  <tbody>\n",
       "    <tr>\n",
       "      <th>0</th>\n",
       "      <td>Vice President / Director of Systems Engineering</td>\n",
       "      <td>Vice President</td>\n",
       "      <td>NaN</td>\n",
       "      <td>NaN</td>\n",
       "      <td>NaN</td>\n",
       "    </tr>\n",
       "    <tr>\n",
       "      <th>1</th>\n",
       "      <td>Systems Engineer; Systems Architect</td>\n",
       "      <td>Manager</td>\n",
       "      <td>Individual Contributor/Staff</td>\n",
       "      <td>NaN</td>\n",
       "      <td>NaN</td>\n",
       "    </tr>\n",
       "    <tr>\n",
       "      <th>2</th>\n",
       "      <td>Executive Director, Global IT Infrastructure /...</td>\n",
       "      <td>Director</td>\n",
       "      <td>Chief Officer</td>\n",
       "      <td>NaN</td>\n",
       "      <td>NaN</td>\n",
       "    </tr>\n",
       "    <tr>\n",
       "      <th>3</th>\n",
       "      <td>CTO/Executive Director of Technology Services</td>\n",
       "      <td>Director</td>\n",
       "      <td>Chief Officer</td>\n",
       "      <td>NaN</td>\n",
       "      <td>NaN</td>\n",
       "    </tr>\n",
       "    <tr>\n",
       "      <th>4</th>\n",
       "      <td>Vice President, CIO</td>\n",
       "      <td>Vice President</td>\n",
       "      <td>NaN</td>\n",
       "      <td>NaN</td>\n",
       "      <td>NaN</td>\n",
       "    </tr>\n",
       "  </tbody>\n",
       "</table>\n",
       "</div>"
      ]
     },
     "execution_count": 3,
     "metadata": {},
     "output_type": "execute_result"
    }
   ],
   "execution_count": 3
  },
  {
   "metadata": {},
   "cell_type": "markdown",
   "source": "### Check for Rows with all NaNs",
   "id": "62692bfb5c9e59d3"
  },
  {
   "metadata": {
    "ExecuteTime": {
     "end_time": "2024-09-30T10:51:29.321258Z",
     "start_time": "2024-09-30T10:51:29.314458Z"
    }
   },
   "cell_type": "code",
   "source": [
    "nan_rows = job_level_data[job_level_data.drop(columns=['Title']).isna().all(axis=1)]\n",
    "nan_rows"
   ],
   "id": "3b10e7a9fe4bfd19",
   "outputs": [
    {
     "data": {
      "text/plain": [
       "                                                  Title Column 1 Column 2  \\\n",
       "29                                                 CINO      NaN      NaN   \n",
       "341                                Ticari Subesi Muduru      NaN      NaN   \n",
       "511   Governor, Chair of Board Risk and Audit Commit...      NaN      NaN   \n",
       "764          Former Director, Compensation and Benefits      NaN      NaN   \n",
       "829                      Release of Information Tech II      NaN      NaN   \n",
       "1257                  Shareholder, Chair of Tax Section      NaN      NaN   \n",
       "1406  Global People Systems, Processes and Informati...      NaN      NaN   \n",
       "1713                          Supplier Quality Engineer      NaN      NaN   \n",
       "1785  RC Environmental and Cyber Specialized Subscri...      NaN      NaN   \n",
       "2182  Senior Independedirector and Chair of the Cust...      NaN      NaN   \n",
       "\n",
       "     Column 3 Column 4  \n",
       "29        NaN      NaN  \n",
       "341       NaN      NaN  \n",
       "511       NaN      NaN  \n",
       "764       NaN      NaN  \n",
       "829       NaN      NaN  \n",
       "1257      NaN      NaN  \n",
       "1406      NaN      NaN  \n",
       "1713      NaN      NaN  \n",
       "1785      NaN      NaN  \n",
       "2182      NaN      NaN  "
      ],
      "text/html": [
       "<div>\n",
       "<style scoped>\n",
       "    .dataframe tbody tr th:only-of-type {\n",
       "        vertical-align: middle;\n",
       "    }\n",
       "\n",
       "    .dataframe tbody tr th {\n",
       "        vertical-align: top;\n",
       "    }\n",
       "\n",
       "    .dataframe thead th {\n",
       "        text-align: right;\n",
       "    }\n",
       "</style>\n",
       "<table border=\"1\" class=\"dataframe\">\n",
       "  <thead>\n",
       "    <tr style=\"text-align: right;\">\n",
       "      <th></th>\n",
       "      <th>Title</th>\n",
       "      <th>Column 1</th>\n",
       "      <th>Column 2</th>\n",
       "      <th>Column 3</th>\n",
       "      <th>Column 4</th>\n",
       "    </tr>\n",
       "  </thead>\n",
       "  <tbody>\n",
       "    <tr>\n",
       "      <th>29</th>\n",
       "      <td>CINO</td>\n",
       "      <td>NaN</td>\n",
       "      <td>NaN</td>\n",
       "      <td>NaN</td>\n",
       "      <td>NaN</td>\n",
       "    </tr>\n",
       "    <tr>\n",
       "      <th>341</th>\n",
       "      <td>Ticari Subesi Muduru</td>\n",
       "      <td>NaN</td>\n",
       "      <td>NaN</td>\n",
       "      <td>NaN</td>\n",
       "      <td>NaN</td>\n",
       "    </tr>\n",
       "    <tr>\n",
       "      <th>511</th>\n",
       "      <td>Governor, Chair of Board Risk and Audit Commit...</td>\n",
       "      <td>NaN</td>\n",
       "      <td>NaN</td>\n",
       "      <td>NaN</td>\n",
       "      <td>NaN</td>\n",
       "    </tr>\n",
       "    <tr>\n",
       "      <th>764</th>\n",
       "      <td>Former Director, Compensation and Benefits</td>\n",
       "      <td>NaN</td>\n",
       "      <td>NaN</td>\n",
       "      <td>NaN</td>\n",
       "      <td>NaN</td>\n",
       "    </tr>\n",
       "    <tr>\n",
       "      <th>829</th>\n",
       "      <td>Release of Information Tech II</td>\n",
       "      <td>NaN</td>\n",
       "      <td>NaN</td>\n",
       "      <td>NaN</td>\n",
       "      <td>NaN</td>\n",
       "    </tr>\n",
       "    <tr>\n",
       "      <th>1257</th>\n",
       "      <td>Shareholder, Chair of Tax Section</td>\n",
       "      <td>NaN</td>\n",
       "      <td>NaN</td>\n",
       "      <td>NaN</td>\n",
       "      <td>NaN</td>\n",
       "    </tr>\n",
       "    <tr>\n",
       "      <th>1406</th>\n",
       "      <td>Global People Systems, Processes and Informati...</td>\n",
       "      <td>NaN</td>\n",
       "      <td>NaN</td>\n",
       "      <td>NaN</td>\n",
       "      <td>NaN</td>\n",
       "    </tr>\n",
       "    <tr>\n",
       "      <th>1713</th>\n",
       "      <td>Supplier Quality Engineer</td>\n",
       "      <td>NaN</td>\n",
       "      <td>NaN</td>\n",
       "      <td>NaN</td>\n",
       "      <td>NaN</td>\n",
       "    </tr>\n",
       "    <tr>\n",
       "      <th>1785</th>\n",
       "      <td>RC Environmental and Cyber Specialized Subscri...</td>\n",
       "      <td>NaN</td>\n",
       "      <td>NaN</td>\n",
       "      <td>NaN</td>\n",
       "      <td>NaN</td>\n",
       "    </tr>\n",
       "    <tr>\n",
       "      <th>2182</th>\n",
       "      <td>Senior Independedirector and Chair of the Cust...</td>\n",
       "      <td>NaN</td>\n",
       "      <td>NaN</td>\n",
       "      <td>NaN</td>\n",
       "      <td>NaN</td>\n",
       "    </tr>\n",
       "  </tbody>\n",
       "</table>\n",
       "</div>"
      ]
     },
     "execution_count": 4,
     "metadata": {},
     "output_type": "execute_result"
    }
   ],
   "execution_count": 4
  },
  {
   "metadata": {},
   "cell_type": "markdown",
   "source": "### Join Columns values into a single list",
   "id": "3bcc67e5f8807869"
  },
  {
   "metadata": {
    "ExecuteTime": {
     "end_time": "2024-09-30T10:51:29.374942Z",
     "start_time": "2024-09-30T10:51:29.364933Z"
    }
   },
   "cell_type": "code",
   "source": [
    "job_level_data[\"Label\"] = job_level_data.drop(columns=[\"Title\"]).values.tolist()\n",
    "job_level_data.drop(columns=[\"Column 1\", \"Column 2\", \"Column 3\", \"Column 4\"], inplace=True)\n",
    "\n",
    "def remove_nans_from_array(list):\n",
    "    return [label for label in list if not pd.isna(label)]\n",
    "\n",
    "job_level_data[\"Label\"] = job_level_data[\"Label\"].apply(remove_nans_from_array)\n",
    "job_level_data[\"Label\"] = job_level_data[\"Label\"].apply(lambda labels: sorted(labels))\n",
    "job_level_data"
   ],
   "id": "7c399f8176890e68",
   "outputs": [
    {
     "data": {
      "text/plain": [
       "                                                  Title  \\\n",
       "0      Vice President / Director of Systems Engineering   \n",
       "1                   Systems Engineer; Systems Architect   \n",
       "2     Executive Director, Global IT Infrastructure /...   \n",
       "3         CTO/Executive Director of Technology Services   \n",
       "4                                   Vice President, CIO   \n",
       "...                                                 ...   \n",
       "2235       Net Software Architect and Team Project Lead   \n",
       "2236               Solutions Architect & Technical Lead   \n",
       "2237  Manager, Salesforcecom Administration and Rele...   \n",
       "2238                    Innovation Automation Architect   \n",
       "2239      Founder and Chief Executive Officer, Kindbody   \n",
       "\n",
       "                                        Label  \n",
       "0                            [Vice President]  \n",
       "1     [Individual Contributor/Staff, Manager]  \n",
       "2                   [Chief Officer, Director]  \n",
       "3                   [Chief Officer, Director]  \n",
       "4                            [Vice President]  \n",
       "...                                       ...  \n",
       "2235                                [Manager]  \n",
       "2236  [Individual Contributor/Staff, Manager]  \n",
       "2237                                [Manager]  \n",
       "2238                                [Manager]  \n",
       "2239                          [Chief Officer]  \n",
       "\n",
       "[2240 rows x 2 columns]"
      ],
      "text/html": [
       "<div>\n",
       "<style scoped>\n",
       "    .dataframe tbody tr th:only-of-type {\n",
       "        vertical-align: middle;\n",
       "    }\n",
       "\n",
       "    .dataframe tbody tr th {\n",
       "        vertical-align: top;\n",
       "    }\n",
       "\n",
       "    .dataframe thead th {\n",
       "        text-align: right;\n",
       "    }\n",
       "</style>\n",
       "<table border=\"1\" class=\"dataframe\">\n",
       "  <thead>\n",
       "    <tr style=\"text-align: right;\">\n",
       "      <th></th>\n",
       "      <th>Title</th>\n",
       "      <th>Label</th>\n",
       "    </tr>\n",
       "  </thead>\n",
       "  <tbody>\n",
       "    <tr>\n",
       "      <th>0</th>\n",
       "      <td>Vice President / Director of Systems Engineering</td>\n",
       "      <td>[Vice President]</td>\n",
       "    </tr>\n",
       "    <tr>\n",
       "      <th>1</th>\n",
       "      <td>Systems Engineer; Systems Architect</td>\n",
       "      <td>[Individual Contributor/Staff, Manager]</td>\n",
       "    </tr>\n",
       "    <tr>\n",
       "      <th>2</th>\n",
       "      <td>Executive Director, Global IT Infrastructure /...</td>\n",
       "      <td>[Chief Officer, Director]</td>\n",
       "    </tr>\n",
       "    <tr>\n",
       "      <th>3</th>\n",
       "      <td>CTO/Executive Director of Technology Services</td>\n",
       "      <td>[Chief Officer, Director]</td>\n",
       "    </tr>\n",
       "    <tr>\n",
       "      <th>4</th>\n",
       "      <td>Vice President, CIO</td>\n",
       "      <td>[Vice President]</td>\n",
       "    </tr>\n",
       "    <tr>\n",
       "      <th>...</th>\n",
       "      <td>...</td>\n",
       "      <td>...</td>\n",
       "    </tr>\n",
       "    <tr>\n",
       "      <th>2235</th>\n",
       "      <td>Net Software Architect and Team Project Lead</td>\n",
       "      <td>[Manager]</td>\n",
       "    </tr>\n",
       "    <tr>\n",
       "      <th>2236</th>\n",
       "      <td>Solutions Architect &amp; Technical Lead</td>\n",
       "      <td>[Individual Contributor/Staff, Manager]</td>\n",
       "    </tr>\n",
       "    <tr>\n",
       "      <th>2237</th>\n",
       "      <td>Manager, Salesforcecom Administration and Rele...</td>\n",
       "      <td>[Manager]</td>\n",
       "    </tr>\n",
       "    <tr>\n",
       "      <th>2238</th>\n",
       "      <td>Innovation Automation Architect</td>\n",
       "      <td>[Manager]</td>\n",
       "    </tr>\n",
       "    <tr>\n",
       "      <th>2239</th>\n",
       "      <td>Founder and Chief Executive Officer, Kindbody</td>\n",
       "      <td>[Chief Officer]</td>\n",
       "    </tr>\n",
       "  </tbody>\n",
       "</table>\n",
       "<p>2240 rows × 2 columns</p>\n",
       "</div>"
      ]
     },
     "execution_count": 5,
     "metadata": {},
     "output_type": "execute_result"
    }
   ],
   "execution_count": 5
  },
  {
   "metadata": {
    "ExecuteTime": {
     "end_time": "2024-09-30T10:51:29.550448Z",
     "start_time": "2024-09-30T10:51:29.452876Z"
    }
   },
   "cell_type": "code",
   "source": [
    "labels_list = [label for labels_list in job_level_data[\"Label\"] for label in labels_list]\n",
    "labels_count = sorted(Counter(labels_list).items(), key=lambda x: x[1], reverse=True)\n",
    "labels_count_keys, labels_count_values = zip(*labels_count)\n",
    "\n",
    "fig, ax = plt.subplots()\n",
    "ax.bar(labels_count_keys, labels_count_values)\n",
    "ax.set_title('Distribution of position labels')\n",
    "plt.xticks(rotation=90)  # Rotate x-axis labels\n",
    "\n",
    "plt.show()"
   ],
   "id": "12437eb6000f7ab9",
   "outputs": [
    {
     "data": {
      "text/plain": [
       "<Figure size 640x480 with 1 Axes>"
      ],
      "image/png": "[encoded data removed]"
     },
     "metadata": {},
     "output_type": "display_data"
    }
   ],
   "execution_count": 6
  },
  {
   "metadata": {
    "ExecuteTime": {
     "end_time": "2024-09-30T10:51:29.597234Z",
     "start_time": "2024-09-30T10:51:29.591683Z"
    }
   },
   "cell_type": "code",
   "source": "job_level_data[job_level_data[\"Label\"].apply(lambda labels: \"Owner\" in labels)]",
   "id": "b72585778e9e76",
   "outputs": [
    {
     "data": {
      "text/plain": [
       "                                             Title                   Label\n",
       "22                                 CoFounder & CTO  [Chief Officer, Owner]\n",
       "119            Chief Operating Officer, Co-Founder  [Chief Officer, Owner]\n",
       "1222  Co-Owner, Vice President and General Counsel                 [Owner]\n",
       "1933                                  Founder, COO  [Chief Officer, Owner]"
      ],
      "text/html": [
       "<div>\n",
       "<style scoped>\n",
       "    .dataframe tbody tr th:only-of-type {\n",
       "        vertical-align: middle;\n",
       "    }\n",
       "\n",
       "    .dataframe tbody tr th {\n",
       "        vertical-align: top;\n",
       "    }\n",
       "\n",
       "    .dataframe thead th {\n",
       "        text-align: right;\n",
       "    }\n",
       "</style>\n",
       "<table border=\"1\" class=\"dataframe\">\n",
       "  <thead>\n",
       "    <tr style=\"text-align: right;\">\n",
       "      <th></th>\n",
       "      <th>Title</th>\n",
       "      <th>Label</th>\n",
       "    </tr>\n",
       "  </thead>\n",
       "  <tbody>\n",
       "    <tr>\n",
       "      <th>22</th>\n",
       "      <td>CoFounder &amp; CTO</td>\n",
       "      <td>[Chief Officer, Owner]</td>\n",
       "    </tr>\n",
       "    <tr>\n",
       "      <th>119</th>\n",
       "      <td>Chief Operating Officer, Co-Founder</td>\n",
       "      <td>[Chief Officer, Owner]</td>\n",
       "    </tr>\n",
       "    <tr>\n",
       "      <th>1222</th>\n",
       "      <td>Co-Owner, Vice President and General Counsel</td>\n",
       "      <td>[Owner]</td>\n",
       "    </tr>\n",
       "    <tr>\n",
       "      <th>1933</th>\n",
       "      <td>Founder, COO</td>\n",
       "      <td>[Chief Officer, Owner]</td>\n",
       "    </tr>\n",
       "  </tbody>\n",
       "</table>\n",
       "</div>"
      ]
     },
     "execution_count": 7,
     "metadata": {},
     "output_type": "execute_result"
    }
   ],
   "execution_count": 7
  },
  {
   "metadata": {},
   "cell_type": "markdown",
   "source": "This is a big problem of class underrepresentation. Check if we can hard code the labels based on if the title consists \"Owner\" or \"Founder\" / can we assume that this class might be labeled later? ",
   "id": "4a93e9bb506c39d3"
  },
  {
   "metadata": {
    "ExecuteTime": {
     "end_time": "2024-09-30T10:51:29.650293Z",
     "start_time": "2024-09-30T10:51:29.644928Z"
    }
   },
   "cell_type": "code",
   "source": "job_level_data[job_level_data[\"Title\"].apply(lambda title: \"Owner\" in title)]",
   "id": "ada93b13161f6e16",
   "outputs": [
    {
     "data": {
      "text/plain": [
       "                                                  Title  \\\n",
       "30                               Owner & Data Architect   \n",
       "896   Senior Manager Product Owner, Wireless Expansi...   \n",
       "998                        Co-Owner & Marketing Manager   \n",
       "1054                                     Practice Owner   \n",
       "1222       Co-Owner, Vice President and General Counsel   \n",
       "1481                     In App Learning Owner Software   \n",
       "1566                         Owner Services Coordinator   \n",
       "1632                                 Owner / Franchisee   \n",
       "1828         Senior Software Consultant / Product Owner   \n",
       "1847       Product Owner Digital, Data and IS Direction   \n",
       "\n",
       "                                    Label  \n",
       "30               [Chief Officer, Manager]  \n",
       "896   [Director, Manager, Vice President]  \n",
       "998              [Chief Officer, Manager]  \n",
       "1054       [Individual Contributor/Staff]  \n",
       "1222                              [Owner]  \n",
       "1481       [Individual Contributor/Staff]  \n",
       "1566       [Individual Contributor/Staff]  \n",
       "1632                      [Chief Officer]  \n",
       "1828       [Individual Contributor/Staff]  \n",
       "1847                            [Manager]  "
      ],
      "text/html": [
       "<div>\n",
       "<style scoped>\n",
       "    .dataframe tbody tr th:only-of-type {\n",
       "        vertical-align: middle;\n",
       "    }\n",
       "\n",
       "    .dataframe tbody tr th {\n",
       "        vertical-align: top;\n",
       "    }\n",
       "\n",
       "    .dataframe thead th {\n",
       "        text-align: right;\n",
       "    }\n",
       "</style>\n",
       "<table border=\"1\" class=\"dataframe\">\n",
       "  <thead>\n",
       "    <tr style=\"text-align: right;\">\n",
       "      <th></th>\n",
       "      <th>Title</th>\n",
       "      <th>Label</th>\n",
       "    </tr>\n",
       "  </thead>\n",
       "  <tbody>\n",
       "    <tr>\n",
       "      <th>30</th>\n",
       "      <td>Owner &amp; Data Architect</td>\n",
       "      <td>[Chief Officer, Manager]</td>\n",
       "    </tr>\n",
       "    <tr>\n",
       "      <th>896</th>\n",
       "      <td>Senior Manager Product Owner, Wireless Expansi...</td>\n",
       "      <td>[Director, Manager, Vice President]</td>\n",
       "    </tr>\n",
       "    <tr>\n",
       "      <th>998</th>\n",
       "      <td>Co-Owner &amp; Marketing Manager</td>\n",
       "      <td>[Chief Officer, Manager]</td>\n",
       "    </tr>\n",
       "    <tr>\n",
       "      <th>1054</th>\n",
       "      <td>Practice Owner</td>\n",
       "      <td>[Individual Contributor/Staff]</td>\n",
       "    </tr>\n",
       "    <tr>\n",
       "      <th>1222</th>\n",
       "      <td>Co-Owner, Vice President and General Counsel</td>\n",
       "      <td>[Owner]</td>\n",
       "    </tr>\n",
       "    <tr>\n",
       "      <th>1481</th>\n",
       "      <td>In App Learning Owner Software</td>\n",
       "      <td>[Individual Contributor/Staff]</td>\n",
       "    </tr>\n",
       "    <tr>\n",
       "      <th>1566</th>\n",
       "      <td>Owner Services Coordinator</td>\n",
       "      <td>[Individual Contributor/Staff]</td>\n",
       "    </tr>\n",
       "    <tr>\n",
       "      <th>1632</th>\n",
       "      <td>Owner / Franchisee</td>\n",
       "      <td>[Chief Officer]</td>\n",
       "    </tr>\n",
       "    <tr>\n",
       "      <th>1828</th>\n",
       "      <td>Senior Software Consultant / Product Owner</td>\n",
       "      <td>[Individual Contributor/Staff]</td>\n",
       "    </tr>\n",
       "    <tr>\n",
       "      <th>1847</th>\n",
       "      <td>Product Owner Digital, Data and IS Direction</td>\n",
       "      <td>[Manager]</td>\n",
       "    </tr>\n",
       "  </tbody>\n",
       "</table>\n",
       "</div>"
      ]
     },
     "execution_count": 8,
     "metadata": {},
     "output_type": "execute_result"
    }
   ],
   "execution_count": 8
  },
  {
   "metadata": {
    "ExecuteTime": {
     "end_time": "2024-09-30T10:51:29.690020Z",
     "start_time": "2024-09-30T10:51:29.681979Z"
    }
   },
   "cell_type": "code",
   "source": [
    "mlb = MultiLabelBinarizer()\n",
    "one_hot_encoded_labels = mlb.fit_transform(job_level_data[\"Label\"])\n",
    "one_hot_df = pd.DataFrame(one_hot_encoded_labels, columns=mlb.classes_)\n",
    "job_level_data[\"Label\"] = one_hot_df.values.tolist()\n",
    "job_level_data"
   ],
   "id": "3a81cfaf1446d431",
   "outputs": [
    {
     "data": {
      "text/plain": [
       "                                                  Title               Label\n",
       "0      Vice President / Director of Systems Engineering  [0, 0, 0, 0, 0, 1]\n",
       "1                   Systems Engineer; Systems Architect  [0, 0, 1, 1, 0, 0]\n",
       "2     Executive Director, Global IT Infrastructure /...  [1, 1, 0, 0, 0, 0]\n",
       "3         CTO/Executive Director of Technology Services  [1, 1, 0, 0, 0, 0]\n",
       "4                                   Vice President, CIO  [0, 0, 0, 0, 0, 1]\n",
       "...                                                 ...                 ...\n",
       "2235       Net Software Architect and Team Project Lead  [0, 0, 0, 1, 0, 0]\n",
       "2236               Solutions Architect & Technical Lead  [0, 0, 1, 1, 0, 0]\n",
       "2237  Manager, Salesforcecom Administration and Rele...  [0, 0, 0, 1, 0, 0]\n",
       "2238                    Innovation Automation Architect  [0, 0, 0, 1, 0, 0]\n",
       "2239      Founder and Chief Executive Officer, Kindbody  [1, 0, 0, 0, 0, 0]\n",
       "\n",
       "[2240 rows x 2 columns]"
      ],
      "text/html": [
       "<div>\n",
       "<style scoped>\n",
       "    .dataframe tbody tr th:only-of-type {\n",
       "        vertical-align: middle;\n",
       "    }\n",
       "\n",
       "    .dataframe tbody tr th {\n",
       "        vertical-align: top;\n",
       "    }\n",
       "\n",
       "    .dataframe thead th {\n",
       "        text-align: right;\n",
       "    }\n",
       "</style>\n",
       "<table border=\"1\" class=\"dataframe\">\n",
       "  <thead>\n",
       "    <tr style=\"text-align: right;\">\n",
       "      <th></th>\n",
       "      <th>Title</th>\n",
       "      <th>Label</th>\n",
       "    </tr>\n",
       "  </thead>\n",
       "  <tbody>\n",
       "    <tr>\n",
       "      <th>0</th>\n",
       "      <td>Vice President / Director of Systems Engineering</td>\n",
       "      <td>[0, 0, 0, 0, 0, 1]</td>\n",
       "    </tr>\n",
       "    <tr>\n",
       "      <th>1</th>\n",
       "      <td>Systems Engineer; Systems Architect</td>\n",
       "      <td>[0, 0, 1, 1, 0, 0]</td>\n",
       "    </tr>\n",
       "    <tr>\n",
       "      <th>2</th>\n",
       "      <td>Executive Director, Global IT Infrastructure /...</td>\n",
       "      <td>[1, 1, 0, 0, 0, 0]</td>\n",
       "    </tr>\n",
       "    <tr>\n",
       "      <th>3</th>\n",
       "      <td>CTO/Executive Director of Technology Services</td>\n",
       "      <td>[1, 1, 0, 0, 0, 0]</td>\n",
       "    </tr>\n",
       "    <tr>\n",
       "      <th>4</th>\n",
       "      <td>Vice President, CIO</td>\n",
       "      <td>[0, 0, 0, 0, 0, 1]</td>\n",
       "    </tr>\n",
       "    <tr>\n",
       "      <th>...</th>\n",
       "      <td>...</td>\n",
       "      <td>...</td>\n",
       "    </tr>\n",
       "    <tr>\n",
       "      <th>2235</th>\n",
       "      <td>Net Software Architect and Team Project Lead</td>\n",
       "      <td>[0, 0, 0, 1, 0, 0]</td>\n",
       "    </tr>\n",
       "    <tr>\n",
       "      <th>2236</th>\n",
       "      <td>Solutions Architect &amp; Technical Lead</td>\n",
       "      <td>[0, 0, 1, 1, 0, 0]</td>\n",
       "    </tr>\n",
       "    <tr>\n",
       "      <th>2237</th>\n",
       "      <td>Manager, Salesforcecom Administration and Rele...</td>\n",
       "      <td>[0, 0, 0, 1, 0, 0]</td>\n",
       "    </tr>\n",
       "    <tr>\n",
       "      <th>2238</th>\n",
       "      <td>Innovation Automation Architect</td>\n",
       "      <td>[0, 0, 0, 1, 0, 0]</td>\n",
       "    </tr>\n",
       "    <tr>\n",
       "      <th>2239</th>\n",
       "      <td>Founder and Chief Executive Officer, Kindbody</td>\n",
       "      <td>[1, 0, 0, 0, 0, 0]</td>\n",
       "    </tr>\n",
       "  </tbody>\n",
       "</table>\n",
       "<p>2240 rows × 2 columns</p>\n",
       "</div>"
      ]
     },
     "execution_count": 9,
     "metadata": {},
     "output_type": "execute_result"
    }
   ],
   "execution_count": 9
  },
  {
   "metadata": {},
   "cell_type": "markdown",
   "source": "### Tokenization",
   "id": "cd248386ddac660e"
  },
  {
   "metadata": {
    "ExecuteTime": {
     "end_time": "2024-09-30T10:51:30.068142Z",
     "start_time": "2024-09-30T10:51:29.784827Z"
    }
   },
   "cell_type": "code",
   "source": [
    "RANDOM_SEED = 42\n",
    "tokenizer = BertTokenizer.from_pretrained('bert-base-cased') #not using cased model for a reason"
   ],
   "id": "f9ef271c6ed6bdca",
   "outputs": [],
   "execution_count": 10
  },
  {
   "metadata": {
    "ExecuteTime": {
     "end_time": "2024-09-30T10:51:30.199090Z",
     "start_time": "2024-09-30T10:51:30.102653Z"
    }
   },
   "cell_type": "code",
   "source": [
    "def split_text(text):\n",
    "    return tokenizer.tokenize(text)\n",
    "\n",
    "print(\"Maximum lengths of tokenized sentence: \", job_level_data[\"Title\"].apply(split_text).apply(len).max())"
   ],
   "id": "141549ff53d33aa2",
   "outputs": [
    {
     "name": "stdout",
     "output_type": "stream",
     "text": [
      "Maximum lengths of tokenized sentence:  24\n"
     ]
    }
   ],
   "execution_count": 11
  },
  {
   "metadata": {
    "ExecuteTime": {
     "end_time": "2024-09-30T10:51:30.207283Z",
     "start_time": "2024-09-30T10:51:30.204104Z"
    }
   },
   "cell_type": "code",
   "source": [
    "# handle data preprocessing\n",
    "class JobTitlesDataset(Dataset):\n",
    "    def __init__(self, titles, labels, tokenizer, max_len):\n",
    "        self.titles = titles\n",
    "        self.labels = labels\n",
    "        self.tokenizer = tokenizer\n",
    "        self.max_len = max_len  # maximum length of tokenized sentence\n",
    "\n",
    "    def __len__(self):\n",
    "        return len(self.titles)\n",
    "\n",
    "    def __getitem__(self, item):\n",
    "        encoded_data = self.tokenizer.encode_plus(\n",
    "            self.titles[item],\n",
    "            add_special_tokens=True,  # tokens required for BERT\n",
    "            max_length=self.max_len,\n",
    "            return_token_type_ids=False,  # no sentence pair task\n",
    "            padding='max_length',\n",
    "            truncation=True,\n",
    "            return_attention_mask=True,  # differentiate between padding and data\n",
    "            return_tensors='pt'\n",
    "        )\n",
    "        return {\n",
    "            'input_ids': encoded_data['input_ids'],\n",
    "            'attention_mask': encoded_data['attention_mask'],\n",
    "            'labels': torch.tensor(self.labels[item], dtype=torch.float)\n",
    "        }"
   ],
   "id": "5759cfe56d236bef",
   "outputs": [],
   "execution_count": 12
  },
  {
   "metadata": {},
   "cell_type": "markdown",
   "source": "### Train Test Split",
   "id": "b5c2c2adbe4e9b14"
  },
  {
   "metadata": {
    "ExecuteTime": {
     "end_time": "2024-09-30T10:51:30.221194Z",
     "start_time": "2024-09-30T10:51:30.216331Z"
    }
   },
   "cell_type": "code",
   "source": [
    "X_train, X_test, y_train, y_test = train_test_split(\n",
    "    job_level_data['Title'],\n",
    "    job_level_data['Label'],\n",
    "    test_size=0.2,\n",
    "    random_state=RANDOM_SEED,\n",
    "    shuffle=True\n",
    ")\n",
    "\n",
    "print(f\"Train data: {X_train.shape}\")\n",
    "print(f\"Test data: {X_test.shape}\")"
   ],
   "id": "822f58c7f4e5b14d",
   "outputs": [
    {
     "name": "stdout",
     "output_type": "stream",
     "text": [
      "Train data: (1792,)\n",
      "Test data: (448,)\n"
     ]
    }
   ],
   "execution_count": 13
  },
  {
   "metadata": {},
   "cell_type": "markdown",
   "source": "### Model Definition",
   "id": "43e8c61193fad5f3"
  },
  {
   "metadata": {
    "ExecuteTime": {
     "end_time": "2024-09-30T10:52:29.494084Z",
     "start_time": "2024-09-30T10:51:30.229908Z"
    }
   },
   "cell_type": "code",
   "source": [
    "class JobTitleClassifier(nn.Module):\n",
    "    def __init__(self):\n",
    "        super(JobTitleClassifier, self).__init__()\n",
    "        self.bert = BertModel.from_pretrained('bert-base-cased') # pre-trained bert model\n",
    "        self.dropout = torch.nn.Dropout(0.3) # regularization\n",
    "        self.linear = torch.nn.Linear(768, 1) # classification \n",
    "    \n",
    "    def forward(self, input_ids, attention_mask):\n",
    "        output = self.bert(input_ids, attention_mask)\n",
    "        output = self.dropout(output.pooler_output)\n",
    "        output = self.linear(output)\n",
    "        return output\n",
    "\n",
    "model = JobTitleClassifier().to(device)"
   ],
   "id": "223bec2bbe288b7",
   "outputs": [],
   "execution_count": 14
  },
  {
   "metadata": {},
   "cell_type": "code",
   "outputs": [],
   "execution_count": null,
   "source": [
    "def train_classifier(): \n",
    "    "
   ],
   "id": "9388b0e122ef501d"
  }
 ],
 "metadata": {
  "kernelspec": {
   "display_name": "Python 3",
   "language": "python",
   "name": "python3"
  },
  "language_info": {
   "codemirror_mode": {
    "name": "ipython",
    "version": 2
   },
   "file_extension": ".py",
   "mimetype": "text/x-python",
   "name": "python",
   "nbconvert_exporter": "python",
   "pygments_lexer": "ipython2",
   "version": "2.7.6"
  }
 },
 "nbformat": 4,
 "nbformat_minor": 5
}
