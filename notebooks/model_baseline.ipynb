{
 "cells": [
  {
   "cell_type": "code",
   "id": "initial_id",
   "metadata": {
    "collapsed": true,
    "ExecuteTime": {
     "end_time": "2024-10-04T09:28:33.132654Z",
     "start_time": "2024-10-04T09:28:33.129766Z"
    }
   },
   "source": [
    "import pandas as pd\n",
    "from sklearn.model_selection import train_test_split\n",
    "\n",
    "import nltk\n",
    "from nltk.corpus import stopwords\n",
    "from nltk.tokenize import word_tokenize\n",
    "from sklearn.model_selection import learning_curve\n",
    "\n",
    "from sklearn.feature_extraction.text import TfidfVectorizer\n",
    "from sklearn.linear_model import LogisticRegression\n",
    "from sklearn.multioutput import MultiOutputClassifier\n",
    "from sklearn.metrics import multilabel_confusion_matrix, classification_report, hamming_loss, f1_score\n",
    "from xgboost import XGBClassifier\n",
    "\n",
    "import matplotlib.pyplot as plt\n",
    "import seaborn as sns\n",
    "import numpy as np\n",
    "\n",
    "import torch"
   ],
   "outputs": [],
   "execution_count": 26
  },
  {
   "metadata": {
    "ExecuteTime": {
     "end_time": "2024-10-04T09:28:33.176777Z",
     "start_time": "2024-10-04T09:28:33.174260Z"
    }
   },
   "cell_type": "code",
   "source": [
    "device = (\n",
    "    \"cuda\"\n",
    "    if torch.cuda.is_available()\n",
    "    else \"mps\"\n",
    "    if torch.backends.mps.is_available()\n",
    "    else \"cpu\"\n",
    ")\n",
    "print(f\"Using {device} device\")"
   ],
   "id": "e7c879991f231252",
   "outputs": [
    {
     "name": "stdout",
     "output_type": "stream",
     "text": [
      "Using mps device\n"
     ]
    }
   ],
   "execution_count": 27
  },
  {
   "metadata": {
    "ExecuteTime": {
     "end_time": "2024-10-04T09:28:33.187119Z",
     "start_time": "2024-10-04T09:28:33.184315Z"
    }
   },
   "cell_type": "code",
   "source": "nltk.download('stopwords')",
   "id": "5ca4ec5527a5ccfc",
   "outputs": [
    {
     "name": "stderr",
     "output_type": "stream",
     "text": [
      "[nltk_data] Downloading package stopwords to /Users/anna-\n",
      "[nltk_data]     alexandradanchenko/nltk_data...\n",
      "[nltk_data]   Package stopwords is already up-to-date!\n"
     ]
    },
    {
     "data": {
      "text/plain": [
       "True"
      ]
     },
     "execution_count": 28,
     "metadata": {},
     "output_type": "execute_result"
    }
   ],
   "execution_count": 28
  },
  {
   "metadata": {
    "ExecuteTime": {
     "end_time": "2024-10-04T09:28:33.211282Z",
     "start_time": "2024-10-04T09:28:33.209363Z"
    }
   },
   "cell_type": "code",
   "source": "RANDOM_SEED = 42",
   "id": "548b2cd288dd9070",
   "outputs": [],
   "execution_count": 29
  },
  {
   "metadata": {},
   "cell_type": "markdown",
   "source": "# Import Data",
   "id": "a657a95ccfffcbd2"
  },
  {
   "metadata": {
    "ExecuteTime": {
     "end_time": "2024-10-04T09:28:33.240003Z",
     "start_time": "2024-10-04T09:28:33.232216Z"
    }
   },
   "cell_type": "code",
   "source": [
    "job_level_data = pd.read_csv(\"../data/JobLevelData_preproc.csv\")\n",
    "classes_labels = ['Chief Officer', 'Director', 'Individual Contributor/Staff', 'Manager',\n",
    " 'Vice President']\n",
    "job_level_data"
   ],
   "id": "3d86a3835d356e0e",
   "outputs": [
    {
     "data": {
      "text/plain": [
       "                                                  Title            Label\n",
       "0        Vice President Director of Systems Engineering  [0, 0, 0, 0, 1]\n",
       "1                    Systems Engineer Systems Architect  [0, 0, 1, 1, 0]\n",
       "2     Executive Director Global Informational Techno...  [1, 1, 0, 0, 0]\n",
       "3     Chief Technology Officer Executive Director of...  [1, 1, 0, 0, 0]\n",
       "4              Vice President Chief Information Officer  [0, 0, 0, 0, 1]\n",
       "...                                                 ...              ...\n",
       "2221       Net Software Architect and Team Project Lead  [0, 0, 0, 1, 0]\n",
       "2222                 Solutions Architect Technical Lead  [0, 0, 1, 1, 0]\n",
       "2223  Manager Salesforcecom Administration and Relea...  [0, 0, 0, 1, 0]\n",
       "2224                    Innovation Automation Architect  [0, 0, 0, 1, 0]\n",
       "2225       Founder and Chief Executive Officer Kindbody  [1, 0, 0, 0, 0]\n",
       "\n",
       "[2226 rows x 2 columns]"
      ],
      "text/html": [
       "<div>\n",
       "<style scoped>\n",
       "    .dataframe tbody tr th:only-of-type {\n",
       "        vertical-align: middle;\n",
       "    }\n",
       "\n",
       "    .dataframe tbody tr th {\n",
       "        vertical-align: top;\n",
       "    }\n",
       "\n",
       "    .dataframe thead th {\n",
       "        text-align: right;\n",
       "    }\n",
       "</style>\n",
       "<table border=\"1\" class=\"dataframe\">\n",
       "  <thead>\n",
       "    <tr style=\"text-align: right;\">\n",
       "      <th></th>\n",
       "      <th>Title</th>\n",
       "      <th>Label</th>\n",
       "    </tr>\n",
       "  </thead>\n",
       "  <tbody>\n",
       "    <tr>\n",
       "      <th>0</th>\n",
       "      <td>Vice President Director of Systems Engineering</td>\n",
       "      <td>[0, 0, 0, 0, 1]</td>\n",
       "    </tr>\n",
       "    <tr>\n",
       "      <th>1</th>\n",
       "      <td>Systems Engineer Systems Architect</td>\n",
       "      <td>[0, 0, 1, 1, 0]</td>\n",
       "    </tr>\n",
       "    <tr>\n",
       "      <th>2</th>\n",
       "      <td>Executive Director Global Informational Techno...</td>\n",
       "      <td>[1, 1, 0, 0, 0]</td>\n",
       "    </tr>\n",
       "    <tr>\n",
       "      <th>3</th>\n",
       "      <td>Chief Technology Officer Executive Director of...</td>\n",
       "      <td>[1, 1, 0, 0, 0]</td>\n",
       "    </tr>\n",
       "    <tr>\n",
       "      <th>4</th>\n",
       "      <td>Vice President Chief Information Officer</td>\n",
       "      <td>[0, 0, 0, 0, 1]</td>\n",
       "    </tr>\n",
       "    <tr>\n",
       "      <th>...</th>\n",
       "      <td>...</td>\n",
       "      <td>...</td>\n",
       "    </tr>\n",
       "    <tr>\n",
       "      <th>2221</th>\n",
       "      <td>Net Software Architect and Team Project Lead</td>\n",
       "      <td>[0, 0, 0, 1, 0]</td>\n",
       "    </tr>\n",
       "    <tr>\n",
       "      <th>2222</th>\n",
       "      <td>Solutions Architect Technical Lead</td>\n",
       "      <td>[0, 0, 1, 1, 0]</td>\n",
       "    </tr>\n",
       "    <tr>\n",
       "      <th>2223</th>\n",
       "      <td>Manager Salesforcecom Administration and Relea...</td>\n",
       "      <td>[0, 0, 0, 1, 0]</td>\n",
       "    </tr>\n",
       "    <tr>\n",
       "      <th>2224</th>\n",
       "      <td>Innovation Automation Architect</td>\n",
       "      <td>[0, 0, 0, 1, 0]</td>\n",
       "    </tr>\n",
       "    <tr>\n",
       "      <th>2225</th>\n",
       "      <td>Founder and Chief Executive Officer Kindbody</td>\n",
       "      <td>[1, 0, 0, 0, 0]</td>\n",
       "    </tr>\n",
       "  </tbody>\n",
       "</table>\n",
       "<p>2226 rows × 2 columns</p>\n",
       "</div>"
      ]
     },
     "execution_count": 30,
     "metadata": {},
     "output_type": "execute_result"
    }
   ],
   "execution_count": 30
  },
  {
   "metadata": {},
   "cell_type": "markdown",
   "source": "To establish a baseline model for this multi label text classification task, it was chosen to transform the model to binary classification problem. This involves dividing the problem into 5 binary classification problems, one for each class.",
   "id": "46e6a150adb1fd63"
  },
  {
   "metadata": {
    "ExecuteTime": {
     "end_time": "2024-10-04T09:28:33.414983Z",
     "start_time": "2024-10-04T09:28:33.274823Z"
    }
   },
   "cell_type": "code",
   "source": [
    "def remove_stopwords(text):\n",
    "    stop_words = set(stopwords.words('english'))\n",
    "    word_tokens = word_tokenize(text)\n",
    "    filtered_text = ' '.join([word for word in word_tokens if word.lower() not in stop_words])\n",
    "    return filtered_text\n",
    "\n",
    "job_level_data[\"Title\"] = job_level_data[\"Title\"].apply(remove_stopwords)"
   ],
   "id": "20df8ee4b6a7f59e",
   "outputs": [],
   "execution_count": 31
  },
  {
   "metadata": {
    "ExecuteTime": {
     "end_time": "2024-10-04T09:28:33.452471Z",
     "start_time": "2024-10-04T09:28:33.432054Z"
    }
   },
   "cell_type": "code",
   "source": "job_level_data[\"Label\"] = job_level_data[\"Label\"].apply(eval)",
   "id": "b3f033e246b6420d",
   "outputs": [],
   "execution_count": 32
  },
  {
   "metadata": {
    "ExecuteTime": {
     "end_time": "2024-10-04T09:28:33.474004Z",
     "start_time": "2024-10-04T09:28:33.460521Z"
    }
   },
   "cell_type": "code",
   "source": [
    "X_train, X_test, y_train, y_test = train_test_split(\n",
    "    job_level_data['Title'],\n",
    "    pd.DataFrame(job_level_data['Label'].to_list(), columns=classes_labels),\n",
    "    test_size=0.2,\n",
    "    random_state=RANDOM_SEED,\n",
    "    shuffle=True\n",
    ")"
   ],
   "id": "9dd9c3727f9a6b5d",
   "outputs": [],
   "execution_count": 33
  },
  {
   "metadata": {
    "ExecuteTime": {
     "end_time": "2024-10-04T09:28:33.517879Z",
     "start_time": "2024-10-04T09:28:33.482577Z"
    }
   },
   "cell_type": "code",
   "source": [
    "tfidf = TfidfVectorizer(ngram_range=(1,3))\n",
    "X_train = tfidf.fit_transform(X_train)\n",
    "X_test = tfidf.transform(X_test)\n",
    "\n",
    "X_train = pd.DataFrame(X_train.toarray(), columns=tfidf.get_feature_names_out())\n",
    "X_test = pd.DataFrame(X_test.toarray(), columns=tfidf.get_feature_names_out())"
   ],
   "id": "d21f00626ea3aea9",
   "outputs": [],
   "execution_count": 34
  },
  {
   "metadata": {
    "ExecuteTime": {
     "end_time": "2024-10-04T09:28:41.084748Z",
     "start_time": "2024-10-04T09:28:33.540307Z"
    }
   },
   "cell_type": "code",
   "source": [
    "xgb = XGBClassifier(n_estimators=5)\n",
    "clf = MultiOutputClassifier(xgb)  #convert problem to binary classification\n",
    "clf.fit(X_train, y_train)\n",
    "\n",
    "y_pred = clf.predict(X_test)\n",
    "\n",
    "hamming_score = (1 - hamming_loss(y_test, y_pred))\n",
    "f1 = f1_score(y_test, y_pred, average='micro')\n",
    "\n",
    "print(f'Hamming Score: {hamming_score:.5f}')\n",
    "print(f'F1 Score (micro): {f1:.5f}')\n"
   ],
   "id": "400c64dba92f920a",
   "outputs": [
    {
     "name": "stdout",
     "output_type": "stream",
     "text": [
      "Hamming Score: 0.95471\n",
      "F1 Score (micro): 0.89267\n"
     ]
    }
   ],
   "execution_count": 35
  },
  {
   "metadata": {
    "ExecuteTime": {
     "end_time": "2024-10-04T09:28:41.652436Z",
     "start_time": "2024-10-04T09:28:41.147488Z"
    }
   },
   "cell_type": "code",
   "source": [
    "cm = multilabel_confusion_matrix(y_test.values.tolist(), y_pred.tolist())\n",
    "\n",
    "f, axes = plt.subplots(2, 3, figsize=(16, 10))\n",
    "f.suptitle(\"Confusion Matrix for each Label\")\n",
    "\n",
    "for i, matrix in enumerate(cm):\n",
    "    with np.errstate(invalid='ignore'):\n",
    "        normalized_matrix = matrix.astype('float') / matrix.sum(axis=1)[:, np.newaxis] * 100\n",
    "        normalized_matrix[np.isnan(normalized_matrix)] = 0 \n",
    "    ax = axes[i//3, i % 3]\n",
    "    sns.heatmap(normalized_matrix, annot=True, cmap='Blues', ax = ax)\n",
    "    ax.set_xlabel('Predicted')\n",
    "    ax.set_ylabel('True')\n",
    "    ax.set_title(classes_labels[i])\n",
    "\"\"\n",
    "plt.show()"
   ],
   "id": "7aadd8e4287c218a",
   "outputs": [
    {
     "data": {
      "text/plain": [
       "<Figure size 1600x1000 with 11 Axes>"
      ],
      "image/png": "[encoded data removed]"
     },
     "metadata": {},
     "output_type": "display_data"
    }
   ],
   "execution_count": 36
  },
  {
   "metadata": {
    "ExecuteTime": {
     "end_time": "2024-10-04T09:28:41.679234Z",
     "start_time": "2024-10-04T09:28:41.673530Z"
    }
   },
   "cell_type": "code",
   "source": [
    "report = classification_report(y_pred, y_test, target_names=classes_labels, zero_division=1)\n",
    "print(report)"
   ],
   "id": "19c2e1cea1d4d065",
   "outputs": [
    {
     "name": "stdout",
     "output_type": "stream",
     "text": [
      "                              precision    recall  f1-score   support\n",
      "\n",
      "               Chief Officer       0.63      0.86      0.73        22\n",
      "                    Director       0.87      0.89      0.88        95\n",
      "Individual Contributor/Staff       0.96      0.95      0.95       226\n",
      "                     Manager       0.61      0.83      0.71        36\n",
      "              Vice President       0.92      0.87      0.89        83\n",
      "\n",
      "                   micro avg       0.88      0.91      0.89       462\n",
      "                   macro avg       0.80      0.88      0.83       462\n",
      "                weighted avg       0.89      0.91      0.90       462\n",
      "                 samples avg       0.90      0.92      0.90       462\n",
      "\n"
     ]
    }
   ],
   "execution_count": 37
  }
 ],
 "metadata": {
  "kernelspec": {
   "display_name": "Python 3",
   "language": "python",
   "name": "python3"
  },
  "language_info": {
   "codemirror_mode": {
    "name": "ipython",
    "version": 2
   },
   "file_extension": ".py",
   "mimetype": "text/x-python",
   "name": "python",
   "nbconvert_exporter": "python",
   "pygments_lexer": "ipython2",
   "version": "2.7.6"
  }
 },
 "nbformat": 4,
 "nbformat_minor": 5
}
