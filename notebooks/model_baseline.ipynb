{
 "cells": [
  {
   "cell_type": "code",
   "id": "initial_id",
   "metadata": {
    "collapsed": true,
    "ExecuteTime": {
     "end_time": "2024-10-03T22:30:24.555712Z",
     "start_time": "2024-10-03T22:30:24.550832Z"
    }
   },
   "source": [
    "import pandas as pd\n",
    "from sklearn.model_selection import train_test_split\n",
    "\n",
    "import nltk\n",
    "from nltk.corpus import stopwords\n",
    "from nltk.tokenize import word_tokenize\n",
    "\n",
    "from sklearn.feature_extraction.text import TfidfVectorizer\n",
    "from sklearn.linear_model import LogisticRegression\n",
    "from sklearn.multioutput import MultiOutputClassifier\n",
    "from sklearn.metrics import multilabel_confusion_matrix, classification_report, hamming_loss, f1_score\n",
    "from sklearn.ensemble import RandomForestClassifier\n",
    "\n",
    "import matplotlib.pyplot as plt\n",
    "import seaborn as sns\n",
    "import numpy as np\n",
    "\n",
    "import torch"
   ],
   "outputs": [],
   "execution_count": 294
  },
  {
   "metadata": {
    "ExecuteTime": {
     "end_time": "2024-10-03T22:30:24.576889Z",
     "start_time": "2024-10-03T22:30:24.574426Z"
    }
   },
   "cell_type": "code",
   "source": [
    "device = (\n",
    "    \"cuda\"\n",
    "    if torch.cuda.is_available()\n",
    "    else \"mps\"\n",
    "    if torch.backends.mps.is_available()\n",
    "    else \"cpu\"\n",
    ")\n",
    "print(f\"Using {device} device\")"
   ],
   "id": "e7c879991f231252",
   "outputs": [
    {
     "name": "stdout",
     "output_type": "stream",
     "text": [
      "Using mps device\n"
     ]
    }
   ],
   "execution_count": 295
  },
  {
   "metadata": {
    "ExecuteTime": {
     "end_time": "2024-10-03T22:30:24.616021Z",
     "start_time": "2024-10-03T22:30:24.612908Z"
    }
   },
   "cell_type": "code",
   "source": "nltk.download('stopwords')",
   "id": "5ca4ec5527a5ccfc",
   "outputs": [
    {
     "name": "stderr",
     "output_type": "stream",
     "text": [
      "[nltk_data] Downloading package stopwords to /Users/anna-\n",
      "[nltk_data]     alexandradanchenko/nltk_data...\n",
      "[nltk_data]   Package stopwords is already up-to-date!\n"
     ]
    },
    {
     "data": {
      "text/plain": [
       "True"
      ]
     },
     "execution_count": 296,
     "metadata": {},
     "output_type": "execute_result"
    }
   ],
   "execution_count": 296
  },
  {
   "metadata": {
    "ExecuteTime": {
     "end_time": "2024-10-03T22:30:24.642763Z",
     "start_time": "2024-10-03T22:30:24.640722Z"
    }
   },
   "cell_type": "code",
   "source": "RANDOM_SEED = 42",
   "id": "548b2cd288dd9070",
   "outputs": [],
   "execution_count": 297
  },
  {
   "metadata": {},
   "cell_type": "markdown",
   "source": "# Import Data",
   "id": "a657a95ccfffcbd2"
  },
  {
   "metadata": {
    "ExecuteTime": {
     "end_time": "2024-10-03T22:30:24.677339Z",
     "start_time": "2024-10-03T22:30:24.667832Z"
    }
   },
   "cell_type": "code",
   "source": [
    "job_level_data = pd.read_csv(\"../data/JobLevelData_preproc.csv\")\n",
    "classes_labels = ['Chief Officer', 'Director', 'Individual Contributor/Staff', 'Manager',\n",
    " 'Vice President']\n",
    "job_level_data"
   ],
   "id": "3d86a3835d356e0e",
   "outputs": [
    {
     "data": {
      "text/plain": [
       "                                                                                                     Title  \\\n",
       "0                                                           Vice President Director of Systems Engineering   \n",
       "1                                                                       Systems Engineer Systems Architect   \n",
       "2     Executive Director Global Informational Technology Infrastructure Chief Information Security Officer   \n",
       "3                                       Chief Technology Officer Executive Director of Technology Services   \n",
       "4                                                                 Vice President Chief Information Officer   \n",
       "...                                                                                                    ...   \n",
       "2221                                                          Net Software Architect and Team Project Lead   \n",
       "2222                                                                    Solutions Architect Technical Lead   \n",
       "2223                                          Manager Salesforcecom Administration and Release Engineering   \n",
       "2224                                                                       Innovation Automation Architect   \n",
       "2225                                                          Founder and Chief Executive Officer Kindbody   \n",
       "\n",
       "                Label  \n",
       "0     [0, 0, 0, 0, 1]  \n",
       "1     [0, 0, 1, 1, 0]  \n",
       "2     [1, 1, 0, 0, 0]  \n",
       "3     [1, 1, 0, 0, 0]  \n",
       "4     [0, 0, 0, 0, 1]  \n",
       "...               ...  \n",
       "2221  [0, 0, 0, 1, 0]  \n",
       "2222  [0, 0, 1, 1, 0]  \n",
       "2223  [0, 0, 0, 1, 0]  \n",
       "2224  [0, 0, 0, 1, 0]  \n",
       "2225  [1, 0, 0, 0, 0]  \n",
       "\n",
       "[2226 rows x 2 columns]"
      ],
      "text/html": [
       "<div>\n",
       "<style scoped>\n",
       "    .dataframe tbody tr th:only-of-type {\n",
       "        vertical-align: middle;\n",
       "    }\n",
       "\n",
       "    .dataframe tbody tr th {\n",
       "        vertical-align: top;\n",
       "    }\n",
       "\n",
       "    .dataframe thead th {\n",
       "        text-align: right;\n",
       "    }\n",
       "</style>\n",
       "<table border=\"1\" class=\"dataframe\">\n",
       "  <thead>\n",
       "    <tr style=\"text-align: right;\">\n",
       "      <th></th>\n",
       "      <th>Title</th>\n",
       "      <th>Label</th>\n",
       "    </tr>\n",
       "  </thead>\n",
       "  <tbody>\n",
       "    <tr>\n",
       "      <th>0</th>\n",
       "      <td>Vice President Director of Systems Engineering</td>\n",
       "      <td>[0, 0, 0, 0, 1]</td>\n",
       "    </tr>\n",
       "    <tr>\n",
       "      <th>1</th>\n",
       "      <td>Systems Engineer Systems Architect</td>\n",
       "      <td>[0, 0, 1, 1, 0]</td>\n",
       "    </tr>\n",
       "    <tr>\n",
       "      <th>2</th>\n",
       "      <td>Executive Director Global Informational Technology Infrastructure Chief Information Security Officer</td>\n",
       "      <td>[1, 1, 0, 0, 0]</td>\n",
       "    </tr>\n",
       "    <tr>\n",
       "      <th>3</th>\n",
       "      <td>Chief Technology Officer Executive Director of Technology Services</td>\n",
       "      <td>[1, 1, 0, 0, 0]</td>\n",
       "    </tr>\n",
       "    <tr>\n",
       "      <th>4</th>\n",
       "      <td>Vice President Chief Information Officer</td>\n",
       "      <td>[0, 0, 0, 0, 1]</td>\n",
       "    </tr>\n",
       "    <tr>\n",
       "      <th>...</th>\n",
       "      <td>...</td>\n",
       "      <td>...</td>\n",
       "    </tr>\n",
       "    <tr>\n",
       "      <th>2221</th>\n",
       "      <td>Net Software Architect and Team Project Lead</td>\n",
       "      <td>[0, 0, 0, 1, 0]</td>\n",
       "    </tr>\n",
       "    <tr>\n",
       "      <th>2222</th>\n",
       "      <td>Solutions Architect Technical Lead</td>\n",
       "      <td>[0, 0, 1, 1, 0]</td>\n",
       "    </tr>\n",
       "    <tr>\n",
       "      <th>2223</th>\n",
       "      <td>Manager Salesforcecom Administration and Release Engineering</td>\n",
       "      <td>[0, 0, 0, 1, 0]</td>\n",
       "    </tr>\n",
       "    <tr>\n",
       "      <th>2224</th>\n",
       "      <td>Innovation Automation Architect</td>\n",
       "      <td>[0, 0, 0, 1, 0]</td>\n",
       "    </tr>\n",
       "    <tr>\n",
       "      <th>2225</th>\n",
       "      <td>Founder and Chief Executive Officer Kindbody</td>\n",
       "      <td>[1, 0, 0, 0, 0]</td>\n",
       "    </tr>\n",
       "  </tbody>\n",
       "</table>\n",
       "<p>2226 rows × 2 columns</p>\n",
       "</div>"
      ]
     },
     "execution_count": 298,
     "metadata": {},
     "output_type": "execute_result"
    }
   ],
   "execution_count": 298
  },
  {
   "metadata": {},
   "cell_type": "markdown",
   "source": "To establish a baseline model for this multi label text classification task, it was chosen to transform the model to binary classification problem. This involves dividing the problem into 5 binary classification problems, one for each class.",
   "id": "46e6a150adb1fd63"
  },
  {
   "metadata": {
    "ExecuteTime": {
     "end_time": "2024-10-03T22:30:24.857786Z",
     "start_time": "2024-10-03T22:30:24.716630Z"
    }
   },
   "cell_type": "code",
   "source": [
    "def remove_stopwords(text):\n",
    "    stop_words = set(stopwords.words('english'))\n",
    "    word_tokens = word_tokenize(text)\n",
    "    filtered_text = ' '.join([word for word in word_tokens if word.lower() not in stop_words])\n",
    "    return filtered_text\n",
    "\n",
    "job_level_data[\"Title\"] = job_level_data[\"Title\"].apply(remove_stopwords)"
   ],
   "id": "20df8ee4b6a7f59e",
   "outputs": [],
   "execution_count": 299
  },
  {
   "metadata": {
    "ExecuteTime": {
     "end_time": "2024-10-03T22:30:24.894255Z",
     "start_time": "2024-10-03T22:30:24.874857Z"
    }
   },
   "cell_type": "code",
   "source": "job_level_data[\"Label\"] = job_level_data[\"Label\"].apply(eval)",
   "id": "b3f033e246b6420d",
   "outputs": [],
   "execution_count": 300
  },
  {
   "metadata": {
    "ExecuteTime": {
     "end_time": "2024-10-03T22:30:24.907281Z",
     "start_time": "2024-10-03T22:30:24.900842Z"
    }
   },
   "cell_type": "code",
   "source": [
    "X_train, X_test, y_train, y_test = train_test_split(\n",
    "    job_level_data['Title'],\n",
    "    pd.DataFrame(job_level_data['Label'].to_list(), columns=classes_labels),\n",
    "    test_size=0.2,\n",
    "    random_state=RANDOM_SEED,\n",
    "    shuffle=True\n",
    ")"
   ],
   "id": "9dd9c3727f9a6b5d",
   "outputs": [],
   "execution_count": 301
  },
  {
   "metadata": {
    "ExecuteTime": {
     "end_time": "2024-10-03T22:30:24.943947Z",
     "start_time": "2024-10-03T22:30:24.919813Z"
    }
   },
   "cell_type": "code",
   "source": [
    "tfidf = TfidfVectorizer(ngram_range=(1,2))\n",
    "X_train = tfidf.fit_transform(X_train)\n",
    "X_test = tfidf.transform(X_test)\n",
    "\n",
    "X_train = pd.DataFrame(X_train.toarray(), columns=tfidf.get_feature_names_out())\n",
    "X_test = pd.DataFrame(X_test.toarray(), columns=tfidf.get_feature_names_out())"
   ],
   "id": "d21f00626ea3aea9",
   "outputs": [],
   "execution_count": 302
  },
  {
   "metadata": {
    "ExecuteTime": {
     "end_time": "2024-10-03T22:30:36.818944Z",
     "start_time": "2024-10-03T22:30:24.969983Z"
    }
   },
   "cell_type": "code",
   "source": [
    "rf = RandomForestClassifier(n_estimators=200, random_state=42)\n",
    "clf = MultiOutputClassifier(rf)\n",
    "clf.fit(X_train, y_train)\n",
    "\n",
    "y_pred = clf.predict(X_test)\n",
    "\n",
    "hamming = hamming_loss(y_test, y_pred)\n",
    "f1 = f1_score(y_test, y_pred, average='micro')\n",
    "\n",
    "print(f'Hamming Loss: {hamming:.5f}')\n",
    "print(f'F1 Score (micro): {f1:.5f}')"
   ],
   "id": "400c64dba92f920a",
   "outputs": [
    {
     "name": "stdout",
     "output_type": "stream",
     "text": [
      "Hamming Loss: 0.04081\n",
      "F1 Score (micro): 0.90267\n"
     ]
    }
   ],
   "execution_count": 303
  },
  {
   "metadata": {
    "ExecuteTime": {
     "end_time": "2024-10-03T22:30:37.412129Z",
     "start_time": "2024-10-03T22:30:36.878985Z"
    }
   },
   "cell_type": "code",
   "source": [
    "cm = multilabel_confusion_matrix(y_test.values.tolist(), y_pred.tolist())\n",
    "\n",
    "f, axes = plt.subplots(2, 3, figsize=(16, 10))\n",
    "f.suptitle(\"Confusion Matrix for each Label\")\n",
    "\n",
    "for i, matrix in enumerate(cm):\n",
    "    with np.errstate(invalid='ignore'):\n",
    "        normalized_matrix = matrix.astype('float') / matrix.sum(axis=1)[:, np.newaxis] * 100\n",
    "        normalized_matrix[np.isnan(normalized_matrix)] = 0 \n",
    "    ax = axes[i//3, i % 3]\n",
    "    sns.heatmap(normalized_matrix, annot=True, cmap='Blues', ax = ax)\n",
    "    ax.set_xlabel('Predicted')\n",
    "    ax.set_ylabel('True')\n",
    "    ax.set_title(classes_labels[i])\n",
    "\"\"\n",
    "plt.show()"
   ],
   "id": "7aadd8e4287c218a",
   "outputs": [
    {
     "data": {
      "text/plain": [
       "<Figure size 1600x1000 with 11 Axes>"
      ],
      "image/png": "[encoded data removed]"
     },
     "metadata": {},
     "output_type": "display_data"
    }
   ],
   "execution_count": 304
  }
 ],
 "metadata": {
  "kernelspec": {
   "display_name": "Python 3",
   "language": "python",
   "name": "python3"
  },
  "language_info": {
   "codemirror_mode": {
    "name": "ipython",
    "version": 2
   },
   "file_extension": ".py",
   "mimetype": "text/x-python",
   "name": "python",
   "nbconvert_exporter": "python",
   "pygments_lexer": "ipython2",
   "version": "2.7.6"
  }
 },
 "nbformat": 4,
 "nbformat_minor": 5
}
