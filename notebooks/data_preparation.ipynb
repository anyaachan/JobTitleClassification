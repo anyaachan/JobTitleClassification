{
 "cells": [
  {
   "metadata": {
    "ExecuteTime": {
     "end_time": "2024-10-03T13:11:08.244685Z",
     "start_time": "2024-10-03T13:11:08.242411Z"
    }
   },
   "cell_type": "code",
   "source": [
    "import pandas as pd\n",
    "from collections import Counter\n",
    "import matplotlib.pyplot as plt\n",
    "from transformers import BertTokenizer\n",
    "from sklearn.preprocessing import MultiLabelBinarizer\n",
    "import seaborn as sns\n",
    "import re"
   ],
   "id": "383e5bedf0d44a6a",
   "outputs": [],
   "execution_count": 35
  },
  {
   "metadata": {},
   "cell_type": "markdown",
   "source": [
    "# Exploratory Data Analysis\n",
    "### Import Data"
   ],
   "id": "5c9f0f834c25eb03"
  },
  {
   "metadata": {
    "ExecuteTime": {
     "end_time": "2024-10-03T13:11:08.323397Z",
     "start_time": "2024-10-03T13:11:08.272110Z"
    }
   },
   "cell_type": "code",
   "source": [
    "job_level_data = pd.read_excel(\"../data/JobLevelData.xlsx\")\n",
    "job_level_data"
   ],
   "id": "6ff7f14847d0bd8a",
   "outputs": [
    {
     "data": {
      "text/plain": [
       "                                                  Title        Column 1  \\\n",
       "0      Vice President / Director of Systems Engineering  Vice President   \n",
       "1                   Systems Engineer; Systems Architect         Manager   \n",
       "2     Executive Director, Global IT Infrastructure /...        Director   \n",
       "3         CTO/Executive Director of Technology Services        Director   \n",
       "4                                   Vice President, CIO  Vice President   \n",
       "...                                                 ...             ...   \n",
       "2235       Net Software Architect and Team Project Lead         Manager   \n",
       "2236               Solutions Architect & Technical Lead         Manager   \n",
       "2237  Manager, Salesforcecom Administration and Rele...         Manager   \n",
       "2238                    Innovation Automation Architect         Manager   \n",
       "2239      Founder and Chief Executive Officer, Kindbody   Chief Officer   \n",
       "\n",
       "                          Column 2 Column 3 Column 4  \n",
       "0                              NaN      NaN      NaN  \n",
       "1     Individual Contributor/Staff      NaN      NaN  \n",
       "2                    Chief Officer      NaN      NaN  \n",
       "3                    Chief Officer      NaN      NaN  \n",
       "4                              NaN      NaN      NaN  \n",
       "...                            ...      ...      ...  \n",
       "2235                           NaN      NaN      NaN  \n",
       "2236  Individual Contributor/Staff      NaN      NaN  \n",
       "2237                           NaN      NaN      NaN  \n",
       "2238                           NaN      NaN      NaN  \n",
       "2239                           NaN      NaN      NaN  \n",
       "\n",
       "[2240 rows x 5 columns]"
      ],
      "text/html": [
       "<div>\n",
       "<style scoped>\n",
       "    .dataframe tbody tr th:only-of-type {\n",
       "        vertical-align: middle;\n",
       "    }\n",
       "\n",
       "    .dataframe tbody tr th {\n",
       "        vertical-align: top;\n",
       "    }\n",
       "\n",
       "    .dataframe thead th {\n",
       "        text-align: right;\n",
       "    }\n",
       "</style>\n",
       "<table border=\"1\" class=\"dataframe\">\n",
       "  <thead>\n",
       "    <tr style=\"text-align: right;\">\n",
       "      <th></th>\n",
       "      <th>Title</th>\n",
       "      <th>Column 1</th>\n",
       "      <th>Column 2</th>\n",
       "      <th>Column 3</th>\n",
       "      <th>Column 4</th>\n",
       "    </tr>\n",
       "  </thead>\n",
       "  <tbody>\n",
       "    <tr>\n",
       "      <th>0</th>\n",
       "      <td>Vice President / Director of Systems Engineering</td>\n",
       "      <td>Vice President</td>\n",
       "      <td>NaN</td>\n",
       "      <td>NaN</td>\n",
       "      <td>NaN</td>\n",
       "    </tr>\n",
       "    <tr>\n",
       "      <th>1</th>\n",
       "      <td>Systems Engineer; Systems Architect</td>\n",
       "      <td>Manager</td>\n",
       "      <td>Individual Contributor/Staff</td>\n",
       "      <td>NaN</td>\n",
       "      <td>NaN</td>\n",
       "    </tr>\n",
       "    <tr>\n",
       "      <th>2</th>\n",
       "      <td>Executive Director, Global IT Infrastructure /...</td>\n",
       "      <td>Director</td>\n",
       "      <td>Chief Officer</td>\n",
       "      <td>NaN</td>\n",
       "      <td>NaN</td>\n",
       "    </tr>\n",
       "    <tr>\n",
       "      <th>3</th>\n",
       "      <td>CTO/Executive Director of Technology Services</td>\n",
       "      <td>Director</td>\n",
       "      <td>Chief Officer</td>\n",
       "      <td>NaN</td>\n",
       "      <td>NaN</td>\n",
       "    </tr>\n",
       "    <tr>\n",
       "      <th>4</th>\n",
       "      <td>Vice President, CIO</td>\n",
       "      <td>Vice President</td>\n",
       "      <td>NaN</td>\n",
       "      <td>NaN</td>\n",
       "      <td>NaN</td>\n",
       "    </tr>\n",
       "    <tr>\n",
       "      <th>...</th>\n",
       "      <td>...</td>\n",
       "      <td>...</td>\n",
       "      <td>...</td>\n",
       "      <td>...</td>\n",
       "      <td>...</td>\n",
       "    </tr>\n",
       "    <tr>\n",
       "      <th>2235</th>\n",
       "      <td>Net Software Architect and Team Project Lead</td>\n",
       "      <td>Manager</td>\n",
       "      <td>NaN</td>\n",
       "      <td>NaN</td>\n",
       "      <td>NaN</td>\n",
       "    </tr>\n",
       "    <tr>\n",
       "      <th>2236</th>\n",
       "      <td>Solutions Architect &amp; Technical Lead</td>\n",
       "      <td>Manager</td>\n",
       "      <td>Individual Contributor/Staff</td>\n",
       "      <td>NaN</td>\n",
       "      <td>NaN</td>\n",
       "    </tr>\n",
       "    <tr>\n",
       "      <th>2237</th>\n",
       "      <td>Manager, Salesforcecom Administration and Rele...</td>\n",
       "      <td>Manager</td>\n",
       "      <td>NaN</td>\n",
       "      <td>NaN</td>\n",
       "      <td>NaN</td>\n",
       "    </tr>\n",
       "    <tr>\n",
       "      <th>2238</th>\n",
       "      <td>Innovation Automation Architect</td>\n",
       "      <td>Manager</td>\n",
       "      <td>NaN</td>\n",
       "      <td>NaN</td>\n",
       "      <td>NaN</td>\n",
       "    </tr>\n",
       "    <tr>\n",
       "      <th>2239</th>\n",
       "      <td>Founder and Chief Executive Officer, Kindbody</td>\n",
       "      <td>Chief Officer</td>\n",
       "      <td>NaN</td>\n",
       "      <td>NaN</td>\n",
       "      <td>NaN</td>\n",
       "    </tr>\n",
       "  </tbody>\n",
       "</table>\n",
       "<p>2240 rows × 5 columns</p>\n",
       "</div>"
      ]
     },
     "execution_count": 36,
     "metadata": {},
     "output_type": "execute_result"
    }
   ],
   "execution_count": 36
  },
  {
   "metadata": {},
   "cell_type": "markdown",
   "source": "### Handling Missing Data",
   "id": "6a984366dbd3bfac"
  },
  {
   "metadata": {},
   "cell_type": "markdown",
   "source": [
    "Let's identify rows where all target columns are NaN, meaning no label is assigned to the position title.\n",
    "\n",
    "Upon analysis, there are 10 rows without labels, representing only 0.4% of the data. Since this is a very small percentage, several actions could be taken to handle these rows:\n",
    "\n",
    "- **Manual Labeling**. Given the small number of entries, it might be possible to ask the data provider or client to label them manually. However, for now we don't have direct communication with the client and also lack sufficient knowledge of the data's context to label them accurately ourselves.\n",
    "- **Data Imputation**. There are several possible variants of imputation: \n",
    "\n",
    "    -  **Fill with default values, e.g. \"Unknown\"**. Not good approach, as introducing a new class may confuse the model and reduce the quality of predictions.\n",
    "    - **Predictive Imputation**. Might be an overkill for this size of data. \n",
    "\n",
    "- **Removing the rows with missing data**. Removing NaN rows may be a reasonable solution, as it would likely have little impact on model performance."
   ],
   "id": "7e604e87c4da96ed"
  },
  {
   "metadata": {
    "ExecuteTime": {
     "end_time": "2024-10-03T13:11:08.359415Z",
     "start_time": "2024-10-03T13:11:08.353839Z"
    }
   },
   "cell_type": "code",
   "source": [
    "nan_rows = job_level_data[job_level_data.drop(columns=['Title']).isna().all(axis=1)]\n",
    "print(f\"Percentage of not labeled data: {len(nan_rows) / len(job_level_data) * 100}\")\n",
    "nan_rows"
   ],
   "id": "799666b6c606d633",
   "outputs": [
    {
     "name": "stdout",
     "output_type": "stream",
     "text": [
      "Percentage of not labeled data: 0.4464285714285714\n"
     ]
    },
    {
     "data": {
      "text/plain": [
       "                                                  Title Column 1 Column 2  \\\n",
       "29                                                 CINO      NaN      NaN   \n",
       "341                                Ticari Subesi Muduru      NaN      NaN   \n",
       "511   Governor, Chair of Board Risk and Audit Commit...      NaN      NaN   \n",
       "764          Former Director, Compensation and Benefits      NaN      NaN   \n",
       "829                      Release of Information Tech II      NaN      NaN   \n",
       "1257                  Shareholder, Chair of Tax Section      NaN      NaN   \n",
       "1406  Global People Systems, Processes and Informati...      NaN      NaN   \n",
       "1713                          Supplier Quality Engineer      NaN      NaN   \n",
       "1785  RC Environmental and Cyber Specialized Subscri...      NaN      NaN   \n",
       "2182  Senior Independedirector and Chair of the Cust...      NaN      NaN   \n",
       "\n",
       "     Column 3 Column 4  \n",
       "29        NaN      NaN  \n",
       "341       NaN      NaN  \n",
       "511       NaN      NaN  \n",
       "764       NaN      NaN  \n",
       "829       NaN      NaN  \n",
       "1257      NaN      NaN  \n",
       "1406      NaN      NaN  \n",
       "1713      NaN      NaN  \n",
       "1785      NaN      NaN  \n",
       "2182      NaN      NaN  "
      ],
      "text/html": [
       "<div>\n",
       "<style scoped>\n",
       "    .dataframe tbody tr th:only-of-type {\n",
       "        vertical-align: middle;\n",
       "    }\n",
       "\n",
       "    .dataframe tbody tr th {\n",
       "        vertical-align: top;\n",
       "    }\n",
       "\n",
       "    .dataframe thead th {\n",
       "        text-align: right;\n",
       "    }\n",
       "</style>\n",
       "<table border=\"1\" class=\"dataframe\">\n",
       "  <thead>\n",
       "    <tr style=\"text-align: right;\">\n",
       "      <th></th>\n",
       "      <th>Title</th>\n",
       "      <th>Column 1</th>\n",
       "      <th>Column 2</th>\n",
       "      <th>Column 3</th>\n",
       "      <th>Column 4</th>\n",
       "    </tr>\n",
       "  </thead>\n",
       "  <tbody>\n",
       "    <tr>\n",
       "      <th>29</th>\n",
       "      <td>CINO</td>\n",
       "      <td>NaN</td>\n",
       "      <td>NaN</td>\n",
       "      <td>NaN</td>\n",
       "      <td>NaN</td>\n",
       "    </tr>\n",
       "    <tr>\n",
       "      <th>341</th>\n",
       "      <td>Ticari Subesi Muduru</td>\n",
       "      <td>NaN</td>\n",
       "      <td>NaN</td>\n",
       "      <td>NaN</td>\n",
       "      <td>NaN</td>\n",
       "    </tr>\n",
       "    <tr>\n",
       "      <th>511</th>\n",
       "      <td>Governor, Chair of Board Risk and Audit Commit...</td>\n",
       "      <td>NaN</td>\n",
       "      <td>NaN</td>\n",
       "      <td>NaN</td>\n",
       "      <td>NaN</td>\n",
       "    </tr>\n",
       "    <tr>\n",
       "      <th>764</th>\n",
       "      <td>Former Director, Compensation and Benefits</td>\n",
       "      <td>NaN</td>\n",
       "      <td>NaN</td>\n",
       "      <td>NaN</td>\n",
       "      <td>NaN</td>\n",
       "    </tr>\n",
       "    <tr>\n",
       "      <th>829</th>\n",
       "      <td>Release of Information Tech II</td>\n",
       "      <td>NaN</td>\n",
       "      <td>NaN</td>\n",
       "      <td>NaN</td>\n",
       "      <td>NaN</td>\n",
       "    </tr>\n",
       "    <tr>\n",
       "      <th>1257</th>\n",
       "      <td>Shareholder, Chair of Tax Section</td>\n",
       "      <td>NaN</td>\n",
       "      <td>NaN</td>\n",
       "      <td>NaN</td>\n",
       "      <td>NaN</td>\n",
       "    </tr>\n",
       "    <tr>\n",
       "      <th>1406</th>\n",
       "      <td>Global People Systems, Processes and Informati...</td>\n",
       "      <td>NaN</td>\n",
       "      <td>NaN</td>\n",
       "      <td>NaN</td>\n",
       "      <td>NaN</td>\n",
       "    </tr>\n",
       "    <tr>\n",
       "      <th>1713</th>\n",
       "      <td>Supplier Quality Engineer</td>\n",
       "      <td>NaN</td>\n",
       "      <td>NaN</td>\n",
       "      <td>NaN</td>\n",
       "      <td>NaN</td>\n",
       "    </tr>\n",
       "    <tr>\n",
       "      <th>1785</th>\n",
       "      <td>RC Environmental and Cyber Specialized Subscri...</td>\n",
       "      <td>NaN</td>\n",
       "      <td>NaN</td>\n",
       "      <td>NaN</td>\n",
       "      <td>NaN</td>\n",
       "    </tr>\n",
       "    <tr>\n",
       "      <th>2182</th>\n",
       "      <td>Senior Independedirector and Chair of the Cust...</td>\n",
       "      <td>NaN</td>\n",
       "      <td>NaN</td>\n",
       "      <td>NaN</td>\n",
       "      <td>NaN</td>\n",
       "    </tr>\n",
       "  </tbody>\n",
       "</table>\n",
       "</div>"
      ]
     },
     "execution_count": 37,
     "metadata": {},
     "output_type": "execute_result"
    }
   ],
   "execution_count": 37
  },
  {
   "metadata": {},
   "cell_type": "markdown",
   "source": "It was decided to remove the rows with missing data.",
   "id": "216932a335ce54b3"
  },
  {
   "metadata": {
    "ExecuteTime": {
     "end_time": "2024-10-03T13:11:08.420036Z",
     "start_time": "2024-10-03T13:11:08.417395Z"
    }
   },
   "cell_type": "code",
   "source": "job_level_data.drop(nan_rows.index, inplace=True)",
   "id": "cfd6d31bb68b72eb",
   "outputs": [],
   "execution_count": 38
  },
  {
   "metadata": {},
   "cell_type": "markdown",
   "source": "### Merging Label Columns into a List",
   "id": "368c96fa28e64143"
  },
  {
   "metadata": {},
   "cell_type": "markdown",
   "source": "To simplify the manipulation of label data and make it suitable for model input, we need to combine the values from multiple columns into a single list.",
   "id": "3fe471ae9e59bb6a"
  },
  {
   "metadata": {
    "ExecuteTime": {
     "end_time": "2024-10-03T13:11:08.484654Z",
     "start_time": "2024-10-03T13:11:08.474739Z"
    }
   },
   "cell_type": "code",
   "source": [
    "job_level_data[\"Label\"] = job_level_data.drop(columns=[\"Title\"]).values.tolist()\n",
    "job_level_data.drop(columns=[\"Column 1\", \"Column 2\", \"Column 3\", \"Column 4\"], inplace=True)\n",
    "\n",
    "\n",
    "def remove_nans_from_array(list):\n",
    "    return [label for label in list if not pd.isna(label)]\n",
    "\n",
    "\n",
    "job_level_data[\"Label\"] = job_level_data[\"Label\"].apply(remove_nans_from_array)\n",
    "job_level_data[\"Label\"] = job_level_data[\"Label\"].apply(lambda labels: sorted(labels))\n",
    "\n",
    "job_level_data"
   ],
   "id": "40a7af1b26561beb",
   "outputs": [
    {
     "data": {
      "text/plain": [
       "                                                  Title  \\\n",
       "0      Vice President / Director of Systems Engineering   \n",
       "1                   Systems Engineer; Systems Architect   \n",
       "2     Executive Director, Global IT Infrastructure /...   \n",
       "3         CTO/Executive Director of Technology Services   \n",
       "4                                   Vice President, CIO   \n",
       "...                                                 ...   \n",
       "2235       Net Software Architect and Team Project Lead   \n",
       "2236               Solutions Architect & Technical Lead   \n",
       "2237  Manager, Salesforcecom Administration and Rele...   \n",
       "2238                    Innovation Automation Architect   \n",
       "2239      Founder and Chief Executive Officer, Kindbody   \n",
       "\n",
       "                                        Label  \n",
       "0                            [Vice President]  \n",
       "1     [Individual Contributor/Staff, Manager]  \n",
       "2                   [Chief Officer, Director]  \n",
       "3                   [Chief Officer, Director]  \n",
       "4                            [Vice President]  \n",
       "...                                       ...  \n",
       "2235                                [Manager]  \n",
       "2236  [Individual Contributor/Staff, Manager]  \n",
       "2237                                [Manager]  \n",
       "2238                                [Manager]  \n",
       "2239                          [Chief Officer]  \n",
       "\n",
       "[2230 rows x 2 columns]"
      ],
      "text/html": [
       "<div>\n",
       "<style scoped>\n",
       "    .dataframe tbody tr th:only-of-type {\n",
       "        vertical-align: middle;\n",
       "    }\n",
       "\n",
       "    .dataframe tbody tr th {\n",
       "        vertical-align: top;\n",
       "    }\n",
       "\n",
       "    .dataframe thead th {\n",
       "        text-align: right;\n",
       "    }\n",
       "</style>\n",
       "<table border=\"1\" class=\"dataframe\">\n",
       "  <thead>\n",
       "    <tr style=\"text-align: right;\">\n",
       "      <th></th>\n",
       "      <th>Title</th>\n",
       "      <th>Label</th>\n",
       "    </tr>\n",
       "  </thead>\n",
       "  <tbody>\n",
       "    <tr>\n",
       "      <th>0</th>\n",
       "      <td>Vice President / Director of Systems Engineering</td>\n",
       "      <td>[Vice President]</td>\n",
       "    </tr>\n",
       "    <tr>\n",
       "      <th>1</th>\n",
       "      <td>Systems Engineer; Systems Architect</td>\n",
       "      <td>[Individual Contributor/Staff, Manager]</td>\n",
       "    </tr>\n",
       "    <tr>\n",
       "      <th>2</th>\n",
       "      <td>Executive Director, Global IT Infrastructure /...</td>\n",
       "      <td>[Chief Officer, Director]</td>\n",
       "    </tr>\n",
       "    <tr>\n",
       "      <th>3</th>\n",
       "      <td>CTO/Executive Director of Technology Services</td>\n",
       "      <td>[Chief Officer, Director]</td>\n",
       "    </tr>\n",
       "    <tr>\n",
       "      <th>4</th>\n",
       "      <td>Vice President, CIO</td>\n",
       "      <td>[Vice President]</td>\n",
       "    </tr>\n",
       "    <tr>\n",
       "      <th>...</th>\n",
       "      <td>...</td>\n",
       "      <td>...</td>\n",
       "    </tr>\n",
       "    <tr>\n",
       "      <th>2235</th>\n",
       "      <td>Net Software Architect and Team Project Lead</td>\n",
       "      <td>[Manager]</td>\n",
       "    </tr>\n",
       "    <tr>\n",
       "      <th>2236</th>\n",
       "      <td>Solutions Architect &amp; Technical Lead</td>\n",
       "      <td>[Individual Contributor/Staff, Manager]</td>\n",
       "    </tr>\n",
       "    <tr>\n",
       "      <th>2237</th>\n",
       "      <td>Manager, Salesforcecom Administration and Rele...</td>\n",
       "      <td>[Manager]</td>\n",
       "    </tr>\n",
       "    <tr>\n",
       "      <th>2238</th>\n",
       "      <td>Innovation Automation Architect</td>\n",
       "      <td>[Manager]</td>\n",
       "    </tr>\n",
       "    <tr>\n",
       "      <th>2239</th>\n",
       "      <td>Founder and Chief Executive Officer, Kindbody</td>\n",
       "      <td>[Chief Officer]</td>\n",
       "    </tr>\n",
       "  </tbody>\n",
       "</table>\n",
       "<p>2230 rows × 2 columns</p>\n",
       "</div>"
      ]
     },
     "execution_count": 39,
     "metadata": {},
     "output_type": "execute_result"
    }
   ],
   "execution_count": 39
  },
  {
   "metadata": {},
   "cell_type": "markdown",
   "source": [
    "### Text Preprocessing\n",
    "- Removing punctiation and any special characters\n",
    "- Lowercasing the text as the model is not case-sensitive\n",
    "- Normalizing whitespaces"
   ],
   "id": "f2f363011c1128b1"
  },
  {
   "metadata": {
    "ExecuteTime": {
     "end_time": "2024-10-03T13:11:08.538481Z",
     "start_time": "2024-10-03T13:11:08.527770Z"
    }
   },
   "cell_type": "code",
   "source": [
    "def preprocess_text(text):\n",
    "    text = re.sub(r'[^\\w\\s]', ' ', text)\n",
    "    text = re.sub(r'\\s+', ' ', text).strip()\n",
    "    return text\n",
    "\n",
    "\n",
    "job_level_data[\"Title\"] = job_level_data[\"Title\"].apply(preprocess_text)\n",
    "job_level_data.head()"
   ],
   "id": "7cf18f7720a09eb9",
   "outputs": [
    {
     "data": {
      "text/plain": [
       "                                               Title  \\\n",
       "0     Vice President Director of Systems Engineering   \n",
       "1                 Systems Engineer Systems Architect   \n",
       "2  Executive Director Global IT Infrastructure Ch...   \n",
       "3      CTO Executive Director of Technology Services   \n",
       "4                                 Vice President CIO   \n",
       "\n",
       "                                     Label  \n",
       "0                         [Vice President]  \n",
       "1  [Individual Contributor/Staff, Manager]  \n",
       "2                [Chief Officer, Director]  \n",
       "3                [Chief Officer, Director]  \n",
       "4                         [Vice President]  "
      ],
      "text/html": [
       "<div>\n",
       "<style scoped>\n",
       "    .dataframe tbody tr th:only-of-type {\n",
       "        vertical-align: middle;\n",
       "    }\n",
       "\n",
       "    .dataframe tbody tr th {\n",
       "        vertical-align: top;\n",
       "    }\n",
       "\n",
       "    .dataframe thead th {\n",
       "        text-align: right;\n",
       "    }\n",
       "</style>\n",
       "<table border=\"1\" class=\"dataframe\">\n",
       "  <thead>\n",
       "    <tr style=\"text-align: right;\">\n",
       "      <th></th>\n",
       "      <th>Title</th>\n",
       "      <th>Label</th>\n",
       "    </tr>\n",
       "  </thead>\n",
       "  <tbody>\n",
       "    <tr>\n",
       "      <th>0</th>\n",
       "      <td>Vice President Director of Systems Engineering</td>\n",
       "      <td>[Vice President]</td>\n",
       "    </tr>\n",
       "    <tr>\n",
       "      <th>1</th>\n",
       "      <td>Systems Engineer Systems Architect</td>\n",
       "      <td>[Individual Contributor/Staff, Manager]</td>\n",
       "    </tr>\n",
       "    <tr>\n",
       "      <th>2</th>\n",
       "      <td>Executive Director Global IT Infrastructure Ch...</td>\n",
       "      <td>[Chief Officer, Director]</td>\n",
       "    </tr>\n",
       "    <tr>\n",
       "      <th>3</th>\n",
       "      <td>CTO Executive Director of Technology Services</td>\n",
       "      <td>[Chief Officer, Director]</td>\n",
       "    </tr>\n",
       "    <tr>\n",
       "      <th>4</th>\n",
       "      <td>Vice President CIO</td>\n",
       "      <td>[Vice President]</td>\n",
       "    </tr>\n",
       "  </tbody>\n",
       "</table>\n",
       "</div>"
      ]
     },
     "execution_count": 40,
     "metadata": {},
     "output_type": "execute_result"
    }
   ],
   "execution_count": 40
  },
  {
   "metadata": {},
   "cell_type": "markdown",
   "source": "As BERT tokenizer might separate acronyms, it is highly beneficial to expand them to their full form where possible. ",
   "id": "bdd7c48bcc53f948"
  },
  {
   "metadata": {
    "ExecuteTime": {
     "end_time": "2024-10-03T13:11:08.602419Z",
     "start_time": "2024-10-03T13:11:08.596148Z"
    }
   },
   "cell_type": "code",
   "source": [
    "acronyms_dict = {\n",
    "    \"ceo\": \"Chief Executive Officer\",\n",
    "    \"cfo\": \"Chief Financial Officer\",\n",
    "    \"cto\": \"Chief Technology Officer\",\n",
    "    \"vp\": \"Vice President\",\n",
    "    \"hr\": \"Human Resources\",\n",
    "    \"chro\": \"Chief Human Resources Officer\",\n",
    "    \"cio\": \"Chief Information Officer\",\n",
    "    \"ciso\": \"Chief Information Security Officer\",\n",
    "    \"clo\": \"Chief Legal Officer\",\n",
    "    \"cmo\": \"Chief Marketing Officer\",\n",
    "    \"coo\": \"Chief Operating Officer\",\n",
    "    \"cino\": \"Chief Innovation Officer\",\n",
    "    \"cpo\": \"Chief Product Officer\",\n",
    "    \"cro\": \"Chief Revenue Officer\",\n",
    "    \"evp\": \"Executive Vice President\",\n",
    "    \"svp\": \"Senior Vice President\",\n",
    "    \"it\": \"Informational Technology\"\n",
    "}\n",
    "\n",
    "\n",
    "def expand_acronyms(text):\n",
    "    words = text.split()\n",
    "    expanded_words = [acronyms_dict.get(word.lower(), word) for word in words]\n",
    "    return ' '.join(expanded_words)\n",
    "\n",
    "\n",
    "job_level_data[\"Title\"] = job_level_data[\"Title\"].apply(expand_acronyms)\n",
    "job_level_data.head()"
   ],
   "id": "6fb97cf0e6917d5e",
   "outputs": [
    {
     "data": {
      "text/plain": [
       "                                               Title  \\\n",
       "0     Vice President Director of Systems Engineering   \n",
       "1                 Systems Engineer Systems Architect   \n",
       "2  Executive Director Global Informational Techno...   \n",
       "3  Chief Technology Officer Executive Director of...   \n",
       "4           Vice President Chief Information Officer   \n",
       "\n",
       "                                     Label  \n",
       "0                         [Vice President]  \n",
       "1  [Individual Contributor/Staff, Manager]  \n",
       "2                [Chief Officer, Director]  \n",
       "3                [Chief Officer, Director]  \n",
       "4                         [Vice President]  "
      ],
      "text/html": [
       "<div>\n",
       "<style scoped>\n",
       "    .dataframe tbody tr th:only-of-type {\n",
       "        vertical-align: middle;\n",
       "    }\n",
       "\n",
       "    .dataframe tbody tr th {\n",
       "        vertical-align: top;\n",
       "    }\n",
       "\n",
       "    .dataframe thead th {\n",
       "        text-align: right;\n",
       "    }\n",
       "</style>\n",
       "<table border=\"1\" class=\"dataframe\">\n",
       "  <thead>\n",
       "    <tr style=\"text-align: right;\">\n",
       "      <th></th>\n",
       "      <th>Title</th>\n",
       "      <th>Label</th>\n",
       "    </tr>\n",
       "  </thead>\n",
       "  <tbody>\n",
       "    <tr>\n",
       "      <th>0</th>\n",
       "      <td>Vice President Director of Systems Engineering</td>\n",
       "      <td>[Vice President]</td>\n",
       "    </tr>\n",
       "    <tr>\n",
       "      <th>1</th>\n",
       "      <td>Systems Engineer Systems Architect</td>\n",
       "      <td>[Individual Contributor/Staff, Manager]</td>\n",
       "    </tr>\n",
       "    <tr>\n",
       "      <th>2</th>\n",
       "      <td>Executive Director Global Informational Techno...</td>\n",
       "      <td>[Chief Officer, Director]</td>\n",
       "    </tr>\n",
       "    <tr>\n",
       "      <th>3</th>\n",
       "      <td>Chief Technology Officer Executive Director of...</td>\n",
       "      <td>[Chief Officer, Director]</td>\n",
       "    </tr>\n",
       "    <tr>\n",
       "      <th>4</th>\n",
       "      <td>Vice President Chief Information Officer</td>\n",
       "      <td>[Vice President]</td>\n",
       "    </tr>\n",
       "  </tbody>\n",
       "</table>\n",
       "</div>"
      ]
     },
     "execution_count": 41,
     "metadata": {},
     "output_type": "execute_result"
    }
   ],
   "execution_count": 41
  },
  {
   "metadata": {},
   "cell_type": "markdown",
   "source": "We do not perform any other preprocessing steps, such as stemming or lemmatization, as the BERT model is designed to understand textual data in context.",
   "id": "f270c4912fed177c"
  },
  {
   "metadata": {},
   "cell_type": "markdown",
   "source": "### Distribution of Labels",
   "id": "28ca90989576bd8a"
  },
  {
   "metadata": {
    "ExecuteTime": {
     "end_time": "2024-10-03T13:11:08.719489Z",
     "start_time": "2024-10-03T13:11:08.660755Z"
    }
   },
   "cell_type": "code",
   "source": [
    "sum_of_labels = job_level_data[\"Label\"].apply(len).value_counts()\n",
    "\n",
    "fig, ax = plt.subplots()\n",
    "plt.bar(sum_of_labels.index, sum_of_labels.values)\n",
    "plt.title('Number of labels per sample')\n",
    "plt.xticks(sum_of_labels.index)  # Ensure x-axis ticks match the sum values\n",
    "\n",
    "plt.show()"
   ],
   "id": "51212d7616d2837e",
   "outputs": [
    {
     "data": {
      "text/plain": [
       "<Figure size 640x480 with 1 Axes>"
      ],
      "image/png": "[encoded data removed]"
     },
     "metadata": {},
     "output_type": "display_data"
    }
   ],
   "execution_count": 42
  },
  {
   "metadata": {},
   "cell_type": "markdown",
   "source": "As the majority of the samples have only one label assigned, it can be concluded that the data is sparse.",
   "id": "93f52a537c3d0d65"
  },
  {
   "metadata": {
    "ExecuteTime": {
     "end_time": "2024-10-03T13:11:08.751959Z",
     "start_time": "2024-10-03T13:11:08.748433Z"
    }
   },
   "cell_type": "code",
   "source": [
    "avg_labels_count_per_sample = job_level_data[\"Label\"].apply(len).mean()\n",
    "avg_labels_count_per_sample"
   ],
   "id": "2f3f1904905f6103",
   "outputs": [
    {
     "data": {
      "text/plain": [
       "np.float64(1.0699551569506727)"
      ]
     },
     "execution_count": 43,
     "metadata": {},
     "output_type": "execute_result"
    }
   ],
   "execution_count": 43
  },
  {
   "metadata": {
    "ExecuteTime": {
     "end_time": "2024-10-03T13:11:08.834479Z",
     "start_time": "2024-10-03T13:11:08.768276Z"
    }
   },
   "cell_type": "code",
   "source": [
    "labels_list = [label for labels_list in job_level_data[\"Label\"] for label in labels_list]\n",
    "labels_count = sorted(Counter(labels_list).items(), key=lambda x: x[1], reverse=True)\n",
    "labels_count_keys, labels_count_values = zip(*labels_count)\n",
    "\n",
    "plt.bar(labels_count_keys, labels_count_values)\n",
    "plt.title('Distribution of position labels')\n",
    "plt.xticks(rotation=90) \n",
    "\n",
    "plt.show()"
   ],
   "id": "2e76574b0095c3b5",
   "outputs": [
    {
     "data": {
      "text/plain": [
       "<Figure size 640x480 with 1 Axes>"
      ],
      "image/png": "[encoded data removed]"
     },
     "metadata": {},
     "output_type": "display_data"
    }
   ],
   "execution_count": 44
  },
  {
   "metadata": {},
   "cell_type": "markdown",
   "source": "It can be observed from the distribution, the data is highly imbalanced, with \"Owner\" label being highly under respresented. This imbalance requires further attention during model training and evaluation.",
   "id": "f4572ca3e330d6c4"
  },
  {
   "metadata": {},
   "cell_type": "markdown",
   "source": "### \"Owner\" Label Exploration",
   "id": "73eea260e2e9a28b"
  },
  {
   "metadata": {
    "ExecuteTime": {
     "end_time": "2024-10-03T13:11:08.854612Z",
     "start_time": "2024-10-03T13:11:08.849493Z"
    }
   },
   "cell_type": "code",
   "source": [
    "owner_label_entries = job_level_data[job_level_data[\"Label\"].apply(lambda labels: \"Owner\" in labels)]\n",
    "owner_label_entries"
   ],
   "id": "57f21de602f0463e",
   "outputs": [
    {
     "data": {
      "text/plain": [
       "                                            Title                   Label\n",
       "22             CoFounder Chief Technology Officer  [Chief Officer, Owner]\n",
       "119            Chief Operating Officer Co Founder  [Chief Officer, Owner]\n",
       "1222  Co Owner Vice President and General Counsel                 [Owner]\n",
       "1933              Founder Chief Operating Officer  [Chief Officer, Owner]"
      ],
      "text/html": [
       "<div>\n",
       "<style scoped>\n",
       "    .dataframe tbody tr th:only-of-type {\n",
       "        vertical-align: middle;\n",
       "    }\n",
       "\n",
       "    .dataframe tbody tr th {\n",
       "        vertical-align: top;\n",
       "    }\n",
       "\n",
       "    .dataframe thead th {\n",
       "        text-align: right;\n",
       "    }\n",
       "</style>\n",
       "<table border=\"1\" class=\"dataframe\">\n",
       "  <thead>\n",
       "    <tr style=\"text-align: right;\">\n",
       "      <th></th>\n",
       "      <th>Title</th>\n",
       "      <th>Label</th>\n",
       "    </tr>\n",
       "  </thead>\n",
       "  <tbody>\n",
       "    <tr>\n",
       "      <th>22</th>\n",
       "      <td>CoFounder Chief Technology Officer</td>\n",
       "      <td>[Chief Officer, Owner]</td>\n",
       "    </tr>\n",
       "    <tr>\n",
       "      <th>119</th>\n",
       "      <td>Chief Operating Officer Co Founder</td>\n",
       "      <td>[Chief Officer, Owner]</td>\n",
       "    </tr>\n",
       "    <tr>\n",
       "      <th>1222</th>\n",
       "      <td>Co Owner Vice President and General Counsel</td>\n",
       "      <td>[Owner]</td>\n",
       "    </tr>\n",
       "    <tr>\n",
       "      <th>1933</th>\n",
       "      <td>Founder Chief Operating Officer</td>\n",
       "      <td>[Chief Officer, Owner]</td>\n",
       "    </tr>\n",
       "  </tbody>\n",
       "</table>\n",
       "</div>"
      ]
     },
     "execution_count": 45,
     "metadata": {},
     "output_type": "execute_result"
    }
   ],
   "execution_count": 45
  },
  {
   "metadata": {},
   "cell_type": "markdown",
   "source": [
    "As can be observed from the data, there is only 4 entries labeled as \"Owner\". This is insufficient for effectively training a machine learning model, especially for creating an adequate train-test split.\n",
    "\n",
    "To address this, we can check if we can assign the \"Owner\" label based on whether the title contains keywords like \"Owner\" or \"Founder\" during the model inference.  "
   ],
   "id": "2f407de6960ae9d6"
  },
  {
   "metadata": {
    "ExecuteTime": {
     "end_time": "2024-10-03T13:11:08.891430Z",
     "start_time": "2024-10-03T13:11:08.885263Z"
    }
   },
   "cell_type": "code",
   "source": "job_level_data[job_level_data[\"Title\"].apply(lambda title: \"Owner\" in title)]",
   "id": "d2e46fbbb2325cad",
   "outputs": [
    {
     "data": {
      "text/plain": [
       "                                                  Title  \\\n",
       "30                                 Owner Data Architect   \n",
       "896   Senior Manager Product Owner Wireless Expansio...   \n",
       "998                          Co Owner Marketing Manager   \n",
       "1054                                     Practice Owner   \n",
       "1222        Co Owner Vice President and General Counsel   \n",
       "1481                     In App Learning Owner Software   \n",
       "1566                         Owner Services Coordinator   \n",
       "1632                                   Owner Franchisee   \n",
       "1828           Senior Software Consultant Product Owner   \n",
       "1847        Product Owner Digital Data and IS Direction   \n",
       "\n",
       "                                    Label  \n",
       "30               [Chief Officer, Manager]  \n",
       "896   [Director, Manager, Vice President]  \n",
       "998              [Chief Officer, Manager]  \n",
       "1054       [Individual Contributor/Staff]  \n",
       "1222                              [Owner]  \n",
       "1481       [Individual Contributor/Staff]  \n",
       "1566       [Individual Contributor/Staff]  \n",
       "1632                      [Chief Officer]  \n",
       "1828       [Individual Contributor/Staff]  \n",
       "1847                            [Manager]  "
      ],
      "text/html": [
       "<div>\n",
       "<style scoped>\n",
       "    .dataframe tbody tr th:only-of-type {\n",
       "        vertical-align: middle;\n",
       "    }\n",
       "\n",
       "    .dataframe tbody tr th {\n",
       "        vertical-align: top;\n",
       "    }\n",
       "\n",
       "    .dataframe thead th {\n",
       "        text-align: right;\n",
       "    }\n",
       "</style>\n",
       "<table border=\"1\" class=\"dataframe\">\n",
       "  <thead>\n",
       "    <tr style=\"text-align: right;\">\n",
       "      <th></th>\n",
       "      <th>Title</th>\n",
       "      <th>Label</th>\n",
       "    </tr>\n",
       "  </thead>\n",
       "  <tbody>\n",
       "    <tr>\n",
       "      <th>30</th>\n",
       "      <td>Owner Data Architect</td>\n",
       "      <td>[Chief Officer, Manager]</td>\n",
       "    </tr>\n",
       "    <tr>\n",
       "      <th>896</th>\n",
       "      <td>Senior Manager Product Owner Wireless Expansio...</td>\n",
       "      <td>[Director, Manager, Vice President]</td>\n",
       "    </tr>\n",
       "    <tr>\n",
       "      <th>998</th>\n",
       "      <td>Co Owner Marketing Manager</td>\n",
       "      <td>[Chief Officer, Manager]</td>\n",
       "    </tr>\n",
       "    <tr>\n",
       "      <th>1054</th>\n",
       "      <td>Practice Owner</td>\n",
       "      <td>[Individual Contributor/Staff]</td>\n",
       "    </tr>\n",
       "    <tr>\n",
       "      <th>1222</th>\n",
       "      <td>Co Owner Vice President and General Counsel</td>\n",
       "      <td>[Owner]</td>\n",
       "    </tr>\n",
       "    <tr>\n",
       "      <th>1481</th>\n",
       "      <td>In App Learning Owner Software</td>\n",
       "      <td>[Individual Contributor/Staff]</td>\n",
       "    </tr>\n",
       "    <tr>\n",
       "      <th>1566</th>\n",
       "      <td>Owner Services Coordinator</td>\n",
       "      <td>[Individual Contributor/Staff]</td>\n",
       "    </tr>\n",
       "    <tr>\n",
       "      <th>1632</th>\n",
       "      <td>Owner Franchisee</td>\n",
       "      <td>[Chief Officer]</td>\n",
       "    </tr>\n",
       "    <tr>\n",
       "      <th>1828</th>\n",
       "      <td>Senior Software Consultant Product Owner</td>\n",
       "      <td>[Individual Contributor/Staff]</td>\n",
       "    </tr>\n",
       "    <tr>\n",
       "      <th>1847</th>\n",
       "      <td>Product Owner Digital Data and IS Direction</td>\n",
       "      <td>[Manager]</td>\n",
       "    </tr>\n",
       "  </tbody>\n",
       "</table>\n",
       "</div>"
      ]
     },
     "execution_count": 46,
     "metadata": {},
     "output_type": "execute_result"
    }
   ],
   "execution_count": 46
  },
  {
   "metadata": {},
   "cell_type": "markdown",
   "source": [
    "Inspecting data above, it was found that not all titles containing the words \"Owner\" or \"Founder\" are labeled as \"Owner.\" This suggests that making a decision to hard-code labelling of this category would be unreliable. \n",
    "\n",
    "In conclusion, the \"Owner\" label may not be predictable given the data currently available. As there are usually only a few owners of the company, it would be better to label the data manually on top of models prediction. Therefore, we will remove the entries with the \"Owner\" label."
   ],
   "id": "d000bad125dcee5f"
  },
  {
   "metadata": {
    "ExecuteTime": {
     "end_time": "2024-10-03T13:11:08.932379Z",
     "start_time": "2024-10-03T13:11:08.930359Z"
    }
   },
   "cell_type": "code",
   "source": "job_level_data.drop(owner_label_entries.index, inplace=True)",
   "id": "1704a61f4df4f256",
   "outputs": [],
   "execution_count": 47
  },
  {
   "metadata": {},
   "cell_type": "markdown",
   "source": [
    "### \"Manager\" Label Exploration\n",
    "The baseline model yields a high number of false negatives for the \"Manager\" label, failing to predict it correctly. Let's explore the data to understand why this is happening ."
   ],
   "id": "36343b6e062dc939"
  },
  {
   "metadata": {
    "ExecuteTime": {
     "end_time": "2024-10-03T13:11:08.975127Z",
     "start_time": "2024-10-03T13:11:08.969770Z"
    }
   },
   "cell_type": "code",
   "source": [
    "manager_label_entries = job_level_data[job_level_data[\"Label\"].apply(lambda labels: \"Manager\" in labels)]\n",
    "manager_label_entries"
   ],
   "id": "f59a05772f5a181e",
   "outputs": [
    {
     "data": {
      "text/plain": [
       "                                                  Title  \\\n",
       "1                    Systems Engineer Systems Architect   \n",
       "14           Lead Software Engineer Technical Team Lead   \n",
       "30                                 Owner Data Architect   \n",
       "32           Chief Executive Officer Solution Architect   \n",
       "34            Cloud Architect DevOps Engineer Tech Lead   \n",
       "...                                                 ...   \n",
       "2234       Solution Architect Technical Account Manager   \n",
       "2235       Net Software Architect and Team Project Lead   \n",
       "2236                 Solutions Architect Technical Lead   \n",
       "2237  Manager Salesforcecom Administration and Relea...   \n",
       "2238                    Innovation Automation Architect   \n",
       "\n",
       "                                        Label  \n",
       "1     [Individual Contributor/Staff, Manager]  \n",
       "14    [Individual Contributor/Staff, Manager]  \n",
       "30                   [Chief Officer, Manager]  \n",
       "32                   [Chief Officer, Manager]  \n",
       "34    [Individual Contributor/Staff, Manager]  \n",
       "...                                       ...  \n",
       "2234                                [Manager]  \n",
       "2235                                [Manager]  \n",
       "2236  [Individual Contributor/Staff, Manager]  \n",
       "2237                                [Manager]  \n",
       "2238                                [Manager]  \n",
       "\n",
       "[211 rows x 2 columns]"
      ],
      "text/html": [
       "<div>\n",
       "<style scoped>\n",
       "    .dataframe tbody tr th:only-of-type {\n",
       "        vertical-align: middle;\n",
       "    }\n",
       "\n",
       "    .dataframe tbody tr th {\n",
       "        vertical-align: top;\n",
       "    }\n",
       "\n",
       "    .dataframe thead th {\n",
       "        text-align: right;\n",
       "    }\n",
       "</style>\n",
       "<table border=\"1\" class=\"dataframe\">\n",
       "  <thead>\n",
       "    <tr style=\"text-align: right;\">\n",
       "      <th></th>\n",
       "      <th>Title</th>\n",
       "      <th>Label</th>\n",
       "    </tr>\n",
       "  </thead>\n",
       "  <tbody>\n",
       "    <tr>\n",
       "      <th>1</th>\n",
       "      <td>Systems Engineer Systems Architect</td>\n",
       "      <td>[Individual Contributor/Staff, Manager]</td>\n",
       "    </tr>\n",
       "    <tr>\n",
       "      <th>14</th>\n",
       "      <td>Lead Software Engineer Technical Team Lead</td>\n",
       "      <td>[Individual Contributor/Staff, Manager]</td>\n",
       "    </tr>\n",
       "    <tr>\n",
       "      <th>30</th>\n",
       "      <td>Owner Data Architect</td>\n",
       "      <td>[Chief Officer, Manager]</td>\n",
       "    </tr>\n",
       "    <tr>\n",
       "      <th>32</th>\n",
       "      <td>Chief Executive Officer Solution Architect</td>\n",
       "      <td>[Chief Officer, Manager]</td>\n",
       "    </tr>\n",
       "    <tr>\n",
       "      <th>34</th>\n",
       "      <td>Cloud Architect DevOps Engineer Tech Lead</td>\n",
       "      <td>[Individual Contributor/Staff, Manager]</td>\n",
       "    </tr>\n",
       "    <tr>\n",
       "      <th>...</th>\n",
       "      <td>...</td>\n",
       "      <td>...</td>\n",
       "    </tr>\n",
       "    <tr>\n",
       "      <th>2234</th>\n",
       "      <td>Solution Architect Technical Account Manager</td>\n",
       "      <td>[Manager]</td>\n",
       "    </tr>\n",
       "    <tr>\n",
       "      <th>2235</th>\n",
       "      <td>Net Software Architect and Team Project Lead</td>\n",
       "      <td>[Manager]</td>\n",
       "    </tr>\n",
       "    <tr>\n",
       "      <th>2236</th>\n",
       "      <td>Solutions Architect Technical Lead</td>\n",
       "      <td>[Individual Contributor/Staff, Manager]</td>\n",
       "    </tr>\n",
       "    <tr>\n",
       "      <th>2237</th>\n",
       "      <td>Manager Salesforcecom Administration and Relea...</td>\n",
       "      <td>[Manager]</td>\n",
       "    </tr>\n",
       "    <tr>\n",
       "      <th>2238</th>\n",
       "      <td>Innovation Automation Architect</td>\n",
       "      <td>[Manager]</td>\n",
       "    </tr>\n",
       "  </tbody>\n",
       "</table>\n",
       "<p>211 rows × 2 columns</p>\n",
       "</div>"
      ]
     },
     "execution_count": 48,
     "metadata": {},
     "output_type": "execute_result"
    }
   ],
   "execution_count": 48
  },
  {
   "metadata": {},
   "cell_type": "markdown",
   "source": [
    "### \"Chief Officer\" Label Exploration\n",
    "The baseline model yields a high number of false negatives for the \"Chief Officer\" label, failing to predict it correctly. Let's explore the data to understand why this is happening."
   ],
   "id": "d625798786239fbe"
  },
  {
   "metadata": {
    "ExecuteTime": {
     "end_time": "2024-10-03T13:11:09.030290Z",
     "start_time": "2024-10-03T13:11:09.024794Z"
    }
   },
   "cell_type": "code",
   "source": [
    "manager_label_entries = job_level_data[job_level_data[\"Label\"].apply(lambda labels: \"Chief Officer\" in labels)]\n",
    "manager_label_entries.sample(10)"
   ],
   "id": "7743e6ac502d66fc",
   "outputs": [
    {
     "data": {
      "text/plain": [
       "                                                  Title  \\\n",
       "49    Chief Information Officer Head of Product Engi...   \n",
       "112   Corporate Informational Technology Director Ch...   \n",
       "26    Founder Chief Executive Officer and Chief Tech...   \n",
       "984     Chief Marketing Digital I D and Quality Officer   \n",
       "59    Vice President of Information Technology Chief...   \n",
       "53              Chief Technology Officer Head of Search   \n",
       "985   Chief Information Officer Ocio and Information...   \n",
       "453   Chief Product Officer Product Eng Technology Data   \n",
       "1991  Chief Sales Officer Consumer Grade UX Applicat...   \n",
       "529            Co President and Chief Operating Officer   \n",
       "\n",
       "                          Label  \n",
       "49              [Chief Officer]  \n",
       "112   [Chief Officer, Director]  \n",
       "26              [Chief Officer]  \n",
       "984             [Chief Officer]  \n",
       "59              [Chief Officer]  \n",
       "53    [Chief Officer, Director]  \n",
       "985             [Chief Officer]  \n",
       "453             [Chief Officer]  \n",
       "1991            [Chief Officer]  \n",
       "529             [Chief Officer]  "
      ],
      "text/html": [
       "<div>\n",
       "<style scoped>\n",
       "    .dataframe tbody tr th:only-of-type {\n",
       "        vertical-align: middle;\n",
       "    }\n",
       "\n",
       "    .dataframe tbody tr th {\n",
       "        vertical-align: top;\n",
       "    }\n",
       "\n",
       "    .dataframe thead th {\n",
       "        text-align: right;\n",
       "    }\n",
       "</style>\n",
       "<table border=\"1\" class=\"dataframe\">\n",
       "  <thead>\n",
       "    <tr style=\"text-align: right;\">\n",
       "      <th></th>\n",
       "      <th>Title</th>\n",
       "      <th>Label</th>\n",
       "    </tr>\n",
       "  </thead>\n",
       "  <tbody>\n",
       "    <tr>\n",
       "      <th>49</th>\n",
       "      <td>Chief Information Officer Head of Product Engi...</td>\n",
       "      <td>[Chief Officer]</td>\n",
       "    </tr>\n",
       "    <tr>\n",
       "      <th>112</th>\n",
       "      <td>Corporate Informational Technology Director Ch...</td>\n",
       "      <td>[Chief Officer, Director]</td>\n",
       "    </tr>\n",
       "    <tr>\n",
       "      <th>26</th>\n",
       "      <td>Founder Chief Executive Officer and Chief Tech...</td>\n",
       "      <td>[Chief Officer]</td>\n",
       "    </tr>\n",
       "    <tr>\n",
       "      <th>984</th>\n",
       "      <td>Chief Marketing Digital I D and Quality Officer</td>\n",
       "      <td>[Chief Officer]</td>\n",
       "    </tr>\n",
       "    <tr>\n",
       "      <th>59</th>\n",
       "      <td>Vice President of Information Technology Chief...</td>\n",
       "      <td>[Chief Officer]</td>\n",
       "    </tr>\n",
       "    <tr>\n",
       "      <th>53</th>\n",
       "      <td>Chief Technology Officer Head of Search</td>\n",
       "      <td>[Chief Officer, Director]</td>\n",
       "    </tr>\n",
       "    <tr>\n",
       "      <th>985</th>\n",
       "      <td>Chief Information Officer Ocio and Information...</td>\n",
       "      <td>[Chief Officer]</td>\n",
       "    </tr>\n",
       "    <tr>\n",
       "      <th>453</th>\n",
       "      <td>Chief Product Officer Product Eng Technology Data</td>\n",
       "      <td>[Chief Officer]</td>\n",
       "    </tr>\n",
       "    <tr>\n",
       "      <th>1991</th>\n",
       "      <td>Chief Sales Officer Consumer Grade UX Applicat...</td>\n",
       "      <td>[Chief Officer]</td>\n",
       "    </tr>\n",
       "    <tr>\n",
       "      <th>529</th>\n",
       "      <td>Co President and Chief Operating Officer</td>\n",
       "      <td>[Chief Officer]</td>\n",
       "    </tr>\n",
       "  </tbody>\n",
       "</table>\n",
       "</div>"
      ]
     },
     "execution_count": 49,
     "metadata": {},
     "output_type": "execute_result"
    }
   ],
   "execution_count": 49
  },
  {
   "metadata": {},
   "cell_type": "markdown",
   "source": "The data shows that titles that contain \"Chief\"/\"Chief Officer\" word are not always labeled as \"Chief Officer\", minimising the difference in data between the classes. ",
   "id": "364f82a217a3c246"
  },
  {
   "metadata": {
    "ExecuteTime": {
     "end_time": "2024-10-03T13:11:09.082540Z",
     "start_time": "2024-10-03T13:11:09.076047Z"
    }
   },
   "cell_type": "code",
   "source": [
    "filtered_data = job_level_data[\n",
    "    job_level_data[\"Title\"].str.contains(\"Chief\") & \n",
    "    ~job_level_data[\"Label\"].apply(lambda labels: \"Chief Officer\" in labels)\n",
    "]\n",
    "\n",
    "selected_rows = job_level_data.loc[filtered_data.index]\n",
    "selected_rows.head()"
   ],
   "id": "60342f04a9ea3540",
   "outputs": [
    {
     "data": {
      "text/plain": [
       "                                                Title             Label\n",
       "4            Vice President Chief Information Officer  [Vice President]\n",
       "12  Chief Information Officer and Senior Vice Pres...  [Vice President]\n",
       "16  Vice President of Information Technology and C...  [Vice President]\n",
       "18                          Chief Informatics Officer  [Vice President]\n",
       "56  General Manager Technology Chief Information O...  [Vice President]"
      ],
      "text/html": [
       "<div>\n",
       "<style scoped>\n",
       "    .dataframe tbody tr th:only-of-type {\n",
       "        vertical-align: middle;\n",
       "    }\n",
       "\n",
       "    .dataframe tbody tr th {\n",
       "        vertical-align: top;\n",
       "    }\n",
       "\n",
       "    .dataframe thead th {\n",
       "        text-align: right;\n",
       "    }\n",
       "</style>\n",
       "<table border=\"1\" class=\"dataframe\">\n",
       "  <thead>\n",
       "    <tr style=\"text-align: right;\">\n",
       "      <th></th>\n",
       "      <th>Title</th>\n",
       "      <th>Label</th>\n",
       "    </tr>\n",
       "  </thead>\n",
       "  <tbody>\n",
       "    <tr>\n",
       "      <th>4</th>\n",
       "      <td>Vice President Chief Information Officer</td>\n",
       "      <td>[Vice President]</td>\n",
       "    </tr>\n",
       "    <tr>\n",
       "      <th>12</th>\n",
       "      <td>Chief Information Officer and Senior Vice Pres...</td>\n",
       "      <td>[Vice President]</td>\n",
       "    </tr>\n",
       "    <tr>\n",
       "      <th>16</th>\n",
       "      <td>Vice President of Information Technology and C...</td>\n",
       "      <td>[Vice President]</td>\n",
       "    </tr>\n",
       "    <tr>\n",
       "      <th>18</th>\n",
       "      <td>Chief Informatics Officer</td>\n",
       "      <td>[Vice President]</td>\n",
       "    </tr>\n",
       "    <tr>\n",
       "      <th>56</th>\n",
       "      <td>General Manager Technology Chief Information O...</td>\n",
       "      <td>[Vice President]</td>\n",
       "    </tr>\n",
       "  </tbody>\n",
       "</table>\n",
       "</div>"
      ]
     },
     "execution_count": 50,
     "metadata": {},
     "output_type": "execute_result"
    }
   ],
   "execution_count": 50
  },
  {
   "metadata": {},
   "cell_type": "markdown",
   "source": "### Label One-Hot Encoding",
   "id": "10caf116e07d0aac"
  },
  {
   "metadata": {
    "ExecuteTime": {
     "end_time": "2024-10-03T13:11:09.139616Z",
     "start_time": "2024-10-03T13:11:09.133287Z"
    }
   },
   "cell_type": "code",
   "source": [
    "mlb = MultiLabelBinarizer()\n",
    "one_hot_encoded_labels = mlb.fit_transform(job_level_data[\"Label\"])\n",
    "one_hot_df = pd.DataFrame(one_hot_encoded_labels, columns=mlb.classes_)\n",
    "job_level_data[\"Label\"] = one_hot_df.values.tolist()\n",
    "\n",
    "classes_labels = mlb.classes_\n",
    "print(classes_labels)\n",
    "\n",
    "job_level_data"
   ],
   "id": "dd64c4f3ef11b3a6",
   "outputs": [
    {
     "name": "stdout",
     "output_type": "stream",
     "text": [
      "['Chief Officer' 'Director' 'Individual Contributor/Staff' 'Manager'\n",
      " 'Vice President']\n"
     ]
    },
    {
     "data": {
      "text/plain": [
       "                                                  Title            Label\n",
       "0        Vice President Director of Systems Engineering  [0, 0, 0, 0, 1]\n",
       "1                    Systems Engineer Systems Architect  [0, 0, 1, 1, 0]\n",
       "2     Executive Director Global Informational Techno...  [1, 1, 0, 0, 0]\n",
       "3     Chief Technology Officer Executive Director of...  [1, 1, 0, 0, 0]\n",
       "4              Vice President Chief Information Officer  [0, 0, 0, 0, 1]\n",
       "...                                                 ...              ...\n",
       "2235       Net Software Architect and Team Project Lead  [0, 0, 0, 1, 0]\n",
       "2236                 Solutions Architect Technical Lead  [0, 0, 1, 1, 0]\n",
       "2237  Manager Salesforcecom Administration and Relea...  [0, 0, 0, 1, 0]\n",
       "2238                    Innovation Automation Architect  [0, 0, 0, 1, 0]\n",
       "2239       Founder and Chief Executive Officer Kindbody  [1, 0, 0, 0, 0]\n",
       "\n",
       "[2226 rows x 2 columns]"
      ],
      "text/html": [
       "<div>\n",
       "<style scoped>\n",
       "    .dataframe tbody tr th:only-of-type {\n",
       "        vertical-align: middle;\n",
       "    }\n",
       "\n",
       "    .dataframe tbody tr th {\n",
       "        vertical-align: top;\n",
       "    }\n",
       "\n",
       "    .dataframe thead th {\n",
       "        text-align: right;\n",
       "    }\n",
       "</style>\n",
       "<table border=\"1\" class=\"dataframe\">\n",
       "  <thead>\n",
       "    <tr style=\"text-align: right;\">\n",
       "      <th></th>\n",
       "      <th>Title</th>\n",
       "      <th>Label</th>\n",
       "    </tr>\n",
       "  </thead>\n",
       "  <tbody>\n",
       "    <tr>\n",
       "      <th>0</th>\n",
       "      <td>Vice President Director of Systems Engineering</td>\n",
       "      <td>[0, 0, 0, 0, 1]</td>\n",
       "    </tr>\n",
       "    <tr>\n",
       "      <th>1</th>\n",
       "      <td>Systems Engineer Systems Architect</td>\n",
       "      <td>[0, 0, 1, 1, 0]</td>\n",
       "    </tr>\n",
       "    <tr>\n",
       "      <th>2</th>\n",
       "      <td>Executive Director Global Informational Techno...</td>\n",
       "      <td>[1, 1, 0, 0, 0]</td>\n",
       "    </tr>\n",
       "    <tr>\n",
       "      <th>3</th>\n",
       "      <td>Chief Technology Officer Executive Director of...</td>\n",
       "      <td>[1, 1, 0, 0, 0]</td>\n",
       "    </tr>\n",
       "    <tr>\n",
       "      <th>4</th>\n",
       "      <td>Vice President Chief Information Officer</td>\n",
       "      <td>[0, 0, 0, 0, 1]</td>\n",
       "    </tr>\n",
       "    <tr>\n",
       "      <th>...</th>\n",
       "      <td>...</td>\n",
       "      <td>...</td>\n",
       "    </tr>\n",
       "    <tr>\n",
       "      <th>2235</th>\n",
       "      <td>Net Software Architect and Team Project Lead</td>\n",
       "      <td>[0, 0, 0, 1, 0]</td>\n",
       "    </tr>\n",
       "    <tr>\n",
       "      <th>2236</th>\n",
       "      <td>Solutions Architect Technical Lead</td>\n",
       "      <td>[0, 0, 1, 1, 0]</td>\n",
       "    </tr>\n",
       "    <tr>\n",
       "      <th>2237</th>\n",
       "      <td>Manager Salesforcecom Administration and Relea...</td>\n",
       "      <td>[0, 0, 0, 1, 0]</td>\n",
       "    </tr>\n",
       "    <tr>\n",
       "      <th>2238</th>\n",
       "      <td>Innovation Automation Architect</td>\n",
       "      <td>[0, 0, 0, 1, 0]</td>\n",
       "    </tr>\n",
       "    <tr>\n",
       "      <th>2239</th>\n",
       "      <td>Founder and Chief Executive Officer Kindbody</td>\n",
       "      <td>[1, 0, 0, 0, 0]</td>\n",
       "    </tr>\n",
       "  </tbody>\n",
       "</table>\n",
       "<p>2226 rows × 2 columns</p>\n",
       "</div>"
      ]
     },
     "execution_count": 51,
     "metadata": {},
     "output_type": "execute_result"
    }
   ],
   "execution_count": 51
  },
  {
   "metadata": {
    "ExecuteTime": {
     "end_time": "2024-10-03T13:11:09.218781Z",
     "start_time": "2024-10-03T13:11:09.213259Z"
    }
   },
   "cell_type": "code",
   "source": "one_hot_df",
   "id": "f908e7f9e5b7c5d8",
   "outputs": [
    {
     "data": {
      "text/plain": [
       "      Chief Officer  Director  Individual Contributor/Staff  Manager  \\\n",
       "0                 0         0                             0        0   \n",
       "1                 0         0                             1        1   \n",
       "2                 1         1                             0        0   \n",
       "3                 1         1                             0        0   \n",
       "4                 0         0                             0        0   \n",
       "...             ...       ...                           ...      ...   \n",
       "2221              0         0                             0        1   \n",
       "2222              0         0                             1        1   \n",
       "2223              0         0                             0        1   \n",
       "2224              0         0                             0        1   \n",
       "2225              1         0                             0        0   \n",
       "\n",
       "      Vice President  \n",
       "0                  1  \n",
       "1                  0  \n",
       "2                  0  \n",
       "3                  0  \n",
       "4                  1  \n",
       "...              ...  \n",
       "2221               0  \n",
       "2222               0  \n",
       "2223               0  \n",
       "2224               0  \n",
       "2225               0  \n",
       "\n",
       "[2226 rows x 5 columns]"
      ],
      "text/html": [
       "<div>\n",
       "<style scoped>\n",
       "    .dataframe tbody tr th:only-of-type {\n",
       "        vertical-align: middle;\n",
       "    }\n",
       "\n",
       "    .dataframe tbody tr th {\n",
       "        vertical-align: top;\n",
       "    }\n",
       "\n",
       "    .dataframe thead th {\n",
       "        text-align: right;\n",
       "    }\n",
       "</style>\n",
       "<table border=\"1\" class=\"dataframe\">\n",
       "  <thead>\n",
       "    <tr style=\"text-align: right;\">\n",
       "      <th></th>\n",
       "      <th>Chief Officer</th>\n",
       "      <th>Director</th>\n",
       "      <th>Individual Contributor/Staff</th>\n",
       "      <th>Manager</th>\n",
       "      <th>Vice President</th>\n",
       "    </tr>\n",
       "  </thead>\n",
       "  <tbody>\n",
       "    <tr>\n",
       "      <th>0</th>\n",
       "      <td>0</td>\n",
       "      <td>0</td>\n",
       "      <td>0</td>\n",
       "      <td>0</td>\n",
       "      <td>1</td>\n",
       "    </tr>\n",
       "    <tr>\n",
       "      <th>1</th>\n",
       "      <td>0</td>\n",
       "      <td>0</td>\n",
       "      <td>1</td>\n",
       "      <td>1</td>\n",
       "      <td>0</td>\n",
       "    </tr>\n",
       "    <tr>\n",
       "      <th>2</th>\n",
       "      <td>1</td>\n",
       "      <td>1</td>\n",
       "      <td>0</td>\n",
       "      <td>0</td>\n",
       "      <td>0</td>\n",
       "    </tr>\n",
       "    <tr>\n",
       "      <th>3</th>\n",
       "      <td>1</td>\n",
       "      <td>1</td>\n",
       "      <td>0</td>\n",
       "      <td>0</td>\n",
       "      <td>0</td>\n",
       "    </tr>\n",
       "    <tr>\n",
       "      <th>4</th>\n",
       "      <td>0</td>\n",
       "      <td>0</td>\n",
       "      <td>0</td>\n",
       "      <td>0</td>\n",
       "      <td>1</td>\n",
       "    </tr>\n",
       "    <tr>\n",
       "      <th>...</th>\n",
       "      <td>...</td>\n",
       "      <td>...</td>\n",
       "      <td>...</td>\n",
       "      <td>...</td>\n",
       "      <td>...</td>\n",
       "    </tr>\n",
       "    <tr>\n",
       "      <th>2221</th>\n",
       "      <td>0</td>\n",
       "      <td>0</td>\n",
       "      <td>0</td>\n",
       "      <td>1</td>\n",
       "      <td>0</td>\n",
       "    </tr>\n",
       "    <tr>\n",
       "      <th>2222</th>\n",
       "      <td>0</td>\n",
       "      <td>0</td>\n",
       "      <td>1</td>\n",
       "      <td>1</td>\n",
       "      <td>0</td>\n",
       "    </tr>\n",
       "    <tr>\n",
       "      <th>2223</th>\n",
       "      <td>0</td>\n",
       "      <td>0</td>\n",
       "      <td>0</td>\n",
       "      <td>1</td>\n",
       "      <td>0</td>\n",
       "    </tr>\n",
       "    <tr>\n",
       "      <th>2224</th>\n",
       "      <td>0</td>\n",
       "      <td>0</td>\n",
       "      <td>0</td>\n",
       "      <td>1</td>\n",
       "      <td>0</td>\n",
       "    </tr>\n",
       "    <tr>\n",
       "      <th>2225</th>\n",
       "      <td>1</td>\n",
       "      <td>0</td>\n",
       "      <td>0</td>\n",
       "      <td>0</td>\n",
       "      <td>0</td>\n",
       "    </tr>\n",
       "  </tbody>\n",
       "</table>\n",
       "<p>2226 rows × 5 columns</p>\n",
       "</div>"
      ]
     },
     "execution_count": 52,
     "metadata": {},
     "output_type": "execute_result"
    }
   ],
   "execution_count": 52
  },
  {
   "metadata": {
    "ExecuteTime": {
     "end_time": "2024-10-03T13:11:09.285788Z",
     "start_time": "2024-10-03T13:11:09.283217Z"
    }
   },
   "cell_type": "code",
   "source": [
    "# update labels list and count for further usage\n",
    "labels_count = one_hot_df.sum()\n",
    "labels_count = labels_count.to_dict()\n",
    "labels_count"
   ],
   "id": "ff7c98d478d149c6",
   "outputs": [
    {
     "data": {
      "text/plain": [
       "{'Chief Officer': 163,\n",
       " 'Director': 497,\n",
       " 'Individual Contributor/Staff': 1105,\n",
       " 'Manager': 211,\n",
       " 'Vice President': 403}"
      ]
     },
     "execution_count": 53,
     "metadata": {},
     "output_type": "execute_result"
    }
   ],
   "execution_count": 53
  },
  {
   "metadata": {},
   "cell_type": "markdown",
   "source": [
    "### Correlation Matrix\n",
    "The following observations can be made from the correlation matrix:\n",
    "- **Mostly negative or zero correlations**. This indicates that most roles do not overlap and positions tend to be rather mutually exclusive.\n",
    "- **Clear Hierarchy**. There is a noticeable negative correlation between lower-level roles such as \"Individual Contributor/Staff\" and higher-level positions like \"Director\"(-0.5), \"Vice President\"(-0.44) and Chief Officer(-0.27). This makes sense because it is unlikely for someone to be classified as both an individual contributor and a senior executive at the same time. "
   ],
   "id": "f8ac36942d9fd2f1"
  },
  {
   "metadata": {
    "ExecuteTime": {
     "end_time": "2024-10-03T13:11:09.474505Z",
     "start_time": "2024-10-03T13:11:09.356593Z"
    }
   },
   "cell_type": "code",
   "source": [
    "correlation_matrix = one_hot_df.corr()\n",
    "\n",
    "plt.figure(figsize=(10, 8))\n",
    "sns.heatmap(correlation_matrix, annot=True, cmap='Blues', fmt='.2f', vmin=-1, vmax=1)\n",
    "plt.title('Correlation Matrix of Labels')\n",
    "plt.show()"
   ],
   "id": "663d499fc70f4ef2",
   "outputs": [
    {
     "data": {
      "text/plain": [
       "<Figure size 1000x800 with 2 Axes>"
      ],
      "image/png": "[encoded data removed]"
     },
     "metadata": {},
     "output_type": "display_data"
    }
   ],
   "execution_count": 54
  },
  {
   "metadata": {},
   "cell_type": "markdown",
   "source": [
    "### Tokenization\n",
    "Uncased BERT model will be used to tokenize the data (wordpiece algorithm). The uncased model was chosen as it is avaliable in a smaller size, which is more suitable for this task."
   ],
   "id": "9fe6668042b238ff"
  },
  {
   "metadata": {
    "ExecuteTime": {
     "end_time": "2024-10-03T13:11:09.858091Z",
     "start_time": "2024-10-03T13:11:09.481076Z"
    }
   },
   "cell_type": "code",
   "source": "tokenizer = BertTokenizer.from_pretrained('google/bert_uncased_L-6_H-256_A-4')",
   "id": "b12a8710000294ad",
   "outputs": [],
   "execution_count": 55
  },
  {
   "metadata": {
    "ExecuteTime": {
     "end_time": "2024-10-03T13:11:10.011853Z",
     "start_time": "2024-10-03T13:11:09.875252Z"
    }
   },
   "cell_type": "code",
   "source": [
    "def split_text(text):\n",
    "    text = text.lower()\n",
    "    return tokenizer.tokenize(text)\n",
    "\n",
    "max_len = job_level_data[\"Title\"].apply(split_text).apply(len).max()\n",
    "print(\"Maximum lengths of tokenized sentence: \", max_len)"
   ],
   "id": "78c78d62eefd6e55",
   "outputs": [
    {
     "name": "stdout",
     "output_type": "stream",
     "text": [
      "Maximum lengths of tokenized sentence:  19\n"
     ]
    }
   ],
   "execution_count": 56
  },
  {
   "metadata": {},
   "cell_type": "markdown",
   "source": "## Save The Preprocessed Data",
   "id": "26aaf0f5c5b22f1f"
  },
  {
   "metadata": {
    "ExecuteTime": {
     "end_time": "2024-10-03T13:11:10.089843Z",
     "start_time": "2024-10-03T13:11:10.082779Z"
    }
   },
   "cell_type": "code",
   "source": " job_level_data.to_csv(\"../data/JobLevelData_preproc.csv\", index=False)",
   "id": "88c5b2f3a73eedf7",
   "outputs": [],
   "execution_count": 57
  }
 ],
 "metadata": {
  "kernelspec": {
   "display_name": "Python 3",
   "language": "python",
   "name": "python3"
  },
  "language_info": {
   "codemirror_mode": {
    "name": "ipython",
    "version": 2
   },
   "file_extension": ".py",
   "mimetype": "text/x-python",
   "name": "python",
   "nbconvert_exporter": "python",
   "pygments_lexer": "ipython2",
   "version": "2.7.6"
  }
 },
 "nbformat": 4,
 "nbformat_minor": 5
}
