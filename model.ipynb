{
 "cells": [
  {
   "metadata": {
    "ExecuteTime": {
     "end_time": "2024-09-30T17:15:35.612057Z",
     "start_time": "2024-09-30T17:15:35.607249Z"
    }
   },
   "cell_type": "code",
   "source": [
    "import pandas as pd\n",
    "from collections import Counter\n",
    "import matplotlib.pyplot as plt\n",
    "from transformers import BertTokenizer, BertModel\n",
    "from sklearn.model_selection import train_test_split\n",
    "from sklearn.preprocessing import MultiLabelBinarizer\n",
    "from sklearn.metrics import accuracy_score, f1_score, multilabel_confusion_matrix\n",
    "import seaborn as sns\n",
    "\n",
    "import torch\n",
    "import torch.nn as nn\n",
    "from torch.utils.data import Dataset\n",
    "from torch.utils.data import DataLoader\n",
    "\n",
    "import numpy as np"
   ],
   "id": "198fb30a93ad8f07",
   "outputs": [],
   "execution_count": 387
  },
  {
   "metadata": {
    "ExecuteTime": {
     "end_time": "2024-09-30T16:55:24.145718Z",
     "start_time": "2024-09-30T16:55:24.141615Z"
    }
   },
   "cell_type": "code",
   "source": [
    "device = (\n",
    "    \"cuda\"\n",
    "    if torch.cuda.is_available()\n",
    "    else \"mps\"\n",
    "    if torch.backends.mps.is_available()\n",
    "    else \"cpu\"\n",
    ")\n",
    "print(f\"Using {device} device\")"
   ],
   "id": "cca6ac6f55888475",
   "outputs": [
    {
     "name": "stdout",
     "output_type": "stream",
     "text": [
      "Using mps device\n"
     ]
    }
   ],
   "execution_count": 357
  },
  {
   "metadata": {},
   "cell_type": "markdown",
   "source": [
    "# EDA\n",
    "### Import Data"
   ],
   "id": "828d534ecaf6a91a"
  },
  {
   "metadata": {
    "ExecuteTime": {
     "end_time": "2024-09-30T16:55:24.248336Z",
     "start_time": "2024-09-30T16:55:24.177001Z"
    }
   },
   "cell_type": "code",
   "source": [
    "job_level_data = pd.read_excel(\"data/JobLevelData.xlsx\")\n",
    "job_level_data.head()"
   ],
   "id": "3032b53ca5872bad",
   "outputs": [
    {
     "data": {
      "text/plain": [
       "                                               Title        Column 1  \\\n",
       "0   Vice President / Director of Systems Engineering  Vice President   \n",
       "1                Systems Engineer; Systems Architect         Manager   \n",
       "2  Executive Director, Global IT Infrastructure /...        Director   \n",
       "3      CTO/Executive Director of Technology Services        Director   \n",
       "4                                Vice President, CIO  Vice President   \n",
       "\n",
       "                       Column 2 Column 3 Column 4  \n",
       "0                           NaN      NaN      NaN  \n",
       "1  Individual Contributor/Staff      NaN      NaN  \n",
       "2                 Chief Officer      NaN      NaN  \n",
       "3                 Chief Officer      NaN      NaN  \n",
       "4                           NaN      NaN      NaN  "
      ],
      "text/html": [
       "<div>\n",
       "<style scoped>\n",
       "    .dataframe tbody tr th:only-of-type {\n",
       "        vertical-align: middle;\n",
       "    }\n",
       "\n",
       "    .dataframe tbody tr th {\n",
       "        vertical-align: top;\n",
       "    }\n",
       "\n",
       "    .dataframe thead th {\n",
       "        text-align: right;\n",
       "    }\n",
       "</style>\n",
       "<table border=\"1\" class=\"dataframe\">\n",
       "  <thead>\n",
       "    <tr style=\"text-align: right;\">\n",
       "      <th></th>\n",
       "      <th>Title</th>\n",
       "      <th>Column 1</th>\n",
       "      <th>Column 2</th>\n",
       "      <th>Column 3</th>\n",
       "      <th>Column 4</th>\n",
       "    </tr>\n",
       "  </thead>\n",
       "  <tbody>\n",
       "    <tr>\n",
       "      <th>0</th>\n",
       "      <td>Vice President / Director of Systems Engineering</td>\n",
       "      <td>Vice President</td>\n",
       "      <td>NaN</td>\n",
       "      <td>NaN</td>\n",
       "      <td>NaN</td>\n",
       "    </tr>\n",
       "    <tr>\n",
       "      <th>1</th>\n",
       "      <td>Systems Engineer; Systems Architect</td>\n",
       "      <td>Manager</td>\n",
       "      <td>Individual Contributor/Staff</td>\n",
       "      <td>NaN</td>\n",
       "      <td>NaN</td>\n",
       "    </tr>\n",
       "    <tr>\n",
       "      <th>2</th>\n",
       "      <td>Executive Director, Global IT Infrastructure /...</td>\n",
       "      <td>Director</td>\n",
       "      <td>Chief Officer</td>\n",
       "      <td>NaN</td>\n",
       "      <td>NaN</td>\n",
       "    </tr>\n",
       "    <tr>\n",
       "      <th>3</th>\n",
       "      <td>CTO/Executive Director of Technology Services</td>\n",
       "      <td>Director</td>\n",
       "      <td>Chief Officer</td>\n",
       "      <td>NaN</td>\n",
       "      <td>NaN</td>\n",
       "    </tr>\n",
       "    <tr>\n",
       "      <th>4</th>\n",
       "      <td>Vice President, CIO</td>\n",
       "      <td>Vice President</td>\n",
       "      <td>NaN</td>\n",
       "      <td>NaN</td>\n",
       "      <td>NaN</td>\n",
       "    </tr>\n",
       "  </tbody>\n",
       "</table>\n",
       "</div>"
      ]
     },
     "execution_count": 358,
     "metadata": {},
     "output_type": "execute_result"
    }
   ],
   "execution_count": 358
  },
  {
   "metadata": {},
   "cell_type": "markdown",
   "source": "### Check for Rows with all NaNs",
   "id": "62692bfb5c9e59d3"
  },
  {
   "metadata": {},
   "cell_type": "markdown",
   "source": [
    "Let's check for the rows, where all target columns are NaN, meaning that there is no label assigned to the position title. \n",
    "\n",
    "There is only 10 rows which are not labeled, which comprise only 0.4% of the data. There is several actions that could be taken:\n",
    "\n",
    "- Label the data manually or ask data providers to label the data. As there is only 10 entries, the option to ask the client to label this 10 entries is preferable. However, due to the nature of the task, we do not have an access to the communication with the client and we also can't label them because we do not have enough knowledge in the client's data context.  \n",
    "- Impute the data. There are several possible variants of imputation: \n",
    "\n",
    "    -  Fill with default values, such as \"Unknown\". This is a bad approach as this will introduce an additional class and confuse the model rather than provide valuable data.\n",
    "    - \n",
    "- Remove the rows with missing data."
   ],
   "id": "78c9df9b3d446838"
  },
  {
   "metadata": {
    "ExecuteTime": {
     "end_time": "2024-09-30T16:55:24.289691Z",
     "start_time": "2024-09-30T16:55:24.282252Z"
    }
   },
   "cell_type": "code",
   "source": [
    "nan_rows = job_level_data[job_level_data.drop(columns=['Title']).isna().all(axis=1)]\n",
    "print(f\"Percentage of not labeled data: {len(nan_rows) / len(job_level_data) * 100}\")\n",
    "nan_rows"
   ],
   "id": "3b10e7a9fe4bfd19",
   "outputs": [
    {
     "name": "stdout",
     "output_type": "stream",
     "text": [
      "Percentage of not labeled data: 0.4464285714285714\n"
     ]
    },
    {
     "data": {
      "text/plain": [
       "                                                  Title Column 1 Column 2  \\\n",
       "29                                                 CINO      NaN      NaN   \n",
       "341                                Ticari Subesi Muduru      NaN      NaN   \n",
       "511   Governor, Chair of Board Risk and Audit Commit...      NaN      NaN   \n",
       "764          Former Director, Compensation and Benefits      NaN      NaN   \n",
       "829                      Release of Information Tech II      NaN      NaN   \n",
       "1257                  Shareholder, Chair of Tax Section      NaN      NaN   \n",
       "1406  Global People Systems, Processes and Informati...      NaN      NaN   \n",
       "1713                          Supplier Quality Engineer      NaN      NaN   \n",
       "1785  RC Environmental and Cyber Specialized Subscri...      NaN      NaN   \n",
       "2182  Senior Independedirector and Chair of the Cust...      NaN      NaN   \n",
       "\n",
       "     Column 3 Column 4  \n",
       "29        NaN      NaN  \n",
       "341       NaN      NaN  \n",
       "511       NaN      NaN  \n",
       "764       NaN      NaN  \n",
       "829       NaN      NaN  \n",
       "1257      NaN      NaN  \n",
       "1406      NaN      NaN  \n",
       "1713      NaN      NaN  \n",
       "1785      NaN      NaN  \n",
       "2182      NaN      NaN  "
      ],
      "text/html": [
       "<div>\n",
       "<style scoped>\n",
       "    .dataframe tbody tr th:only-of-type {\n",
       "        vertical-align: middle;\n",
       "    }\n",
       "\n",
       "    .dataframe tbody tr th {\n",
       "        vertical-align: top;\n",
       "    }\n",
       "\n",
       "    .dataframe thead th {\n",
       "        text-align: right;\n",
       "    }\n",
       "</style>\n",
       "<table border=\"1\" class=\"dataframe\">\n",
       "  <thead>\n",
       "    <tr style=\"text-align: right;\">\n",
       "      <th></th>\n",
       "      <th>Title</th>\n",
       "      <th>Column 1</th>\n",
       "      <th>Column 2</th>\n",
       "      <th>Column 3</th>\n",
       "      <th>Column 4</th>\n",
       "    </tr>\n",
       "  </thead>\n",
       "  <tbody>\n",
       "    <tr>\n",
       "      <th>29</th>\n",
       "      <td>CINO</td>\n",
       "      <td>NaN</td>\n",
       "      <td>NaN</td>\n",
       "      <td>NaN</td>\n",
       "      <td>NaN</td>\n",
       "    </tr>\n",
       "    <tr>\n",
       "      <th>341</th>\n",
       "      <td>Ticari Subesi Muduru</td>\n",
       "      <td>NaN</td>\n",
       "      <td>NaN</td>\n",
       "      <td>NaN</td>\n",
       "      <td>NaN</td>\n",
       "    </tr>\n",
       "    <tr>\n",
       "      <th>511</th>\n",
       "      <td>Governor, Chair of Board Risk and Audit Commit...</td>\n",
       "      <td>NaN</td>\n",
       "      <td>NaN</td>\n",
       "      <td>NaN</td>\n",
       "      <td>NaN</td>\n",
       "    </tr>\n",
       "    <tr>\n",
       "      <th>764</th>\n",
       "      <td>Former Director, Compensation and Benefits</td>\n",
       "      <td>NaN</td>\n",
       "      <td>NaN</td>\n",
       "      <td>NaN</td>\n",
       "      <td>NaN</td>\n",
       "    </tr>\n",
       "    <tr>\n",
       "      <th>829</th>\n",
       "      <td>Release of Information Tech II</td>\n",
       "      <td>NaN</td>\n",
       "      <td>NaN</td>\n",
       "      <td>NaN</td>\n",
       "      <td>NaN</td>\n",
       "    </tr>\n",
       "    <tr>\n",
       "      <th>1257</th>\n",
       "      <td>Shareholder, Chair of Tax Section</td>\n",
       "      <td>NaN</td>\n",
       "      <td>NaN</td>\n",
       "      <td>NaN</td>\n",
       "      <td>NaN</td>\n",
       "    </tr>\n",
       "    <tr>\n",
       "      <th>1406</th>\n",
       "      <td>Global People Systems, Processes and Informati...</td>\n",
       "      <td>NaN</td>\n",
       "      <td>NaN</td>\n",
       "      <td>NaN</td>\n",
       "      <td>NaN</td>\n",
       "    </tr>\n",
       "    <tr>\n",
       "      <th>1713</th>\n",
       "      <td>Supplier Quality Engineer</td>\n",
       "      <td>NaN</td>\n",
       "      <td>NaN</td>\n",
       "      <td>NaN</td>\n",
       "      <td>NaN</td>\n",
       "    </tr>\n",
       "    <tr>\n",
       "      <th>1785</th>\n",
       "      <td>RC Environmental and Cyber Specialized Subscri...</td>\n",
       "      <td>NaN</td>\n",
       "      <td>NaN</td>\n",
       "      <td>NaN</td>\n",
       "      <td>NaN</td>\n",
       "    </tr>\n",
       "    <tr>\n",
       "      <th>2182</th>\n",
       "      <td>Senior Independedirector and Chair of the Cust...</td>\n",
       "      <td>NaN</td>\n",
       "      <td>NaN</td>\n",
       "      <td>NaN</td>\n",
       "      <td>NaN</td>\n",
       "    </tr>\n",
       "  </tbody>\n",
       "</table>\n",
       "</div>"
      ]
     },
     "execution_count": 359,
     "metadata": {},
     "output_type": "execute_result"
    }
   ],
   "execution_count": 359
  },
  {
   "metadata": {},
   "cell_type": "markdown",
   "source": "### Join Columns values into a single list",
   "id": "3bcc67e5f8807869"
  },
  {
   "metadata": {
    "ExecuteTime": {
     "end_time": "2024-09-30T16:55:24.353717Z",
     "start_time": "2024-09-30T16:55:24.343866Z"
    }
   },
   "cell_type": "code",
   "source": [
    "job_level_data[\"Label\"] = job_level_data.drop(columns=[\"Title\"]).values.tolist()\n",
    "job_level_data.drop(columns=[\"Column 1\", \"Column 2\", \"Column 3\", \"Column 4\"], inplace=True)\n",
    "\n",
    "def remove_nans_from_array(list):\n",
    "    return [label for label in list if not pd.isna(label)]\n",
    "\n",
    "job_level_data[\"Label\"] = job_level_data[\"Label\"].apply(remove_nans_from_array)\n",
    "job_level_data[\"Label\"] = job_level_data[\"Label\"].apply(lambda labels: sorted(labels))\n",
    "job_level_data"
   ],
   "id": "7c399f8176890e68",
   "outputs": [
    {
     "data": {
      "text/plain": [
       "                                                  Title  \\\n",
       "0      Vice President / Director of Systems Engineering   \n",
       "1                   Systems Engineer; Systems Architect   \n",
       "2     Executive Director, Global IT Infrastructure /...   \n",
       "3         CTO/Executive Director of Technology Services   \n",
       "4                                   Vice President, CIO   \n",
       "...                                                 ...   \n",
       "2235       Net Software Architect and Team Project Lead   \n",
       "2236               Solutions Architect & Technical Lead   \n",
       "2237  Manager, Salesforcecom Administration and Rele...   \n",
       "2238                    Innovation Automation Architect   \n",
       "2239      Founder and Chief Executive Officer, Kindbody   \n",
       "\n",
       "                                        Label  \n",
       "0                            [Vice President]  \n",
       "1     [Individual Contributor/Staff, Manager]  \n",
       "2                   [Chief Officer, Director]  \n",
       "3                   [Chief Officer, Director]  \n",
       "4                            [Vice President]  \n",
       "...                                       ...  \n",
       "2235                                [Manager]  \n",
       "2236  [Individual Contributor/Staff, Manager]  \n",
       "2237                                [Manager]  \n",
       "2238                                [Manager]  \n",
       "2239                          [Chief Officer]  \n",
       "\n",
       "[2240 rows x 2 columns]"
      ],
      "text/html": [
       "<div>\n",
       "<style scoped>\n",
       "    .dataframe tbody tr th:only-of-type {\n",
       "        vertical-align: middle;\n",
       "    }\n",
       "\n",
       "    .dataframe tbody tr th {\n",
       "        vertical-align: top;\n",
       "    }\n",
       "\n",
       "    .dataframe thead th {\n",
       "        text-align: right;\n",
       "    }\n",
       "</style>\n",
       "<table border=\"1\" class=\"dataframe\">\n",
       "  <thead>\n",
       "    <tr style=\"text-align: right;\">\n",
       "      <th></th>\n",
       "      <th>Title</th>\n",
       "      <th>Label</th>\n",
       "    </tr>\n",
       "  </thead>\n",
       "  <tbody>\n",
       "    <tr>\n",
       "      <th>0</th>\n",
       "      <td>Vice President / Director of Systems Engineering</td>\n",
       "      <td>[Vice President]</td>\n",
       "    </tr>\n",
       "    <tr>\n",
       "      <th>1</th>\n",
       "      <td>Systems Engineer; Systems Architect</td>\n",
       "      <td>[Individual Contributor/Staff, Manager]</td>\n",
       "    </tr>\n",
       "    <tr>\n",
       "      <th>2</th>\n",
       "      <td>Executive Director, Global IT Infrastructure /...</td>\n",
       "      <td>[Chief Officer, Director]</td>\n",
       "    </tr>\n",
       "    <tr>\n",
       "      <th>3</th>\n",
       "      <td>CTO/Executive Director of Technology Services</td>\n",
       "      <td>[Chief Officer, Director]</td>\n",
       "    </tr>\n",
       "    <tr>\n",
       "      <th>4</th>\n",
       "      <td>Vice President, CIO</td>\n",
       "      <td>[Vice President]</td>\n",
       "    </tr>\n",
       "    <tr>\n",
       "      <th>...</th>\n",
       "      <td>...</td>\n",
       "      <td>...</td>\n",
       "    </tr>\n",
       "    <tr>\n",
       "      <th>2235</th>\n",
       "      <td>Net Software Architect and Team Project Lead</td>\n",
       "      <td>[Manager]</td>\n",
       "    </tr>\n",
       "    <tr>\n",
       "      <th>2236</th>\n",
       "      <td>Solutions Architect &amp; Technical Lead</td>\n",
       "      <td>[Individual Contributor/Staff, Manager]</td>\n",
       "    </tr>\n",
       "    <tr>\n",
       "      <th>2237</th>\n",
       "      <td>Manager, Salesforcecom Administration and Rele...</td>\n",
       "      <td>[Manager]</td>\n",
       "    </tr>\n",
       "    <tr>\n",
       "      <th>2238</th>\n",
       "      <td>Innovation Automation Architect</td>\n",
       "      <td>[Manager]</td>\n",
       "    </tr>\n",
       "    <tr>\n",
       "      <th>2239</th>\n",
       "      <td>Founder and Chief Executive Officer, Kindbody</td>\n",
       "      <td>[Chief Officer]</td>\n",
       "    </tr>\n",
       "  </tbody>\n",
       "</table>\n",
       "<p>2240 rows × 2 columns</p>\n",
       "</div>"
      ]
     },
     "execution_count": 360,
     "metadata": {},
     "output_type": "execute_result"
    }
   ],
   "execution_count": 360
  },
  {
   "metadata": {
    "ExecuteTime": {
     "end_time": "2024-09-30T16:55:24.502952Z",
     "start_time": "2024-09-30T16:55:24.415450Z"
    }
   },
   "cell_type": "code",
   "source": [
    "labels_list = [label for labels_list in job_level_data[\"Label\"] for label in labels_list]\n",
    "labels_count = sorted(Counter(labels_list).items(), key=lambda x: x[1], reverse=True)\n",
    "labels_count_keys, labels_count_values = zip(*labels_count)\n",
    "\n",
    "fig, ax = plt.subplots()\n",
    "ax.bar(labels_count_keys, labels_count_values)\n",
    "ax.set_title('Distribution of position labels')\n",
    "plt.xticks(rotation=90) \n",
    "\n",
    "plt.show()"
   ],
   "id": "12437eb6000f7ab9",
   "outputs": [
    {
     "data": {
      "text/plain": [
       "<Figure size 640x480 with 1 Axes>"
      ],
      "image/png": "[encoded data removed]"
     },
     "metadata": {},
     "output_type": "display_data"
    }
   ],
   "execution_count": 361
  },
  {
   "metadata": {},
   "cell_type": "markdown",
   "source": "It can be observed from the distribution, that the \"Owner\" label is highly underrepresented. ",
   "id": "16fa76ed4fdc9a7d"
  },
  {
   "metadata": {
    "ExecuteTime": {
     "end_time": "2024-09-30T16:55:24.534586Z",
     "start_time": "2024-09-30T16:55:24.528777Z"
    }
   },
   "cell_type": "code",
   "source": "job_level_data[job_level_data[\"Label\"].apply(lambda labels: \"Owner\" in labels)]",
   "id": "b72585778e9e76",
   "outputs": [
    {
     "data": {
      "text/plain": [
       "                                             Title                   Label\n",
       "22                                 CoFounder & CTO  [Chief Officer, Owner]\n",
       "119            Chief Operating Officer, Co-Founder  [Chief Officer, Owner]\n",
       "1222  Co-Owner, Vice President and General Counsel                 [Owner]\n",
       "1933                                  Founder, COO  [Chief Officer, Owner]"
      ],
      "text/html": [
       "<div>\n",
       "<style scoped>\n",
       "    .dataframe tbody tr th:only-of-type {\n",
       "        vertical-align: middle;\n",
       "    }\n",
       "\n",
       "    .dataframe tbody tr th {\n",
       "        vertical-align: top;\n",
       "    }\n",
       "\n",
       "    .dataframe thead th {\n",
       "        text-align: right;\n",
       "    }\n",
       "</style>\n",
       "<table border=\"1\" class=\"dataframe\">\n",
       "  <thead>\n",
       "    <tr style=\"text-align: right;\">\n",
       "      <th></th>\n",
       "      <th>Title</th>\n",
       "      <th>Label</th>\n",
       "    </tr>\n",
       "  </thead>\n",
       "  <tbody>\n",
       "    <tr>\n",
       "      <th>22</th>\n",
       "      <td>CoFounder &amp; CTO</td>\n",
       "      <td>[Chief Officer, Owner]</td>\n",
       "    </tr>\n",
       "    <tr>\n",
       "      <th>119</th>\n",
       "      <td>Chief Operating Officer, Co-Founder</td>\n",
       "      <td>[Chief Officer, Owner]</td>\n",
       "    </tr>\n",
       "    <tr>\n",
       "      <th>1222</th>\n",
       "      <td>Co-Owner, Vice President and General Counsel</td>\n",
       "      <td>[Owner]</td>\n",
       "    </tr>\n",
       "    <tr>\n",
       "      <th>1933</th>\n",
       "      <td>Founder, COO</td>\n",
       "      <td>[Chief Officer, Owner]</td>\n",
       "    </tr>\n",
       "  </tbody>\n",
       "</table>\n",
       "</div>"
      ]
     },
     "execution_count": 362,
     "metadata": {},
     "output_type": "execute_result"
    }
   ],
   "execution_count": 362
  },
  {
   "metadata": {},
   "cell_type": "markdown",
   "source": "This is a big problem of class underrepresentation. Check if we can hard code the labels based on if the title consists \"Owner\" or \"Founder\" / can we assume that this class might be labeled later? ",
   "id": "4a93e9bb506c39d3"
  },
  {
   "metadata": {
    "ExecuteTime": {
     "end_time": "2024-09-30T16:55:24.579380Z",
     "start_time": "2024-09-30T16:55:24.573419Z"
    }
   },
   "cell_type": "code",
   "source": "job_level_data[job_level_data[\"Title\"].apply(lambda title: \"Owner\" in title)]",
   "id": "ada93b13161f6e16",
   "outputs": [
    {
     "data": {
      "text/plain": [
       "                                                  Title  \\\n",
       "30                               Owner & Data Architect   \n",
       "896   Senior Manager Product Owner, Wireless Expansi...   \n",
       "998                        Co-Owner & Marketing Manager   \n",
       "1054                                     Practice Owner   \n",
       "1222       Co-Owner, Vice President and General Counsel   \n",
       "1481                     In App Learning Owner Software   \n",
       "1566                         Owner Services Coordinator   \n",
       "1632                                 Owner / Franchisee   \n",
       "1828         Senior Software Consultant / Product Owner   \n",
       "1847       Product Owner Digital, Data and IS Direction   \n",
       "\n",
       "                                    Label  \n",
       "30               [Chief Officer, Manager]  \n",
       "896   [Director, Manager, Vice President]  \n",
       "998              [Chief Officer, Manager]  \n",
       "1054       [Individual Contributor/Staff]  \n",
       "1222                              [Owner]  \n",
       "1481       [Individual Contributor/Staff]  \n",
       "1566       [Individual Contributor/Staff]  \n",
       "1632                      [Chief Officer]  \n",
       "1828       [Individual Contributor/Staff]  \n",
       "1847                            [Manager]  "
      ],
      "text/html": [
       "<div>\n",
       "<style scoped>\n",
       "    .dataframe tbody tr th:only-of-type {\n",
       "        vertical-align: middle;\n",
       "    }\n",
       "\n",
       "    .dataframe tbody tr th {\n",
       "        vertical-align: top;\n",
       "    }\n",
       "\n",
       "    .dataframe thead th {\n",
       "        text-align: right;\n",
       "    }\n",
       "</style>\n",
       "<table border=\"1\" class=\"dataframe\">\n",
       "  <thead>\n",
       "    <tr style=\"text-align: right;\">\n",
       "      <th></th>\n",
       "      <th>Title</th>\n",
       "      <th>Label</th>\n",
       "    </tr>\n",
       "  </thead>\n",
       "  <tbody>\n",
       "    <tr>\n",
       "      <th>30</th>\n",
       "      <td>Owner &amp; Data Architect</td>\n",
       "      <td>[Chief Officer, Manager]</td>\n",
       "    </tr>\n",
       "    <tr>\n",
       "      <th>896</th>\n",
       "      <td>Senior Manager Product Owner, Wireless Expansi...</td>\n",
       "      <td>[Director, Manager, Vice President]</td>\n",
       "    </tr>\n",
       "    <tr>\n",
       "      <th>998</th>\n",
       "      <td>Co-Owner &amp; Marketing Manager</td>\n",
       "      <td>[Chief Officer, Manager]</td>\n",
       "    </tr>\n",
       "    <tr>\n",
       "      <th>1054</th>\n",
       "      <td>Practice Owner</td>\n",
       "      <td>[Individual Contributor/Staff]</td>\n",
       "    </tr>\n",
       "    <tr>\n",
       "      <th>1222</th>\n",
       "      <td>Co-Owner, Vice President and General Counsel</td>\n",
       "      <td>[Owner]</td>\n",
       "    </tr>\n",
       "    <tr>\n",
       "      <th>1481</th>\n",
       "      <td>In App Learning Owner Software</td>\n",
       "      <td>[Individual Contributor/Staff]</td>\n",
       "    </tr>\n",
       "    <tr>\n",
       "      <th>1566</th>\n",
       "      <td>Owner Services Coordinator</td>\n",
       "      <td>[Individual Contributor/Staff]</td>\n",
       "    </tr>\n",
       "    <tr>\n",
       "      <th>1632</th>\n",
       "      <td>Owner / Franchisee</td>\n",
       "      <td>[Chief Officer]</td>\n",
       "    </tr>\n",
       "    <tr>\n",
       "      <th>1828</th>\n",
       "      <td>Senior Software Consultant / Product Owner</td>\n",
       "      <td>[Individual Contributor/Staff]</td>\n",
       "    </tr>\n",
       "    <tr>\n",
       "      <th>1847</th>\n",
       "      <td>Product Owner Digital, Data and IS Direction</td>\n",
       "      <td>[Manager]</td>\n",
       "    </tr>\n",
       "  </tbody>\n",
       "</table>\n",
       "</div>"
      ]
     },
     "execution_count": 363,
     "metadata": {},
     "output_type": "execute_result"
    }
   ],
   "execution_count": 363
  },
  {
   "metadata": {
    "ExecuteTime": {
     "end_time": "2024-09-30T16:55:24.642764Z",
     "start_time": "2024-09-30T16:55:24.634396Z"
    }
   },
   "cell_type": "code",
   "source": [
    "mlb = MultiLabelBinarizer()\n",
    "one_hot_encoded_labels = mlb.fit_transform(job_level_data[\"Label\"])\n",
    "one_hot_df = pd.DataFrame(one_hot_encoded_labels, columns=mlb.classes_)\n",
    "job_level_data[\"Label\"] = one_hot_df.values.tolist()\n",
    "\n",
    "classes_labels = mlb.classes_\n",
    "print(classes_labels)\n",
    "job_level_data"
   ],
   "id": "3a81cfaf1446d431",
   "outputs": [
    {
     "name": "stdout",
     "output_type": "stream",
     "text": [
      "['Chief Officer' 'Director' 'Individual Contributor/Staff' 'Manager'\n",
      " 'Owner' 'Vice President']\n"
     ]
    },
    {
     "data": {
      "text/plain": [
       "                                                  Title               Label\n",
       "0      Vice President / Director of Systems Engineering  [0, 0, 0, 0, 0, 1]\n",
       "1                   Systems Engineer; Systems Architect  [0, 0, 1, 1, 0, 0]\n",
       "2     Executive Director, Global IT Infrastructure /...  [1, 1, 0, 0, 0, 0]\n",
       "3         CTO/Executive Director of Technology Services  [1, 1, 0, 0, 0, 0]\n",
       "4                                   Vice President, CIO  [0, 0, 0, 0, 0, 1]\n",
       "...                                                 ...                 ...\n",
       "2235       Net Software Architect and Team Project Lead  [0, 0, 0, 1, 0, 0]\n",
       "2236               Solutions Architect & Technical Lead  [0, 0, 1, 1, 0, 0]\n",
       "2237  Manager, Salesforcecom Administration and Rele...  [0, 0, 0, 1, 0, 0]\n",
       "2238                    Innovation Automation Architect  [0, 0, 0, 1, 0, 0]\n",
       "2239      Founder and Chief Executive Officer, Kindbody  [1, 0, 0, 0, 0, 0]\n",
       "\n",
       "[2240 rows x 2 columns]"
      ],
      "text/html": [
       "<div>\n",
       "<style scoped>\n",
       "    .dataframe tbody tr th:only-of-type {\n",
       "        vertical-align: middle;\n",
       "    }\n",
       "\n",
       "    .dataframe tbody tr th {\n",
       "        vertical-align: top;\n",
       "    }\n",
       "\n",
       "    .dataframe thead th {\n",
       "        text-align: right;\n",
       "    }\n",
       "</style>\n",
       "<table border=\"1\" class=\"dataframe\">\n",
       "  <thead>\n",
       "    <tr style=\"text-align: right;\">\n",
       "      <th></th>\n",
       "      <th>Title</th>\n",
       "      <th>Label</th>\n",
       "    </tr>\n",
       "  </thead>\n",
       "  <tbody>\n",
       "    <tr>\n",
       "      <th>0</th>\n",
       "      <td>Vice President / Director of Systems Engineering</td>\n",
       "      <td>[0, 0, 0, 0, 0, 1]</td>\n",
       "    </tr>\n",
       "    <tr>\n",
       "      <th>1</th>\n",
       "      <td>Systems Engineer; Systems Architect</td>\n",
       "      <td>[0, 0, 1, 1, 0, 0]</td>\n",
       "    </tr>\n",
       "    <tr>\n",
       "      <th>2</th>\n",
       "      <td>Executive Director, Global IT Infrastructure /...</td>\n",
       "      <td>[1, 1, 0, 0, 0, 0]</td>\n",
       "    </tr>\n",
       "    <tr>\n",
       "      <th>3</th>\n",
       "      <td>CTO/Executive Director of Technology Services</td>\n",
       "      <td>[1, 1, 0, 0, 0, 0]</td>\n",
       "    </tr>\n",
       "    <tr>\n",
       "      <th>4</th>\n",
       "      <td>Vice President, CIO</td>\n",
       "      <td>[0, 0, 0, 0, 0, 1]</td>\n",
       "    </tr>\n",
       "    <tr>\n",
       "      <th>...</th>\n",
       "      <td>...</td>\n",
       "      <td>...</td>\n",
       "    </tr>\n",
       "    <tr>\n",
       "      <th>2235</th>\n",
       "      <td>Net Software Architect and Team Project Lead</td>\n",
       "      <td>[0, 0, 0, 1, 0, 0]</td>\n",
       "    </tr>\n",
       "    <tr>\n",
       "      <th>2236</th>\n",
       "      <td>Solutions Architect &amp; Technical Lead</td>\n",
       "      <td>[0, 0, 1, 1, 0, 0]</td>\n",
       "    </tr>\n",
       "    <tr>\n",
       "      <th>2237</th>\n",
       "      <td>Manager, Salesforcecom Administration and Rele...</td>\n",
       "      <td>[0, 0, 0, 1, 0, 0]</td>\n",
       "    </tr>\n",
       "    <tr>\n",
       "      <th>2238</th>\n",
       "      <td>Innovation Automation Architect</td>\n",
       "      <td>[0, 0, 0, 1, 0, 0]</td>\n",
       "    </tr>\n",
       "    <tr>\n",
       "      <th>2239</th>\n",
       "      <td>Founder and Chief Executive Officer, Kindbody</td>\n",
       "      <td>[1, 0, 0, 0, 0, 0]</td>\n",
       "    </tr>\n",
       "  </tbody>\n",
       "</table>\n",
       "<p>2240 rows × 2 columns</p>\n",
       "</div>"
      ]
     },
     "execution_count": 364,
     "metadata": {},
     "output_type": "execute_result"
    }
   ],
   "execution_count": 364
  },
  {
   "metadata": {},
   "cell_type": "markdown",
   "source": "### Tokenization",
   "id": "cd248386ddac660e"
  },
  {
   "metadata": {
    "ExecuteTime": {
     "end_time": "2024-09-30T16:55:25.013923Z",
     "start_time": "2024-09-30T16:55:24.734413Z"
    }
   },
   "cell_type": "code",
   "source": [
    "RANDOM_SEED = 42\n",
    "MAX_LEN = 30\n",
    "BATCH_SIZE = 32\n",
    "EPOCHS = 10\n",
    "THRESHOLD = 0.5\n",
    "\n",
    "tokenizer = BertTokenizer.from_pretrained('bert-base-cased') #not using cased model for a reason"
   ],
   "id": "f9ef271c6ed6bdca",
   "outputs": [],
   "execution_count": 365
  },
  {
   "metadata": {
    "ExecuteTime": {
     "end_time": "2024-09-30T16:55:25.129815Z",
     "start_time": "2024-09-30T16:55:25.033298Z"
    }
   },
   "cell_type": "code",
   "source": [
    "def split_text(text):\n",
    "    return tokenizer.tokenize(text)\n",
    "\n",
    "max_len = job_level_data[\"Title\"].apply(split_text).apply(len).max()\n",
    "print(\"Maximum lengths of tokenized sentence: \", max_len)"
   ],
   "id": "141549ff53d33aa2",
   "outputs": [
    {
     "name": "stdout",
     "output_type": "stream",
     "text": [
      "Maximum lengths of tokenized sentence:  24\n"
     ]
    }
   ],
   "execution_count": 366
  },
  {
   "metadata": {
    "ExecuteTime": {
     "end_time": "2024-09-30T16:55:25.136633Z",
     "start_time": "2024-09-30T16:55:25.134240Z"
    }
   },
   "cell_type": "code",
   "source": [
    "# handle data preprocessing\n",
    "class JobTitlesDataset(Dataset):\n",
    "    def __init__(self, titles, labels, tokenizer, max_len):\n",
    "        self.titles = titles\n",
    "        self.labels = labels\n",
    "        self.tokenizer = tokenizer\n",
    "        self.max_len = max_len  # maximum length of tokenized sentence\n",
    "\n",
    "    def __len__(self):\n",
    "        return len(self.titles)\n",
    "\n",
    "    def __getitem__(self, item):\n",
    "        encoded_data = self.tokenizer.encode_plus(\n",
    "            self.titles[item],\n",
    "            add_special_tokens=True,  # tokens required for BERT\n",
    "            max_length=self.max_len,\n",
    "            return_token_type_ids=False,  # no sentence pair task\n",
    "            padding='max_length',\n",
    "            truncation=True,\n",
    "            return_attention_mask=True,  # differentiate between padding and data\n",
    "            return_tensors='pt'\n",
    "        )\n",
    "        return {\n",
    "            'input_ids': encoded_data['input_ids'].flatten(),\n",
    "            'attention_mask': encoded_data['attention_mask'].flatten(),\n",
    "            'labels': torch.tensor(self.labels[item], dtype=torch.float)\n",
    "        }"
   ],
   "id": "5759cfe56d236bef",
   "outputs": [],
   "execution_count": 367
  },
  {
   "metadata": {},
   "cell_type": "markdown",
   "source": "### Train Test Split",
   "id": "b5c2c2adbe4e9b14"
  },
  {
   "metadata": {
    "ExecuteTime": {
     "end_time": "2024-09-30T16:55:25.153644Z",
     "start_time": "2024-09-30T16:55:25.147978Z"
    }
   },
   "cell_type": "code",
   "source": [
    "X_train, X_test, y_train, y_test = train_test_split(\n",
    "    job_level_data['Title'],\n",
    "    job_level_data['Label'],\n",
    "    test_size=0.2,\n",
    "    random_state=RANDOM_SEED,\n",
    "    shuffle=True\n",
    ")\n",
    "\n",
    "X_train = X_train.reset_index(drop=True)\n",
    "y_train = y_train.reset_index(drop=True)\n",
    "X_test = X_test.reset_index(drop=True)\n",
    "y_test = y_test.reset_index(drop=True)\n",
    "\n",
    "print(f\"Train data: {X_train.shape}\")\n",
    "print(f\"Test data: {X_test.shape}\")"
   ],
   "id": "822f58c7f4e5b14d",
   "outputs": [
    {
     "name": "stdout",
     "output_type": "stream",
     "text": [
      "Train data: (1792,)\n",
      "Test data: (448,)\n"
     ]
    }
   ],
   "execution_count": 368
  },
  {
   "metadata": {
    "ExecuteTime": {
     "end_time": "2024-09-30T16:55:25.168571Z",
     "start_time": "2024-09-30T16:55:25.164350Z"
    }
   },
   "cell_type": "code",
   "source": [
    "train_dataset = JobTitlesDataset(\n",
    "    titles=X_train,\n",
    "    labels=y_train,\n",
    "    tokenizer=tokenizer,\n",
    "    max_len=MAX_LEN\n",
    ")\n",
    "\n",
    "test_dataset = JobTitlesDataset(\n",
    "    titles=X_test,\n",
    "    labels=y_test,\n",
    "    tokenizer=tokenizer,\n",
    "    max_len=MAX_LEN\n",
    ")\n",
    "\n",
    "train_loader = DataLoader(\n",
    "    train_dataset,\n",
    "    batch_size=BATCH_SIZE,\n",
    "    shuffle=True\n",
    ")\n",
    "\n",
    "test_loader = DataLoader(\n",
    "    test_dataset,\n",
    "    batch_size=BATCH_SIZE,\n",
    "    shuffle=True\n",
    ")"
   ],
   "id": "edc4443b6ac1413c",
   "outputs": [],
   "execution_count": 369
  },
  {
   "metadata": {},
   "cell_type": "markdown",
   "source": "### Model Definition and Training",
   "id": "43e8c61193fad5f3"
  },
  {
   "metadata": {
    "ExecuteTime": {
     "end_time": "2024-09-30T16:55:28.903497Z",
     "start_time": "2024-09-30T16:55:25.180581Z"
    }
   },
   "cell_type": "code",
   "source": [
    "class JobTitleClassifier(nn.Module):\n",
    "    def __init__(self, n_classes):\n",
    "        super(JobTitleClassifier, self).__init__()\n",
    "        self.bert = BertModel.from_pretrained('bert-base-uncased') # pre-trained bert model\n",
    "        self.dropout = torch.nn.Dropout(0.3) # regularization\n",
    "        self.linear = torch.nn.Linear(self.bert.config.hidden_size, n_classes) # classification \n",
    "    \n",
    "    def forward(self, input_ids, attention_mask):\n",
    "        output = self.bert(input_ids, attention_mask)\n",
    "        output = self.dropout(output.pooler_output)\n",
    "        output = self.linear(output)\n",
    "        return output\n",
    "\n",
    "model = JobTitleClassifier(len(mlb.classes_)).to(device)\n",
    "print(model)"
   ],
   "id": "223bec2bbe288b7",
   "outputs": [
    {
     "name": "stdout",
     "output_type": "stream",
     "text": [
      "JobTitleClassifier(\n",
      "  (bert): BertModel(\n",
      "    (embeddings): BertEmbeddings(\n",
      "      (word_embeddings): Embedding(30522, 768, padding_idx=0)\n",
      "      (position_embeddings): Embedding(512, 768)\n",
      "      (token_type_embeddings): Embedding(2, 768)\n",
      "      (LayerNorm): LayerNorm((768,), eps=1e-12, elementwise_affine=True)\n",
      "      (dropout): Dropout(p=0.1, inplace=False)\n",
      "    )\n",
      "    (encoder): BertEncoder(\n",
      "      (layer): ModuleList(\n",
      "        (0-11): 12 x BertLayer(\n",
      "          (attention): BertAttention(\n",
      "            (self): BertSdpaSelfAttention(\n",
      "              (query): Linear(in_features=768, out_features=768, bias=True)\n",
      "              (key): Linear(in_features=768, out_features=768, bias=True)\n",
      "              (value): Linear(in_features=768, out_features=768, bias=True)\n",
      "              (dropout): Dropout(p=0.1, inplace=False)\n",
      "            )\n",
      "            (output): BertSelfOutput(\n",
      "              (dense): Linear(in_features=768, out_features=768, bias=True)\n",
      "              (LayerNorm): LayerNorm((768,), eps=1e-12, elementwise_affine=True)\n",
      "              (dropout): Dropout(p=0.1, inplace=False)\n",
      "            )\n",
      "          )\n",
      "          (intermediate): BertIntermediate(\n",
      "            (dense): Linear(in_features=768, out_features=3072, bias=True)\n",
      "            (intermediate_act_fn): GELUActivation()\n",
      "          )\n",
      "          (output): BertOutput(\n",
      "            (dense): Linear(in_features=3072, out_features=768, bias=True)\n",
      "            (LayerNorm): LayerNorm((768,), eps=1e-12, elementwise_affine=True)\n",
      "            (dropout): Dropout(p=0.1, inplace=False)\n",
      "          )\n",
      "        )\n",
      "      )\n",
      "    )\n",
      "    (pooler): BertPooler(\n",
      "      (dense): Linear(in_features=768, out_features=768, bias=True)\n",
      "      (activation): Tanh()\n",
      "    )\n",
      "  )\n",
      "  (dropout): Dropout(p=0.3, inplace=False)\n",
      "  (linear): Linear(in_features=768, out_features=6, bias=True)\n",
      ")\n"
     ]
    }
   ],
   "execution_count": 370
  },
  {
   "metadata": {
    "ExecuteTime": {
     "end_time": "2024-09-30T16:55:28.930585Z",
     "start_time": "2024-09-30T16:55:28.926141Z"
    }
   },
   "cell_type": "code",
   "source": [
    "adam_optimizer = torch.optim.AdamW(model.parameters(), lr=1e-5)\n",
    "bce_loss = nn.BCEWithLogitsLoss() # includes sigmoid activation"
   ],
   "id": "4fd5c9a74af6011e",
   "outputs": [],
   "execution_count": 371
  },
  {
   "metadata": {
    "ExecuteTime": {
     "end_time": "2024-09-30T16:55:28.946537Z",
     "start_time": "2024-09-30T16:55:28.943686Z"
    }
   },
   "cell_type": "code",
   "source": [
    "def train_classifier(model,\n",
    "                     data_loader,\n",
    "                     loss_fn,\n",
    "                     optimizer,\n",
    "                     device):\n",
    "    model = model.train()\n",
    "    losses = []\n",
    "    \n",
    "    for batch_num, batch in enumerate(data_loader):\n",
    "        input_ids = batch['input_ids'].to(device)\n",
    "        attention_mask = batch['attention_mask'].to(device)\n",
    "        true_labels = batch['labels'].to(device)\n",
    "\n",
    "        outputs = model(input_ids, attention_mask)\n",
    "        loss = loss_fn(outputs, true_labels)\n",
    "        losses.append(loss.item())\n",
    "        \n",
    "        loss.backward()\n",
    "        optimizer.step()\n",
    "        optimizer.zero_grad()\n",
    "        \n",
    "    return np.mean(losses)\n"
   ],
   "id": "8296adbacab10345",
   "outputs": [],
   "execution_count": 372
  },
  {
   "metadata": {
    "ExecuteTime": {
     "end_time": "2024-09-30T16:55:28.960661Z",
     "start_time": "2024-09-30T16:55:28.957172Z"
    }
   },
   "cell_type": "code",
   "source": [
    "def validation(model,\n",
    "               data_loader,\n",
    "               loss_fn,\n",
    "               device):\n",
    "    \n",
    "    model = model.eval()\n",
    "    losses = []\n",
    "    predictions = []\n",
    "    targets = []\n",
    "    \n",
    "    # ensures no gradients are computed during test mode\n",
    "    with torch.no_grad():\n",
    "        for batch in data_loader:\n",
    "            input_ids = batch['input_ids'].to(device)\n",
    "            attention_mask = batch['attention_mask'].to(device)\n",
    "            true_labels = batch['labels'].to(device)\n",
    "            \n",
    "            outputs = model(input_ids, attention_mask)\n",
    "            eval_loss = loss_fn(outputs, true_labels).item()\n",
    "            losses.append(eval_loss)\n",
    "            \n",
    "            preds = torch.sigmoid(outputs)\n",
    "            predictions.extend(preds.cpu().numpy())\n",
    "            targets.extend(true_labels.cpu().numpy())\n",
    "            \n",
    "    return np.mean(losses), predictions, targets"
   ],
   "id": "35b0c71cc0e935f6",
   "outputs": [],
   "execution_count": 373
  },
  {
   "metadata": {
    "ExecuteTime": {
     "end_time": "2024-09-30T17:01:33.740925Z",
     "start_time": "2024-09-30T16:55:28.972696Z"
    }
   },
   "cell_type": "code",
   "source": [
    "train_losses = []\n",
    "val_losses = []\n",
    "\n",
    "all_targets = []\n",
    "all_predictions = []\n",
    "\n",
    "for epoch in range(EPOCHS):\n",
    "    print(f'Epoch {epoch + 1}/{EPOCHS}')\n",
    "    \n",
    "    train_loss = train_classifier(model, train_loader, bce_loss, adam_optimizer, device)\n",
    "    train_losses.append(train_loss)\n",
    "    \n",
    "    val_loss, predictions, targets = validation(model, test_loader, bce_loss, device)\n",
    "    val_losses.append(val_loss)\n",
    "    \n",
    "    print(f\"Training loss: {train_loss:.5f}, Validation loss: {val_loss:.5f}\")\n",
    "    \n",
    "    predictions = np.array(predictions) >= THRESHOLD\n",
    "    targets = np.array(targets)\n",
    "    \n",
    "    all_targets.extend(targets)\n",
    "    all_predictions.extend(predictions)\n",
    "    \n",
    "    accuracy = accuracy_score(targets, predictions)\n",
    "    print(f\"Accuracy: {accuracy:.5f}\")\n",
    "    \n",
    "    f1 = f1_score(targets, predictions, average='macro', zero_division=1)\n",
    "    print(f\"F1: {f1}\")"
   ],
   "id": "4e71c6135ce36bb7",
   "outputs": [
    {
     "name": "stdout",
     "output_type": "stream",
     "text": [
      "Epoch 1/10\n",
      "Training loss: 0.55859, Validation loss: 0.39832\n",
      "Accuracy: 0.00893\n",
      "F1: 0.1680972818311874\n",
      "Epoch 2/10\n",
      "Training loss: 0.37049, Validation loss: 0.31356\n",
      "Accuracy: 0.58482\n",
      "F1: 0.4657361147739601\n",
      "Epoch 3/10\n",
      "Training loss: 0.27955, Validation loss: 0.23005\n",
      "Accuracy: 0.76116\n",
      "F1: 0.5973278326338137\n",
      "Epoch 4/10\n",
      "Training loss: 0.21379, Validation loss: 0.18714\n",
      "Accuracy: 0.79911\n",
      "F1: 0.6803163078910966\n",
      "Epoch 5/10\n",
      "Training loss: 0.17409, Validation loss: 0.16400\n",
      "Accuracy: 0.83705\n",
      "F1: 0.7722812317375946\n",
      "Epoch 6/10\n",
      "Training loss: 0.14889, Validation loss: 0.15204\n",
      "Accuracy: 0.83482\n",
      "F1: 0.8060202845782788\n",
      "Epoch 7/10\n",
      "Training loss: 0.12943, Validation loss: 0.14064\n",
      "Accuracy: 0.85491\n",
      "F1: 0.8262339641399775\n",
      "Epoch 8/10\n",
      "Training loss: 0.11429, Validation loss: 0.13232\n",
      "Accuracy: 0.83929\n",
      "F1: 0.8356931683900731\n",
      "Epoch 9/10\n",
      "Training loss: 0.10093, Validation loss: 0.12866\n",
      "Accuracy: 0.84152\n",
      "F1: 0.8405369460373775\n",
      "Epoch 10/10\n",
      "Training loss: 0.08924, Validation loss: 0.13199\n",
      "Accuracy: 0.83705\n",
      "F1: 0.834271933159549\n"
     ]
    }
   ],
   "execution_count": 374
  },
  {
   "metadata": {
    "ExecuteTime": {
     "end_time": "2024-09-30T17:01:33.944940Z",
     "start_time": "2024-09-30T17:01:33.804104Z"
    }
   },
   "cell_type": "code",
   "source": [
    "plt.figure(figsize=(10, 5))\n",
    "plt.plot(train_losses, label='Training Loss')\n",
    "plt.plot(val_losses, label='Validation Loss')\n",
    "plt.xlabel('Epoch')\n",
    "plt.ylabel('Loss')\n",
    "plt.title('Training and Validation Loss')\n",
    "plt.legend()\n",
    "plt.show()"
   ],
   "id": "d510fc7b8271e067",
   "outputs": [
    {
     "data": {
      "text/plain": [
       "<Figure size 1000x500 with 1 Axes>"
      ],
      "image/png": "[encoded data removed]"
     },
     "metadata": {},
     "output_type": "display_data"
    }
   ],
   "execution_count": 375
  },
  {
   "metadata": {
    "ExecuteTime": {
     "end_time": "2024-09-30T18:29:30.949997Z",
     "start_time": "2024-09-30T18:29:30.157811Z"
    }
   },
   "cell_type": "code",
   "source": [
    "cm = multilabel_confusion_matrix(np.array(all_targets), np.array(all_predictions))\n",
    "\n",
    "f, axes = plt.subplots(2, 3, figsize=(16, 10))\n",
    "f.suptitle(\"Confusion Matrix for each Label\")\n",
    "\n",
    "for i, matrix in enumerate(cm):\n",
    "    with np.errstate(invalid='ignore'):\n",
    "        normalized_matrix = matrix.astype('float') / matrix.sum(axis=1)[:, np.newaxis] * 100\n",
    "        normalized_matrix[np.isnan(normalized_matrix)] = 0 \n",
    "    ax = axes[i//3, i % 3]\n",
    "    sns.heatmap(normalized_matrix, annot=True, cmap='Blues', ax = ax)\n",
    "    ax.set_xlabel('Predicted')\n",
    "    ax.set_ylabel('True')\n",
    "    ax.set_title(classes_labels[i])\n",
    "\n",
    "plt.show()"
   ],
   "id": "39085ede8f1d24ad",
   "outputs": [
    {
     "data": {
      "text/plain": [
       "<Figure size 1600x1000 with 12 Axes>"
      ],
      "image/png": "[encoded data removed]"
     },
     "metadata": {},
     "output_type": "display_data"
    }
   ],
   "execution_count": 450
  }
 ],
 "metadata": {
  "kernelspec": {
   "display_name": "Python 3",
   "language": "python",
   "name": "python3"
  },
  "language_info": {
   "codemirror_mode": {
    "name": "ipython",
    "version": 2
   },
   "file_extension": ".py",
   "mimetype": "text/x-python",
   "name": "python",
   "nbconvert_exporter": "python",
   "pygments_lexer": "ipython2",
   "version": "2.7.6"
  }
 },
 "nbformat": 4,
 "nbformat_minor": 5
}
