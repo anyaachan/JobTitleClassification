{
 "cells": [
  {
   "metadata": {
    "ExecuteTime": {
     "end_time": "2024-10-01T11:50:31.865473Z",
     "start_time": "2024-10-01T11:50:30.318374Z"
    }
   },
   "cell_type": "code",
   "source": [
    "import pandas as pd\n",
    "from collections import Counter\n",
    "import matplotlib.pyplot as plt\n",
    "from transformers import BertTokenizer, BertModel, DistilBertModel, AlbertModel\n",
    "from sklearn.model_selection import train_test_split\n",
    "from sklearn.preprocessing import MultiLabelBinarizer\n",
    "from sklearn.metrics import accuracy_score, f1_score, multilabel_confusion_matrix, hamming_loss, classification_report\n",
    "from skmultilearn.model_selection import iterative_train_test_split\n",
    "import seaborn as sns\n",
    "import re\n",
    "import copy\n",
    "\n",
    "import torch\n",
    "import torch.nn as nn\n",
    "from torch.utils.data import Dataset\n",
    "from torch.utils.data import DataLoader\n",
    "\n",
    "import numpy as np"
   ],
   "id": "33fd32be809fb2fd",
   "outputs": [
    {
     "name": "stderr",
     "output_type": "stream",
     "text": [
      "/Users/anna-alexandradanchenko/local/JobTitleClassification/venv/lib/python3.12/site-packages/tqdm/auto.py:21: TqdmWarning: IProgress not found. Please update jupyter and ipywidgets. See https://ipywidgets.readthedocs.io/en/stable/user_install.html\n",
      "  from .autonotebook import tqdm as notebook_tqdm\n"
     ]
    }
   ],
   "execution_count": 1
  },
  {
   "metadata": {
    "ExecuteTime": {
     "end_time": "2024-10-01T11:50:31.889357Z",
     "start_time": "2024-10-01T11:50:31.874455Z"
    }
   },
   "cell_type": "code",
   "source": [
    "device = (\n",
    "    \"cuda\"\n",
    "    if torch.cuda.is_available()\n",
    "    else \"mps\"\n",
    "    if torch.backends.mps.is_available()\n",
    "    else \"cpu\"\n",
    ")\n",
    "print(f\"Using {device} device\")"
   ],
   "id": "e9940963358387db",
   "outputs": [
    {
     "name": "stdout",
     "output_type": "stream",
     "text": [
      "Using mps device\n"
     ]
    }
   ],
   "execution_count": 2
  },
  {
   "metadata": {},
   "cell_type": "markdown",
   "source": [
    "# Exploratory Data Analysis\n",
    "### Import Data"
   ],
   "id": "62bb1b6a04509633"
  },
  {
   "metadata": {
    "ExecuteTime": {
     "end_time": "2024-10-01T11:50:32.100399Z",
     "start_time": "2024-10-01T11:50:31.979105Z"
    }
   },
   "cell_type": "code",
   "source": [
    "job_level_data = pd.read_excel(\"data/JobLevelData.xlsx\")\n",
    "job_level_data"
   ],
   "id": "54ea5057d2280da6",
   "outputs": [
    {
     "data": {
      "text/plain": [
       "                                                  Title        Column 1  \\\n",
       "0      Vice President / Director of Systems Engineering  Vice President   \n",
       "1                   Systems Engineer; Systems Architect         Manager   \n",
       "2     Executive Director, Global IT Infrastructure /...        Director   \n",
       "3         CTO/Executive Director of Technology Services        Director   \n",
       "4                                   Vice President, CIO  Vice President   \n",
       "...                                                 ...             ...   \n",
       "2235       Net Software Architect and Team Project Lead         Manager   \n",
       "2236               Solutions Architect & Technical Lead         Manager   \n",
       "2237  Manager, Salesforcecom Administration and Rele...         Manager   \n",
       "2238                    Innovation Automation Architect         Manager   \n",
       "2239      Founder and Chief Executive Officer, Kindbody   Chief Officer   \n",
       "\n",
       "                          Column 2 Column 3 Column 4  \n",
       "0                              NaN      NaN      NaN  \n",
       "1     Individual Contributor/Staff      NaN      NaN  \n",
       "2                    Chief Officer      NaN      NaN  \n",
       "3                    Chief Officer      NaN      NaN  \n",
       "4                              NaN      NaN      NaN  \n",
       "...                            ...      ...      ...  \n",
       "2235                           NaN      NaN      NaN  \n",
       "2236  Individual Contributor/Staff      NaN      NaN  \n",
       "2237                           NaN      NaN      NaN  \n",
       "2238                           NaN      NaN      NaN  \n",
       "2239                           NaN      NaN      NaN  \n",
       "\n",
       "[2240 rows x 5 columns]"
      ],
      "text/html": [
       "<div>\n",
       "<style scoped>\n",
       "    .dataframe tbody tr th:only-of-type {\n",
       "        vertical-align: middle;\n",
       "    }\n",
       "\n",
       "    .dataframe tbody tr th {\n",
       "        vertical-align: top;\n",
       "    }\n",
       "\n",
       "    .dataframe thead th {\n",
       "        text-align: right;\n",
       "    }\n",
       "</style>\n",
       "<table border=\"1\" class=\"dataframe\">\n",
       "  <thead>\n",
       "    <tr style=\"text-align: right;\">\n",
       "      <th></th>\n",
       "      <th>Title</th>\n",
       "      <th>Column 1</th>\n",
       "      <th>Column 2</th>\n",
       "      <th>Column 3</th>\n",
       "      <th>Column 4</th>\n",
       "    </tr>\n",
       "  </thead>\n",
       "  <tbody>\n",
       "    <tr>\n",
       "      <th>0</th>\n",
       "      <td>Vice President / Director of Systems Engineering</td>\n",
       "      <td>Vice President</td>\n",
       "      <td>NaN</td>\n",
       "      <td>NaN</td>\n",
       "      <td>NaN</td>\n",
       "    </tr>\n",
       "    <tr>\n",
       "      <th>1</th>\n",
       "      <td>Systems Engineer; Systems Architect</td>\n",
       "      <td>Manager</td>\n",
       "      <td>Individual Contributor/Staff</td>\n",
       "      <td>NaN</td>\n",
       "      <td>NaN</td>\n",
       "    </tr>\n",
       "    <tr>\n",
       "      <th>2</th>\n",
       "      <td>Executive Director, Global IT Infrastructure /...</td>\n",
       "      <td>Director</td>\n",
       "      <td>Chief Officer</td>\n",
       "      <td>NaN</td>\n",
       "      <td>NaN</td>\n",
       "    </tr>\n",
       "    <tr>\n",
       "      <th>3</th>\n",
       "      <td>CTO/Executive Director of Technology Services</td>\n",
       "      <td>Director</td>\n",
       "      <td>Chief Officer</td>\n",
       "      <td>NaN</td>\n",
       "      <td>NaN</td>\n",
       "    </tr>\n",
       "    <tr>\n",
       "      <th>4</th>\n",
       "      <td>Vice President, CIO</td>\n",
       "      <td>Vice President</td>\n",
       "      <td>NaN</td>\n",
       "      <td>NaN</td>\n",
       "      <td>NaN</td>\n",
       "    </tr>\n",
       "    <tr>\n",
       "      <th>...</th>\n",
       "      <td>...</td>\n",
       "      <td>...</td>\n",
       "      <td>...</td>\n",
       "      <td>...</td>\n",
       "      <td>...</td>\n",
       "    </tr>\n",
       "    <tr>\n",
       "      <th>2235</th>\n",
       "      <td>Net Software Architect and Team Project Lead</td>\n",
       "      <td>Manager</td>\n",
       "      <td>NaN</td>\n",
       "      <td>NaN</td>\n",
       "      <td>NaN</td>\n",
       "    </tr>\n",
       "    <tr>\n",
       "      <th>2236</th>\n",
       "      <td>Solutions Architect &amp; Technical Lead</td>\n",
       "      <td>Manager</td>\n",
       "      <td>Individual Contributor/Staff</td>\n",
       "      <td>NaN</td>\n",
       "      <td>NaN</td>\n",
       "    </tr>\n",
       "    <tr>\n",
       "      <th>2237</th>\n",
       "      <td>Manager, Salesforcecom Administration and Rele...</td>\n",
       "      <td>Manager</td>\n",
       "      <td>NaN</td>\n",
       "      <td>NaN</td>\n",
       "      <td>NaN</td>\n",
       "    </tr>\n",
       "    <tr>\n",
       "      <th>2238</th>\n",
       "      <td>Innovation Automation Architect</td>\n",
       "      <td>Manager</td>\n",
       "      <td>NaN</td>\n",
       "      <td>NaN</td>\n",
       "      <td>NaN</td>\n",
       "    </tr>\n",
       "    <tr>\n",
       "      <th>2239</th>\n",
       "      <td>Founder and Chief Executive Officer, Kindbody</td>\n",
       "      <td>Chief Officer</td>\n",
       "      <td>NaN</td>\n",
       "      <td>NaN</td>\n",
       "      <td>NaN</td>\n",
       "    </tr>\n",
       "  </tbody>\n",
       "</table>\n",
       "<p>2240 rows × 5 columns</p>\n",
       "</div>"
      ]
     },
     "execution_count": 3,
     "metadata": {},
     "output_type": "execute_result"
    }
   ],
   "execution_count": 3
  },
  {
   "metadata": {},
   "cell_type": "markdown",
   "source": "### Handling Missing Data",
   "id": "44b38a445c3096ec"
  },
  {
   "metadata": {},
   "cell_type": "markdown",
   "source": [
    "Let's identify rows where all target columns are NaN, meaning no label is assigned to the position title.\n",
    "\n",
    "Upon analysis, there are 10 rows without labels, representing only 0.4% of the data. Since this is a very small percentage, several actions could be taken to handle these rows:\n",
    "\n",
    "- **Manual Labeling**. Given the small number of entries, it might be possible to ask the data provider or client to label them manually. However, for now we don't have direct communication with the client and also lack sufficient knowledge of the data's context to label them accurately ourselves.\n",
    "- **Data Imputation**. There are several possible variants of imputation: \n",
    "\n",
    "    -  **Fill with default values, e.g. \"Unknown\"**. Not good approach, as introducing a new class may confuse the model and reduce the quality of predictions.\n",
    "    - **Predictive Imputation**. Might be an overkill for this size of data. \n",
    "\n",
    "- **Removing the rows with missing data**. Removing NaN rows may be a reasonable solution, as it would likely have little impact on model performance."
   ],
   "id": "950ed4ce033f5eb1"
  },
  {
   "metadata": {
    "ExecuteTime": {
     "end_time": "2024-10-01T11:50:32.134710Z",
     "start_time": "2024-10-01T11:50:32.129363Z"
    }
   },
   "cell_type": "code",
   "source": [
    "nan_rows = job_level_data[job_level_data.drop(columns=['Title']).isna().all(axis=1)]\n",
    "print(f\"Percentage of not labeled data: {len(nan_rows) / len(job_level_data) * 100}\")\n",
    "nan_rows"
   ],
   "id": "f98512ac3b1929b9",
   "outputs": [
    {
     "name": "stdout",
     "output_type": "stream",
     "text": [
      "Percentage of not labeled data: 0.4464285714285714\n"
     ]
    },
    {
     "data": {
      "text/plain": [
       "                                                  Title Column 1 Column 2  \\\n",
       "29                                                 CINO      NaN      NaN   \n",
       "341                                Ticari Subesi Muduru      NaN      NaN   \n",
       "511   Governor, Chair of Board Risk and Audit Commit...      NaN      NaN   \n",
       "764          Former Director, Compensation and Benefits      NaN      NaN   \n",
       "829                      Release of Information Tech II      NaN      NaN   \n",
       "1257                  Shareholder, Chair of Tax Section      NaN      NaN   \n",
       "1406  Global People Systems, Processes and Informati...      NaN      NaN   \n",
       "1713                          Supplier Quality Engineer      NaN      NaN   \n",
       "1785  RC Environmental and Cyber Specialized Subscri...      NaN      NaN   \n",
       "2182  Senior Independedirector and Chair of the Cust...      NaN      NaN   \n",
       "\n",
       "     Column 3 Column 4  \n",
       "29        NaN      NaN  \n",
       "341       NaN      NaN  \n",
       "511       NaN      NaN  \n",
       "764       NaN      NaN  \n",
       "829       NaN      NaN  \n",
       "1257      NaN      NaN  \n",
       "1406      NaN      NaN  \n",
       "1713      NaN      NaN  \n",
       "1785      NaN      NaN  \n",
       "2182      NaN      NaN  "
      ],
      "text/html": [
       "<div>\n",
       "<style scoped>\n",
       "    .dataframe tbody tr th:only-of-type {\n",
       "        vertical-align: middle;\n",
       "    }\n",
       "\n",
       "    .dataframe tbody tr th {\n",
       "        vertical-align: top;\n",
       "    }\n",
       "\n",
       "    .dataframe thead th {\n",
       "        text-align: right;\n",
       "    }\n",
       "</style>\n",
       "<table border=\"1\" class=\"dataframe\">\n",
       "  <thead>\n",
       "    <tr style=\"text-align: right;\">\n",
       "      <th></th>\n",
       "      <th>Title</th>\n",
       "      <th>Column 1</th>\n",
       "      <th>Column 2</th>\n",
       "      <th>Column 3</th>\n",
       "      <th>Column 4</th>\n",
       "    </tr>\n",
       "  </thead>\n",
       "  <tbody>\n",
       "    <tr>\n",
       "      <th>29</th>\n",
       "      <td>CINO</td>\n",
       "      <td>NaN</td>\n",
       "      <td>NaN</td>\n",
       "      <td>NaN</td>\n",
       "      <td>NaN</td>\n",
       "    </tr>\n",
       "    <tr>\n",
       "      <th>341</th>\n",
       "      <td>Ticari Subesi Muduru</td>\n",
       "      <td>NaN</td>\n",
       "      <td>NaN</td>\n",
       "      <td>NaN</td>\n",
       "      <td>NaN</td>\n",
       "    </tr>\n",
       "    <tr>\n",
       "      <th>511</th>\n",
       "      <td>Governor, Chair of Board Risk and Audit Commit...</td>\n",
       "      <td>NaN</td>\n",
       "      <td>NaN</td>\n",
       "      <td>NaN</td>\n",
       "      <td>NaN</td>\n",
       "    </tr>\n",
       "    <tr>\n",
       "      <th>764</th>\n",
       "      <td>Former Director, Compensation and Benefits</td>\n",
       "      <td>NaN</td>\n",
       "      <td>NaN</td>\n",
       "      <td>NaN</td>\n",
       "      <td>NaN</td>\n",
       "    </tr>\n",
       "    <tr>\n",
       "      <th>829</th>\n",
       "      <td>Release of Information Tech II</td>\n",
       "      <td>NaN</td>\n",
       "      <td>NaN</td>\n",
       "      <td>NaN</td>\n",
       "      <td>NaN</td>\n",
       "    </tr>\n",
       "    <tr>\n",
       "      <th>1257</th>\n",
       "      <td>Shareholder, Chair of Tax Section</td>\n",
       "      <td>NaN</td>\n",
       "      <td>NaN</td>\n",
       "      <td>NaN</td>\n",
       "      <td>NaN</td>\n",
       "    </tr>\n",
       "    <tr>\n",
       "      <th>1406</th>\n",
       "      <td>Global People Systems, Processes and Informati...</td>\n",
       "      <td>NaN</td>\n",
       "      <td>NaN</td>\n",
       "      <td>NaN</td>\n",
       "      <td>NaN</td>\n",
       "    </tr>\n",
       "    <tr>\n",
       "      <th>1713</th>\n",
       "      <td>Supplier Quality Engineer</td>\n",
       "      <td>NaN</td>\n",
       "      <td>NaN</td>\n",
       "      <td>NaN</td>\n",
       "      <td>NaN</td>\n",
       "    </tr>\n",
       "    <tr>\n",
       "      <th>1785</th>\n",
       "      <td>RC Environmental and Cyber Specialized Subscri...</td>\n",
       "      <td>NaN</td>\n",
       "      <td>NaN</td>\n",
       "      <td>NaN</td>\n",
       "      <td>NaN</td>\n",
       "    </tr>\n",
       "    <tr>\n",
       "      <th>2182</th>\n",
       "      <td>Senior Independedirector and Chair of the Cust...</td>\n",
       "      <td>NaN</td>\n",
       "      <td>NaN</td>\n",
       "      <td>NaN</td>\n",
       "      <td>NaN</td>\n",
       "    </tr>\n",
       "  </tbody>\n",
       "</table>\n",
       "</div>"
      ]
     },
     "execution_count": 4,
     "metadata": {},
     "output_type": "execute_result"
    }
   ],
   "execution_count": 4
  },
  {
   "metadata": {},
   "cell_type": "markdown",
   "source": "It was decided to remove the rows with missing data.",
   "id": "ac40000211449c63"
  },
  {
   "metadata": {
    "ExecuteTime": {
     "end_time": "2024-10-01T11:50:32.188978Z",
     "start_time": "2024-10-01T11:50:32.186859Z"
    }
   },
   "cell_type": "code",
   "source": "job_level_data.drop(nan_rows.index, inplace=True)",
   "id": "b63512890da40a0e",
   "outputs": [],
   "execution_count": 5
  },
  {
   "metadata": {},
   "cell_type": "markdown",
   "source": "### Merging Label Columns into a List",
   "id": "55cab88aa37dad4a"
  },
  {
   "metadata": {},
   "cell_type": "markdown",
   "source": "To simplify the manipulation of label data and make it suitable for model input, we need to combine the values from multiple columns into a single list.",
   "id": "f38fa22bf7bb004d"
  },
  {
   "metadata": {
    "ExecuteTime": {
     "end_time": "2024-10-01T11:50:32.237449Z",
     "start_time": "2024-10-01T11:50:32.229058Z"
    }
   },
   "cell_type": "code",
   "source": [
    "job_level_data[\"Label\"] = job_level_data.drop(columns=[\"Title\"]).values.tolist()\n",
    "job_level_data.drop(columns=[\"Column 1\", \"Column 2\", \"Column 3\", \"Column 4\"], inplace=True)\n",
    "\n",
    "def remove_nans_from_array(list):\n",
    "    return [label for label in list if not pd.isna(label)]\n",
    "\n",
    "job_level_data[\"Label\"] = job_level_data[\"Label\"].apply(remove_nans_from_array)\n",
    "job_level_data[\"Label\"] = job_level_data[\"Label\"].apply(lambda labels: sorted(labels))\n",
    "\n",
    "job_level_data"
   ],
   "id": "6cb05384a573a57a",
   "outputs": [
    {
     "data": {
      "text/plain": [
       "                                                  Title  \\\n",
       "0      Vice President / Director of Systems Engineering   \n",
       "1                   Systems Engineer; Systems Architect   \n",
       "2     Executive Director, Global IT Infrastructure /...   \n",
       "3         CTO/Executive Director of Technology Services   \n",
       "4                                   Vice President, CIO   \n",
       "...                                                 ...   \n",
       "2235       Net Software Architect and Team Project Lead   \n",
       "2236               Solutions Architect & Technical Lead   \n",
       "2237  Manager, Salesforcecom Administration and Rele...   \n",
       "2238                    Innovation Automation Architect   \n",
       "2239      Founder and Chief Executive Officer, Kindbody   \n",
       "\n",
       "                                        Label  \n",
       "0                            [Vice President]  \n",
       "1     [Individual Contributor/Staff, Manager]  \n",
       "2                   [Chief Officer, Director]  \n",
       "3                   [Chief Officer, Director]  \n",
       "4                            [Vice President]  \n",
       "...                                       ...  \n",
       "2235                                [Manager]  \n",
       "2236  [Individual Contributor/Staff, Manager]  \n",
       "2237                                [Manager]  \n",
       "2238                                [Manager]  \n",
       "2239                          [Chief Officer]  \n",
       "\n",
       "[2230 rows x 2 columns]"
      ],
      "text/html": [
       "<div>\n",
       "<style scoped>\n",
       "    .dataframe tbody tr th:only-of-type {\n",
       "        vertical-align: middle;\n",
       "    }\n",
       "\n",
       "    .dataframe tbody tr th {\n",
       "        vertical-align: top;\n",
       "    }\n",
       "\n",
       "    .dataframe thead th {\n",
       "        text-align: right;\n",
       "    }\n",
       "</style>\n",
       "<table border=\"1\" class=\"dataframe\">\n",
       "  <thead>\n",
       "    <tr style=\"text-align: right;\">\n",
       "      <th></th>\n",
       "      <th>Title</th>\n",
       "      <th>Label</th>\n",
       "    </tr>\n",
       "  </thead>\n",
       "  <tbody>\n",
       "    <tr>\n",
       "      <th>0</th>\n",
       "      <td>Vice President / Director of Systems Engineering</td>\n",
       "      <td>[Vice President]</td>\n",
       "    </tr>\n",
       "    <tr>\n",
       "      <th>1</th>\n",
       "      <td>Systems Engineer; Systems Architect</td>\n",
       "      <td>[Individual Contributor/Staff, Manager]</td>\n",
       "    </tr>\n",
       "    <tr>\n",
       "      <th>2</th>\n",
       "      <td>Executive Director, Global IT Infrastructure /...</td>\n",
       "      <td>[Chief Officer, Director]</td>\n",
       "    </tr>\n",
       "    <tr>\n",
       "      <th>3</th>\n",
       "      <td>CTO/Executive Director of Technology Services</td>\n",
       "      <td>[Chief Officer, Director]</td>\n",
       "    </tr>\n",
       "    <tr>\n",
       "      <th>4</th>\n",
       "      <td>Vice President, CIO</td>\n",
       "      <td>[Vice President]</td>\n",
       "    </tr>\n",
       "    <tr>\n",
       "      <th>...</th>\n",
       "      <td>...</td>\n",
       "      <td>...</td>\n",
       "    </tr>\n",
       "    <tr>\n",
       "      <th>2235</th>\n",
       "      <td>Net Software Architect and Team Project Lead</td>\n",
       "      <td>[Manager]</td>\n",
       "    </tr>\n",
       "    <tr>\n",
       "      <th>2236</th>\n",
       "      <td>Solutions Architect &amp; Technical Lead</td>\n",
       "      <td>[Individual Contributor/Staff, Manager]</td>\n",
       "    </tr>\n",
       "    <tr>\n",
       "      <th>2237</th>\n",
       "      <td>Manager, Salesforcecom Administration and Rele...</td>\n",
       "      <td>[Manager]</td>\n",
       "    </tr>\n",
       "    <tr>\n",
       "      <th>2238</th>\n",
       "      <td>Innovation Automation Architect</td>\n",
       "      <td>[Manager]</td>\n",
       "    </tr>\n",
       "    <tr>\n",
       "      <th>2239</th>\n",
       "      <td>Founder and Chief Executive Officer, Kindbody</td>\n",
       "      <td>[Chief Officer]</td>\n",
       "    </tr>\n",
       "  </tbody>\n",
       "</table>\n",
       "<p>2230 rows × 2 columns</p>\n",
       "</div>"
      ]
     },
     "execution_count": 6,
     "metadata": {},
     "output_type": "execute_result"
    }
   ],
   "execution_count": 6
  },
  {
   "metadata": {},
   "cell_type": "markdown",
   "source": "### Distribution of Labels",
   "id": "f7e73da7b1e1ef29"
  },
  {
   "metadata": {
    "ExecuteTime": {
     "end_time": "2024-10-01T11:50:32.369654Z",
     "start_time": "2024-10-01T11:50:32.287837Z"
    }
   },
   "cell_type": "code",
   "source": [
    "labels_list = [label for labels_list in job_level_data[\"Label\"] for label in labels_list]\n",
    "labels_count = sorted(Counter(labels_list).items(), key=lambda x: x[1], reverse=True)\n",
    "labels_count_keys, labels_count_values = zip(*labels_count)\n",
    "\n",
    "fig, ax = plt.subplots()\n",
    "ax.bar(labels_count_keys, labels_count_values)\n",
    "ax.set_title('Distribution of position labels')\n",
    "plt.xticks(rotation=90) \n",
    "\n",
    "plt.show()"
   ],
   "id": "d8d4537402283685",
   "outputs": [
    {
     "data": {
      "text/plain": [
       "<Figure size 640x480 with 1 Axes>"
      ],
      "image/png": "[encoded data removed]"
     },
     "metadata": {},
     "output_type": "display_data"
    }
   ],
   "execution_count": 7
  },
  {
   "metadata": {},
   "cell_type": "markdown",
   "source": "It can be observed from the distribution, the data is highly imbalanced, with \"Owner\" label being highly under respresented. This imbalance requires further attention during model training and evaluation.",
   "id": "451065f74bbbded4"
  },
  {
   "metadata": {},
   "cell_type": "markdown",
   "source": "### \"Owner\" Label Exploration",
   "id": "253159f1f850579e"
  },
  {
   "metadata": {
    "ExecuteTime": {
     "end_time": "2024-10-01T11:50:32.417479Z",
     "start_time": "2024-10-01T11:50:32.413037Z"
    }
   },
   "cell_type": "code",
   "source": [
    "owner_label_entries = job_level_data[job_level_data[\"Label\"].apply(lambda labels: \"Owner\" in labels)]\n",
    "owner_label_entries"
   ],
   "id": "9aa344f3e3709de1",
   "outputs": [
    {
     "data": {
      "text/plain": [
       "                                             Title                   Label\n",
       "22                                 CoFounder & CTO  [Chief Officer, Owner]\n",
       "119            Chief Operating Officer, Co-Founder  [Chief Officer, Owner]\n",
       "1222  Co-Owner, Vice President and General Counsel                 [Owner]\n",
       "1933                                  Founder, COO  [Chief Officer, Owner]"
      ],
      "text/html": [
       "<div>\n",
       "<style scoped>\n",
       "    .dataframe tbody tr th:only-of-type {\n",
       "        vertical-align: middle;\n",
       "    }\n",
       "\n",
       "    .dataframe tbody tr th {\n",
       "        vertical-align: top;\n",
       "    }\n",
       "\n",
       "    .dataframe thead th {\n",
       "        text-align: right;\n",
       "    }\n",
       "</style>\n",
       "<table border=\"1\" class=\"dataframe\">\n",
       "  <thead>\n",
       "    <tr style=\"text-align: right;\">\n",
       "      <th></th>\n",
       "      <th>Title</th>\n",
       "      <th>Label</th>\n",
       "    </tr>\n",
       "  </thead>\n",
       "  <tbody>\n",
       "    <tr>\n",
       "      <th>22</th>\n",
       "      <td>CoFounder &amp; CTO</td>\n",
       "      <td>[Chief Officer, Owner]</td>\n",
       "    </tr>\n",
       "    <tr>\n",
       "      <th>119</th>\n",
       "      <td>Chief Operating Officer, Co-Founder</td>\n",
       "      <td>[Chief Officer, Owner]</td>\n",
       "    </tr>\n",
       "    <tr>\n",
       "      <th>1222</th>\n",
       "      <td>Co-Owner, Vice President and General Counsel</td>\n",
       "      <td>[Owner]</td>\n",
       "    </tr>\n",
       "    <tr>\n",
       "      <th>1933</th>\n",
       "      <td>Founder, COO</td>\n",
       "      <td>[Chief Officer, Owner]</td>\n",
       "    </tr>\n",
       "  </tbody>\n",
       "</table>\n",
       "</div>"
      ]
     },
     "execution_count": 8,
     "metadata": {},
     "output_type": "execute_result"
    }
   ],
   "execution_count": 8
  },
  {
   "metadata": {},
   "cell_type": "markdown",
   "source": [
    "As can be observed from the data, there is only 4 entries labeled as \"Owner\". This is insufficient for effectively training a machine learning model, especially for creating an adequate train-test split.\n",
    "\n",
    "To address this, we can check if we can assign the \"Owner\" label based on whether the title contains keywords like \"Owner\" or \"Founder\" during the model inference.  "
   ],
   "id": "289048a975e07034"
  },
  {
   "metadata": {
    "ExecuteTime": {
     "end_time": "2024-10-01T11:50:32.492899Z",
     "start_time": "2024-10-01T11:50:32.488249Z"
    }
   },
   "cell_type": "code",
   "source": "job_level_data[job_level_data[\"Title\"].apply(lambda title: \"Owner\" in title)]",
   "id": "7eceb94f7256b967",
   "outputs": [
    {
     "data": {
      "text/plain": [
       "                                                  Title  \\\n",
       "30                               Owner & Data Architect   \n",
       "896   Senior Manager Product Owner, Wireless Expansi...   \n",
       "998                        Co-Owner & Marketing Manager   \n",
       "1054                                     Practice Owner   \n",
       "1222       Co-Owner, Vice President and General Counsel   \n",
       "1481                     In App Learning Owner Software   \n",
       "1566                         Owner Services Coordinator   \n",
       "1632                                 Owner / Franchisee   \n",
       "1828         Senior Software Consultant / Product Owner   \n",
       "1847       Product Owner Digital, Data and IS Direction   \n",
       "\n",
       "                                    Label  \n",
       "30               [Chief Officer, Manager]  \n",
       "896   [Director, Manager, Vice President]  \n",
       "998              [Chief Officer, Manager]  \n",
       "1054       [Individual Contributor/Staff]  \n",
       "1222                              [Owner]  \n",
       "1481       [Individual Contributor/Staff]  \n",
       "1566       [Individual Contributor/Staff]  \n",
       "1632                      [Chief Officer]  \n",
       "1828       [Individual Contributor/Staff]  \n",
       "1847                            [Manager]  "
      ],
      "text/html": [
       "<div>\n",
       "<style scoped>\n",
       "    .dataframe tbody tr th:only-of-type {\n",
       "        vertical-align: middle;\n",
       "    }\n",
       "\n",
       "    .dataframe tbody tr th {\n",
       "        vertical-align: top;\n",
       "    }\n",
       "\n",
       "    .dataframe thead th {\n",
       "        text-align: right;\n",
       "    }\n",
       "</style>\n",
       "<table border=\"1\" class=\"dataframe\">\n",
       "  <thead>\n",
       "    <tr style=\"text-align: right;\">\n",
       "      <th></th>\n",
       "      <th>Title</th>\n",
       "      <th>Label</th>\n",
       "    </tr>\n",
       "  </thead>\n",
       "  <tbody>\n",
       "    <tr>\n",
       "      <th>30</th>\n",
       "      <td>Owner &amp; Data Architect</td>\n",
       "      <td>[Chief Officer, Manager]</td>\n",
       "    </tr>\n",
       "    <tr>\n",
       "      <th>896</th>\n",
       "      <td>Senior Manager Product Owner, Wireless Expansi...</td>\n",
       "      <td>[Director, Manager, Vice President]</td>\n",
       "    </tr>\n",
       "    <tr>\n",
       "      <th>998</th>\n",
       "      <td>Co-Owner &amp; Marketing Manager</td>\n",
       "      <td>[Chief Officer, Manager]</td>\n",
       "    </tr>\n",
       "    <tr>\n",
       "      <th>1054</th>\n",
       "      <td>Practice Owner</td>\n",
       "      <td>[Individual Contributor/Staff]</td>\n",
       "    </tr>\n",
       "    <tr>\n",
       "      <th>1222</th>\n",
       "      <td>Co-Owner, Vice President and General Counsel</td>\n",
       "      <td>[Owner]</td>\n",
       "    </tr>\n",
       "    <tr>\n",
       "      <th>1481</th>\n",
       "      <td>In App Learning Owner Software</td>\n",
       "      <td>[Individual Contributor/Staff]</td>\n",
       "    </tr>\n",
       "    <tr>\n",
       "      <th>1566</th>\n",
       "      <td>Owner Services Coordinator</td>\n",
       "      <td>[Individual Contributor/Staff]</td>\n",
       "    </tr>\n",
       "    <tr>\n",
       "      <th>1632</th>\n",
       "      <td>Owner / Franchisee</td>\n",
       "      <td>[Chief Officer]</td>\n",
       "    </tr>\n",
       "    <tr>\n",
       "      <th>1828</th>\n",
       "      <td>Senior Software Consultant / Product Owner</td>\n",
       "      <td>[Individual Contributor/Staff]</td>\n",
       "    </tr>\n",
       "    <tr>\n",
       "      <th>1847</th>\n",
       "      <td>Product Owner Digital, Data and IS Direction</td>\n",
       "      <td>[Manager]</td>\n",
       "    </tr>\n",
       "  </tbody>\n",
       "</table>\n",
       "</div>"
      ]
     },
     "execution_count": 9,
     "metadata": {},
     "output_type": "execute_result"
    }
   ],
   "execution_count": 9
  },
  {
   "metadata": {},
   "cell_type": "markdown",
   "source": [
    "Inspecting data above, it was found that not all titles containing the words \"Owner\" or \"Founder\" are labeled as \"Owner.\" This suggests that making a decision to hard-code labelling of this category would be unreliable. \n",
    "\n",
    "In conclusion, the \"Owner\" label may not be predictable given the data currently available. As there are usually only a few owners of the company, it would be better to label the data manually on top of models prediction. Therefore, we will remove the entries with the \"Owner\" label."
   ],
   "id": "d0660271d88513de"
  },
  {
   "metadata": {
    "ExecuteTime": {
     "end_time": "2024-10-01T11:50:32.568028Z",
     "start_time": "2024-10-01T11:50:32.564788Z"
    }
   },
   "cell_type": "code",
   "source": [
    "job_level_data.drop(owner_label_entries.index, inplace=True)\n",
    "\n",
    "# update labels list and count for further usage\n",
    "labels_list = [label for labels_list in job_level_data[\"Label\"] for label in labels_list]\n",
    "labels_count = sorted(Counter(labels_list).items(), key=lambda x: x[1], reverse=True)"
   ],
   "id": "63fd9c8c50456161",
   "outputs": [],
   "execution_count": 10
  },
  {
   "metadata": {},
   "cell_type": "markdown",
   "source": [
    "### \"Manager\" Label Exploration\n",
    "The baseline model yields a high number of false negatives for the \"Manager\" label, failing to predict it correctly. Let's explore the data to understand why this is happening ."
   ],
   "id": "9049b761deb159a6"
  },
  {
   "metadata": {
    "ExecuteTime": {
     "end_time": "2024-10-01T11:50:32.637719Z",
     "start_time": "2024-10-01T11:50:32.633114Z"
    }
   },
   "cell_type": "code",
   "source": [
    "manager_label_entries = job_level_data[job_level_data[\"Label\"].apply(lambda labels: \"Manager\" in labels)]\n",
    "manager_label_entries"
   ],
   "id": "e78a4f7caef79efe",
   "outputs": [
    {
     "data": {
      "text/plain": [
       "                                                  Title  \\\n",
       "1                   Systems Engineer; Systems Architect   \n",
       "14          Lead Software Engineer, Technical Team Lead   \n",
       "30                               Owner & Data Architect   \n",
       "32                               CEO/Solution Architect   \n",
       "34        Cloud Architect | DevOps Engineer | Tech Lead   \n",
       "...                                                 ...   \n",
       "2234      Solution Architect, Technical Account Manager   \n",
       "2235       Net Software Architect and Team Project Lead   \n",
       "2236               Solutions Architect & Technical Lead   \n",
       "2237  Manager, Salesforcecom Administration and Rele...   \n",
       "2238                    Innovation Automation Architect   \n",
       "\n",
       "                                        Label  \n",
       "1     [Individual Contributor/Staff, Manager]  \n",
       "14    [Individual Contributor/Staff, Manager]  \n",
       "30                   [Chief Officer, Manager]  \n",
       "32                   [Chief Officer, Manager]  \n",
       "34    [Individual Contributor/Staff, Manager]  \n",
       "...                                       ...  \n",
       "2234                                [Manager]  \n",
       "2235                                [Manager]  \n",
       "2236  [Individual Contributor/Staff, Manager]  \n",
       "2237                                [Manager]  \n",
       "2238                                [Manager]  \n",
       "\n",
       "[211 rows x 2 columns]"
      ],
      "text/html": [
       "<div>\n",
       "<style scoped>\n",
       "    .dataframe tbody tr th:only-of-type {\n",
       "        vertical-align: middle;\n",
       "    }\n",
       "\n",
       "    .dataframe tbody tr th {\n",
       "        vertical-align: top;\n",
       "    }\n",
       "\n",
       "    .dataframe thead th {\n",
       "        text-align: right;\n",
       "    }\n",
       "</style>\n",
       "<table border=\"1\" class=\"dataframe\">\n",
       "  <thead>\n",
       "    <tr style=\"text-align: right;\">\n",
       "      <th></th>\n",
       "      <th>Title</th>\n",
       "      <th>Label</th>\n",
       "    </tr>\n",
       "  </thead>\n",
       "  <tbody>\n",
       "    <tr>\n",
       "      <th>1</th>\n",
       "      <td>Systems Engineer; Systems Architect</td>\n",
       "      <td>[Individual Contributor/Staff, Manager]</td>\n",
       "    </tr>\n",
       "    <tr>\n",
       "      <th>14</th>\n",
       "      <td>Lead Software Engineer, Technical Team Lead</td>\n",
       "      <td>[Individual Contributor/Staff, Manager]</td>\n",
       "    </tr>\n",
       "    <tr>\n",
       "      <th>30</th>\n",
       "      <td>Owner &amp; Data Architect</td>\n",
       "      <td>[Chief Officer, Manager]</td>\n",
       "    </tr>\n",
       "    <tr>\n",
       "      <th>32</th>\n",
       "      <td>CEO/Solution Architect</td>\n",
       "      <td>[Chief Officer, Manager]</td>\n",
       "    </tr>\n",
       "    <tr>\n",
       "      <th>34</th>\n",
       "      <td>Cloud Architect | DevOps Engineer | Tech Lead</td>\n",
       "      <td>[Individual Contributor/Staff, Manager]</td>\n",
       "    </tr>\n",
       "    <tr>\n",
       "      <th>...</th>\n",
       "      <td>...</td>\n",
       "      <td>...</td>\n",
       "    </tr>\n",
       "    <tr>\n",
       "      <th>2234</th>\n",
       "      <td>Solution Architect, Technical Account Manager</td>\n",
       "      <td>[Manager]</td>\n",
       "    </tr>\n",
       "    <tr>\n",
       "      <th>2235</th>\n",
       "      <td>Net Software Architect and Team Project Lead</td>\n",
       "      <td>[Manager]</td>\n",
       "    </tr>\n",
       "    <tr>\n",
       "      <th>2236</th>\n",
       "      <td>Solutions Architect &amp; Technical Lead</td>\n",
       "      <td>[Individual Contributor/Staff, Manager]</td>\n",
       "    </tr>\n",
       "    <tr>\n",
       "      <th>2237</th>\n",
       "      <td>Manager, Salesforcecom Administration and Rele...</td>\n",
       "      <td>[Manager]</td>\n",
       "    </tr>\n",
       "    <tr>\n",
       "      <th>2238</th>\n",
       "      <td>Innovation Automation Architect</td>\n",
       "      <td>[Manager]</td>\n",
       "    </tr>\n",
       "  </tbody>\n",
       "</table>\n",
       "<p>211 rows × 2 columns</p>\n",
       "</div>"
      ]
     },
     "execution_count": 11,
     "metadata": {},
     "output_type": "execute_result"
    }
   ],
   "execution_count": 11
  },
  {
   "metadata": {},
   "cell_type": "markdown",
   "source": [
    "### \"Chief Officer\" Label Exploration\n",
    "The baseline model yields a high number of false negatives for the \"Manager\" label, failing to predict it correctly. Let's explore the data to understand why this is happening."
   ],
   "id": "a6965568be380512"
  },
  {
   "metadata": {
    "ExecuteTime": {
     "end_time": "2024-10-01T11:50:32.719487Z",
     "start_time": "2024-10-01T11:50:32.714685Z"
    }
   },
   "cell_type": "code",
   "source": [
    "manager_label_entries = job_level_data[job_level_data[\"Label\"].apply(lambda labels: \"Chief Officer\" in labels)]\n",
    "manager_label_entries"
   ],
   "id": "44e0bbe2fb7f8901",
   "outputs": [
    {
     "data": {
      "text/plain": [
       "                                                  Title  \\\n",
       "2     Executive Director, Global IT Infrastructure /...   \n",
       "3         CTO/Executive Director of Technology Services   \n",
       "5                                            CIO, Cissp   \n",
       "6          Chief Information Officer, Platform Services   \n",
       "7          Chief Technology Officer / Head Of Marketing   \n",
       "...                                                 ...   \n",
       "2157             Audit and TAS Partner Chairman and CEO   \n",
       "2187                  Chief Marketing & Revenue Officer   \n",
       "2228       Vice President, CIO Global Business Services   \n",
       "2233  Chief Information Security Officer, AVP Inform...   \n",
       "2239      Founder and Chief Executive Officer, Kindbody   \n",
       "\n",
       "                          Label  \n",
       "2     [Chief Officer, Director]  \n",
       "3     [Chief Officer, Director]  \n",
       "5               [Chief Officer]  \n",
       "6               [Chief Officer]  \n",
       "7               [Chief Officer]  \n",
       "...                         ...  \n",
       "2157            [Chief Officer]  \n",
       "2187            [Chief Officer]  \n",
       "2228            [Chief Officer]  \n",
       "2233            [Chief Officer]  \n",
       "2239            [Chief Officer]  \n",
       "\n",
       "[163 rows x 2 columns]"
      ],
      "text/html": [
       "<div>\n",
       "<style scoped>\n",
       "    .dataframe tbody tr th:only-of-type {\n",
       "        vertical-align: middle;\n",
       "    }\n",
       "\n",
       "    .dataframe tbody tr th {\n",
       "        vertical-align: top;\n",
       "    }\n",
       "\n",
       "    .dataframe thead th {\n",
       "        text-align: right;\n",
       "    }\n",
       "</style>\n",
       "<table border=\"1\" class=\"dataframe\">\n",
       "  <thead>\n",
       "    <tr style=\"text-align: right;\">\n",
       "      <th></th>\n",
       "      <th>Title</th>\n",
       "      <th>Label</th>\n",
       "    </tr>\n",
       "  </thead>\n",
       "  <tbody>\n",
       "    <tr>\n",
       "      <th>2</th>\n",
       "      <td>Executive Director, Global IT Infrastructure /...</td>\n",
       "      <td>[Chief Officer, Director]</td>\n",
       "    </tr>\n",
       "    <tr>\n",
       "      <th>3</th>\n",
       "      <td>CTO/Executive Director of Technology Services</td>\n",
       "      <td>[Chief Officer, Director]</td>\n",
       "    </tr>\n",
       "    <tr>\n",
       "      <th>5</th>\n",
       "      <td>CIO, Cissp</td>\n",
       "      <td>[Chief Officer]</td>\n",
       "    </tr>\n",
       "    <tr>\n",
       "      <th>6</th>\n",
       "      <td>Chief Information Officer, Platform Services</td>\n",
       "      <td>[Chief Officer]</td>\n",
       "    </tr>\n",
       "    <tr>\n",
       "      <th>7</th>\n",
       "      <td>Chief Technology Officer / Head Of Marketing</td>\n",
       "      <td>[Chief Officer]</td>\n",
       "    </tr>\n",
       "    <tr>\n",
       "      <th>...</th>\n",
       "      <td>...</td>\n",
       "      <td>...</td>\n",
       "    </tr>\n",
       "    <tr>\n",
       "      <th>2157</th>\n",
       "      <td>Audit and TAS Partner Chairman and CEO</td>\n",
       "      <td>[Chief Officer]</td>\n",
       "    </tr>\n",
       "    <tr>\n",
       "      <th>2187</th>\n",
       "      <td>Chief Marketing &amp; Revenue Officer</td>\n",
       "      <td>[Chief Officer]</td>\n",
       "    </tr>\n",
       "    <tr>\n",
       "      <th>2228</th>\n",
       "      <td>Vice President, CIO Global Business Services</td>\n",
       "      <td>[Chief Officer]</td>\n",
       "    </tr>\n",
       "    <tr>\n",
       "      <th>2233</th>\n",
       "      <td>Chief Information Security Officer, AVP Inform...</td>\n",
       "      <td>[Chief Officer]</td>\n",
       "    </tr>\n",
       "    <tr>\n",
       "      <th>2239</th>\n",
       "      <td>Founder and Chief Executive Officer, Kindbody</td>\n",
       "      <td>[Chief Officer]</td>\n",
       "    </tr>\n",
       "  </tbody>\n",
       "</table>\n",
       "<p>163 rows × 2 columns</p>\n",
       "</div>"
      ]
     },
     "execution_count": 12,
     "metadata": {},
     "output_type": "execute_result"
    }
   ],
   "execution_count": 12
  },
  {
   "metadata": {},
   "cell_type": "markdown",
   "source": "### Label One-Hot Encoding",
   "id": "d589d87969e63856"
  },
  {
   "metadata": {
    "ExecuteTime": {
     "end_time": "2024-10-01T11:50:32.779667Z",
     "start_time": "2024-10-01T11:50:32.773069Z"
    }
   },
   "cell_type": "code",
   "source": [
    "mlb = MultiLabelBinarizer()\n",
    "one_hot_encoded_labels = mlb.fit_transform(job_level_data[\"Label\"])\n",
    "one_hot_df = pd.DataFrame(one_hot_encoded_labels, columns=mlb.classes_)\n",
    "job_level_data[\"Label\"] = one_hot_df.values.tolist()\n",
    "\n",
    "classes_labels = mlb.classes_\n",
    "print(classes_labels)\n",
    "job_level_data"
   ],
   "id": "a964a3273d0e598b",
   "outputs": [
    {
     "name": "stdout",
     "output_type": "stream",
     "text": [
      "['Chief Officer' 'Director' 'Individual Contributor/Staff' 'Manager'\n",
      " 'Vice President']\n"
     ]
    },
    {
     "data": {
      "text/plain": [
       "                                                  Title            Label\n",
       "0      Vice President / Director of Systems Engineering  [0, 0, 0, 0, 1]\n",
       "1                   Systems Engineer; Systems Architect  [0, 0, 1, 1, 0]\n",
       "2     Executive Director, Global IT Infrastructure /...  [1, 1, 0, 0, 0]\n",
       "3         CTO/Executive Director of Technology Services  [1, 1, 0, 0, 0]\n",
       "4                                   Vice President, CIO  [0, 0, 0, 0, 1]\n",
       "...                                                 ...              ...\n",
       "2235       Net Software Architect and Team Project Lead  [0, 0, 0, 1, 0]\n",
       "2236               Solutions Architect & Technical Lead  [0, 0, 1, 1, 0]\n",
       "2237  Manager, Salesforcecom Administration and Rele...  [0, 0, 0, 1, 0]\n",
       "2238                    Innovation Automation Architect  [0, 0, 0, 1, 0]\n",
       "2239      Founder and Chief Executive Officer, Kindbody  [1, 0, 0, 0, 0]\n",
       "\n",
       "[2226 rows x 2 columns]"
      ],
      "text/html": [
       "<div>\n",
       "<style scoped>\n",
       "    .dataframe tbody tr th:only-of-type {\n",
       "        vertical-align: middle;\n",
       "    }\n",
       "\n",
       "    .dataframe tbody tr th {\n",
       "        vertical-align: top;\n",
       "    }\n",
       "\n",
       "    .dataframe thead th {\n",
       "        text-align: right;\n",
       "    }\n",
       "</style>\n",
       "<table border=\"1\" class=\"dataframe\">\n",
       "  <thead>\n",
       "    <tr style=\"text-align: right;\">\n",
       "      <th></th>\n",
       "      <th>Title</th>\n",
       "      <th>Label</th>\n",
       "    </tr>\n",
       "  </thead>\n",
       "  <tbody>\n",
       "    <tr>\n",
       "      <th>0</th>\n",
       "      <td>Vice President / Director of Systems Engineering</td>\n",
       "      <td>[0, 0, 0, 0, 1]</td>\n",
       "    </tr>\n",
       "    <tr>\n",
       "      <th>1</th>\n",
       "      <td>Systems Engineer; Systems Architect</td>\n",
       "      <td>[0, 0, 1, 1, 0]</td>\n",
       "    </tr>\n",
       "    <tr>\n",
       "      <th>2</th>\n",
       "      <td>Executive Director, Global IT Infrastructure /...</td>\n",
       "      <td>[1, 1, 0, 0, 0]</td>\n",
       "    </tr>\n",
       "    <tr>\n",
       "      <th>3</th>\n",
       "      <td>CTO/Executive Director of Technology Services</td>\n",
       "      <td>[1, 1, 0, 0, 0]</td>\n",
       "    </tr>\n",
       "    <tr>\n",
       "      <th>4</th>\n",
       "      <td>Vice President, CIO</td>\n",
       "      <td>[0, 0, 0, 0, 1]</td>\n",
       "    </tr>\n",
       "    <tr>\n",
       "      <th>...</th>\n",
       "      <td>...</td>\n",
       "      <td>...</td>\n",
       "    </tr>\n",
       "    <tr>\n",
       "      <th>2235</th>\n",
       "      <td>Net Software Architect and Team Project Lead</td>\n",
       "      <td>[0, 0, 0, 1, 0]</td>\n",
       "    </tr>\n",
       "    <tr>\n",
       "      <th>2236</th>\n",
       "      <td>Solutions Architect &amp; Technical Lead</td>\n",
       "      <td>[0, 0, 1, 1, 0]</td>\n",
       "    </tr>\n",
       "    <tr>\n",
       "      <th>2237</th>\n",
       "      <td>Manager, Salesforcecom Administration and Rele...</td>\n",
       "      <td>[0, 0, 0, 1, 0]</td>\n",
       "    </tr>\n",
       "    <tr>\n",
       "      <th>2238</th>\n",
       "      <td>Innovation Automation Architect</td>\n",
       "      <td>[0, 0, 0, 1, 0]</td>\n",
       "    </tr>\n",
       "    <tr>\n",
       "      <th>2239</th>\n",
       "      <td>Founder and Chief Executive Officer, Kindbody</td>\n",
       "      <td>[1, 0, 0, 0, 0]</td>\n",
       "    </tr>\n",
       "  </tbody>\n",
       "</table>\n",
       "<p>2226 rows × 2 columns</p>\n",
       "</div>"
      ]
     },
     "execution_count": 13,
     "metadata": {},
     "output_type": "execute_result"
    }
   ],
   "execution_count": 13
  },
  {
   "metadata": {},
   "cell_type": "markdown",
   "source": [
    "### Correlation Matrix\n",
    "The following observations can be made from the correlation matrix:\n",
    "- Majority of correlations are negative or 0, meaning that there is low overlap between roles. \n",
    "- The correlation matrix shows a hierarchy in the company, with lower hierarchy positions such as \"Individual Contributor/Staff\" having strong negative correlations with senior titles like \"Director\"(-0.5), \"Vice President\"(-0.44) and Chief Officer(-0.27). The model will rather think of them as mutually exclusive."
   ],
   "id": "98e4f3dfe8058003"
  },
  {
   "metadata": {
    "ExecuteTime": {
     "end_time": "2024-10-01T11:50:33.013507Z",
     "start_time": "2024-10-01T11:50:32.895361Z"
    }
   },
   "cell_type": "code",
   "source": [
    "correlation_matrix = one_hot_df.corr()\n",
    "\n",
    "plt.figure(figsize=(10, 8))\n",
    "sns.heatmap(correlation_matrix, annot=True, cmap='Blues', fmt='.2f', vmin=-1, vmax=1)\n",
    "plt.title('Correlation Matrix of Labels')\n",
    "plt.show()"
   ],
   "id": "767f592ef1a6432",
   "outputs": [
    {
     "data": {
      "text/plain": [
       "<Figure size 1000x800 with 2 Axes>"
      ],
      "image/png": "[encoded data removed]"
     },
     "metadata": {},
     "output_type": "display_data"
    }
   ],
   "execution_count": 14
  },
  {
   "metadata": {},
   "cell_type": "markdown",
   "source": [
    "### Text Preprocessing\n",
    "- Removing punctiation and any special characters\n",
    "- Normalizing whitespaces"
   ],
   "id": "8774f4cc19a56c5a"
  },
  {
   "metadata": {
    "ExecuteTime": {
     "end_time": "2024-10-01T11:50:33.053025Z",
     "start_time": "2024-10-01T11:50:33.043624Z"
    }
   },
   "cell_type": "code",
   "source": [
    "def preprocess_text(text):\n",
    "    text = re.sub(r'[^\\w\\s]', ' ', text)\n",
    "    text = re.sub(r'\\s+', ' ', text).strip()\n",
    "    return text\n",
    "\n",
    "job_level_data[\"Title\"] = job_level_data[\"Title\"].apply(preprocess_text)\n",
    "job_level_data"
   ],
   "id": "35ea557b7e263183",
   "outputs": [
    {
     "data": {
      "text/plain": [
       "                                                  Title            Label\n",
       "0        Vice President Director of Systems Engineering  [0, 0, 0, 0, 1]\n",
       "1                    Systems Engineer Systems Architect  [0, 0, 1, 1, 0]\n",
       "2     Executive Director Global IT Infrastructure Ch...  [1, 1, 0, 0, 0]\n",
       "3         CTO Executive Director of Technology Services  [1, 1, 0, 0, 0]\n",
       "4                                    Vice President CIO  [0, 0, 0, 0, 1]\n",
       "...                                                 ...              ...\n",
       "2235       Net Software Architect and Team Project Lead  [0, 0, 0, 1, 0]\n",
       "2236                 Solutions Architect Technical Lead  [0, 0, 1, 1, 0]\n",
       "2237  Manager Salesforcecom Administration and Relea...  [0, 0, 0, 1, 0]\n",
       "2238                    Innovation Automation Architect  [0, 0, 0, 1, 0]\n",
       "2239       Founder and Chief Executive Officer Kindbody  [1, 0, 0, 0, 0]\n",
       "\n",
       "[2226 rows x 2 columns]"
      ],
      "text/html": [
       "<div>\n",
       "<style scoped>\n",
       "    .dataframe tbody tr th:only-of-type {\n",
       "        vertical-align: middle;\n",
       "    }\n",
       "\n",
       "    .dataframe tbody tr th {\n",
       "        vertical-align: top;\n",
       "    }\n",
       "\n",
       "    .dataframe thead th {\n",
       "        text-align: right;\n",
       "    }\n",
       "</style>\n",
       "<table border=\"1\" class=\"dataframe\">\n",
       "  <thead>\n",
       "    <tr style=\"text-align: right;\">\n",
       "      <th></th>\n",
       "      <th>Title</th>\n",
       "      <th>Label</th>\n",
       "    </tr>\n",
       "  </thead>\n",
       "  <tbody>\n",
       "    <tr>\n",
       "      <th>0</th>\n",
       "      <td>Vice President Director of Systems Engineering</td>\n",
       "      <td>[0, 0, 0, 0, 1]</td>\n",
       "    </tr>\n",
       "    <tr>\n",
       "      <th>1</th>\n",
       "      <td>Systems Engineer Systems Architect</td>\n",
       "      <td>[0, 0, 1, 1, 0]</td>\n",
       "    </tr>\n",
       "    <tr>\n",
       "      <th>2</th>\n",
       "      <td>Executive Director Global IT Infrastructure Ch...</td>\n",
       "      <td>[1, 1, 0, 0, 0]</td>\n",
       "    </tr>\n",
       "    <tr>\n",
       "      <th>3</th>\n",
       "      <td>CTO Executive Director of Technology Services</td>\n",
       "      <td>[1, 1, 0, 0, 0]</td>\n",
       "    </tr>\n",
       "    <tr>\n",
       "      <th>4</th>\n",
       "      <td>Vice President CIO</td>\n",
       "      <td>[0, 0, 0, 0, 1]</td>\n",
       "    </tr>\n",
       "    <tr>\n",
       "      <th>...</th>\n",
       "      <td>...</td>\n",
       "      <td>...</td>\n",
       "    </tr>\n",
       "    <tr>\n",
       "      <th>2235</th>\n",
       "      <td>Net Software Architect and Team Project Lead</td>\n",
       "      <td>[0, 0, 0, 1, 0]</td>\n",
       "    </tr>\n",
       "    <tr>\n",
       "      <th>2236</th>\n",
       "      <td>Solutions Architect Technical Lead</td>\n",
       "      <td>[0, 0, 1, 1, 0]</td>\n",
       "    </tr>\n",
       "    <tr>\n",
       "      <th>2237</th>\n",
       "      <td>Manager Salesforcecom Administration and Relea...</td>\n",
       "      <td>[0, 0, 0, 1, 0]</td>\n",
       "    </tr>\n",
       "    <tr>\n",
       "      <th>2238</th>\n",
       "      <td>Innovation Automation Architect</td>\n",
       "      <td>[0, 0, 0, 1, 0]</td>\n",
       "    </tr>\n",
       "    <tr>\n",
       "      <th>2239</th>\n",
       "      <td>Founder and Chief Executive Officer Kindbody</td>\n",
       "      <td>[1, 0, 0, 0, 0]</td>\n",
       "    </tr>\n",
       "  </tbody>\n",
       "</table>\n",
       "<p>2226 rows × 2 columns</p>\n",
       "</div>"
      ]
     },
     "execution_count": 15,
     "metadata": {},
     "output_type": "execute_result"
    }
   ],
   "execution_count": 15
  },
  {
   "metadata": {},
   "cell_type": "markdown",
   "source": "As BERT tokenizer might separate acronyms, therefore it is highly beneficial to expand them to their full form. ",
   "id": "176bfcd0195c93a"
  },
  {
   "metadata": {
    "ExecuteTime": {
     "end_time": "2024-10-01T11:50:33.106053Z",
     "start_time": "2024-10-01T11:50:33.099067Z"
    }
   },
   "cell_type": "code",
   "source": [
    "acronyms_dict = {\n",
    "    \"ceo\": \"Chief Executive Officer\",\n",
    "    \"cfo\": \"Chief Financial Officer\",\n",
    "    \"cto\": \"Chief Technology Officer\",\n",
    "    \"vp\": \"Vice President\",\n",
    "    \"hr\": \"Human Resources\",\n",
    "    \"chro\": \"Chief Human Resources Officer\",\n",
    "    \"cio\": \"Chief Information Officer\",\n",
    "    \"ciso\": \"Chief Information Security Officer\",\n",
    "    \"clo\": \"Chief Legal Officer\",\n",
    "    \"cmo\": \"Chief Marketing Officer\",\n",
    "    \"coo\": \"Chief Operating Officer\",\n",
    "    \"cino\": \"Chief Innovation Officer\",\n",
    "    \"cpo\": \"Chief Product Officer\",\n",
    "    \"cro\": \"Chief Revenue Officer\",\n",
    "    \"evp\": \"Executive Vice President\",\n",
    "    \"svp\": \"Senior Vice President\",\n",
    "    \"it\": \"Informational Technology\"\n",
    "}\n",
    "\n",
    "def expand_acronyms(text):\n",
    "    words = text.split()\n",
    "    expanded_words = [acronyms_dict.get(word.lower(), word) for word in words]\n",
    "    return ' '.join(expanded_words)\n",
    "\n",
    "job_level_data[\"Title\"] = job_level_data[\"Title\"].apply(expand_acronyms)\n",
    "job_level_data"
   ],
   "id": "f774f6f66f601c79",
   "outputs": [
    {
     "data": {
      "text/plain": [
       "                                                  Title            Label\n",
       "0        Vice President Director of Systems Engineering  [0, 0, 0, 0, 1]\n",
       "1                    Systems Engineer Systems Architect  [0, 0, 1, 1, 0]\n",
       "2     Executive Director Global Informational Techno...  [1, 1, 0, 0, 0]\n",
       "3     Chief Technology Officer Executive Director of...  [1, 1, 0, 0, 0]\n",
       "4              Vice President Chief Information Officer  [0, 0, 0, 0, 1]\n",
       "...                                                 ...              ...\n",
       "2235       Net Software Architect and Team Project Lead  [0, 0, 0, 1, 0]\n",
       "2236                 Solutions Architect Technical Lead  [0, 0, 1, 1, 0]\n",
       "2237  Manager Salesforcecom Administration and Relea...  [0, 0, 0, 1, 0]\n",
       "2238                    Innovation Automation Architect  [0, 0, 0, 1, 0]\n",
       "2239       Founder and Chief Executive Officer Kindbody  [1, 0, 0, 0, 0]\n",
       "\n",
       "[2226 rows x 2 columns]"
      ],
      "text/html": [
       "<div>\n",
       "<style scoped>\n",
       "    .dataframe tbody tr th:only-of-type {\n",
       "        vertical-align: middle;\n",
       "    }\n",
       "\n",
       "    .dataframe tbody tr th {\n",
       "        vertical-align: top;\n",
       "    }\n",
       "\n",
       "    .dataframe thead th {\n",
       "        text-align: right;\n",
       "    }\n",
       "</style>\n",
       "<table border=\"1\" class=\"dataframe\">\n",
       "  <thead>\n",
       "    <tr style=\"text-align: right;\">\n",
       "      <th></th>\n",
       "      <th>Title</th>\n",
       "      <th>Label</th>\n",
       "    </tr>\n",
       "  </thead>\n",
       "  <tbody>\n",
       "    <tr>\n",
       "      <th>0</th>\n",
       "      <td>Vice President Director of Systems Engineering</td>\n",
       "      <td>[0, 0, 0, 0, 1]</td>\n",
       "    </tr>\n",
       "    <tr>\n",
       "      <th>1</th>\n",
       "      <td>Systems Engineer Systems Architect</td>\n",
       "      <td>[0, 0, 1, 1, 0]</td>\n",
       "    </tr>\n",
       "    <tr>\n",
       "      <th>2</th>\n",
       "      <td>Executive Director Global Informational Techno...</td>\n",
       "      <td>[1, 1, 0, 0, 0]</td>\n",
       "    </tr>\n",
       "    <tr>\n",
       "      <th>3</th>\n",
       "      <td>Chief Technology Officer Executive Director of...</td>\n",
       "      <td>[1, 1, 0, 0, 0]</td>\n",
       "    </tr>\n",
       "    <tr>\n",
       "      <th>4</th>\n",
       "      <td>Vice President Chief Information Officer</td>\n",
       "      <td>[0, 0, 0, 0, 1]</td>\n",
       "    </tr>\n",
       "    <tr>\n",
       "      <th>...</th>\n",
       "      <td>...</td>\n",
       "      <td>...</td>\n",
       "    </tr>\n",
       "    <tr>\n",
       "      <th>2235</th>\n",
       "      <td>Net Software Architect and Team Project Lead</td>\n",
       "      <td>[0, 0, 0, 1, 0]</td>\n",
       "    </tr>\n",
       "    <tr>\n",
       "      <th>2236</th>\n",
       "      <td>Solutions Architect Technical Lead</td>\n",
       "      <td>[0, 0, 1, 1, 0]</td>\n",
       "    </tr>\n",
       "    <tr>\n",
       "      <th>2237</th>\n",
       "      <td>Manager Salesforcecom Administration and Relea...</td>\n",
       "      <td>[0, 0, 0, 1, 0]</td>\n",
       "    </tr>\n",
       "    <tr>\n",
       "      <th>2238</th>\n",
       "      <td>Innovation Automation Architect</td>\n",
       "      <td>[0, 0, 0, 1, 0]</td>\n",
       "    </tr>\n",
       "    <tr>\n",
       "      <th>2239</th>\n",
       "      <td>Founder and Chief Executive Officer Kindbody</td>\n",
       "      <td>[1, 0, 0, 0, 0]</td>\n",
       "    </tr>\n",
       "  </tbody>\n",
       "</table>\n",
       "<p>2226 rows × 2 columns</p>\n",
       "</div>"
      ]
     },
     "execution_count": 16,
     "metadata": {},
     "output_type": "execute_result"
    }
   ],
   "execution_count": 16
  },
  {
   "metadata": {},
   "cell_type": "markdown",
   "source": "We do not perform any other preprocessing steps, such as stemming or lemmatization, as the BERT model is designed to understand textual data in context.",
   "id": "7909d5e59eeae5fd"
  },
  {
   "metadata": {},
   "cell_type": "markdown",
   "source": [
    "### Tokenization\n",
    "Cased BERT model will be used to tokenize the data (wordpiece algorithm). The cased model was chosen as the data contains abbreviations which are case-sensitive."
   ],
   "id": "929cfa9c9fb73d7"
  },
  {
   "metadata": {
    "ExecuteTime": {
     "end_time": "2024-10-01T11:50:33.434109Z",
     "start_time": "2024-10-01T11:50:33.164906Z"
    }
   },
   "cell_type": "code",
   "source": "tokenizer = BertTokenizer.from_pretrained('bert-base-cased')",
   "id": "14736e7046217c0e",
   "outputs": [],
   "execution_count": 17
  },
  {
   "metadata": {
    "ExecuteTime": {
     "end_time": "2024-10-01T11:50:33.554081Z",
     "start_time": "2024-10-01T11:50:33.456736Z"
    }
   },
   "cell_type": "code",
   "source": [
    "def split_text(text):\n",
    "    return tokenizer.tokenize(text)\n",
    "\n",
    "max_len = job_level_data[\"Title\"].apply(split_text).apply(len).max()\n",
    "print(\"Maximum lengths of tokenized sentence: \", max_len)"
   ],
   "id": "291b8bac4794ff77",
   "outputs": [
    {
     "name": "stdout",
     "output_type": "stream",
     "text": [
      "Maximum lengths of tokenized sentence:  21\n"
     ]
    }
   ],
   "execution_count": 18
  },
  {
   "metadata": {},
   "cell_type": "markdown",
   "source": "## Dataset Loading",
   "id": "ac379e36daa06363"
  },
  {
   "metadata": {
    "ExecuteTime": {
     "end_time": "2024-10-01T11:50:33.573534Z",
     "start_time": "2024-10-01T11:50:33.571399Z"
    }
   },
   "cell_type": "code",
   "source": [
    "RANDOM_SEED = 42\n",
    "MAX_LEN = 30\n",
    "BATCH_SIZE = 64\n",
    "MAX_EPOCHS = 50\n",
    "EARLY_STOPPING_PAT = 4\n",
    "THRESHOLD = 0.5"
   ],
   "id": "e99fe82bc4228ee2",
   "outputs": [],
   "execution_count": 19
  },
  {
   "metadata": {
    "ExecuteTime": {
     "end_time": "2024-10-01T11:50:33.583742Z",
     "start_time": "2024-10-01T11:50:33.580909Z"
    }
   },
   "cell_type": "code",
   "source": [
    "# handle input data preprocessing\n",
    "class JobTitlesDataset(Dataset):\n",
    "    def __init__(self, titles, labels, tokenizer, max_len):\n",
    "        self.titles = titles\n",
    "        self.labels = labels\n",
    "        self.tokenizer = tokenizer\n",
    "        self.max_len = max_len  # maximum length of tokenized sentence\n",
    "\n",
    "    def __len__(self):\n",
    "        return len(self.titles)\n",
    "\n",
    "    def __getitem__(self, item):\n",
    "        encoded_data = self.tokenizer.encode_plus(\n",
    "            self.titles[item],\n",
    "            add_special_tokens=True,  # tokens required for BERT\n",
    "            max_length=self.max_len,\n",
    "            return_token_type_ids=False,  # no sentence pair task\n",
    "            padding='max_length',\n",
    "            truncation=True,\n",
    "            return_attention_mask=True,  # differentiate between padding and data\n",
    "            return_tensors='pt'\n",
    "        )\n",
    "        return {\n",
    "            'input_ids': encoded_data['input_ids'].flatten(),\n",
    "            'attention_mask': encoded_data['attention_mask'].flatten(),\n",
    "            'labels': torch.tensor(self.labels[item], dtype=torch.float)\n",
    "        }"
   ],
   "id": "85be181425a902fe",
   "outputs": [],
   "execution_count": 20
  },
  {
   "metadata": {},
   "cell_type": "markdown",
   "source": "### Train Test Split",
   "id": "1ca599f4e144da6"
  },
  {
   "metadata": {
    "ExecuteTime": {
     "end_time": "2024-10-01T11:50:33.599913Z",
     "start_time": "2024-10-01T11:50:33.595633Z"
    }
   },
   "cell_type": "code",
   "source": [
    "# TODO: implement stratification\n",
    "X_train, X_test, y_train, y_test = train_test_split(\n",
    "    job_level_data['Title'],\n",
    "    job_level_data['Label'],\n",
    "    test_size=0.2,\n",
    "    random_state=RANDOM_SEED,\n",
    "    shuffle=True\n",
    ")\n",
    "\n",
    "X_train = X_train.reset_index(drop=True)\n",
    "y_train = y_train.reset_index(drop=True)\n",
    "X_test = X_test.reset_index(drop=True)\n",
    "y_test = y_test.reset_index(drop=True)\n",
    "\n",
    "print(f\"Train data: {X_train.shape}\")\n",
    "print(f\"Test data: {X_test.shape}\")"
   ],
   "id": "f5b57a59e0405a05",
   "outputs": [
    {
     "name": "stdout",
     "output_type": "stream",
     "text": [
      "Train data: (1780,)\n",
      "Test data: (446,)\n"
     ]
    }
   ],
   "execution_count": 21
  },
  {
   "metadata": {
    "ExecuteTime": {
     "end_time": "2024-10-01T11:50:33.626802Z",
     "start_time": "2024-10-01T11:50:33.624400Z"
    }
   },
   "cell_type": "code",
   "source": [
    "train_dataset = JobTitlesDataset(\n",
    "    titles=X_train,\n",
    "    labels=y_train,\n",
    "    tokenizer=tokenizer,\n",
    "    max_len=MAX_LEN\n",
    ")\n",
    "\n",
    "test_dataset = JobTitlesDataset(\n",
    "    titles=X_test,\n",
    "    labels=y_test,\n",
    "    tokenizer=tokenizer,\n",
    "    max_len=MAX_LEN\n",
    ")\n",
    "\n",
    "train_loader = DataLoader(\n",
    "    train_dataset,\n",
    "    batch_size=BATCH_SIZE,\n",
    "    shuffle=True\n",
    ")\n",
    "\n",
    "test_loader = DataLoader(\n",
    "    test_dataset,\n",
    "    batch_size=BATCH_SIZE,\n",
    "    shuffle=True\n",
    ")"
   ],
   "id": "b60f4f80ccc52f22",
   "outputs": [],
   "execution_count": 22
  },
  {
   "metadata": {},
   "cell_type": "markdown",
   "source": "## Model Definition and Training",
   "id": "bebc820a236b3f4b"
  },
  {
   "metadata": {},
   "cell_type": "markdown",
   "source": [
    "BERT model is considered a  many text classification problems. distilBERT model was chosen as the model for this task due to its strong performance in understanding textual data and lower complexity than the base-bert model. While the model is computationally expensive, it is able to capture different nuances in the data, such as misspelings, not expanded abbreviations, etc. \n",
    "\n",
    "However, it is fully aknowledged that it is probably not the best solution due to it's training time and model size, which comprises around MB. Given the nature of data (small sentences), the perfect approach would be to establish a baseline model with simpler architecture and then compare the BERT model to it, for example TF-IDF with Logistic Regression. \n",
    "\n",
    "Another approach that would be worth trying is using a hybrid approach, where BERT is used for embeddings and then fed into a simpler model."
   ],
   "id": "de3ea817e3432206"
  },
  {
   "metadata": {
    "ExecuteTime": {
     "end_time": "2024-10-01T11:50:34.308072Z",
     "start_time": "2024-10-01T11:50:33.645911Z"
    }
   },
   "cell_type": "code",
   "source": [
    "class JobTitleClassifier(nn.Module):\n",
    "    def __init__(self, n_classes):\n",
    "        super(JobTitleClassifier, self).__init__()\n",
    "        self.bert = DistilBertModel.from_pretrained('distilbert-base-cased') # pre-trained bert model\n",
    "        self.dropout = torch.nn.Dropout(0.5) # regularization\n",
    "        self.linear = torch.nn.Linear(self.bert.config.hidden_size, n_classes) # classification \n",
    "    \n",
    "    def forward(self, input_ids, attention_mask):\n",
    "        output = self.bert(input_ids, attention_mask)\n",
    "        output = self.dropout(output.last_hidden_state[:, 0, :])\n",
    "        output = self.linear(output)\n",
    "        return output\n",
    "\n",
    "model_bert_classifier = JobTitleClassifier(len(mlb.classes_)).to(device)"
   ],
   "id": "63381a64ada0e816",
   "outputs": [],
   "execution_count": 23
  },
  {
   "metadata": {
    "ExecuteTime": {
     "end_time": "2024-10-01T11:50:34.404161Z",
     "start_time": "2024-10-01T11:50:34.319764Z"
    }
   },
   "cell_type": "code",
   "source": [
    "total_positives = sum(count for label, count in labels_count)\n",
    "class_weights = [total_positives / count for label, count in labels_count]\n",
    "\n",
    "class_weights = np.array(class_weights)\n",
    "class_weights = class_weights * (len(class_weights) / class_weights.sum())\n",
    "class_weights = torch.FloatTensor(class_weights).to(device)\n",
    "\n",
    "class_weights"
   ],
   "id": "724d1631e269e800",
   "outputs": [
    {
     "data": {
      "text/plain": [
       "tensor([0.2781, 0.6182, 0.7624, 1.4562, 1.8850], device='mps:0')"
      ]
     },
     "execution_count": 24,
     "metadata": {},
     "output_type": "execute_result"
    }
   ],
   "execution_count": 24
  },
  {
   "metadata": {
    "ExecuteTime": {
     "end_time": "2024-10-01T11:50:34.671028Z",
     "start_time": "2024-10-01T11:50:34.422519Z"
    }
   },
   "cell_type": "code",
   "source": [
    "adam_optimizer = torch.optim.AdamW(model_bert_classifier.parameters(), lr=2e-5)\n",
    "bce_loss = nn.BCEWithLogitsLoss(pos_weight=class_weights) # includes sigmoid activation\n",
    "plateau_scheduler = torch.optim.lr_scheduler.ReduceLROnPlateau(adam_optimizer, mode='min', patience=2, factor=0.2)"
   ],
   "id": "96ea0662e85a462f",
   "outputs": [],
   "execution_count": 25
  },
  {
   "metadata": {
    "ExecuteTime": {
     "end_time": "2024-10-01T11:50:34.691646Z",
     "start_time": "2024-10-01T11:50:34.688711Z"
    }
   },
   "cell_type": "code",
   "source": [
    "def train_classifier(model,\n",
    "                     data_loader,\n",
    "                     loss_fn,\n",
    "                     optimizer,\n",
    "                     device):\n",
    "    model = model.train()\n",
    "    losses = []\n",
    "\n",
    "    for batch_num, batch in enumerate(data_loader):\n",
    "        input_ids = batch['input_ids'].to(device)\n",
    "        attention_mask = batch['attention_mask'].to(device)\n",
    "        true_labels = batch['labels'].to(device)\n",
    "\n",
    "        outputs = model(input_ids, attention_mask)\n",
    "        loss = loss_fn(outputs, true_labels)\n",
    "        losses.append(loss.item())\n",
    "        \n",
    "        optimizer.zero_grad()\n",
    "        loss.backward()\n",
    "        optimizer.step()\n",
    "\n",
    "    return np.mean(losses)\n"
   ],
   "id": "cdbd9294963bfbde",
   "outputs": [],
   "execution_count": 26
  },
  {
   "metadata": {
    "ExecuteTime": {
     "end_time": "2024-10-01T11:50:34.728976Z",
     "start_time": "2024-10-01T11:50:34.725007Z"
    }
   },
   "cell_type": "code",
   "source": [
    "def validation(model,\n",
    "               data_loader,\n",
    "               loss_fn,\n",
    "               device):\n",
    "    model = model.eval()\n",
    "    losses = []\n",
    "    predictions = []\n",
    "    targets = []\n",
    "\n",
    "    # ensures no gradients are computed during test mode\n",
    "    with torch.no_grad():\n",
    "        for batch in data_loader:\n",
    "            input_ids = batch['input_ids'].to(device)\n",
    "            attention_mask = batch['attention_mask'].to(device)\n",
    "            true_labels = batch['labels'].to(device)\n",
    "\n",
    "            outputs = model(input_ids, attention_mask)\n",
    "            eval_loss = loss_fn(outputs, true_labels).item()\n",
    "            losses.append(eval_loss)\n",
    "\n",
    "            preds = torch.sigmoid(outputs)\n",
    "            predictions.extend(preds.cpu().numpy())\n",
    "            targets.extend(true_labels.cpu().numpy())\n",
    "\n",
    "    return np.mean(losses), predictions, targets"
   ],
   "id": "49db9a3882303537",
   "outputs": [],
   "execution_count": 27
  },
  {
   "metadata": {},
   "cell_type": "markdown",
   "source": [
    "### Training and Evaluation Process\n",
    "According to [Correlation analysis of performance measures for multi-label classification (2013)](https://www.sciencedirect.com/science/article/abs/pii/S0306457318300165), these are the most widely-used performance measures for multi-label classification:\n",
    "- **Hamming Loss**: the most recommended due to its lack of correlation with other measures (avoiding redundancy) and being the most employed in literature at the time of paper writing.\n",
    "- **F1 and Accuracy**: have strong correlation with other metrics, making them representative measures that reduce the need to report multiple similar metrics.\n",
    "\n"
   ],
   "id": "eaf3a351701b9096"
  },
  {
   "metadata": {
    "ExecuteTime": {
     "end_time": "2024-10-01T11:53:09.468581Z",
     "start_time": "2024-10-01T11:50:34.740657Z"
    }
   },
   "cell_type": "code",
   "source": [
    "train_losses = []\n",
    "val_losses = []\n",
    "\n",
    "hamming_loss_scores = []\n",
    "f1_scores = []\n",
    "accuracy_scores = []\n",
    "\n",
    "best_loss = float('inf')\n",
    "best_model_weights = None\n",
    "best_predictions = None\n",
    "best_targets = None\n",
    "patience = EARLY_STOPPING_PAT\n",
    "\n",
    "for epoch in range(MAX_EPOCHS):\n",
    "    print(f'Epoch {epoch + 1}')\n",
    "\n",
    "    # Training\n",
    "    train_loss = train_classifier(model_bert_classifier, train_loader, bce_loss, adam_optimizer, device)\n",
    "    train_losses.append(train_loss)\n",
    "\n",
    "    # Validation\n",
    "    val_loss, predictions, targets = validation(model_bert_classifier, test_loader, bce_loss, device)\n",
    "    val_losses.append(val_loss)\n",
    "\n",
    "    # Update learning rate\n",
    "    plateau_scheduler.step(val_loss)\n",
    "    print(f\"Current learning rate: {adam_optimizer.param_groups[0]['lr']}\")\n",
    "\n",
    "    predictions = np.array(predictions) >= THRESHOLD\n",
    "    targets = np.array(targets)\n",
    "\n",
    "    print(f\"Training loss: {train_loss:.5f}, Validation loss: {val_loss:.5f}\")\n",
    "\n",
    "    accuracy = accuracy_score(targets, predictions)\n",
    "    print(f\"Accuracy: {accuracy:.5f}\")\n",
    "\n",
    "    f1 = f1_score(targets, predictions, average='macro', zero_division=1)\n",
    "    print(f\"F1: {f1:.5f}\")\n",
    "\n",
    "    hamming_loss_score = hamming_loss(targets, predictions)\n",
    "    print(f\"Hamming Loss: {hamming_loss_score:.5f}\")\n",
    "\n",
    "    hamming_loss_scores.append(hamming_loss_score)\n",
    "    f1_scores.append(f1)\n",
    "    accuracy_scores.append(accuracy)\n",
    "    \n",
    "    # Early stopping\n",
    "    if val_loss < best_loss:\n",
    "        best_loss = val_loss\n",
    "        best_model_weights = copy.deepcopy(model_bert_classifier.state_dict())\n",
    "        best_predictions = predictions.copy()\n",
    "        best_targets = targets.copy()\n",
    "        patience = EARLY_STOPPING_PAT \n",
    "    else:\n",
    "        patience -= 1\n",
    "        if patience == 0:\n",
    "            break\n",
    "\n",
    "    print(\"\\n\")\n",
    "    \n",
    "model_bert_classifier.load_state_dict(best_model_weights)"
   ],
   "id": "cf4f263ab6cb2f20",
   "outputs": [
    {
     "name": "stdout",
     "output_type": "stream",
     "text": [
      "Epoch 1\n",
      "Current learning rate: 2e-05\n",
      "Training loss: 0.45296, Validation loss: 0.27838\n",
      "Accuracy: 0.60090\n",
      "F1: 0.34625\n",
      "Hamming Loss: 0.11480\n",
      "\n",
      "\n",
      "Epoch 2\n",
      "Current learning rate: 2e-05\n",
      "Training loss: 0.22416, Validation loss: 0.18069\n",
      "Accuracy: 0.79821\n",
      "F1: 0.55287\n",
      "Hamming Loss: 0.06547\n",
      "\n",
      "\n",
      "Epoch 3\n",
      "Current learning rate: 2e-05\n",
      "Training loss: 0.14973, Validation loss: 0.14323\n",
      "Accuracy: 0.82960\n",
      "F1: 0.68046\n",
      "Hamming Loss: 0.05247\n",
      "\n",
      "\n",
      "Epoch 4\n",
      "Current learning rate: 2e-05\n",
      "Training loss: 0.11508, Validation loss: 0.14176\n",
      "Accuracy: 0.84529\n",
      "F1: 0.76977\n",
      "Hamming Loss: 0.04888\n",
      "\n",
      "\n",
      "Epoch 5\n",
      "Current learning rate: 2e-05\n",
      "Training loss: 0.10109, Validation loss: 0.14917\n",
      "Accuracy: 0.83184\n",
      "F1: 0.80235\n",
      "Hamming Loss: 0.05202\n",
      "\n",
      "\n",
      "Epoch 6\n",
      "Current learning rate: 2e-05\n",
      "Training loss: 0.09073, Validation loss: 0.12911\n",
      "Accuracy: 0.86547\n",
      "F1: 0.84100\n",
      "Hamming Loss: 0.04215\n",
      "\n",
      "\n",
      "Epoch 7\n",
      "Current learning rate: 2e-05\n",
      "Training loss: 0.07283, Validation loss: 0.13140\n",
      "Accuracy: 0.86547\n",
      "F1: 0.82871\n",
      "Hamming Loss: 0.04395\n",
      "\n",
      "\n",
      "Epoch 8\n",
      "Current learning rate: 2e-05\n",
      "Training loss: 0.06385, Validation loss: 0.13191\n",
      "Accuracy: 0.85650\n",
      "F1: 0.82709\n",
      "Hamming Loss: 0.04529\n",
      "\n",
      "\n",
      "Epoch 9\n",
      "Current learning rate: 4.000000000000001e-06\n",
      "Training loss: 0.05549, Validation loss: 0.13745\n",
      "Accuracy: 0.85426\n",
      "F1: 0.82368\n",
      "Hamming Loss: 0.04753\n",
      "\n",
      "\n",
      "Epoch 10\n",
      "Current learning rate: 4.000000000000001e-06\n",
      "Training loss: 0.04712, Validation loss: 0.13470\n",
      "Accuracy: 0.86323\n",
      "F1: 0.83640\n",
      "Hamming Loss: 0.04529\n"
     ]
    },
    {
     "data": {
      "text/plain": [
       "<All keys matched successfully>"
      ]
     },
     "execution_count": 28,
     "metadata": {},
     "output_type": "execute_result"
    }
   ],
   "execution_count": 28
  },
  {
   "metadata": {
    "ExecuteTime": {
     "end_time": "2024-10-01T11:53:19.251288Z",
     "start_time": "2024-10-01T11:53:18.716026Z"
    }
   },
   "cell_type": "code",
   "source": "torch.save(model_bert_classifier.state_dict(), 'models/job_title_classification_model.pth')",
   "id": "239d6746c2c4919e",
   "outputs": [],
   "execution_count": 29
  },
  {
   "metadata": {},
   "cell_type": "markdown",
   "source": "## Results Interpretation",
   "id": "23a899fb4a1aa9a5"
  },
  {
   "metadata": {
    "ExecuteTime": {
     "end_time": "2024-10-01T11:53:28.433499Z",
     "start_time": "2024-10-01T11:53:28.227498Z"
    }
   },
   "cell_type": "code",
   "source": [
    "fig, (ax1, ax2) = plt.subplots(2, 1, figsize=(10, 14))\n",
    "\n",
    "ax1.plot(train_losses, label='Training Loss')\n",
    "ax1.plot(val_losses, label='Validation Loss')\n",
    "ax1.set_xlabel('Epoch')\n",
    "ax1.set_ylabel('Loss')\n",
    "ax1.set_title('Training and Validation Loss')\n",
    "ax1.legend()\n",
    "\n",
    "ax2.plot(hamming_loss_scores, label='Hamming Loss')\n",
    "ax2.plot(f1_scores, label='F1 Score')\n",
    "ax2.plot(accuracy_scores, label='Accuracy')\n",
    "ax2.set_xlabel('Epoch')\n",
    "ax2.set_ylabel('Score')\n",
    "ax2.set_title('Hamming Loss, F1 Score, and Accuracy')\n",
    "ax2.legend()\n",
    "\n",
    "plt.tight_layout()\n",
    "plt.show()"
   ],
   "id": "4782754d63657754",
   "outputs": [
    {
     "data": {
      "text/plain": [
       "<Figure size 1000x1400 with 2 Axes>"
      ],
      "image/png": "[encoded data removed]"
     },
     "metadata": {},
     "output_type": "display_data"
    }
   ],
   "execution_count": 30
  },
  {
   "metadata": {
    "ExecuteTime": {
     "end_time": "2024-10-01T11:53:38.318861Z",
     "start_time": "2024-10-01T11:53:37.809067Z"
    }
   },
   "cell_type": "code",
   "source": [
    "cm = multilabel_confusion_matrix(np.array(best_targets), np.array(best_predictions))\n",
    "\n",
    "f, axes = plt.subplots(2, 3, figsize=(16, 10))\n",
    "f.suptitle(\"Confusion Matrix for each Label\")\n",
    "\n",
    "for i, matrix in enumerate(cm):\n",
    "    with np.errstate(invalid='ignore'):\n",
    "        normalized_matrix = matrix.astype('float') / matrix.sum(axis=1)[:, np.newaxis] * 100\n",
    "        normalized_matrix[np.isnan(normalized_matrix)] = 0 \n",
    "    ax = axes[i//3, i % 3]\n",
    "    sns.heatmap(normalized_matrix, annot=True, cmap='Blues', ax = ax)\n",
    "    ax.set_xlabel('Predicted')\n",
    "    ax.set_ylabel('True')\n",
    "    ax.set_title(classes_labels[i])\n",
    "\"\"\n",
    "plt.show()"
   ],
   "id": "a21f5b6e22977c3a",
   "outputs": [
    {
     "data": {
      "text/plain": [
       "<Figure size 1600x1000 with 11 Axes>"
      ],
      "image/png": "[encoded data removed]"
     },
     "metadata": {},
     "output_type": "display_data"
    }
   ],
   "execution_count": 31
  },
  {
   "metadata": {
    "ExecuteTime": {
     "end_time": "2024-10-01T11:53:47.523445Z",
     "start_time": "2024-10-01T11:53:47.517574Z"
    }
   },
   "cell_type": "code",
   "source": [
    "report = classification_report(best_targets, best_predictions, target_names=classes_labels, zero_division=1)\n",
    "print(report)"
   ],
   "id": "f6578dc18563b897",
   "outputs": [
    {
     "name": "stdout",
     "output_type": "stream",
     "text": [
      "                              precision    recall  f1-score   support\n",
      "\n",
      "               Chief Officer       0.86      0.60      0.71        30\n",
      "                    Director       0.95      0.89      0.92        98\n",
      "Individual Contributor/Staff       0.97      0.93      0.95       224\n",
      "                     Manager       0.79      0.69      0.74        49\n",
      "              Vice President       0.87      0.92      0.89        78\n",
      "\n",
      "                   micro avg       0.92      0.87      0.90       479\n",
      "                   macro avg       0.89      0.81      0.84       479\n",
      "                weighted avg       0.92      0.87      0.90       479\n",
      "                 samples avg       0.93      0.90      0.90       479\n",
      "\n"
     ]
    }
   ],
   "execution_count": 32
  }
 ],
 "metadata": {
  "kernelspec": {
   "display_name": "Python 3",
   "language": "python",
   "name": "python3"
  },
  "language_info": {
   "codemirror_mode": {
    "name": "ipython",
    "version": 2
   },
   "file_extension": ".py",
   "mimetype": "text/x-python",
   "name": "python",
   "nbconvert_exporter": "python",
   "pygments_lexer": "ipython2",
   "version": "2.7.6"
  }
 },
 "nbformat": 4,
 "nbformat_minor": 5
}
