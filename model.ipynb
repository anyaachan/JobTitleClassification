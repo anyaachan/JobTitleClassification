{
 "cells": [
  {
   "metadata": {
    "ExecuteTime": {
     "end_time": "2024-10-01T10:02:28.789842Z",
     "start_time": "2024-10-01T10:02:28.774731Z"
    }
   },
   "cell_type": "code",
   "source": [
    "import pandas as pd\n",
    "from collections import Counter\n",
    "import matplotlib.pyplot as plt\n",
    "from transformers import BertTokenizer, BertModel\n",
    "from sklearn.model_selection import train_test_split\n",
    "from sklearn.preprocessing import MultiLabelBinarizer\n",
    "from sklearn.metrics import accuracy_score, f1_score, multilabel_confusion_matrix, hamming_loss\n",
    "from skmultilearn.model_selection import iterative_train_test_split\n",
    "import seaborn as sns\n",
    "import re\n",
    "import copy\n",
    "\n",
    "import torch\n",
    "import torch.nn as nn\n",
    "from torch.utils.data import Dataset\n",
    "from torch.utils.data import DataLoader\n",
    "\n",
    "import numpy as np"
   ],
   "id": "198fb30a93ad8f07",
   "outputs": [],
   "execution_count": 1010
  },
  {
   "metadata": {
    "ExecuteTime": {
     "end_time": "2024-10-01T10:02:28.830561Z",
     "start_time": "2024-10-01T10:02:28.826562Z"
    }
   },
   "cell_type": "code",
   "source": [
    "device = (\n",
    "    \"cuda\"\n",
    "    if torch.cuda.is_available()\n",
    "    else \"mps\"\n",
    "    if torch.backends.mps.is_available()\n",
    "    else \"cpu\"\n",
    ")\n",
    "print(f\"Using {device} device\")"
   ],
   "id": "cca6ac6f55888475",
   "outputs": [
    {
     "name": "stdout",
     "output_type": "stream",
     "text": [
      "Using mps device\n"
     ]
    }
   ],
   "execution_count": 1011
  },
  {
   "metadata": {},
   "cell_type": "markdown",
   "source": [
    "# Exploratory Data Analysis\n",
    "### Import Data"
   ],
   "id": "828d534ecaf6a91a"
  },
  {
   "metadata": {
    "ExecuteTime": {
     "end_time": "2024-10-01T10:02:28.950473Z",
     "start_time": "2024-10-01T10:02:28.848500Z"
    }
   },
   "cell_type": "code",
   "source": [
    "job_level_data = pd.read_excel(\"data/JobLevelData.xlsx\")\n",
    "job_level_data"
   ],
   "id": "3032b53ca5872bad",
   "outputs": [
    {
     "data": {
      "text/plain": [
       "                                                                                  Title  \\\n",
       "0                                      Vice President / Director of Systems Engineering   \n",
       "1                                                   Systems Engineer; Systems Architect   \n",
       "2     Executive Director, Global IT Infrastructure / Chief Information Security Officer   \n",
       "3                                         CTO/Executive Director of Technology Services   \n",
       "4                                                                   Vice President, CIO   \n",
       "...                                                                                 ...   \n",
       "2235                                       Net Software Architect and Team Project Lead   \n",
       "2236                                               Solutions Architect & Technical Lead   \n",
       "2237                      Manager, Salesforcecom Administration and Release Engineering   \n",
       "2238                                                    Innovation Automation Architect   \n",
       "2239                                      Founder and Chief Executive Officer, Kindbody   \n",
       "\n",
       "            Column 1                      Column 2 Column 3 Column 4  \n",
       "0     Vice President                           NaN      NaN      NaN  \n",
       "1            Manager  Individual Contributor/Staff      NaN      NaN  \n",
       "2           Director                 Chief Officer      NaN      NaN  \n",
       "3           Director                 Chief Officer      NaN      NaN  \n",
       "4     Vice President                           NaN      NaN      NaN  \n",
       "...              ...                           ...      ...      ...  \n",
       "2235         Manager                           NaN      NaN      NaN  \n",
       "2236         Manager  Individual Contributor/Staff      NaN      NaN  \n",
       "2237         Manager                           NaN      NaN      NaN  \n",
       "2238         Manager                           NaN      NaN      NaN  \n",
       "2239   Chief Officer                           NaN      NaN      NaN  \n",
       "\n",
       "[2240 rows x 5 columns]"
      ],
      "text/html": [
       "<div>\n",
       "<style scoped>\n",
       "    .dataframe tbody tr th:only-of-type {\n",
       "        vertical-align: middle;\n",
       "    }\n",
       "\n",
       "    .dataframe tbody tr th {\n",
       "        vertical-align: top;\n",
       "    }\n",
       "\n",
       "    .dataframe thead th {\n",
       "        text-align: right;\n",
       "    }\n",
       "</style>\n",
       "<table border=\"1\" class=\"dataframe\">\n",
       "  <thead>\n",
       "    <tr style=\"text-align: right;\">\n",
       "      <th></th>\n",
       "      <th>Title</th>\n",
       "      <th>Column 1</th>\n",
       "      <th>Column 2</th>\n",
       "      <th>Column 3</th>\n",
       "      <th>Column 4</th>\n",
       "    </tr>\n",
       "  </thead>\n",
       "  <tbody>\n",
       "    <tr>\n",
       "      <th>0</th>\n",
       "      <td>Vice President / Director of Systems Engineering</td>\n",
       "      <td>Vice President</td>\n",
       "      <td>NaN</td>\n",
       "      <td>NaN</td>\n",
       "      <td>NaN</td>\n",
       "    </tr>\n",
       "    <tr>\n",
       "      <th>1</th>\n",
       "      <td>Systems Engineer; Systems Architect</td>\n",
       "      <td>Manager</td>\n",
       "      <td>Individual Contributor/Staff</td>\n",
       "      <td>NaN</td>\n",
       "      <td>NaN</td>\n",
       "    </tr>\n",
       "    <tr>\n",
       "      <th>2</th>\n",
       "      <td>Executive Director, Global IT Infrastructure / Chief Information Security Officer</td>\n",
       "      <td>Director</td>\n",
       "      <td>Chief Officer</td>\n",
       "      <td>NaN</td>\n",
       "      <td>NaN</td>\n",
       "    </tr>\n",
       "    <tr>\n",
       "      <th>3</th>\n",
       "      <td>CTO/Executive Director of Technology Services</td>\n",
       "      <td>Director</td>\n",
       "      <td>Chief Officer</td>\n",
       "      <td>NaN</td>\n",
       "      <td>NaN</td>\n",
       "    </tr>\n",
       "    <tr>\n",
       "      <th>4</th>\n",
       "      <td>Vice President, CIO</td>\n",
       "      <td>Vice President</td>\n",
       "      <td>NaN</td>\n",
       "      <td>NaN</td>\n",
       "      <td>NaN</td>\n",
       "    </tr>\n",
       "    <tr>\n",
       "      <th>...</th>\n",
       "      <td>...</td>\n",
       "      <td>...</td>\n",
       "      <td>...</td>\n",
       "      <td>...</td>\n",
       "      <td>...</td>\n",
       "    </tr>\n",
       "    <tr>\n",
       "      <th>2235</th>\n",
       "      <td>Net Software Architect and Team Project Lead</td>\n",
       "      <td>Manager</td>\n",
       "      <td>NaN</td>\n",
       "      <td>NaN</td>\n",
       "      <td>NaN</td>\n",
       "    </tr>\n",
       "    <tr>\n",
       "      <th>2236</th>\n",
       "      <td>Solutions Architect &amp; Technical Lead</td>\n",
       "      <td>Manager</td>\n",
       "      <td>Individual Contributor/Staff</td>\n",
       "      <td>NaN</td>\n",
       "      <td>NaN</td>\n",
       "    </tr>\n",
       "    <tr>\n",
       "      <th>2237</th>\n",
       "      <td>Manager, Salesforcecom Administration and Release Engineering</td>\n",
       "      <td>Manager</td>\n",
       "      <td>NaN</td>\n",
       "      <td>NaN</td>\n",
       "      <td>NaN</td>\n",
       "    </tr>\n",
       "    <tr>\n",
       "      <th>2238</th>\n",
       "      <td>Innovation Automation Architect</td>\n",
       "      <td>Manager</td>\n",
       "      <td>NaN</td>\n",
       "      <td>NaN</td>\n",
       "      <td>NaN</td>\n",
       "    </tr>\n",
       "    <tr>\n",
       "      <th>2239</th>\n",
       "      <td>Founder and Chief Executive Officer, Kindbody</td>\n",
       "      <td>Chief Officer</td>\n",
       "      <td>NaN</td>\n",
       "      <td>NaN</td>\n",
       "      <td>NaN</td>\n",
       "    </tr>\n",
       "  </tbody>\n",
       "</table>\n",
       "<p>2240 rows × 5 columns</p>\n",
       "</div>"
      ]
     },
     "execution_count": 1012,
     "metadata": {},
     "output_type": "execute_result"
    }
   ],
   "execution_count": 1012
  },
  {
   "metadata": {},
   "cell_type": "markdown",
   "source": "### Handling Missing Data",
   "id": "62692bfb5c9e59d3"
  },
  {
   "metadata": {},
   "cell_type": "markdown",
   "source": [
    "Let's identify rows where all target columns are NaN, meaning no label is assigned to the position title.\n",
    "\n",
    "Upon analysis, there are 10 rows without labels, representing only 0.4% of the data. Since this is a very small percentage, several actions could be taken to handle these rows:\n",
    "\n",
    "- **Manual Labeling**. Given the small number of entries, it might be possible to ask the data provider or client to label them manually. However, for now we don't have direct communication with the client and also lack sufficient knowledge of the data's context to label them accurately ourselves.\n",
    "- **Data Imputation**. There are several possible variants of imputation: \n",
    "\n",
    "    -  **Fill with default values, e.g. \"Unknown\"**. Not good approach, as introducing a new class may confuse the model and reduce the quality of predictions.\n",
    "    - **Predictive Imputation**. Might be an overkill for this size of data. \n",
    "\n",
    "- **Removing the rows with missing data**. Removing NaN rows may be a reasonable solution, as it would likely have little impact on model performance."
   ],
   "id": "78c9df9b3d446838"
  },
  {
   "metadata": {
    "ExecuteTime": {
     "end_time": "2024-10-01T10:02:28.975899Z",
     "start_time": "2024-10-01T10:02:28.965916Z"
    }
   },
   "cell_type": "code",
   "source": [
    "nan_rows = job_level_data[job_level_data.drop(columns=['Title']).isna().all(axis=1)]\n",
    "print(f\"Percentage of not labeled data: {len(nan_rows) / len(job_level_data) * 100}\")\n",
    "nan_rows"
   ],
   "id": "3b10e7a9fe4bfd19",
   "outputs": [
    {
     "name": "stdout",
     "output_type": "stream",
     "text": [
      "Percentage of not labeled data: 0.4464285714285714\n"
     ]
    },
    {
     "data": {
      "text/plain": [
       "                                                                                                     Title  \\\n",
       "29                                                                                                    CINO   \n",
       "341                                                                                   Ticari Subesi Muduru   \n",
       "511   Governor, Chair of Board Risk and Audit Committee, Member of Remuneration and Nominations Committees   \n",
       "764                                                             Former Director, Compensation and Benefits   \n",
       "829                                                                         Release of Information Tech II   \n",
       "1257                                                                     Shareholder, Chair of Tax Section   \n",
       "1406                                              Global People Systems, Processes and Information Manager   \n",
       "1713                                                                             Supplier Quality Engineer   \n",
       "1785                                           RC Environmental and Cyber Specialized Subscription Manager   \n",
       "2182                            Senior Independedirector and Chair of the Customer and Communities Network   \n",
       "\n",
       "     Column 1 Column 2 Column 3 Column 4  \n",
       "29        NaN      NaN      NaN      NaN  \n",
       "341       NaN      NaN      NaN      NaN  \n",
       "511       NaN      NaN      NaN      NaN  \n",
       "764       NaN      NaN      NaN      NaN  \n",
       "829       NaN      NaN      NaN      NaN  \n",
       "1257      NaN      NaN      NaN      NaN  \n",
       "1406      NaN      NaN      NaN      NaN  \n",
       "1713      NaN      NaN      NaN      NaN  \n",
       "1785      NaN      NaN      NaN      NaN  \n",
       "2182      NaN      NaN      NaN      NaN  "
      ],
      "text/html": [
       "<div>\n",
       "<style scoped>\n",
       "    .dataframe tbody tr th:only-of-type {\n",
       "        vertical-align: middle;\n",
       "    }\n",
       "\n",
       "    .dataframe tbody tr th {\n",
       "        vertical-align: top;\n",
       "    }\n",
       "\n",
       "    .dataframe thead th {\n",
       "        text-align: right;\n",
       "    }\n",
       "</style>\n",
       "<table border=\"1\" class=\"dataframe\">\n",
       "  <thead>\n",
       "    <tr style=\"text-align: right;\">\n",
       "      <th></th>\n",
       "      <th>Title</th>\n",
       "      <th>Column 1</th>\n",
       "      <th>Column 2</th>\n",
       "      <th>Column 3</th>\n",
       "      <th>Column 4</th>\n",
       "    </tr>\n",
       "  </thead>\n",
       "  <tbody>\n",
       "    <tr>\n",
       "      <th>29</th>\n",
       "      <td>CINO</td>\n",
       "      <td>NaN</td>\n",
       "      <td>NaN</td>\n",
       "      <td>NaN</td>\n",
       "      <td>NaN</td>\n",
       "    </tr>\n",
       "    <tr>\n",
       "      <th>341</th>\n",
       "      <td>Ticari Subesi Muduru</td>\n",
       "      <td>NaN</td>\n",
       "      <td>NaN</td>\n",
       "      <td>NaN</td>\n",
       "      <td>NaN</td>\n",
       "    </tr>\n",
       "    <tr>\n",
       "      <th>511</th>\n",
       "      <td>Governor, Chair of Board Risk and Audit Committee, Member of Remuneration and Nominations Committees</td>\n",
       "      <td>NaN</td>\n",
       "      <td>NaN</td>\n",
       "      <td>NaN</td>\n",
       "      <td>NaN</td>\n",
       "    </tr>\n",
       "    <tr>\n",
       "      <th>764</th>\n",
       "      <td>Former Director, Compensation and Benefits</td>\n",
       "      <td>NaN</td>\n",
       "      <td>NaN</td>\n",
       "      <td>NaN</td>\n",
       "      <td>NaN</td>\n",
       "    </tr>\n",
       "    <tr>\n",
       "      <th>829</th>\n",
       "      <td>Release of Information Tech II</td>\n",
       "      <td>NaN</td>\n",
       "      <td>NaN</td>\n",
       "      <td>NaN</td>\n",
       "      <td>NaN</td>\n",
       "    </tr>\n",
       "    <tr>\n",
       "      <th>1257</th>\n",
       "      <td>Shareholder, Chair of Tax Section</td>\n",
       "      <td>NaN</td>\n",
       "      <td>NaN</td>\n",
       "      <td>NaN</td>\n",
       "      <td>NaN</td>\n",
       "    </tr>\n",
       "    <tr>\n",
       "      <th>1406</th>\n",
       "      <td>Global People Systems, Processes and Information Manager</td>\n",
       "      <td>NaN</td>\n",
       "      <td>NaN</td>\n",
       "      <td>NaN</td>\n",
       "      <td>NaN</td>\n",
       "    </tr>\n",
       "    <tr>\n",
       "      <th>1713</th>\n",
       "      <td>Supplier Quality Engineer</td>\n",
       "      <td>NaN</td>\n",
       "      <td>NaN</td>\n",
       "      <td>NaN</td>\n",
       "      <td>NaN</td>\n",
       "    </tr>\n",
       "    <tr>\n",
       "      <th>1785</th>\n",
       "      <td>RC Environmental and Cyber Specialized Subscription Manager</td>\n",
       "      <td>NaN</td>\n",
       "      <td>NaN</td>\n",
       "      <td>NaN</td>\n",
       "      <td>NaN</td>\n",
       "    </tr>\n",
       "    <tr>\n",
       "      <th>2182</th>\n",
       "      <td>Senior Independedirector and Chair of the Customer and Communities Network</td>\n",
       "      <td>NaN</td>\n",
       "      <td>NaN</td>\n",
       "      <td>NaN</td>\n",
       "      <td>NaN</td>\n",
       "    </tr>\n",
       "  </tbody>\n",
       "</table>\n",
       "</div>"
      ]
     },
     "execution_count": 1013,
     "metadata": {},
     "output_type": "execute_result"
    }
   ],
   "execution_count": 1013
  },
  {
   "metadata": {},
   "cell_type": "markdown",
   "source": "It was decided to remove the rows with missing data.",
   "id": "1099ac578947aeb5"
  },
  {
   "metadata": {
    "ExecuteTime": {
     "end_time": "2024-10-01T10:02:29.093261Z",
     "start_time": "2024-10-01T10:02:29.081331Z"
    }
   },
   "cell_type": "code",
   "source": "job_level_data.drop(nan_rows.index, inplace=True)",
   "id": "999188cbceb15788",
   "outputs": [],
   "execution_count": 1014
  },
  {
   "metadata": {},
   "cell_type": "markdown",
   "source": "### Merging Label Columns into a List",
   "id": "3bcc67e5f8807869"
  },
  {
   "metadata": {},
   "cell_type": "markdown",
   "source": "To simplify the manipulation of label data and make it suitable for model input, we need to combine the values from multiple columns into a single list.",
   "id": "fcc30fa5bc128de"
  },
  {
   "metadata": {
    "ExecuteTime": {
     "end_time": "2024-10-01T10:02:29.152214Z",
     "start_time": "2024-10-01T10:02:29.141420Z"
    }
   },
   "cell_type": "code",
   "source": [
    "job_level_data[\"Label\"] = job_level_data.drop(columns=[\"Title\"]).values.tolist()\n",
    "job_level_data.drop(columns=[\"Column 1\", \"Column 2\", \"Column 3\", \"Column 4\"], inplace=True)\n",
    "\n",
    "def remove_nans_from_array(list):\n",
    "    return [label for label in list if not pd.isna(label)]\n",
    "\n",
    "job_level_data[\"Label\"] = job_level_data[\"Label\"].apply(remove_nans_from_array)\n",
    "job_level_data[\"Label\"] = job_level_data[\"Label\"].apply(lambda labels: sorted(labels))\n",
    "\n",
    "job_level_data"
   ],
   "id": "7c399f8176890e68",
   "outputs": [
    {
     "data": {
      "text/plain": [
       "                                                                                  Title  \\\n",
       "0                                      Vice President / Director of Systems Engineering   \n",
       "1                                                   Systems Engineer; Systems Architect   \n",
       "2     Executive Director, Global IT Infrastructure / Chief Information Security Officer   \n",
       "3                                         CTO/Executive Director of Technology Services   \n",
       "4                                                                   Vice President, CIO   \n",
       "...                                                                                 ...   \n",
       "2235                                       Net Software Architect and Team Project Lead   \n",
       "2236                                               Solutions Architect & Technical Lead   \n",
       "2237                      Manager, Salesforcecom Administration and Release Engineering   \n",
       "2238                                                    Innovation Automation Architect   \n",
       "2239                                      Founder and Chief Executive Officer, Kindbody   \n",
       "\n",
       "                                        Label  \n",
       "0                            [Vice President]  \n",
       "1     [Individual Contributor/Staff, Manager]  \n",
       "2                   [Chief Officer, Director]  \n",
       "3                   [Chief Officer, Director]  \n",
       "4                            [Vice President]  \n",
       "...                                       ...  \n",
       "2235                                [Manager]  \n",
       "2236  [Individual Contributor/Staff, Manager]  \n",
       "2237                                [Manager]  \n",
       "2238                                [Manager]  \n",
       "2239                          [Chief Officer]  \n",
       "\n",
       "[2230 rows x 2 columns]"
      ],
      "text/html": [
       "<div>\n",
       "<style scoped>\n",
       "    .dataframe tbody tr th:only-of-type {\n",
       "        vertical-align: middle;\n",
       "    }\n",
       "\n",
       "    .dataframe tbody tr th {\n",
       "        vertical-align: top;\n",
       "    }\n",
       "\n",
       "    .dataframe thead th {\n",
       "        text-align: right;\n",
       "    }\n",
       "</style>\n",
       "<table border=\"1\" class=\"dataframe\">\n",
       "  <thead>\n",
       "    <tr style=\"text-align: right;\">\n",
       "      <th></th>\n",
       "      <th>Title</th>\n",
       "      <th>Label</th>\n",
       "    </tr>\n",
       "  </thead>\n",
       "  <tbody>\n",
       "    <tr>\n",
       "      <th>0</th>\n",
       "      <td>Vice President / Director of Systems Engineering</td>\n",
       "      <td>[Vice President]</td>\n",
       "    </tr>\n",
       "    <tr>\n",
       "      <th>1</th>\n",
       "      <td>Systems Engineer; Systems Architect</td>\n",
       "      <td>[Individual Contributor/Staff, Manager]</td>\n",
       "    </tr>\n",
       "    <tr>\n",
       "      <th>2</th>\n",
       "      <td>Executive Director, Global IT Infrastructure / Chief Information Security Officer</td>\n",
       "      <td>[Chief Officer, Director]</td>\n",
       "    </tr>\n",
       "    <tr>\n",
       "      <th>3</th>\n",
       "      <td>CTO/Executive Director of Technology Services</td>\n",
       "      <td>[Chief Officer, Director]</td>\n",
       "    </tr>\n",
       "    <tr>\n",
       "      <th>4</th>\n",
       "      <td>Vice President, CIO</td>\n",
       "      <td>[Vice President]</td>\n",
       "    </tr>\n",
       "    <tr>\n",
       "      <th>...</th>\n",
       "      <td>...</td>\n",
       "      <td>...</td>\n",
       "    </tr>\n",
       "    <tr>\n",
       "      <th>2235</th>\n",
       "      <td>Net Software Architect and Team Project Lead</td>\n",
       "      <td>[Manager]</td>\n",
       "    </tr>\n",
       "    <tr>\n",
       "      <th>2236</th>\n",
       "      <td>Solutions Architect &amp; Technical Lead</td>\n",
       "      <td>[Individual Contributor/Staff, Manager]</td>\n",
       "    </tr>\n",
       "    <tr>\n",
       "      <th>2237</th>\n",
       "      <td>Manager, Salesforcecom Administration and Release Engineering</td>\n",
       "      <td>[Manager]</td>\n",
       "    </tr>\n",
       "    <tr>\n",
       "      <th>2238</th>\n",
       "      <td>Innovation Automation Architect</td>\n",
       "      <td>[Manager]</td>\n",
       "    </tr>\n",
       "    <tr>\n",
       "      <th>2239</th>\n",
       "      <td>Founder and Chief Executive Officer, Kindbody</td>\n",
       "      <td>[Chief Officer]</td>\n",
       "    </tr>\n",
       "  </tbody>\n",
       "</table>\n",
       "<p>2230 rows × 2 columns</p>\n",
       "</div>"
      ]
     },
     "execution_count": 1015,
     "metadata": {},
     "output_type": "execute_result"
    }
   ],
   "execution_count": 1015
  },
  {
   "metadata": {},
   "cell_type": "markdown",
   "source": "### Distribution of Labels",
   "id": "e385baf07053fdf2"
  },
  {
   "metadata": {
    "ExecuteTime": {
     "end_time": "2024-10-01T10:02:29.285279Z",
     "start_time": "2024-10-01T10:02:29.208974Z"
    }
   },
   "cell_type": "code",
   "source": [
    "labels_list = [label for labels_list in job_level_data[\"Label\"] for label in labels_list]\n",
    "labels_count = sorted(Counter(labels_list).items(), key=lambda x: x[1], reverse=True)\n",
    "labels_count_keys, labels_count_values = zip(*labels_count)\n",
    "\n",
    "fig, ax = plt.subplots()\n",
    "ax.bar(labels_count_keys, labels_count_values)\n",
    "ax.set_title('Distribution of position labels')\n",
    "plt.xticks(rotation=90) \n",
    "\n",
    "plt.show()"
   ],
   "id": "12437eb6000f7ab9",
   "outputs": [
    {
     "data": {
      "text/plain": [
       "<Figure size 640x480 with 1 Axes>"
      ],
      "image/png": "[encoded data removed]"
     },
     "metadata": {},
     "output_type": "display_data"
    }
   ],
   "execution_count": 1016
  },
  {
   "metadata": {},
   "cell_type": "markdown",
   "source": "It can be observed from the distribution, the data is highly imbalanced, with \"Owner\" label being highly under respresented. This imbalance requires further attention during model training and evaluation.",
   "id": "16fa76ed4fdc9a7d"
  },
  {
   "metadata": {},
   "cell_type": "markdown",
   "source": "### \"Owner\" Label Exploration",
   "id": "f2f2ffb08392e858"
  },
  {
   "metadata": {
    "ExecuteTime": {
     "end_time": "2024-10-01T10:02:29.317084Z",
     "start_time": "2024-10-01T10:02:29.311848Z"
    }
   },
   "cell_type": "code",
   "source": [
    "owner_label_entries = job_level_data[job_level_data[\"Label\"].apply(lambda labels: \"Owner\" in labels)]\n",
    "owner_label_entries"
   ],
   "id": "b72585778e9e76",
   "outputs": [
    {
     "data": {
      "text/plain": [
       "                                             Title                   Label\n",
       "22                                 CoFounder & CTO  [Chief Officer, Owner]\n",
       "119            Chief Operating Officer, Co-Founder  [Chief Officer, Owner]\n",
       "1222  Co-Owner, Vice President and General Counsel                 [Owner]\n",
       "1933                                  Founder, COO  [Chief Officer, Owner]"
      ],
      "text/html": [
       "<div>\n",
       "<style scoped>\n",
       "    .dataframe tbody tr th:only-of-type {\n",
       "        vertical-align: middle;\n",
       "    }\n",
       "\n",
       "    .dataframe tbody tr th {\n",
       "        vertical-align: top;\n",
       "    }\n",
       "\n",
       "    .dataframe thead th {\n",
       "        text-align: right;\n",
       "    }\n",
       "</style>\n",
       "<table border=\"1\" class=\"dataframe\">\n",
       "  <thead>\n",
       "    <tr style=\"text-align: right;\">\n",
       "      <th></th>\n",
       "      <th>Title</th>\n",
       "      <th>Label</th>\n",
       "    </tr>\n",
       "  </thead>\n",
       "  <tbody>\n",
       "    <tr>\n",
       "      <th>22</th>\n",
       "      <td>CoFounder &amp; CTO</td>\n",
       "      <td>[Chief Officer, Owner]</td>\n",
       "    </tr>\n",
       "    <tr>\n",
       "      <th>119</th>\n",
       "      <td>Chief Operating Officer, Co-Founder</td>\n",
       "      <td>[Chief Officer, Owner]</td>\n",
       "    </tr>\n",
       "    <tr>\n",
       "      <th>1222</th>\n",
       "      <td>Co-Owner, Vice President and General Counsel</td>\n",
       "      <td>[Owner]</td>\n",
       "    </tr>\n",
       "    <tr>\n",
       "      <th>1933</th>\n",
       "      <td>Founder, COO</td>\n",
       "      <td>[Chief Officer, Owner]</td>\n",
       "    </tr>\n",
       "  </tbody>\n",
       "</table>\n",
       "</div>"
      ]
     },
     "execution_count": 1017,
     "metadata": {},
     "output_type": "execute_result"
    }
   ],
   "execution_count": 1017
  },
  {
   "metadata": {},
   "cell_type": "markdown",
   "source": [
    "As can be observed from the data, there is only 4 entries labeled as \"Owner\". This is insufficient for effectively training a machine learning model, especially for creating an adequate train-test split.\n",
    "\n",
    "To address this, we can check if we can assign the \"Owner\" label based on whether the title contains keywords like \"Owner\" or \"Founder\" during the model inference.  "
   ],
   "id": "4a93e9bb506c39d3"
  },
  {
   "metadata": {
    "ExecuteTime": {
     "end_time": "2024-10-01T10:02:29.363438Z",
     "start_time": "2024-10-01T10:02:29.358314Z"
    }
   },
   "cell_type": "code",
   "source": "job_level_data[job_level_data[\"Title\"].apply(lambda title: \"Owner\" in title)]",
   "id": "ada93b13161f6e16",
   "outputs": [
    {
     "data": {
      "text/plain": [
       "                                                                 Title  \\\n",
       "30                                              Owner & Data Architect   \n",
       "896   Senior Manager Product Owner, Wireless Expansion Network Rollout   \n",
       "998                                       Co-Owner & Marketing Manager   \n",
       "1054                                                    Practice Owner   \n",
       "1222                      Co-Owner, Vice President and General Counsel   \n",
       "1481                                    In App Learning Owner Software   \n",
       "1566                                        Owner Services Coordinator   \n",
       "1632                                                Owner / Franchisee   \n",
       "1828                        Senior Software Consultant / Product Owner   \n",
       "1847                      Product Owner Digital, Data and IS Direction   \n",
       "\n",
       "                                    Label  \n",
       "30               [Chief Officer, Manager]  \n",
       "896   [Director, Manager, Vice President]  \n",
       "998              [Chief Officer, Manager]  \n",
       "1054       [Individual Contributor/Staff]  \n",
       "1222                              [Owner]  \n",
       "1481       [Individual Contributor/Staff]  \n",
       "1566       [Individual Contributor/Staff]  \n",
       "1632                      [Chief Officer]  \n",
       "1828       [Individual Contributor/Staff]  \n",
       "1847                            [Manager]  "
      ],
      "text/html": [
       "<div>\n",
       "<style scoped>\n",
       "    .dataframe tbody tr th:only-of-type {\n",
       "        vertical-align: middle;\n",
       "    }\n",
       "\n",
       "    .dataframe tbody tr th {\n",
       "        vertical-align: top;\n",
       "    }\n",
       "\n",
       "    .dataframe thead th {\n",
       "        text-align: right;\n",
       "    }\n",
       "</style>\n",
       "<table border=\"1\" class=\"dataframe\">\n",
       "  <thead>\n",
       "    <tr style=\"text-align: right;\">\n",
       "      <th></th>\n",
       "      <th>Title</th>\n",
       "      <th>Label</th>\n",
       "    </tr>\n",
       "  </thead>\n",
       "  <tbody>\n",
       "    <tr>\n",
       "      <th>30</th>\n",
       "      <td>Owner &amp; Data Architect</td>\n",
       "      <td>[Chief Officer, Manager]</td>\n",
       "    </tr>\n",
       "    <tr>\n",
       "      <th>896</th>\n",
       "      <td>Senior Manager Product Owner, Wireless Expansion Network Rollout</td>\n",
       "      <td>[Director, Manager, Vice President]</td>\n",
       "    </tr>\n",
       "    <tr>\n",
       "      <th>998</th>\n",
       "      <td>Co-Owner &amp; Marketing Manager</td>\n",
       "      <td>[Chief Officer, Manager]</td>\n",
       "    </tr>\n",
       "    <tr>\n",
       "      <th>1054</th>\n",
       "      <td>Practice Owner</td>\n",
       "      <td>[Individual Contributor/Staff]</td>\n",
       "    </tr>\n",
       "    <tr>\n",
       "      <th>1222</th>\n",
       "      <td>Co-Owner, Vice President and General Counsel</td>\n",
       "      <td>[Owner]</td>\n",
       "    </tr>\n",
       "    <tr>\n",
       "      <th>1481</th>\n",
       "      <td>In App Learning Owner Software</td>\n",
       "      <td>[Individual Contributor/Staff]</td>\n",
       "    </tr>\n",
       "    <tr>\n",
       "      <th>1566</th>\n",
       "      <td>Owner Services Coordinator</td>\n",
       "      <td>[Individual Contributor/Staff]</td>\n",
       "    </tr>\n",
       "    <tr>\n",
       "      <th>1632</th>\n",
       "      <td>Owner / Franchisee</td>\n",
       "      <td>[Chief Officer]</td>\n",
       "    </tr>\n",
       "    <tr>\n",
       "      <th>1828</th>\n",
       "      <td>Senior Software Consultant / Product Owner</td>\n",
       "      <td>[Individual Contributor/Staff]</td>\n",
       "    </tr>\n",
       "    <tr>\n",
       "      <th>1847</th>\n",
       "      <td>Product Owner Digital, Data and IS Direction</td>\n",
       "      <td>[Manager]</td>\n",
       "    </tr>\n",
       "  </tbody>\n",
       "</table>\n",
       "</div>"
      ]
     },
     "execution_count": 1018,
     "metadata": {},
     "output_type": "execute_result"
    }
   ],
   "execution_count": 1018
  },
  {
   "metadata": {},
   "cell_type": "markdown",
   "source": [
    "Inspecting data above, it was found that not all titles containing the words \"Owner\" or \"Founder\" are labeled as \"Owner.\" This suggests that making a decision to hard-code labelling of this category would be unreliable. \n",
    "\n",
    "In conclusion, the \"Owner\" label may not be predictable given the data currently available. As there are usually only a few owners of the company, it would be better to label the data manually on top of models prediction. Therefore, we will remove the entries with the \"Owner\" label."
   ],
   "id": "692fe4a3f26d0184"
  },
  {
   "metadata": {
    "ExecuteTime": {
     "end_time": "2024-10-01T10:02:29.391783Z",
     "start_time": "2024-10-01T10:02:29.388506Z"
    }
   },
   "cell_type": "code",
   "source": "job_level_data.drop(owner_label_entries.index, inplace=True)",
   "id": "75149e20a292c8d2",
   "outputs": [],
   "execution_count": 1019
  },
  {
   "metadata": {},
   "cell_type": "markdown",
   "source": [
    "#### \"Manager\" Label Exploration\n",
    "The baseline model yields a high number of false negatives for the \"Manager\" label, failing to predict it correctly. Let's explore the data to understand why this is happening ."
   ],
   "id": "b3505f329edeee01"
  },
  {
   "metadata": {
    "ExecuteTime": {
     "end_time": "2024-10-01T10:02:29.444766Z",
     "start_time": "2024-10-01T10:02:29.439823Z"
    }
   },
   "cell_type": "code",
   "source": [
    "manager_label_entries = job_level_data[job_level_data[\"Label\"].apply(lambda labels: \"Manager\" in labels)]\n",
    "manager_label_entries"
   ],
   "id": "3d9668662b9bf4d5",
   "outputs": [
    {
     "data": {
      "text/plain": [
       "                                                              Title  \\\n",
       "1                               Systems Engineer; Systems Architect   \n",
       "14                      Lead Software Engineer, Technical Team Lead   \n",
       "30                                           Owner & Data Architect   \n",
       "32                                           CEO/Solution Architect   \n",
       "34                    Cloud Architect | DevOps Engineer | Tech Lead   \n",
       "...                                                             ...   \n",
       "2234                  Solution Architect, Technical Account Manager   \n",
       "2235                   Net Software Architect and Team Project Lead   \n",
       "2236                           Solutions Architect & Technical Lead   \n",
       "2237  Manager, Salesforcecom Administration and Release Engineering   \n",
       "2238                                Innovation Automation Architect   \n",
       "\n",
       "                                        Label  \n",
       "1     [Individual Contributor/Staff, Manager]  \n",
       "14    [Individual Contributor/Staff, Manager]  \n",
       "30                   [Chief Officer, Manager]  \n",
       "32                   [Chief Officer, Manager]  \n",
       "34    [Individual Contributor/Staff, Manager]  \n",
       "...                                       ...  \n",
       "2234                                [Manager]  \n",
       "2235                                [Manager]  \n",
       "2236  [Individual Contributor/Staff, Manager]  \n",
       "2237                                [Manager]  \n",
       "2238                                [Manager]  \n",
       "\n",
       "[211 rows x 2 columns]"
      ],
      "text/html": [
       "<div>\n",
       "<style scoped>\n",
       "    .dataframe tbody tr th:only-of-type {\n",
       "        vertical-align: middle;\n",
       "    }\n",
       "\n",
       "    .dataframe tbody tr th {\n",
       "        vertical-align: top;\n",
       "    }\n",
       "\n",
       "    .dataframe thead th {\n",
       "        text-align: right;\n",
       "    }\n",
       "</style>\n",
       "<table border=\"1\" class=\"dataframe\">\n",
       "  <thead>\n",
       "    <tr style=\"text-align: right;\">\n",
       "      <th></th>\n",
       "      <th>Title</th>\n",
       "      <th>Label</th>\n",
       "    </tr>\n",
       "  </thead>\n",
       "  <tbody>\n",
       "    <tr>\n",
       "      <th>1</th>\n",
       "      <td>Systems Engineer; Systems Architect</td>\n",
       "      <td>[Individual Contributor/Staff, Manager]</td>\n",
       "    </tr>\n",
       "    <tr>\n",
       "      <th>14</th>\n",
       "      <td>Lead Software Engineer, Technical Team Lead</td>\n",
       "      <td>[Individual Contributor/Staff, Manager]</td>\n",
       "    </tr>\n",
       "    <tr>\n",
       "      <th>30</th>\n",
       "      <td>Owner &amp; Data Architect</td>\n",
       "      <td>[Chief Officer, Manager]</td>\n",
       "    </tr>\n",
       "    <tr>\n",
       "      <th>32</th>\n",
       "      <td>CEO/Solution Architect</td>\n",
       "      <td>[Chief Officer, Manager]</td>\n",
       "    </tr>\n",
       "    <tr>\n",
       "      <th>34</th>\n",
       "      <td>Cloud Architect | DevOps Engineer | Tech Lead</td>\n",
       "      <td>[Individual Contributor/Staff, Manager]</td>\n",
       "    </tr>\n",
       "    <tr>\n",
       "      <th>...</th>\n",
       "      <td>...</td>\n",
       "      <td>...</td>\n",
       "    </tr>\n",
       "    <tr>\n",
       "      <th>2234</th>\n",
       "      <td>Solution Architect, Technical Account Manager</td>\n",
       "      <td>[Manager]</td>\n",
       "    </tr>\n",
       "    <tr>\n",
       "      <th>2235</th>\n",
       "      <td>Net Software Architect and Team Project Lead</td>\n",
       "      <td>[Manager]</td>\n",
       "    </tr>\n",
       "    <tr>\n",
       "      <th>2236</th>\n",
       "      <td>Solutions Architect &amp; Technical Lead</td>\n",
       "      <td>[Individual Contributor/Staff, Manager]</td>\n",
       "    </tr>\n",
       "    <tr>\n",
       "      <th>2237</th>\n",
       "      <td>Manager, Salesforcecom Administration and Release Engineering</td>\n",
       "      <td>[Manager]</td>\n",
       "    </tr>\n",
       "    <tr>\n",
       "      <th>2238</th>\n",
       "      <td>Innovation Automation Architect</td>\n",
       "      <td>[Manager]</td>\n",
       "    </tr>\n",
       "  </tbody>\n",
       "</table>\n",
       "<p>211 rows × 2 columns</p>\n",
       "</div>"
      ]
     },
     "execution_count": 1020,
     "metadata": {},
     "output_type": "execute_result"
    }
   ],
   "execution_count": 1020
  },
  {
   "metadata": {},
   "cell_type": "markdown",
   "source": "### Label One-Hot Encoding\n",
   "id": "47030c96f1f779d0"
  },
  {
   "metadata": {
    "ExecuteTime": {
     "end_time": "2024-10-01T10:02:29.509999Z",
     "start_time": "2024-10-01T10:02:29.497795Z"
    }
   },
   "cell_type": "code",
   "source": [
    "mlb = MultiLabelBinarizer()\n",
    "one_hot_encoded_labels = mlb.fit_transform(job_level_data[\"Label\"])\n",
    "one_hot_df = pd.DataFrame(one_hot_encoded_labels, columns=mlb.classes_)\n",
    "job_level_data[\"Label\"] = one_hot_df.values.tolist()\n",
    "\n",
    "classes_labels = mlb.classes_\n",
    "print(classes_labels)\n",
    "job_level_data"
   ],
   "id": "3a81cfaf1446d431",
   "outputs": [
    {
     "name": "stdout",
     "output_type": "stream",
     "text": [
      "['Chief Officer' 'Director' 'Individual Contributor/Staff' 'Manager'\n",
      " 'Vice President']\n"
     ]
    },
    {
     "data": {
      "text/plain": [
       "                                                                                  Title  \\\n",
       "0                                      Vice President / Director of Systems Engineering   \n",
       "1                                                   Systems Engineer; Systems Architect   \n",
       "2     Executive Director, Global IT Infrastructure / Chief Information Security Officer   \n",
       "3                                         CTO/Executive Director of Technology Services   \n",
       "4                                                                   Vice President, CIO   \n",
       "...                                                                                 ...   \n",
       "2235                                       Net Software Architect and Team Project Lead   \n",
       "2236                                               Solutions Architect & Technical Lead   \n",
       "2237                      Manager, Salesforcecom Administration and Release Engineering   \n",
       "2238                                                    Innovation Automation Architect   \n",
       "2239                                      Founder and Chief Executive Officer, Kindbody   \n",
       "\n",
       "                Label  \n",
       "0     [0, 0, 0, 0, 1]  \n",
       "1     [0, 0, 1, 1, 0]  \n",
       "2     [1, 1, 0, 0, 0]  \n",
       "3     [1, 1, 0, 0, 0]  \n",
       "4     [0, 0, 0, 0, 1]  \n",
       "...               ...  \n",
       "2235  [0, 0, 0, 1, 0]  \n",
       "2236  [0, 0, 1, 1, 0]  \n",
       "2237  [0, 0, 0, 1, 0]  \n",
       "2238  [0, 0, 0, 1, 0]  \n",
       "2239  [1, 0, 0, 0, 0]  \n",
       "\n",
       "[2226 rows x 2 columns]"
      ],
      "text/html": [
       "<div>\n",
       "<style scoped>\n",
       "    .dataframe tbody tr th:only-of-type {\n",
       "        vertical-align: middle;\n",
       "    }\n",
       "\n",
       "    .dataframe tbody tr th {\n",
       "        vertical-align: top;\n",
       "    }\n",
       "\n",
       "    .dataframe thead th {\n",
       "        text-align: right;\n",
       "    }\n",
       "</style>\n",
       "<table border=\"1\" class=\"dataframe\">\n",
       "  <thead>\n",
       "    <tr style=\"text-align: right;\">\n",
       "      <th></th>\n",
       "      <th>Title</th>\n",
       "      <th>Label</th>\n",
       "    </tr>\n",
       "  </thead>\n",
       "  <tbody>\n",
       "    <tr>\n",
       "      <th>0</th>\n",
       "      <td>Vice President / Director of Systems Engineering</td>\n",
       "      <td>[0, 0, 0, 0, 1]</td>\n",
       "    </tr>\n",
       "    <tr>\n",
       "      <th>1</th>\n",
       "      <td>Systems Engineer; Systems Architect</td>\n",
       "      <td>[0, 0, 1, 1, 0]</td>\n",
       "    </tr>\n",
       "    <tr>\n",
       "      <th>2</th>\n",
       "      <td>Executive Director, Global IT Infrastructure / Chief Information Security Officer</td>\n",
       "      <td>[1, 1, 0, 0, 0]</td>\n",
       "    </tr>\n",
       "    <tr>\n",
       "      <th>3</th>\n",
       "      <td>CTO/Executive Director of Technology Services</td>\n",
       "      <td>[1, 1, 0, 0, 0]</td>\n",
       "    </tr>\n",
       "    <tr>\n",
       "      <th>4</th>\n",
       "      <td>Vice President, CIO</td>\n",
       "      <td>[0, 0, 0, 0, 1]</td>\n",
       "    </tr>\n",
       "    <tr>\n",
       "      <th>...</th>\n",
       "      <td>...</td>\n",
       "      <td>...</td>\n",
       "    </tr>\n",
       "    <tr>\n",
       "      <th>2235</th>\n",
       "      <td>Net Software Architect and Team Project Lead</td>\n",
       "      <td>[0, 0, 0, 1, 0]</td>\n",
       "    </tr>\n",
       "    <tr>\n",
       "      <th>2236</th>\n",
       "      <td>Solutions Architect &amp; Technical Lead</td>\n",
       "      <td>[0, 0, 1, 1, 0]</td>\n",
       "    </tr>\n",
       "    <tr>\n",
       "      <th>2237</th>\n",
       "      <td>Manager, Salesforcecom Administration and Release Engineering</td>\n",
       "      <td>[0, 0, 0, 1, 0]</td>\n",
       "    </tr>\n",
       "    <tr>\n",
       "      <th>2238</th>\n",
       "      <td>Innovation Automation Architect</td>\n",
       "      <td>[0, 0, 0, 1, 0]</td>\n",
       "    </tr>\n",
       "    <tr>\n",
       "      <th>2239</th>\n",
       "      <td>Founder and Chief Executive Officer, Kindbody</td>\n",
       "      <td>[1, 0, 0, 0, 0]</td>\n",
       "    </tr>\n",
       "  </tbody>\n",
       "</table>\n",
       "<p>2226 rows × 2 columns</p>\n",
       "</div>"
      ]
     },
     "execution_count": 1021,
     "metadata": {},
     "output_type": "execute_result"
    }
   ],
   "execution_count": 1021
  },
  {
   "metadata": {},
   "cell_type": "markdown",
   "source": [
    "### Correlation Matrix\n",
    "The following observations can be made from the correlation matrix:\n",
    "- Majority of correlations are negative or 0, meaning that there is low overlap between roles. \n",
    "- The correlation matrix shows a hierarchy in the company, with lower hierarchy positions such as \"Individual Contributor/Staff\" having strong negative correlations with senior titles like \"Director\"(-0.5), \"Vice President\"(-0.44) and Chief Officer(-0.27). The model will rather think of them as mutually exclusive."
   ],
   "id": "6a40db2545a980dd"
  },
  {
   "metadata": {
    "ExecuteTime": {
     "end_time": "2024-10-01T10:02:29.710460Z",
     "start_time": "2024-10-01T10:02:29.580906Z"
    }
   },
   "cell_type": "code",
   "source": [
    "correlation_matrix = one_hot_df.corr()\n",
    "\n",
    "plt.figure(figsize=(10, 8))\n",
    "sns.heatmap(correlation_matrix, annot=True, cmap='Blues', fmt='.2f', vmin=-1, vmax=1)\n",
    "plt.title('Correlation Matrix of Labels')\n",
    "plt.show()"
   ],
   "id": "939d0058a4389a5f",
   "outputs": [
    {
     "data": {
      "text/plain": [
       "<Figure size 1000x800 with 2 Axes>"
      ],
      "image/png": "[encoded data removed]"
     },
     "metadata": {},
     "output_type": "display_data"
    }
   ],
   "execution_count": 1022
  },
  {
   "metadata": {},
   "cell_type": "markdown",
   "source": "### Text Preprocessing",
   "id": "e3bd37633da9f2cc"
  },
  {
   "metadata": {
    "ExecuteTime": {
     "end_time": "2024-10-01T10:02:29.751773Z",
     "start_time": "2024-10-01T10:02:29.736919Z"
    }
   },
   "cell_type": "code",
   "source": [
    "def preprocess_text(text):\n",
    "    text = re.sub(r'[^\\w\\s]', ' ', text)\n",
    "    text = re.sub(r'\\s+', ' ', text).strip()\n",
    "    return text\n",
    "\n",
    "job_level_data[\"Title\"] = job_level_data[\"Title\"].apply(preprocess_text)\n",
    "job_level_data"
   ],
   "id": "a7d3c71a0e8bffa",
   "outputs": [
    {
     "data": {
      "text/plain": [
       "                                                                               Title  \\\n",
       "0                                     Vice President Director of Systems Engineering   \n",
       "1                                                 Systems Engineer Systems Architect   \n",
       "2     Executive Director Global IT Infrastructure Chief Information Security Officer   \n",
       "3                                      CTO Executive Director of Technology Services   \n",
       "4                                                                 Vice President CIO   \n",
       "...                                                                              ...   \n",
       "2235                                    Net Software Architect and Team Project Lead   \n",
       "2236                                              Solutions Architect Technical Lead   \n",
       "2237                    Manager Salesforcecom Administration and Release Engineering   \n",
       "2238                                                 Innovation Automation Architect   \n",
       "2239                                    Founder and Chief Executive Officer Kindbody   \n",
       "\n",
       "                Label  \n",
       "0     [0, 0, 0, 0, 1]  \n",
       "1     [0, 0, 1, 1, 0]  \n",
       "2     [1, 1, 0, 0, 0]  \n",
       "3     [1, 1, 0, 0, 0]  \n",
       "4     [0, 0, 0, 0, 1]  \n",
       "...               ...  \n",
       "2235  [0, 0, 0, 1, 0]  \n",
       "2236  [0, 0, 1, 1, 0]  \n",
       "2237  [0, 0, 0, 1, 0]  \n",
       "2238  [0, 0, 0, 1, 0]  \n",
       "2239  [1, 0, 0, 0, 0]  \n",
       "\n",
       "[2226 rows x 2 columns]"
      ],
      "text/html": [
       "<div>\n",
       "<style scoped>\n",
       "    .dataframe tbody tr th:only-of-type {\n",
       "        vertical-align: middle;\n",
       "    }\n",
       "\n",
       "    .dataframe tbody tr th {\n",
       "        vertical-align: top;\n",
       "    }\n",
       "\n",
       "    .dataframe thead th {\n",
       "        text-align: right;\n",
       "    }\n",
       "</style>\n",
       "<table border=\"1\" class=\"dataframe\">\n",
       "  <thead>\n",
       "    <tr style=\"text-align: right;\">\n",
       "      <th></th>\n",
       "      <th>Title</th>\n",
       "      <th>Label</th>\n",
       "    </tr>\n",
       "  </thead>\n",
       "  <tbody>\n",
       "    <tr>\n",
       "      <th>0</th>\n",
       "      <td>Vice President Director of Systems Engineering</td>\n",
       "      <td>[0, 0, 0, 0, 1]</td>\n",
       "    </tr>\n",
       "    <tr>\n",
       "      <th>1</th>\n",
       "      <td>Systems Engineer Systems Architect</td>\n",
       "      <td>[0, 0, 1, 1, 0]</td>\n",
       "    </tr>\n",
       "    <tr>\n",
       "      <th>2</th>\n",
       "      <td>Executive Director Global IT Infrastructure Chief Information Security Officer</td>\n",
       "      <td>[1, 1, 0, 0, 0]</td>\n",
       "    </tr>\n",
       "    <tr>\n",
       "      <th>3</th>\n",
       "      <td>CTO Executive Director of Technology Services</td>\n",
       "      <td>[1, 1, 0, 0, 0]</td>\n",
       "    </tr>\n",
       "    <tr>\n",
       "      <th>4</th>\n",
       "      <td>Vice President CIO</td>\n",
       "      <td>[0, 0, 0, 0, 1]</td>\n",
       "    </tr>\n",
       "    <tr>\n",
       "      <th>...</th>\n",
       "      <td>...</td>\n",
       "      <td>...</td>\n",
       "    </tr>\n",
       "    <tr>\n",
       "      <th>2235</th>\n",
       "      <td>Net Software Architect and Team Project Lead</td>\n",
       "      <td>[0, 0, 0, 1, 0]</td>\n",
       "    </tr>\n",
       "    <tr>\n",
       "      <th>2236</th>\n",
       "      <td>Solutions Architect Technical Lead</td>\n",
       "      <td>[0, 0, 1, 1, 0]</td>\n",
       "    </tr>\n",
       "    <tr>\n",
       "      <th>2237</th>\n",
       "      <td>Manager Salesforcecom Administration and Release Engineering</td>\n",
       "      <td>[0, 0, 0, 1, 0]</td>\n",
       "    </tr>\n",
       "    <tr>\n",
       "      <th>2238</th>\n",
       "      <td>Innovation Automation Architect</td>\n",
       "      <td>[0, 0, 0, 1, 0]</td>\n",
       "    </tr>\n",
       "    <tr>\n",
       "      <th>2239</th>\n",
       "      <td>Founder and Chief Executive Officer Kindbody</td>\n",
       "      <td>[1, 0, 0, 0, 0]</td>\n",
       "    </tr>\n",
       "  </tbody>\n",
       "</table>\n",
       "<p>2226 rows × 2 columns</p>\n",
       "</div>"
      ]
     },
     "execution_count": 1023,
     "metadata": {},
     "output_type": "execute_result"
    }
   ],
   "execution_count": 1023
  },
  {
   "metadata": {},
   "cell_type": "markdown",
   "source": "As BERT tokenizer separates acronyms, therefore it is highly beneficial to expand them to their full form. ",
   "id": "623c07172ab21c73"
  },
  {
   "metadata": {
    "ExecuteTime": {
     "end_time": "2024-10-01T10:02:29.770106Z",
     "start_time": "2024-10-01T10:02:29.758380Z"
    }
   },
   "cell_type": "code",
   "source": [
    "acronyms_dict = {\n",
    "    \"ceo\": \"Chief Executive Officer\",\n",
    "    \"cfo\": \"Chief Financial Officer\",\n",
    "    \"cto\": \"Chief Technology Officer\",\n",
    "    \"vp\": \"Vice President\",\n",
    "    \"hr\": \"Human Resources\",\n",
    "    \"chro\": \"Chief Human Resources Officer\",\n",
    "    \"cio\": \"Chief Information Officer\",\n",
    "    \"ciso\": \"Chief Information Security Officer\",\n",
    "    \"clo\": \"Chief Legal Officer\",\n",
    "    \"cmo\": \"Chief Marketing Officer\",\n",
    "    \"coo\": \"Chief Operating Officer\",\n",
    "    \"cpo\": \"Chief Product Officer\",\n",
    "    \"cro\": \"Chief Revenue Officer\",\n",
    "    \"evp\": \"Executive Vice President\",\n",
    "    \"svp\": \"Senior Vice President\",\n",
    "    \"it\": \"Informational Technology\"\n",
    "}\n",
    "\n",
    "def expand_acronyms(text):\n",
    "    words = text.split()\n",
    "    expanded_words = [acronyms_dict.get(word.lower(), word) for word in words]\n",
    "    return ' '.join(expanded_words)\n",
    "\n",
    "job_level_data[\"Title\"] = job_level_data[\"Title\"].apply(expand_acronyms)\n",
    "job_level_data"
   ],
   "id": "96756b97adad2b2b",
   "outputs": [
    {
     "data": {
      "text/plain": [
       "                                                                                                     Title  \\\n",
       "0                                                           Vice President Director of Systems Engineering   \n",
       "1                                                                       Systems Engineer Systems Architect   \n",
       "2     Executive Director Global Informational Technology Infrastructure Chief Information Security Officer   \n",
       "3                                       Chief Technology Officer Executive Director of Technology Services   \n",
       "4                                                                 Vice President Chief Information Officer   \n",
       "...                                                                                                    ...   \n",
       "2235                                                          Net Software Architect and Team Project Lead   \n",
       "2236                                                                    Solutions Architect Technical Lead   \n",
       "2237                                          Manager Salesforcecom Administration and Release Engineering   \n",
       "2238                                                                       Innovation Automation Architect   \n",
       "2239                                                          Founder and Chief Executive Officer Kindbody   \n",
       "\n",
       "                Label  \n",
       "0     [0, 0, 0, 0, 1]  \n",
       "1     [0, 0, 1, 1, 0]  \n",
       "2     [1, 1, 0, 0, 0]  \n",
       "3     [1, 1, 0, 0, 0]  \n",
       "4     [0, 0, 0, 0, 1]  \n",
       "...               ...  \n",
       "2235  [0, 0, 0, 1, 0]  \n",
       "2236  [0, 0, 1, 1, 0]  \n",
       "2237  [0, 0, 0, 1, 0]  \n",
       "2238  [0, 0, 0, 1, 0]  \n",
       "2239  [1, 0, 0, 0, 0]  \n",
       "\n",
       "[2226 rows x 2 columns]"
      ],
      "text/html": [
       "<div>\n",
       "<style scoped>\n",
       "    .dataframe tbody tr th:only-of-type {\n",
       "        vertical-align: middle;\n",
       "    }\n",
       "\n",
       "    .dataframe tbody tr th {\n",
       "        vertical-align: top;\n",
       "    }\n",
       "\n",
       "    .dataframe thead th {\n",
       "        text-align: right;\n",
       "    }\n",
       "</style>\n",
       "<table border=\"1\" class=\"dataframe\">\n",
       "  <thead>\n",
       "    <tr style=\"text-align: right;\">\n",
       "      <th></th>\n",
       "      <th>Title</th>\n",
       "      <th>Label</th>\n",
       "    </tr>\n",
       "  </thead>\n",
       "  <tbody>\n",
       "    <tr>\n",
       "      <th>0</th>\n",
       "      <td>Vice President Director of Systems Engineering</td>\n",
       "      <td>[0, 0, 0, 0, 1]</td>\n",
       "    </tr>\n",
       "    <tr>\n",
       "      <th>1</th>\n",
       "      <td>Systems Engineer Systems Architect</td>\n",
       "      <td>[0, 0, 1, 1, 0]</td>\n",
       "    </tr>\n",
       "    <tr>\n",
       "      <th>2</th>\n",
       "      <td>Executive Director Global Informational Technology Infrastructure Chief Information Security Officer</td>\n",
       "      <td>[1, 1, 0, 0, 0]</td>\n",
       "    </tr>\n",
       "    <tr>\n",
       "      <th>3</th>\n",
       "      <td>Chief Technology Officer Executive Director of Technology Services</td>\n",
       "      <td>[1, 1, 0, 0, 0]</td>\n",
       "    </tr>\n",
       "    <tr>\n",
       "      <th>4</th>\n",
       "      <td>Vice President Chief Information Officer</td>\n",
       "      <td>[0, 0, 0, 0, 1]</td>\n",
       "    </tr>\n",
       "    <tr>\n",
       "      <th>...</th>\n",
       "      <td>...</td>\n",
       "      <td>...</td>\n",
       "    </tr>\n",
       "    <tr>\n",
       "      <th>2235</th>\n",
       "      <td>Net Software Architect and Team Project Lead</td>\n",
       "      <td>[0, 0, 0, 1, 0]</td>\n",
       "    </tr>\n",
       "    <tr>\n",
       "      <th>2236</th>\n",
       "      <td>Solutions Architect Technical Lead</td>\n",
       "      <td>[0, 0, 1, 1, 0]</td>\n",
       "    </tr>\n",
       "    <tr>\n",
       "      <th>2237</th>\n",
       "      <td>Manager Salesforcecom Administration and Release Engineering</td>\n",
       "      <td>[0, 0, 0, 1, 0]</td>\n",
       "    </tr>\n",
       "    <tr>\n",
       "      <th>2238</th>\n",
       "      <td>Innovation Automation Architect</td>\n",
       "      <td>[0, 0, 0, 1, 0]</td>\n",
       "    </tr>\n",
       "    <tr>\n",
       "      <th>2239</th>\n",
       "      <td>Founder and Chief Executive Officer Kindbody</td>\n",
       "      <td>[1, 0, 0, 0, 0]</td>\n",
       "    </tr>\n",
       "  </tbody>\n",
       "</table>\n",
       "<p>2226 rows × 2 columns</p>\n",
       "</div>"
      ]
     },
     "execution_count": 1024,
     "metadata": {},
     "output_type": "execute_result"
    }
   ],
   "execution_count": 1024
  },
  {
   "metadata": {},
   "cell_type": "markdown",
   "source": "We do not perform any other preprocessing steps, such as stemming or lemmatization, as the BERT model is designed to understand textual data in context.",
   "id": "3f567f0ccd815ec0"
  },
  {
   "metadata": {},
   "cell_type": "markdown",
   "source": [
    "### Tokenization\n",
    "Cased BERT model will be used to tokenize the data (wordpiece algorithm). The cased model was chosen as the data contains abbreviations which are case-sensitive."
   ],
   "id": "cd248386ddac660e"
  },
  {
   "metadata": {
    "ExecuteTime": {
     "end_time": "2024-10-01T10:02:30.103421Z",
     "start_time": "2024-10-01T10:02:29.816526Z"
    }
   },
   "cell_type": "code",
   "source": "tokenizer = BertTokenizer.from_pretrained('bert-base-cased')",
   "id": "f9ef271c6ed6bdca",
   "outputs": [],
   "execution_count": 1025
  },
  {
   "metadata": {
    "ExecuteTime": {
     "end_time": "2024-10-01T10:02:30.205371Z",
     "start_time": "2024-10-01T10:02:30.106990Z"
    }
   },
   "cell_type": "code",
   "source": [
    "def split_text(text):\n",
    "    return tokenizer.tokenize(text)\n",
    "\n",
    "max_len = job_level_data[\"Title\"].apply(split_text).apply(len).max()\n",
    "print(\"Maximum lengths of tokenized sentence: \", max_len)"
   ],
   "id": "141549ff53d33aa2",
   "outputs": [
    {
     "name": "stdout",
     "output_type": "stream",
     "text": [
      "Maximum lengths of tokenized sentence:  21\n"
     ]
    }
   ],
   "execution_count": 1026
  },
  {
   "metadata": {},
   "cell_type": "markdown",
   "source": [
    "## Dataset Loading\n",
    "Define important constants"
   ],
   "id": "e8410d40296b0269"
  },
  {
   "metadata": {
    "ExecuteTime": {
     "end_time": "2024-10-01T10:02:30.218090Z",
     "start_time": "2024-10-01T10:02:30.215076Z"
    }
   },
   "cell_type": "code",
   "source": [
    "RANDOM_SEED = 42\n",
    "MAX_LEN = 30\n",
    "BATCH_SIZE = 64\n",
    "MAX_EPOCHS = 50\n",
    "EARLY_STOPPING_PAT = 4\n",
    "THRESHOLD = 0.5"
   ],
   "id": "64ca06eeb833d917",
   "outputs": [],
   "execution_count": 1027
  },
  {
   "metadata": {
    "ExecuteTime": {
     "end_time": "2024-10-01T10:02:30.230677Z",
     "start_time": "2024-10-01T10:02:30.227302Z"
    }
   },
   "cell_type": "code",
   "source": [
    "# handle data preprocessing\n",
    "class JobTitlesDataset(Dataset):\n",
    "    def __init__(self, titles, labels, tokenizer, max_len):\n",
    "        self.titles = titles\n",
    "        self.labels = labels\n",
    "        self.tokenizer = tokenizer\n",
    "        self.max_len = max_len  # maximum length of tokenized sentence\n",
    "\n",
    "    def __len__(self):\n",
    "        return len(self.titles)\n",
    "\n",
    "    def __getitem__(self, item):\n",
    "        encoded_data = self.tokenizer.encode_plus(\n",
    "            self.titles[item],\n",
    "            add_special_tokens=True,  # tokens required for BERT\n",
    "            max_length=self.max_len,\n",
    "            return_token_type_ids=False,  # no sentence pair task\n",
    "            padding='max_length',\n",
    "            truncation=True,\n",
    "            return_attention_mask=True,  # differentiate between padding and data\n",
    "            return_tensors='pt'\n",
    "        )\n",
    "        return {\n",
    "            'input_ids': encoded_data['input_ids'].flatten(),\n",
    "            'attention_mask': encoded_data['attention_mask'].flatten(),\n",
    "            'labels': torch.tensor(self.labels[item], dtype=torch.float)\n",
    "        }"
   ],
   "id": "5759cfe56d236bef",
   "outputs": [],
   "execution_count": 1028
  },
  {
   "metadata": {},
   "cell_type": "markdown",
   "source": "### Train Test Split",
   "id": "b5c2c2adbe4e9b14"
  },
  {
   "metadata": {
    "ExecuteTime": {
     "end_time": "2024-10-01T10:02:30.246607Z",
     "start_time": "2024-10-01T10:02:30.238052Z"
    }
   },
   "cell_type": "code",
   "source": [
    "X_train, X_test, y_train, y_test = train_test_split(\n",
    "    job_level_data['Title'],\n",
    "    job_level_data['Label'],\n",
    "    test_size=0.2,\n",
    "    random_state=RANDOM_SEED,\n",
    "    shuffle=True\n",
    ")\n",
    "\n",
    "X_train = X_train.reset_index(drop=True)\n",
    "y_train = y_train.reset_index(drop=True)\n",
    "X_test = X_test.reset_index(drop=True)\n",
    "y_test = y_test.reset_index(drop=True)\n",
    "\n",
    "print(f\"Train data: {X_train.shape}\")\n",
    "print(f\"Test data: {X_test.shape}\")"
   ],
   "id": "822f58c7f4e5b14d",
   "outputs": [
    {
     "name": "stdout",
     "output_type": "stream",
     "text": [
      "Train data: (1780,)\n",
      "Test data: (446,)\n"
     ]
    }
   ],
   "execution_count": 1029
  },
  {
   "metadata": {
    "ExecuteTime": {
     "end_time": "2024-10-01T10:02:30.271558Z",
     "start_time": "2024-10-01T10:02:30.256684Z"
    }
   },
   "cell_type": "code",
   "source": [
    "train_dataset = JobTitlesDataset(\n",
    "    titles=X_train,\n",
    "    labels=y_train,\n",
    "    tokenizer=tokenizer,\n",
    "    max_len=MAX_LEN\n",
    ")\n",
    "\n",
    "test_dataset = JobTitlesDataset(\n",
    "    titles=X_test,\n",
    "    labels=y_test,\n",
    "    tokenizer=tokenizer,\n",
    "    max_len=MAX_LEN\n",
    ")\n",
    "\n",
    "train_loader = DataLoader(\n",
    "    train_dataset,\n",
    "    batch_size=BATCH_SIZE,\n",
    "    shuffle=True\n",
    ")\n",
    "\n",
    "test_loader = DataLoader(\n",
    "    test_dataset,\n",
    "    batch_size=BATCH_SIZE,\n",
    "    shuffle=True\n",
    ")"
   ],
   "id": "edc4443b6ac1413c",
   "outputs": [],
   "execution_count": 1030
  },
  {
   "metadata": {},
   "cell_type": "markdown",
   "source": "## Model Definition and Training",
   "id": "43e8c61193fad5f3"
  },
  {
   "metadata": {
    "ExecuteTime": {
     "end_time": "2024-10-01T10:02:33.303754Z",
     "start_time": "2024-10-01T10:02:30.279229Z"
    }
   },
   "cell_type": "code",
   "source": [
    "class JobTitleClassifier(nn.Module):\n",
    "    def __init__(self, n_classes):\n",
    "        super(JobTitleClassifier, self).__init__()\n",
    "        self.bert = BertModel.from_pretrained('bert-base-cased') # pre-trained bert model\n",
    "        self.dropout = torch.nn.Dropout(0.3) # regularization\n",
    "        self.linear = torch.nn.Linear(self.bert.config.hidden_size, n_classes) # classification \n",
    "    \n",
    "    def forward(self, input_ids, attention_mask):\n",
    "        output = self.bert(input_ids, attention_mask)\n",
    "        output = self.dropout(output.pooler_output)\n",
    "        output = self.linear(output)\n",
    "        return output\n",
    "\n",
    "model_bert_classifier = JobTitleClassifier(len(mlb.classes_)).to(device)"
   ],
   "id": "223bec2bbe288b7",
   "outputs": [],
   "execution_count": 1031
  },
  {
   "metadata": {
    "ExecuteTime": {
     "end_time": "2024-10-01T10:02:33.323395Z",
     "start_time": "2024-10-01T10:02:33.314551Z"
    }
   },
   "cell_type": "code",
   "source": [
    "adam_optimizer = torch.optim.AdamW(model_bert_classifier.parameters(), lr=2e-5)\n",
    "bce_loss = nn.BCEWithLogitsLoss() # includes sigmoid activation\n",
    "plateau_scheduler = torch.optim.lr_scheduler.ReduceLROnPlateau(adam_optimizer, mode='min', patience=2, factor=0.2)"
   ],
   "id": "4fd5c9a74af6011e",
   "outputs": [],
   "execution_count": 1032
  },
  {
   "metadata": {
    "ExecuteTime": {
     "end_time": "2024-10-01T10:02:33.328539Z",
     "start_time": "2024-10-01T10:02:33.325490Z"
    }
   },
   "cell_type": "code",
   "source": [
    "def train_classifier(model,\n",
    "                     data_loader,\n",
    "                     loss_fn,\n",
    "                     optimizer,\n",
    "                     device):\n",
    "    model = model.train()\n",
    "    losses = []\n",
    "    \n",
    "    for batch_num, batch in enumerate(data_loader):\n",
    "        input_ids = batch['input_ids'].to(device)\n",
    "        attention_mask = batch['attention_mask'].to(device)\n",
    "        true_labels = batch['labels'].to(device)\n",
    "\n",
    "        outputs = model(input_ids, attention_mask)\n",
    "        loss = loss_fn(outputs, true_labels)\n",
    "        losses.append(loss.item())\n",
    "        \n",
    "        loss.backward()\n",
    "        optimizer.step()\n",
    "        optimizer.zero_grad()\n",
    "        \n",
    "    return np.mean(losses)\n"
   ],
   "id": "8296adbacab10345",
   "outputs": [],
   "execution_count": 1033
  },
  {
   "metadata": {
    "ExecuteTime": {
     "end_time": "2024-10-01T10:02:33.333374Z",
     "start_time": "2024-10-01T10:02:33.330697Z"
    }
   },
   "cell_type": "code",
   "source": [
    "def validation(model,\n",
    "               data_loader,\n",
    "               loss_fn,\n",
    "               device):\n",
    "    \n",
    "    model = model.eval()\n",
    "    losses = []\n",
    "    predictions = []\n",
    "    targets = []\n",
    "    \n",
    "    # ensures no gradients are computed during test mode\n",
    "    with torch.no_grad():\n",
    "        for batch in data_loader:\n",
    "            input_ids = batch['input_ids'].to(device)\n",
    "            attention_mask = batch['attention_mask'].to(device)\n",
    "            true_labels = batch['labels'].to(device)\n",
    "            \n",
    "            outputs = model(input_ids, attention_mask)\n",
    "            eval_loss = loss_fn(outputs, true_labels).item()\n",
    "            losses.append(eval_loss)\n",
    "            \n",
    "            preds = torch.sigmoid(outputs)\n",
    "            predictions.extend(preds.cpu().numpy())\n",
    "            targets.extend(true_labels.cpu().numpy())\n",
    "            \n",
    "    return np.mean(losses), predictions, targets"
   ],
   "id": "35b0c71cc0e935f6",
   "outputs": [],
   "execution_count": 1034
  },
  {
   "metadata": {},
   "cell_type": "markdown",
   "source": [
    "### Training and Evaluation Process\n",
    "According to [Correlation analysis of performance measures for multi-label classification (2013)](https://www.sciencedirect.com/science/article/abs/pii/S0306457318300165), these are the most widely-used performance measures for multi-label classification:\n",
    "- **Hamming Loss**: the most recommended due to its lack of correlation with other measures (avoiding redundancy) and being the most employed in literature at the time of paper writing.\n",
    "- **F1 and Accuracy**: have strong correlation with other metrics, making them representative measures that reduce the need to report multiple similar metrics.\n",
    "\n"
   ],
   "id": "99ebe868c2e4d025"
  },
  {
   "metadata": {
    "jupyter": {
     "is_executing": true
    },
    "ExecuteTime": {
     "start_time": "2024-10-01T10:02:33.340695Z"
    }
   },
   "cell_type": "code",
   "source": [
    "train_losses = []\n",
    "val_losses = []\n",
    "\n",
    "hamming_loss_scores = []\n",
    "f1_scores = []\n",
    "accuracy_scores = []\n",
    "\n",
    "all_targets = []\n",
    "all_predictions = []\n",
    "\n",
    "best_loss = float('inf')\n",
    "best_model_weights = None\n",
    "patience = EARLY_STOPPING_PAT\n",
    "\n",
    "for epoch in range(MAX_EPOCHS):\n",
    "    print(f'Epoch {epoch + 1}')\n",
    "\n",
    "    # Training\n",
    "    train_loss = train_classifier(model_bert_classifier, train_loader, bce_loss, adam_optimizer, device)\n",
    "    train_losses.append(train_loss)\n",
    "\n",
    "    # Validation\n",
    "    val_loss, predictions, targets = validation(model_bert_classifier, test_loader, bce_loss, device)\n",
    "    val_losses.append(val_loss)\n",
    "\n",
    "    # Update learning rate\n",
    "    plateau_scheduler.step(val_loss)\n",
    "    print(f\"Current learning rate: {adam_optimizer.param_groups[0]['lr']}\")\n",
    "\n",
    "    predictions = np.array(predictions) >= THRESHOLD\n",
    "    targets = np.array(targets)\n",
    "\n",
    "    all_targets.extend(targets)\n",
    "    all_predictions.extend(predictions)\n",
    "\n",
    "    print(f\"Training loss: {train_loss:.5f}, Validation loss: {val_loss:.5f}\")\n",
    "\n",
    "    accuracy = accuracy_score(targets, predictions)\n",
    "    print(f\"Accuracy: {accuracy:.5f}\")\n",
    "\n",
    "    f1 = f1_score(targets, predictions, average='macro', zero_division=1)\n",
    "    print(f\"F1: {f1:.5f}\")\n",
    "\n",
    "    hamming_loss_score = hamming_loss(targets, predictions)\n",
    "    print(f\"Hamming Loss: {hamming_loss_score:.5f}\")\n",
    "\n",
    "    hamming_loss_scores.append(hamming_loss_score)\n",
    "    f1_scores.append(f1)\n",
    "    accuracy_scores.append(accuracy)\n",
    "    \n",
    "    # Early stopping\n",
    "    if val_loss < best_loss:\n",
    "        best_loss = val_loss\n",
    "        best_model_weights = copy.deepcopy(model_bert_classifier.state_dict())\n",
    "        patience = EARLY_STOPPING_PAT \n",
    "    else:\n",
    "        patience -= 1\n",
    "        if patience == 0:\n",
    "            break\n",
    "\n",
    "    model_bert_classifier.load_state_dict(best_model_weights)\n",
    "    print(\"\\n\")"
   ],
   "id": "4e71c6135ce36bb7",
   "outputs": [
    {
     "name": "stdout",
     "output_type": "stream",
     "text": [
      "Epoch 1\n",
      "Current learning rate: 2e-05\n",
      "Training loss: 0.50512, Validation loss: 0.34217\n",
      "Accuracy: 0.44395\n",
      "F1: 0.19582\n",
      "Hamming Loss: 0.13274\n",
      "\n",
      "\n",
      "Epoch 2\n",
      "Current learning rate: 2e-05\n",
      "Training loss: 0.27718, Validation loss: 0.21257\n",
      "Accuracy: 0.79596\n",
      "F1: 0.54676\n",
      "Hamming Loss: 0.06233\n",
      "\n",
      "\n",
      "Epoch 3\n",
      "Current learning rate: 2e-05\n",
      "Training loss: 0.18617, Validation loss: 0.17291\n",
      "Accuracy: 0.85874\n",
      "F1: 0.81508\n",
      "Hamming Loss: 0.04484\n",
      "\n",
      "\n",
      "Epoch 4\n",
      "Current learning rate: 2e-05\n",
      "Training loss: 0.14529, Validation loss: 0.15805\n",
      "Accuracy: 0.85874\n",
      "F1: 0.81603\n",
      "Hamming Loss: 0.04484\n",
      "\n",
      "\n",
      "Epoch 5\n",
      "Current learning rate: 2e-05\n",
      "Training loss: 0.12301, Validation loss: 0.14379\n",
      "Accuracy: 0.85426\n",
      "F1: 0.81969\n",
      "Hamming Loss: 0.04574\n",
      "\n",
      "\n",
      "Epoch 6\n",
      "Current learning rate: 2e-05\n",
      "Training loss: 0.10241, Validation loss: 0.13418\n",
      "Accuracy: 0.85874\n",
      "F1: 0.82721\n",
      "Hamming Loss: 0.04484\n",
      "\n",
      "\n",
      "Epoch 7\n",
      "Current learning rate: 2e-05\n",
      "Training loss: 0.09292, Validation loss: 0.13811\n",
      "Accuracy: 0.85874\n",
      "F1: 0.83671\n",
      "Hamming Loss: 0.04305\n",
      "\n",
      "\n",
      "Epoch 8\n",
      "Current learning rate: 2e-05\n",
      "Training loss: 0.09168, Validation loss: 0.14076\n",
      "Accuracy: 0.84305\n",
      "F1: 0.81606\n",
      "Hamming Loss: 0.04843\n",
      "\n",
      "\n",
      "Epoch 9\n"
     ]
    }
   ],
   "execution_count": null
  },
  {
   "metadata": {},
   "cell_type": "markdown",
   "source": "## Results Interpretation",
   "id": "6f5760987ab06b61"
  },
  {
   "metadata": {
    "ExecuteTime": {
     "end_time": "2024-10-01T09:48:54.833272Z",
     "start_time": "2024-10-01T09:48:54.359911Z"
    }
   },
   "cell_type": "code",
   "source": [
    "fig, (ax1, ax2) = plt.subplots(2, 1, figsize=(10, 14))\n",
    "\n",
    "ax1.plot(train_losses, label='Training Loss')\n",
    "ax1.plot(val_losses, label='Validation Loss')\n",
    "ax1.set_xlabel('Epoch')\n",
    "ax1.set_ylabel('Loss')\n",
    "ax1.set_title('Training and Validation Loss')\n",
    "ax1.legend()\n",
    "\n",
    "ax2.plot(hamming_loss_scores, label='Hamming Loss')\n",
    "ax2.plot(f1_scores, label='F1 Score')\n",
    "ax2.plot(accuracy_scores, label='Accuracy')\n",
    "ax2.set_xlabel('Epoch')\n",
    "ax2.set_ylabel('Score')\n",
    "ax2.set_title('Hamming Loss, F1 Score, and Accuracy')\n",
    "ax2.legend()\n",
    "\n",
    "plt.tight_layout()\n",
    "plt.show()"
   ],
   "id": "d510fc7b8271e067",
   "outputs": [
    {
     "data": {
      "text/plain": [
       "<Figure size 1000x1400 with 2 Axes>"
      ],
      "image/png": "[encoded data removed]"
     },
     "metadata": {},
     "output_type": "display_data"
    }
   ],
   "execution_count": 1007
  },
  {
   "metadata": {
    "ExecuteTime": {
     "end_time": "2024-10-01T09:48:55.522801Z",
     "start_time": "2024-10-01T09:48:54.849273Z"
    }
   },
   "cell_type": "code",
   "source": [
    "cm = multilabel_confusion_matrix(np.array(all_targets), np.array(all_predictions))\n",
    "\n",
    "f, axes = plt.subplots(2, 3, figsize=(16, 10))\n",
    "f.suptitle(\"Confusion Matrix for each Label\")\n",
    "\n",
    "for i, matrix in enumerate(cm):\n",
    "    with np.errstate(invalid='ignore'):\n",
    "        normalized_matrix = matrix.astype('float') / matrix.sum(axis=1)[:, np.newaxis] * 100\n",
    "        normalized_matrix[np.isnan(normalized_matrix)] = 0 \n",
    "    ax = axes[i//3, i % 3]\n",
    "    sns.heatmap(normalized_matrix, annot=True, cmap='Blues', ax = ax)\n",
    "    ax.set_xlabel('Predicted')\n",
    "    ax.set_ylabel('True')\n",
    "    ax.set_title(classes_labels[i])\n",
    "\n",
    "plt.show()"
   ],
   "id": "39085ede8f1d24ad",
   "outputs": [
    {
     "data": {
      "text/plain": [
       "<Figure size 1600x1000 with 11 Axes>"
      ],
      "image/png": "[encoded data removed]"
     },
     "metadata": {},
     "output_type": "display_data"
    }
   ],
   "execution_count": 1008
  }
 ],
 "metadata": {
  "kernelspec": {
   "display_name": "Python 3",
   "language": "python",
   "name": "python3"
  },
  "language_info": {
   "codemirror_mode": {
    "name": "ipython",
    "version": 2
   },
   "file_extension": ".py",
   "mimetype": "text/x-python",
   "name": "python",
   "nbconvert_exporter": "python",
   "pygments_lexer": "ipython2",
   "version": "2.7.6"
  }
 },
 "nbformat": 4,
 "nbformat_minor": 5
}
