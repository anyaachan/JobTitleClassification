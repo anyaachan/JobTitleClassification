{
 "cells": [
  {
   "metadata": {
    "ExecuteTime": {
     "end_time": "2024-09-30T22:18:37.462808Z",
     "start_time": "2024-09-30T22:18:37.435492Z"
    }
   },
   "cell_type": "code",
   "source": [
    "import pandas as pd\n",
    "from collections import Counter\n",
    "import matplotlib.pyplot as plt\n",
    "from transformers import BertTokenizer, BertModel\n",
    "from sklearn.model_selection import train_test_split\n",
    "from sklearn.preprocessing import MultiLabelBinarizer\n",
    "from sklearn.metrics import accuracy_score, f1_score, multilabel_confusion_matrix, hamming_loss\n",
    "import seaborn as sns\n",
    "import re \n",
    "\n",
    "import torch\n",
    "import torch.nn as nn\n",
    "from torch.utils.data import Dataset\n",
    "from torch.utils.data import DataLoader\n",
    "\n",
    "import numpy as np"
   ],
   "id": "198fb30a93ad8f07",
   "outputs": [],
   "execution_count": 289
  },
  {
   "metadata": {
    "ExecuteTime": {
     "end_time": "2024-09-30T22:18:37.477404Z",
     "start_time": "2024-09-30T22:18:37.472387Z"
    }
   },
   "cell_type": "code",
   "source": [
    "device = (\n",
    "    \"cuda\"\n",
    "    if torch.cuda.is_available()\n",
    "    else \"mps\"\n",
    "    if torch.backends.mps.is_available()\n",
    "    else \"cpu\"\n",
    ")\n",
    "print(f\"Using {device} device\")"
   ],
   "id": "cca6ac6f55888475",
   "outputs": [
    {
     "name": "stdout",
     "output_type": "stream",
     "text": [
      "Using mps device\n"
     ]
    }
   ],
   "execution_count": 290
  },
  {
   "metadata": {},
   "cell_type": "markdown",
   "source": [
    "# EDA\n",
    "### Import Data"
   ],
   "id": "828d534ecaf6a91a"
  },
  {
   "metadata": {
    "ExecuteTime": {
     "end_time": "2024-09-30T22:18:37.619813Z",
     "start_time": "2024-09-30T22:18:37.525586Z"
    }
   },
   "cell_type": "code",
   "source": [
    "job_level_data = pd.read_excel(\"data/JobLevelData.xlsx\")\n",
    "job_level_data.head()"
   ],
   "id": "3032b53ca5872bad",
   "outputs": [
    {
     "data": {
      "text/plain": [
       "                                               Title        Column 1  \\\n",
       "0   Vice President / Director of Systems Engineering  Vice President   \n",
       "1                Systems Engineer; Systems Architect         Manager   \n",
       "2  Executive Director, Global IT Infrastructure /...        Director   \n",
       "3      CTO/Executive Director of Technology Services        Director   \n",
       "4                                Vice President, CIO  Vice President   \n",
       "\n",
       "                       Column 2 Column 3 Column 4  \n",
       "0                           NaN      NaN      NaN  \n",
       "1  Individual Contributor/Staff      NaN      NaN  \n",
       "2                 Chief Officer      NaN      NaN  \n",
       "3                 Chief Officer      NaN      NaN  \n",
       "4                           NaN      NaN      NaN  "
      ],
      "text/html": [
       "<div>\n",
       "<style scoped>\n",
       "    .dataframe tbody tr th:only-of-type {\n",
       "        vertical-align: middle;\n",
       "    }\n",
       "\n",
       "    .dataframe tbody tr th {\n",
       "        vertical-align: top;\n",
       "    }\n",
       "\n",
       "    .dataframe thead th {\n",
       "        text-align: right;\n",
       "    }\n",
       "</style>\n",
       "<table border=\"1\" class=\"dataframe\">\n",
       "  <thead>\n",
       "    <tr style=\"text-align: right;\">\n",
       "      <th></th>\n",
       "      <th>Title</th>\n",
       "      <th>Column 1</th>\n",
       "      <th>Column 2</th>\n",
       "      <th>Column 3</th>\n",
       "      <th>Column 4</th>\n",
       "    </tr>\n",
       "  </thead>\n",
       "  <tbody>\n",
       "    <tr>\n",
       "      <th>0</th>\n",
       "      <td>Vice President / Director of Systems Engineering</td>\n",
       "      <td>Vice President</td>\n",
       "      <td>NaN</td>\n",
       "      <td>NaN</td>\n",
       "      <td>NaN</td>\n",
       "    </tr>\n",
       "    <tr>\n",
       "      <th>1</th>\n",
       "      <td>Systems Engineer; Systems Architect</td>\n",
       "      <td>Manager</td>\n",
       "      <td>Individual Contributor/Staff</td>\n",
       "      <td>NaN</td>\n",
       "      <td>NaN</td>\n",
       "    </tr>\n",
       "    <tr>\n",
       "      <th>2</th>\n",
       "      <td>Executive Director, Global IT Infrastructure /...</td>\n",
       "      <td>Director</td>\n",
       "      <td>Chief Officer</td>\n",
       "      <td>NaN</td>\n",
       "      <td>NaN</td>\n",
       "    </tr>\n",
       "    <tr>\n",
       "      <th>3</th>\n",
       "      <td>CTO/Executive Director of Technology Services</td>\n",
       "      <td>Director</td>\n",
       "      <td>Chief Officer</td>\n",
       "      <td>NaN</td>\n",
       "      <td>NaN</td>\n",
       "    </tr>\n",
       "    <tr>\n",
       "      <th>4</th>\n",
       "      <td>Vice President, CIO</td>\n",
       "      <td>Vice President</td>\n",
       "      <td>NaN</td>\n",
       "      <td>NaN</td>\n",
       "      <td>NaN</td>\n",
       "    </tr>\n",
       "  </tbody>\n",
       "</table>\n",
       "</div>"
      ]
     },
     "execution_count": 291,
     "metadata": {},
     "output_type": "execute_result"
    }
   ],
   "execution_count": 291
  },
  {
   "metadata": {},
   "cell_type": "markdown",
   "source": "### Check for Rows with all NaNs",
   "id": "62692bfb5c9e59d3"
  },
  {
   "metadata": {},
   "cell_type": "markdown",
   "source": [
    "Let's check for the rows, where all target columns are NaN, meaning that there is no label assigned to the position title. \n",
    "\n",
    "There is only 10 rows which are not labeled, which comprise only 0.4% of the data. There is several actions that could be taken:\n",
    "\n",
    "- Label the data manually or ask data providers to label the data. As there is only 10 entries, the option to ask the client to label this 10 entries is preferable. However, due to the nature of the task, we do not have an access to the communication with the client and we also can't label them because we do not have enough knowledge in the client's data context.  \n",
    "- Impute the data. There are several possible variants of imputation: \n",
    "\n",
    "    -  Fill with default values, such as \"Unknown\". This is a bad approach as this will introduce an additional class and confuse the model rather than provide valuable data.\n",
    "    - \n",
    "- Remove the rows with missing data."
   ],
   "id": "78c9df9b3d446838"
  },
  {
   "metadata": {
    "ExecuteTime": {
     "end_time": "2024-09-30T22:18:37.662298Z",
     "start_time": "2024-09-30T22:18:37.653278Z"
    }
   },
   "cell_type": "code",
   "source": [
    "nan_rows = job_level_data[job_level_data.drop(columns=['Title']).isna().all(axis=1)]\n",
    "print(f\"Percentage of not labeled data: {len(nan_rows) / len(job_level_data) * 100}\")\n",
    "nan_rows"
   ],
   "id": "3b10e7a9fe4bfd19",
   "outputs": [
    {
     "name": "stdout",
     "output_type": "stream",
     "text": [
      "Percentage of not labeled data: 0.4464285714285714\n"
     ]
    },
    {
     "data": {
      "text/plain": [
       "                                                  Title Column 1 Column 2  \\\n",
       "29                                                 CINO      NaN      NaN   \n",
       "341                                Ticari Subesi Muduru      NaN      NaN   \n",
       "511   Governor, Chair of Board Risk and Audit Commit...      NaN      NaN   \n",
       "764          Former Director, Compensation and Benefits      NaN      NaN   \n",
       "829                      Release of Information Tech II      NaN      NaN   \n",
       "1257                  Shareholder, Chair of Tax Section      NaN      NaN   \n",
       "1406  Global People Systems, Processes and Informati...      NaN      NaN   \n",
       "1713                          Supplier Quality Engineer      NaN      NaN   \n",
       "1785  RC Environmental and Cyber Specialized Subscri...      NaN      NaN   \n",
       "2182  Senior Independedirector and Chair of the Cust...      NaN      NaN   \n",
       "\n",
       "     Column 3 Column 4  \n",
       "29        NaN      NaN  \n",
       "341       NaN      NaN  \n",
       "511       NaN      NaN  \n",
       "764       NaN      NaN  \n",
       "829       NaN      NaN  \n",
       "1257      NaN      NaN  \n",
       "1406      NaN      NaN  \n",
       "1713      NaN      NaN  \n",
       "1785      NaN      NaN  \n",
       "2182      NaN      NaN  "
      ],
      "text/html": [
       "<div>\n",
       "<style scoped>\n",
       "    .dataframe tbody tr th:only-of-type {\n",
       "        vertical-align: middle;\n",
       "    }\n",
       "\n",
       "    .dataframe tbody tr th {\n",
       "        vertical-align: top;\n",
       "    }\n",
       "\n",
       "    .dataframe thead th {\n",
       "        text-align: right;\n",
       "    }\n",
       "</style>\n",
       "<table border=\"1\" class=\"dataframe\">\n",
       "  <thead>\n",
       "    <tr style=\"text-align: right;\">\n",
       "      <th></th>\n",
       "      <th>Title</th>\n",
       "      <th>Column 1</th>\n",
       "      <th>Column 2</th>\n",
       "      <th>Column 3</th>\n",
       "      <th>Column 4</th>\n",
       "    </tr>\n",
       "  </thead>\n",
       "  <tbody>\n",
       "    <tr>\n",
       "      <th>29</th>\n",
       "      <td>CINO</td>\n",
       "      <td>NaN</td>\n",
       "      <td>NaN</td>\n",
       "      <td>NaN</td>\n",
       "      <td>NaN</td>\n",
       "    </tr>\n",
       "    <tr>\n",
       "      <th>341</th>\n",
       "      <td>Ticari Subesi Muduru</td>\n",
       "      <td>NaN</td>\n",
       "      <td>NaN</td>\n",
       "      <td>NaN</td>\n",
       "      <td>NaN</td>\n",
       "    </tr>\n",
       "    <tr>\n",
       "      <th>511</th>\n",
       "      <td>Governor, Chair of Board Risk and Audit Commit...</td>\n",
       "      <td>NaN</td>\n",
       "      <td>NaN</td>\n",
       "      <td>NaN</td>\n",
       "      <td>NaN</td>\n",
       "    </tr>\n",
       "    <tr>\n",
       "      <th>764</th>\n",
       "      <td>Former Director, Compensation and Benefits</td>\n",
       "      <td>NaN</td>\n",
       "      <td>NaN</td>\n",
       "      <td>NaN</td>\n",
       "      <td>NaN</td>\n",
       "    </tr>\n",
       "    <tr>\n",
       "      <th>829</th>\n",
       "      <td>Release of Information Tech II</td>\n",
       "      <td>NaN</td>\n",
       "      <td>NaN</td>\n",
       "      <td>NaN</td>\n",
       "      <td>NaN</td>\n",
       "    </tr>\n",
       "    <tr>\n",
       "      <th>1257</th>\n",
       "      <td>Shareholder, Chair of Tax Section</td>\n",
       "      <td>NaN</td>\n",
       "      <td>NaN</td>\n",
       "      <td>NaN</td>\n",
       "      <td>NaN</td>\n",
       "    </tr>\n",
       "    <tr>\n",
       "      <th>1406</th>\n",
       "      <td>Global People Systems, Processes and Informati...</td>\n",
       "      <td>NaN</td>\n",
       "      <td>NaN</td>\n",
       "      <td>NaN</td>\n",
       "      <td>NaN</td>\n",
       "    </tr>\n",
       "    <tr>\n",
       "      <th>1713</th>\n",
       "      <td>Supplier Quality Engineer</td>\n",
       "      <td>NaN</td>\n",
       "      <td>NaN</td>\n",
       "      <td>NaN</td>\n",
       "      <td>NaN</td>\n",
       "    </tr>\n",
       "    <tr>\n",
       "      <th>1785</th>\n",
       "      <td>RC Environmental and Cyber Specialized Subscri...</td>\n",
       "      <td>NaN</td>\n",
       "      <td>NaN</td>\n",
       "      <td>NaN</td>\n",
       "      <td>NaN</td>\n",
       "    </tr>\n",
       "    <tr>\n",
       "      <th>2182</th>\n",
       "      <td>Senior Independedirector and Chair of the Cust...</td>\n",
       "      <td>NaN</td>\n",
       "      <td>NaN</td>\n",
       "      <td>NaN</td>\n",
       "      <td>NaN</td>\n",
       "    </tr>\n",
       "  </tbody>\n",
       "</table>\n",
       "</div>"
      ]
     },
     "execution_count": 292,
     "metadata": {},
     "output_type": "execute_result"
    }
   ],
   "execution_count": 292
  },
  {
   "metadata": {
    "ExecuteTime": {
     "end_time": "2024-09-30T22:18:37.707061Z",
     "start_time": "2024-09-30T22:18:37.702981Z"
    }
   },
   "cell_type": "code",
   "source": "job_level_data.drop(nan_rows.index, inplace=True)",
   "id": "999188cbceb15788",
   "outputs": [],
   "execution_count": 293
  },
  {
   "metadata": {},
   "cell_type": "markdown",
   "source": "### Join Columns values into a single list",
   "id": "3bcc67e5f8807869"
  },
  {
   "metadata": {},
   "cell_type": "markdown",
   "source": "We need to join the columns into a single list to be able to use it in the model and for easier manipulation.",
   "id": "fcc30fa5bc128de"
  },
  {
   "metadata": {
    "ExecuteTime": {
     "end_time": "2024-09-30T22:18:37.766698Z",
     "start_time": "2024-09-30T22:18:37.755048Z"
    }
   },
   "cell_type": "code",
   "source": [
    "job_level_data[\"Label\"] = job_level_data.drop(columns=[\"Title\"]).values.tolist()\n",
    "job_level_data.drop(columns=[\"Column 1\", \"Column 2\", \"Column 3\", \"Column 4\"], inplace=True)\n",
    "\n",
    "def remove_nans_from_array(list):\n",
    "    return [label for label in list if not pd.isna(label)]\n",
    "\n",
    "job_level_data[\"Label\"] = job_level_data[\"Label\"].apply(remove_nans_from_array)\n",
    "job_level_data[\"Label\"] = job_level_data[\"Label\"].apply(lambda labels: sorted(labels))\n",
    "job_level_data"
   ],
   "id": "7c399f8176890e68",
   "outputs": [
    {
     "data": {
      "text/plain": [
       "                                                  Title  \\\n",
       "0      Vice President / Director of Systems Engineering   \n",
       "1                   Systems Engineer; Systems Architect   \n",
       "2     Executive Director, Global IT Infrastructure /...   \n",
       "3         CTO/Executive Director of Technology Services   \n",
       "4                                   Vice President, CIO   \n",
       "...                                                 ...   \n",
       "2235       Net Software Architect and Team Project Lead   \n",
       "2236               Solutions Architect & Technical Lead   \n",
       "2237  Manager, Salesforcecom Administration and Rele...   \n",
       "2238                    Innovation Automation Architect   \n",
       "2239      Founder and Chief Executive Officer, Kindbody   \n",
       "\n",
       "                                        Label  \n",
       "0                            [Vice President]  \n",
       "1     [Individual Contributor/Staff, Manager]  \n",
       "2                   [Chief Officer, Director]  \n",
       "3                   [Chief Officer, Director]  \n",
       "4                            [Vice President]  \n",
       "...                                       ...  \n",
       "2235                                [Manager]  \n",
       "2236  [Individual Contributor/Staff, Manager]  \n",
       "2237                                [Manager]  \n",
       "2238                                [Manager]  \n",
       "2239                          [Chief Officer]  \n",
       "\n",
       "[2230 rows x 2 columns]"
      ],
      "text/html": [
       "<div>\n",
       "<style scoped>\n",
       "    .dataframe tbody tr th:only-of-type {\n",
       "        vertical-align: middle;\n",
       "    }\n",
       "\n",
       "    .dataframe tbody tr th {\n",
       "        vertical-align: top;\n",
       "    }\n",
       "\n",
       "    .dataframe thead th {\n",
       "        text-align: right;\n",
       "    }\n",
       "</style>\n",
       "<table border=\"1\" class=\"dataframe\">\n",
       "  <thead>\n",
       "    <tr style=\"text-align: right;\">\n",
       "      <th></th>\n",
       "      <th>Title</th>\n",
       "      <th>Label</th>\n",
       "    </tr>\n",
       "  </thead>\n",
       "  <tbody>\n",
       "    <tr>\n",
       "      <th>0</th>\n",
       "      <td>Vice President / Director of Systems Engineering</td>\n",
       "      <td>[Vice President]</td>\n",
       "    </tr>\n",
       "    <tr>\n",
       "      <th>1</th>\n",
       "      <td>Systems Engineer; Systems Architect</td>\n",
       "      <td>[Individual Contributor/Staff, Manager]</td>\n",
       "    </tr>\n",
       "    <tr>\n",
       "      <th>2</th>\n",
       "      <td>Executive Director, Global IT Infrastructure /...</td>\n",
       "      <td>[Chief Officer, Director]</td>\n",
       "    </tr>\n",
       "    <tr>\n",
       "      <th>3</th>\n",
       "      <td>CTO/Executive Director of Technology Services</td>\n",
       "      <td>[Chief Officer, Director]</td>\n",
       "    </tr>\n",
       "    <tr>\n",
       "      <th>4</th>\n",
       "      <td>Vice President, CIO</td>\n",
       "      <td>[Vice President]</td>\n",
       "    </tr>\n",
       "    <tr>\n",
       "      <th>...</th>\n",
       "      <td>...</td>\n",
       "      <td>...</td>\n",
       "    </tr>\n",
       "    <tr>\n",
       "      <th>2235</th>\n",
       "      <td>Net Software Architect and Team Project Lead</td>\n",
       "      <td>[Manager]</td>\n",
       "    </tr>\n",
       "    <tr>\n",
       "      <th>2236</th>\n",
       "      <td>Solutions Architect &amp; Technical Lead</td>\n",
       "      <td>[Individual Contributor/Staff, Manager]</td>\n",
       "    </tr>\n",
       "    <tr>\n",
       "      <th>2237</th>\n",
       "      <td>Manager, Salesforcecom Administration and Rele...</td>\n",
       "      <td>[Manager]</td>\n",
       "    </tr>\n",
       "    <tr>\n",
       "      <th>2238</th>\n",
       "      <td>Innovation Automation Architect</td>\n",
       "      <td>[Manager]</td>\n",
       "    </tr>\n",
       "    <tr>\n",
       "      <th>2239</th>\n",
       "      <td>Founder and Chief Executive Officer, Kindbody</td>\n",
       "      <td>[Chief Officer]</td>\n",
       "    </tr>\n",
       "  </tbody>\n",
       "</table>\n",
       "<p>2230 rows × 2 columns</p>\n",
       "</div>"
      ]
     },
     "execution_count": 294,
     "metadata": {},
     "output_type": "execute_result"
    }
   ],
   "execution_count": 294
  },
  {
   "metadata": {},
   "cell_type": "markdown",
   "source": "### Distribution of Labels",
   "id": "e385baf07053fdf2"
  },
  {
   "metadata": {
    "ExecuteTime": {
     "end_time": "2024-09-30T22:18:37.906125Z",
     "start_time": "2024-09-30T22:18:37.815396Z"
    }
   },
   "cell_type": "code",
   "source": [
    "labels_list = [label for labels_list in job_level_data[\"Label\"] for label in labels_list]\n",
    "labels_count = sorted(Counter(labels_list).items(), key=lambda x: x[1], reverse=True)\n",
    "labels_count_keys, labels_count_values = zip(*labels_count)\n",
    "\n",
    "fig, ax = plt.subplots()\n",
    "ax.bar(labels_count_keys, labels_count_values)\n",
    "ax.set_title('Distribution of position labels')\n",
    "plt.xticks(rotation=90) \n",
    "\n",
    "plt.show()"
   ],
   "id": "12437eb6000f7ab9",
   "outputs": [
    {
     "data": {
      "text/plain": [
       "<Figure size 640x480 with 1 Axes>"
      ],
      "image/png": "[encoded data removed]"
     },
     "metadata": {},
     "output_type": "display_data"
    }
   ],
   "execution_count": 295
  },
  {
   "metadata": {},
   "cell_type": "markdown",
   "source": [
    "It can be observed from the distribution, that the \"Owner\" label is highly underrepresented. \n",
    "### \"Owner\" Label Exploration"
   ],
   "id": "16fa76ed4fdc9a7d"
  },
  {
   "metadata": {
    "ExecuteTime": {
     "end_time": "2024-09-30T22:18:37.929475Z",
     "start_time": "2024-09-30T22:18:37.924757Z"
    }
   },
   "cell_type": "code",
   "source": [
    "owner_label_entries = job_level_data[job_level_data[\"Label\"].apply(lambda labels: \"Owner\" in labels)]\n",
    "owner_label_entries"
   ],
   "id": "b72585778e9e76",
   "outputs": [
    {
     "data": {
      "text/plain": [
       "                                             Title                   Label\n",
       "22                                 CoFounder & CTO  [Chief Officer, Owner]\n",
       "119            Chief Operating Officer, Co-Founder  [Chief Officer, Owner]\n",
       "1222  Co-Owner, Vice President and General Counsel                 [Owner]\n",
       "1933                                  Founder, COO  [Chief Officer, Owner]"
      ],
      "text/html": [
       "<div>\n",
       "<style scoped>\n",
       "    .dataframe tbody tr th:only-of-type {\n",
       "        vertical-align: middle;\n",
       "    }\n",
       "\n",
       "    .dataframe tbody tr th {\n",
       "        vertical-align: top;\n",
       "    }\n",
       "\n",
       "    .dataframe thead th {\n",
       "        text-align: right;\n",
       "    }\n",
       "</style>\n",
       "<table border=\"1\" class=\"dataframe\">\n",
       "  <thead>\n",
       "    <tr style=\"text-align: right;\">\n",
       "      <th></th>\n",
       "      <th>Title</th>\n",
       "      <th>Label</th>\n",
       "    </tr>\n",
       "  </thead>\n",
       "  <tbody>\n",
       "    <tr>\n",
       "      <th>22</th>\n",
       "      <td>CoFounder &amp; CTO</td>\n",
       "      <td>[Chief Officer, Owner]</td>\n",
       "    </tr>\n",
       "    <tr>\n",
       "      <th>119</th>\n",
       "      <td>Chief Operating Officer, Co-Founder</td>\n",
       "      <td>[Chief Officer, Owner]</td>\n",
       "    </tr>\n",
       "    <tr>\n",
       "      <th>1222</th>\n",
       "      <td>Co-Owner, Vice President and General Counsel</td>\n",
       "      <td>[Owner]</td>\n",
       "    </tr>\n",
       "    <tr>\n",
       "      <th>1933</th>\n",
       "      <td>Founder, COO</td>\n",
       "      <td>[Chief Officer, Owner]</td>\n",
       "    </tr>\n",
       "  </tbody>\n",
       "</table>\n",
       "</div>"
      ]
     },
     "execution_count": 296,
     "metadata": {},
     "output_type": "execute_result"
    }
   ],
   "execution_count": 296
  },
  {
   "metadata": {},
   "cell_type": "markdown",
   "source": [
    "As can be observed from the data, there is only 4 entries labeled as \"Owner\". It is not enough data to train the model on and it woudn't be possible to divide the data into adequate train-test split. \n",
    "\n",
    "To solve this, let's check if we can hard code the labels based on if the title consists \"Owner\" or \"Founder\". "
   ],
   "id": "4a93e9bb506c39d3"
  },
  {
   "metadata": {
    "ExecuteTime": {
     "end_time": "2024-09-30T22:18:38.734166Z",
     "start_time": "2024-09-30T22:18:38.729462Z"
    }
   },
   "cell_type": "code",
   "source": "job_level_data[job_level_data[\"Title\"].apply(lambda title: \"Owner\" in title)]",
   "id": "ada93b13161f6e16",
   "outputs": [
    {
     "data": {
      "text/plain": [
       "                                                  Title  \\\n",
       "30                               Owner & Data Architect   \n",
       "896   Senior Manager Product Owner, Wireless Expansi...   \n",
       "998                        Co-Owner & Marketing Manager   \n",
       "1054                                     Practice Owner   \n",
       "1222       Co-Owner, Vice President and General Counsel   \n",
       "1481                     In App Learning Owner Software   \n",
       "1566                         Owner Services Coordinator   \n",
       "1632                                 Owner / Franchisee   \n",
       "1828         Senior Software Consultant / Product Owner   \n",
       "1847       Product Owner Digital, Data and IS Direction   \n",
       "\n",
       "                                    Label  \n",
       "30               [Chief Officer, Manager]  \n",
       "896   [Director, Manager, Vice President]  \n",
       "998              [Chief Officer, Manager]  \n",
       "1054       [Individual Contributor/Staff]  \n",
       "1222                              [Owner]  \n",
       "1481       [Individual Contributor/Staff]  \n",
       "1566       [Individual Contributor/Staff]  \n",
       "1632                      [Chief Officer]  \n",
       "1828       [Individual Contributor/Staff]  \n",
       "1847                            [Manager]  "
      ],
      "text/html": [
       "<div>\n",
       "<style scoped>\n",
       "    .dataframe tbody tr th:only-of-type {\n",
       "        vertical-align: middle;\n",
       "    }\n",
       "\n",
       "    .dataframe tbody tr th {\n",
       "        vertical-align: top;\n",
       "    }\n",
       "\n",
       "    .dataframe thead th {\n",
       "        text-align: right;\n",
       "    }\n",
       "</style>\n",
       "<table border=\"1\" class=\"dataframe\">\n",
       "  <thead>\n",
       "    <tr style=\"text-align: right;\">\n",
       "      <th></th>\n",
       "      <th>Title</th>\n",
       "      <th>Label</th>\n",
       "    </tr>\n",
       "  </thead>\n",
       "  <tbody>\n",
       "    <tr>\n",
       "      <th>30</th>\n",
       "      <td>Owner &amp; Data Architect</td>\n",
       "      <td>[Chief Officer, Manager]</td>\n",
       "    </tr>\n",
       "    <tr>\n",
       "      <th>896</th>\n",
       "      <td>Senior Manager Product Owner, Wireless Expansi...</td>\n",
       "      <td>[Director, Manager, Vice President]</td>\n",
       "    </tr>\n",
       "    <tr>\n",
       "      <th>998</th>\n",
       "      <td>Co-Owner &amp; Marketing Manager</td>\n",
       "      <td>[Chief Officer, Manager]</td>\n",
       "    </tr>\n",
       "    <tr>\n",
       "      <th>1054</th>\n",
       "      <td>Practice Owner</td>\n",
       "      <td>[Individual Contributor/Staff]</td>\n",
       "    </tr>\n",
       "    <tr>\n",
       "      <th>1222</th>\n",
       "      <td>Co-Owner, Vice President and General Counsel</td>\n",
       "      <td>[Owner]</td>\n",
       "    </tr>\n",
       "    <tr>\n",
       "      <th>1481</th>\n",
       "      <td>In App Learning Owner Software</td>\n",
       "      <td>[Individual Contributor/Staff]</td>\n",
       "    </tr>\n",
       "    <tr>\n",
       "      <th>1566</th>\n",
       "      <td>Owner Services Coordinator</td>\n",
       "      <td>[Individual Contributor/Staff]</td>\n",
       "    </tr>\n",
       "    <tr>\n",
       "      <th>1632</th>\n",
       "      <td>Owner / Franchisee</td>\n",
       "      <td>[Chief Officer]</td>\n",
       "    </tr>\n",
       "    <tr>\n",
       "      <th>1828</th>\n",
       "      <td>Senior Software Consultant / Product Owner</td>\n",
       "      <td>[Individual Contributor/Staff]</td>\n",
       "    </tr>\n",
       "    <tr>\n",
       "      <th>1847</th>\n",
       "      <td>Product Owner Digital, Data and IS Direction</td>\n",
       "      <td>[Manager]</td>\n",
       "    </tr>\n",
       "  </tbody>\n",
       "</table>\n",
       "</div>"
      ]
     },
     "execution_count": 297,
     "metadata": {},
     "output_type": "execute_result"
    }
   ],
   "execution_count": 297
  },
  {
   "metadata": {},
   "cell_type": "markdown",
   "source": [
    "As not all titles which contain words \"Owner\" and \"Founder\" are labeled as \"Owner\", therefore we can not make a decision to hard-code this category. We can conclude that the label can not be reasonably predicted given the data provided. As there is usually only a few owners of the company, we can assume that this data might be entered manually. \n",
    "\n",
    "Therefore, we will remove the entries with the \"Owner\" label."
   ],
   "id": "692fe4a3f26d0184"
  },
  {
   "metadata": {
    "ExecuteTime": {
     "end_time": "2024-09-30T22:18:38.777061Z",
     "start_time": "2024-09-30T22:18:38.774719Z"
    }
   },
   "cell_type": "code",
   "source": "job_level_data.drop(owner_label_entries.index, inplace=True)",
   "id": "75149e20a292c8d2",
   "outputs": [],
   "execution_count": 298
  },
  {
   "metadata": {},
   "cell_type": "markdown",
   "source": "### Label One-Hot Encoding\n",
   "id": "47030c96f1f779d0"
  },
  {
   "metadata": {
    "ExecuteTime": {
     "end_time": "2024-09-30T22:18:38.835739Z",
     "start_time": "2024-09-30T22:18:38.828381Z"
    }
   },
   "cell_type": "code",
   "source": [
    "mlb = MultiLabelBinarizer()\n",
    "one_hot_encoded_labels = mlb.fit_transform(job_level_data[\"Label\"])\n",
    "one_hot_df = pd.DataFrame(one_hot_encoded_labels, columns=mlb.classes_)\n",
    "job_level_data[\"Label\"] = one_hot_df.values.tolist()\n",
    "\n",
    "classes_labels = mlb.classes_\n",
    "print(classes_labels)\n",
    "job_level_data"
   ],
   "id": "3a81cfaf1446d431",
   "outputs": [
    {
     "name": "stdout",
     "output_type": "stream",
     "text": [
      "['Chief Officer' 'Director' 'Individual Contributor/Staff' 'Manager'\n",
      " 'Vice President']\n"
     ]
    },
    {
     "data": {
      "text/plain": [
       "                                                  Title            Label\n",
       "0      Vice President / Director of Systems Engineering  [0, 0, 0, 0, 1]\n",
       "1                   Systems Engineer; Systems Architect  [0, 0, 1, 1, 0]\n",
       "2     Executive Director, Global IT Infrastructure /...  [1, 1, 0, 0, 0]\n",
       "3         CTO/Executive Director of Technology Services  [1, 1, 0, 0, 0]\n",
       "4                                   Vice President, CIO  [0, 0, 0, 0, 1]\n",
       "...                                                 ...              ...\n",
       "2235       Net Software Architect and Team Project Lead  [0, 0, 0, 1, 0]\n",
       "2236               Solutions Architect & Technical Lead  [0, 0, 1, 1, 0]\n",
       "2237  Manager, Salesforcecom Administration and Rele...  [0, 0, 0, 1, 0]\n",
       "2238                    Innovation Automation Architect  [0, 0, 0, 1, 0]\n",
       "2239      Founder and Chief Executive Officer, Kindbody  [1, 0, 0, 0, 0]\n",
       "\n",
       "[2226 rows x 2 columns]"
      ],
      "text/html": [
       "<div>\n",
       "<style scoped>\n",
       "    .dataframe tbody tr th:only-of-type {\n",
       "        vertical-align: middle;\n",
       "    }\n",
       "\n",
       "    .dataframe tbody tr th {\n",
       "        vertical-align: top;\n",
       "    }\n",
       "\n",
       "    .dataframe thead th {\n",
       "        text-align: right;\n",
       "    }\n",
       "</style>\n",
       "<table border=\"1\" class=\"dataframe\">\n",
       "  <thead>\n",
       "    <tr style=\"text-align: right;\">\n",
       "      <th></th>\n",
       "      <th>Title</th>\n",
       "      <th>Label</th>\n",
       "    </tr>\n",
       "  </thead>\n",
       "  <tbody>\n",
       "    <tr>\n",
       "      <th>0</th>\n",
       "      <td>Vice President / Director of Systems Engineering</td>\n",
       "      <td>[0, 0, 0, 0, 1]</td>\n",
       "    </tr>\n",
       "    <tr>\n",
       "      <th>1</th>\n",
       "      <td>Systems Engineer; Systems Architect</td>\n",
       "      <td>[0, 0, 1, 1, 0]</td>\n",
       "    </tr>\n",
       "    <tr>\n",
       "      <th>2</th>\n",
       "      <td>Executive Director, Global IT Infrastructure /...</td>\n",
       "      <td>[1, 1, 0, 0, 0]</td>\n",
       "    </tr>\n",
       "    <tr>\n",
       "      <th>3</th>\n",
       "      <td>CTO/Executive Director of Technology Services</td>\n",
       "      <td>[1, 1, 0, 0, 0]</td>\n",
       "    </tr>\n",
       "    <tr>\n",
       "      <th>4</th>\n",
       "      <td>Vice President, CIO</td>\n",
       "      <td>[0, 0, 0, 0, 1]</td>\n",
       "    </tr>\n",
       "    <tr>\n",
       "      <th>...</th>\n",
       "      <td>...</td>\n",
       "      <td>...</td>\n",
       "    </tr>\n",
       "    <tr>\n",
       "      <th>2235</th>\n",
       "      <td>Net Software Architect and Team Project Lead</td>\n",
       "      <td>[0, 0, 0, 1, 0]</td>\n",
       "    </tr>\n",
       "    <tr>\n",
       "      <th>2236</th>\n",
       "      <td>Solutions Architect &amp; Technical Lead</td>\n",
       "      <td>[0, 0, 1, 1, 0]</td>\n",
       "    </tr>\n",
       "    <tr>\n",
       "      <th>2237</th>\n",
       "      <td>Manager, Salesforcecom Administration and Rele...</td>\n",
       "      <td>[0, 0, 0, 1, 0]</td>\n",
       "    </tr>\n",
       "    <tr>\n",
       "      <th>2238</th>\n",
       "      <td>Innovation Automation Architect</td>\n",
       "      <td>[0, 0, 0, 1, 0]</td>\n",
       "    </tr>\n",
       "    <tr>\n",
       "      <th>2239</th>\n",
       "      <td>Founder and Chief Executive Officer, Kindbody</td>\n",
       "      <td>[1, 0, 0, 0, 0]</td>\n",
       "    </tr>\n",
       "  </tbody>\n",
       "</table>\n",
       "<p>2226 rows × 2 columns</p>\n",
       "</div>"
      ]
     },
     "execution_count": 299,
     "metadata": {},
     "output_type": "execute_result"
    }
   ],
   "execution_count": 299
  },
  {
   "metadata": {
    "ExecuteTime": {
     "end_time": "2024-09-30T22:18:38.891495Z",
     "start_time": "2024-09-30T22:18:38.881668Z"
    }
   },
   "cell_type": "code",
   "source": [
    "def preprocess_text(text):\n",
    "    text = re.sub(r'[^\\w\\s]', ' ', text)\n",
    "    text = re.sub(r'\\s+', ' ', text).strip()\n",
    "    return text\n",
    "\n",
    "job_level_data[\"Title\"] = job_level_data[\"Title\"].apply(preprocess_text)\n",
    "job_level_data"
   ],
   "id": "a7d3c71a0e8bffa",
   "outputs": [
    {
     "data": {
      "text/plain": [
       "                                                  Title            Label\n",
       "0        Vice President Director of Systems Engineering  [0, 0, 0, 0, 1]\n",
       "1                    Systems Engineer Systems Architect  [0, 0, 1, 1, 0]\n",
       "2     Executive Director Global IT Infrastructure Ch...  [1, 1, 0, 0, 0]\n",
       "3         CTO Executive Director of Technology Services  [1, 1, 0, 0, 0]\n",
       "4                                    Vice President CIO  [0, 0, 0, 0, 1]\n",
       "...                                                 ...              ...\n",
       "2235       Net Software Architect and Team Project Lead  [0, 0, 0, 1, 0]\n",
       "2236                 Solutions Architect Technical Lead  [0, 0, 1, 1, 0]\n",
       "2237  Manager Salesforcecom Administration and Relea...  [0, 0, 0, 1, 0]\n",
       "2238                    Innovation Automation Architect  [0, 0, 0, 1, 0]\n",
       "2239       Founder and Chief Executive Officer Kindbody  [1, 0, 0, 0, 0]\n",
       "\n",
       "[2226 rows x 2 columns]"
      ],
      "text/html": [
       "<div>\n",
       "<style scoped>\n",
       "    .dataframe tbody tr th:only-of-type {\n",
       "        vertical-align: middle;\n",
       "    }\n",
       "\n",
       "    .dataframe tbody tr th {\n",
       "        vertical-align: top;\n",
       "    }\n",
       "\n",
       "    .dataframe thead th {\n",
       "        text-align: right;\n",
       "    }\n",
       "</style>\n",
       "<table border=\"1\" class=\"dataframe\">\n",
       "  <thead>\n",
       "    <tr style=\"text-align: right;\">\n",
       "      <th></th>\n",
       "      <th>Title</th>\n",
       "      <th>Label</th>\n",
       "    </tr>\n",
       "  </thead>\n",
       "  <tbody>\n",
       "    <tr>\n",
       "      <th>0</th>\n",
       "      <td>Vice President Director of Systems Engineering</td>\n",
       "      <td>[0, 0, 0, 0, 1]</td>\n",
       "    </tr>\n",
       "    <tr>\n",
       "      <th>1</th>\n",
       "      <td>Systems Engineer Systems Architect</td>\n",
       "      <td>[0, 0, 1, 1, 0]</td>\n",
       "    </tr>\n",
       "    <tr>\n",
       "      <th>2</th>\n",
       "      <td>Executive Director Global IT Infrastructure Ch...</td>\n",
       "      <td>[1, 1, 0, 0, 0]</td>\n",
       "    </tr>\n",
       "    <tr>\n",
       "      <th>3</th>\n",
       "      <td>CTO Executive Director of Technology Services</td>\n",
       "      <td>[1, 1, 0, 0, 0]</td>\n",
       "    </tr>\n",
       "    <tr>\n",
       "      <th>4</th>\n",
       "      <td>Vice President CIO</td>\n",
       "      <td>[0, 0, 0, 0, 1]</td>\n",
       "    </tr>\n",
       "    <tr>\n",
       "      <th>...</th>\n",
       "      <td>...</td>\n",
       "      <td>...</td>\n",
       "    </tr>\n",
       "    <tr>\n",
       "      <th>2235</th>\n",
       "      <td>Net Software Architect and Team Project Lead</td>\n",
       "      <td>[0, 0, 0, 1, 0]</td>\n",
       "    </tr>\n",
       "    <tr>\n",
       "      <th>2236</th>\n",
       "      <td>Solutions Architect Technical Lead</td>\n",
       "      <td>[0, 0, 1, 1, 0]</td>\n",
       "    </tr>\n",
       "    <tr>\n",
       "      <th>2237</th>\n",
       "      <td>Manager Salesforcecom Administration and Relea...</td>\n",
       "      <td>[0, 0, 0, 1, 0]</td>\n",
       "    </tr>\n",
       "    <tr>\n",
       "      <th>2238</th>\n",
       "      <td>Innovation Automation Architect</td>\n",
       "      <td>[0, 0, 0, 1, 0]</td>\n",
       "    </tr>\n",
       "    <tr>\n",
       "      <th>2239</th>\n",
       "      <td>Founder and Chief Executive Officer Kindbody</td>\n",
       "      <td>[1, 0, 0, 0, 0]</td>\n",
       "    </tr>\n",
       "  </tbody>\n",
       "</table>\n",
       "<p>2226 rows × 2 columns</p>\n",
       "</div>"
      ]
     },
     "execution_count": 300,
     "metadata": {},
     "output_type": "execute_result"
    }
   ],
   "execution_count": 300
  },
  {
   "metadata": {},
   "cell_type": "markdown",
   "source": "We do not perform any other preprocessing steps, such as stemming or lemmatization, as the BERT model is designed to understand textual data in context.",
   "id": "3f567f0ccd815ec0"
  },
  {
   "metadata": {},
   "cell_type": "markdown",
   "source": [
    "### Tokenization\n",
    "Cased BERT model will be used to tokenize the data (wordpiece algorithm). The cased model was chosen as the data contains abbreviations which are case-sensitive."
   ],
   "id": "cd248386ddac660e"
  },
  {
   "metadata": {
    "ExecuteTime": {
     "end_time": "2024-09-30T22:18:39.231846Z",
     "start_time": "2024-09-30T22:18:38.945135Z"
    }
   },
   "cell_type": "code",
   "source": "tokenizer = BertTokenizer.from_pretrained('bert-base-cased')",
   "id": "f9ef271c6ed6bdca",
   "outputs": [],
   "execution_count": 301
  },
  {
   "metadata": {
    "ExecuteTime": {
     "end_time": "2024-09-30T22:18:39.344654Z",
     "start_time": "2024-09-30T22:18:39.252084Z"
    }
   },
   "cell_type": "code",
   "source": [
    "def split_text(text):\n",
    "    return tokenizer.tokenize(text)\n",
    "\n",
    "max_len = job_level_data[\"Title\"].apply(split_text).apply(len).max()\n",
    "print(\"Maximum lengths of tokenized sentence: \", max_len)"
   ],
   "id": "141549ff53d33aa2",
   "outputs": [
    {
     "name": "stdout",
     "output_type": "stream",
     "text": [
      "Maximum lengths of tokenized sentence:  21\n"
     ]
    }
   ],
   "execution_count": 302
  },
  {
   "metadata": {},
   "cell_type": "markdown",
   "source": [
    "## Dataset Loading\n",
    "Define important constants"
   ],
   "id": "e8410d40296b0269"
  },
  {
   "metadata": {
    "ExecuteTime": {
     "end_time": "2024-09-30T22:18:39.352404Z",
     "start_time": "2024-09-30T22:18:39.350606Z"
    }
   },
   "cell_type": "code",
   "source": [
    "RANDOM_SEED = 42\n",
    "MAX_LEN = 30\n",
    "BATCH_SIZE = 64\n",
    "MAX_EPOCHS = 50\n",
    "EARLY_STOPPING_PAT = 5\n",
    "THRESHOLD = 0.5"
   ],
   "id": "64ca06eeb833d917",
   "outputs": [],
   "execution_count": 303
  },
  {
   "metadata": {
    "ExecuteTime": {
     "end_time": "2024-09-30T22:18:39.368987Z",
     "start_time": "2024-09-30T22:18:39.366124Z"
    }
   },
   "cell_type": "code",
   "source": [
    "# handle data preprocessing\n",
    "class JobTitlesDataset(Dataset):\n",
    "    def __init__(self, titles, labels, tokenizer, max_len):\n",
    "        self.titles = titles\n",
    "        self.labels = labels\n",
    "        self.tokenizer = tokenizer\n",
    "        self.max_len = max_len  # maximum length of tokenized sentence\n",
    "\n",
    "    def __len__(self):\n",
    "        return len(self.titles)\n",
    "\n",
    "    def __getitem__(self, item):\n",
    "        encoded_data = self.tokenizer.encode_plus(\n",
    "            self.titles[item],\n",
    "            add_special_tokens=True,  # tokens required for BERT\n",
    "            max_length=self.max_len,\n",
    "            return_token_type_ids=False,  # no sentence pair task\n",
    "            padding='max_length',\n",
    "            truncation=True,\n",
    "            return_attention_mask=True,  # differentiate between padding and data\n",
    "            return_tensors='pt'\n",
    "        )\n",
    "        return {\n",
    "            'input_ids': encoded_data['input_ids'].flatten(),\n",
    "            'attention_mask': encoded_data['attention_mask'].flatten(),\n",
    "            'labels': torch.tensor(self.labels[item], dtype=torch.float)\n",
    "        }"
   ],
   "id": "5759cfe56d236bef",
   "outputs": [],
   "execution_count": 304
  },
  {
   "metadata": {},
   "cell_type": "markdown",
   "source": "### Train Test Split",
   "id": "b5c2c2adbe4e9b14"
  },
  {
   "metadata": {
    "ExecuteTime": {
     "end_time": "2024-09-30T22:18:39.388781Z",
     "start_time": "2024-09-30T22:18:39.382672Z"
    }
   },
   "cell_type": "code",
   "source": [
    "X_train, X_test, y_train, y_test = train_test_split(\n",
    "    job_level_data['Title'],\n",
    "    job_level_data['Label'],\n",
    "    test_size=0.2,\n",
    "    random_state=RANDOM_SEED,\n",
    "    shuffle=True\n",
    ")\n",
    "\n",
    "X_train = X_train.reset_index(drop=True)\n",
    "y_train = y_train.reset_index(drop=True)\n",
    "X_test = X_test.reset_index(drop=True)\n",
    "y_test = y_test.reset_index(drop=True)\n",
    "\n",
    "print(f\"Train data: {X_train.shape}\")\n",
    "print(f\"Test data: {X_test.shape}\")"
   ],
   "id": "822f58c7f4e5b14d",
   "outputs": [
    {
     "name": "stdout",
     "output_type": "stream",
     "text": [
      "Train data: (1780,)\n",
      "Test data: (446,)\n"
     ]
    }
   ],
   "execution_count": 305
  },
  {
   "metadata": {
    "ExecuteTime": {
     "end_time": "2024-09-30T22:18:39.417051Z",
     "start_time": "2024-09-30T22:18:39.408118Z"
    }
   },
   "cell_type": "code",
   "source": [
    "train_dataset = JobTitlesDataset(\n",
    "    titles=X_train,\n",
    "    labels=y_train,\n",
    "    tokenizer=tokenizer,\n",
    "    max_len=MAX_LEN\n",
    ")\n",
    "\n",
    "test_dataset = JobTitlesDataset(\n",
    "    titles=X_test,\n",
    "    labels=y_test,\n",
    "    tokenizer=tokenizer,\n",
    "    max_len=MAX_LEN\n",
    ")\n",
    "\n",
    "train_loader = DataLoader(\n",
    "    train_dataset,\n",
    "    batch_size=BATCH_SIZE,\n",
    "    shuffle=True\n",
    ")\n",
    "\n",
    "test_loader = DataLoader(\n",
    "    test_dataset,\n",
    "    batch_size=BATCH_SIZE,\n",
    "    shuffle=True\n",
    ")"
   ],
   "id": "edc4443b6ac1413c",
   "outputs": [],
   "execution_count": 306
  },
  {
   "metadata": {},
   "cell_type": "markdown",
   "source": "## Model Definition and Training",
   "id": "43e8c61193fad5f3"
  },
  {
   "metadata": {
    "ExecuteTime": {
     "end_time": "2024-09-30T22:18:42.156168Z",
     "start_time": "2024-09-30T22:18:39.432372Z"
    }
   },
   "cell_type": "code",
   "source": [
    "class JobTitleClassifier(nn.Module):\n",
    "    def __init__(self, n_classes):\n",
    "        super(JobTitleClassifier, self).__init__()\n",
    "        self.bert = BertModel.from_pretrained('bert-base-cased') # pre-trained bert model\n",
    "        self.dropout = torch.nn.Dropout(0.3) # regularization\n",
    "        self.linear = torch.nn.Linear(self.bert.config.hidden_size, n_classes) # classification \n",
    "    \n",
    "    def forward(self, input_ids, attention_mask):\n",
    "        output = self.bert(input_ids, attention_mask)\n",
    "        output = self.dropout(output.pooler_output)\n",
    "        output = self.linear(output)\n",
    "        return output\n",
    "\n",
    "model_bert_classifier = JobTitleClassifier(len(mlb.classes_)).to(device)"
   ],
   "id": "223bec2bbe288b7",
   "outputs": [],
   "execution_count": 307
  },
  {
   "metadata": {},
   "cell_type": "markdown",
   "source": "",
   "id": "ef9394efdc29ccd3"
  },
  {
   "metadata": {
    "ExecuteTime": {
     "end_time": "2024-09-30T22:18:42.191153Z",
     "start_time": "2024-09-30T22:18:42.182712Z"
    }
   },
   "cell_type": "code",
   "source": [
    "adam_optimizer = torch.optim.AdamW(model_bert_classifier.parameters(), lr=1e-5)\n",
    "bce_loss = nn.BCEWithLogitsLoss() # includes sigmoid activation\n",
    "plateau_scheduler = torch.optim.lr_scheduler.ReduceLROnPlateau(adam_optimizer, mode='min', patience=3, factor=0.5)"
   ],
   "id": "4fd5c9a74af6011e",
   "outputs": [],
   "execution_count": 308
  },
  {
   "metadata": {
    "ExecuteTime": {
     "end_time": "2024-09-30T22:18:42.208479Z",
     "start_time": "2024-09-30T22:18:42.205065Z"
    }
   },
   "cell_type": "code",
   "source": [
    "def train_classifier(model,\n",
    "                     data_loader,\n",
    "                     loss_fn,\n",
    "                     optimizer,\n",
    "                     device):\n",
    "    model = model.train()\n",
    "    losses = []\n",
    "    \n",
    "    for batch_num, batch in enumerate(data_loader):\n",
    "        input_ids = batch['input_ids'].to(device)\n",
    "        attention_mask = batch['attention_mask'].to(device)\n",
    "        true_labels = batch['labels'].to(device)\n",
    "\n",
    "        outputs = model(input_ids, attention_mask)\n",
    "        loss = loss_fn(outputs, true_labels)\n",
    "        losses.append(loss.item())\n",
    "        \n",
    "        loss.backward()\n",
    "        optimizer.step()\n",
    "        optimizer.zero_grad()\n",
    "        \n",
    "    return np.mean(losses)\n"
   ],
   "id": "8296adbacab10345",
   "outputs": [],
   "execution_count": 309
  },
  {
   "metadata": {
    "ExecuteTime": {
     "end_time": "2024-09-30T22:18:42.225161Z",
     "start_time": "2024-09-30T22:18:42.221557Z"
    }
   },
   "cell_type": "code",
   "source": [
    "def validation(model,\n",
    "               data_loader,\n",
    "               loss_fn,\n",
    "               device):\n",
    "    \n",
    "    model = model.eval()\n",
    "    losses = []\n",
    "    predictions = []\n",
    "    targets = []\n",
    "    \n",
    "    # ensures no gradients are computed during test mode\n",
    "    with torch.no_grad():\n",
    "        for batch in data_loader:\n",
    "            input_ids = batch['input_ids'].to(device)\n",
    "            attention_mask = batch['attention_mask'].to(device)\n",
    "            true_labels = batch['labels'].to(device)\n",
    "            \n",
    "            outputs = model(input_ids, attention_mask)\n",
    "            eval_loss = loss_fn(outputs, true_labels).item()\n",
    "            losses.append(eval_loss)\n",
    "            \n",
    "            preds = torch.sigmoid(outputs)\n",
    "            predictions.extend(preds.cpu().numpy())\n",
    "            targets.extend(true_labels.cpu().numpy())\n",
    "            \n",
    "    return np.mean(losses), predictions, targets"
   ],
   "id": "35b0c71cc0e935f6",
   "outputs": [],
   "execution_count": 310
  },
  {
   "metadata": {},
   "cell_type": "markdown",
   "source": [
    "### Training and Evaluation Process\n",
    "According to [Correlation analysis of performance measures for multi-label classification (2013)](https://www.sciencedirect.com/science/article/abs/pii/S0306457318300165), these are the most widely-used performance measures for multi-label classification:\n",
    "- **Hamming Loss**: the most recommended due to its lack of correlation with other measures (avoiding redundancy) and being the most employed in literature at the time of paper writing.\n",
    "- **F1 and Accuracy**: have strong correlation with other metrics, making them representative measures that reduce the need to report multiple similar metrics.\n",
    "\n"
   ],
   "id": "99ebe868c2e4d025"
  },
  {
   "metadata": {
    "ExecuteTime": {
     "end_time": "2024-09-30T22:24:09.774509Z",
     "start_time": "2024-09-30T22:18:42.252662Z"
    }
   },
   "cell_type": "code",
   "source": [
    "train_losses = []\n",
    "val_losses = []\n",
    "\n",
    "hamming_loss_scores = []\n",
    "f1_scores = []\n",
    "accuracy_scores = []\n",
    "\n",
    "all_targets = []\n",
    "all_predictions = []\n",
    "\n",
    "best_loss = float('inf')\n",
    "best_model_weights = None\n",
    "\n",
    "for epoch in range(MAX_EPOCHS):\n",
    "    print(f'Epoch {epoch + 1}/{EPOCHS}')\n",
    "\n",
    "    # Training\n",
    "    train_loss = train_classifier(model_bert_classifier, train_loader, bce_loss, adam_optimizer, device)\n",
    "    train_losses.append(train_loss)\n",
    "\n",
    "    # Validation\n",
    "    val_loss, predictions, targets = validation(model_bert_classifier, test_loader, bce_loss, device)\n",
    "    val_losses.append(val_loss)\n",
    "\n",
    "    # Update learning rate\n",
    "    plateau_scheduler.step(val_loss)\n",
    "    print(f\"Current learning rate: {adam_optimizer.param_groups[0]['lr']}\")\n",
    "\n",
    "    predictions = np.array(predictions) >= THRESHOLD\n",
    "    targets = np.array(targets)\n",
    "\n",
    "    all_targets.extend(targets)\n",
    "    all_predictions.extend(predictions)\n",
    "\n",
    "    print(f\"Training loss: {train_loss:.5f}, Validation loss: {val_loss:.5f}\")\n",
    "\n",
    "    accuracy = accuracy_score(targets, predictions)\n",
    "    print(f\"Accuracy: {accuracy:.5f}\")\n",
    "\n",
    "    f1 = f1_score(targets, predictions, average='macro', zero_division=1)\n",
    "    print(f\"F1: {f1:.5f}\")\n",
    "\n",
    "    hamming_loss_score = hamming_loss(targets, predictions)\n",
    "    print(f\"Hamming Loss: {hamming_loss_score:.5f}\")\n",
    "\n",
    "    hamming_loss_scores.append(hamming_loss_score)\n",
    "    f1_scores.append(f1)\n",
    "    accuracy_scores.append(accuracy)\n",
    "\n",
    "    # Early stopping\n",
    "    if val_loss < best_loss:\n",
    "        best_loss = val_loss\n",
    "        best_model_weights = copy.deepcopy(model.state_dict())  # Deep copy here      \n",
    "        patience = 10  # Reset patience counter\n",
    "    else:\n",
    "        patience -= 1\n",
    "        if patience == 0:\n",
    "            break\n",
    "\n",
    "    model_bert_classifier.load_state_dict(best_model_weights)\n",
    "    print(\"\\n\")"
   ],
   "id": "4e71c6135ce36bb7",
   "outputs": [
    {
     "name": "stdout",
     "output_type": "stream",
     "text": [
      "Epoch 1/10\n",
      "Current learning rate: 1e-05\n",
      "Training loss: 0.62372, Validation loss: 0.46056\n",
      "Accuracy: 0.47085\n",
      "F1: 0.14272\n",
      "Hamming Loss: 0.19462\n",
      "\n",
      "\n",
      "Epoch 2/10\n",
      "Current learning rate: 1e-05\n",
      "Training loss: 0.41004, Validation loss: 0.32886\n",
      "Accuracy: 0.58744\n",
      "F1: 0.35703\n",
      "Hamming Loss: 0.10359\n",
      "\n",
      "\n",
      "Epoch 3/10\n",
      "Current learning rate: 1e-05\n",
      "Training loss: 0.30254, Validation loss: 0.25098\n",
      "Accuracy: 0.76682\n",
      "F1: 0.53061\n",
      "Hamming Loss: 0.06816\n",
      "\n",
      "\n",
      "Epoch 4/10\n",
      "Current learning rate: 1e-05\n",
      "Training loss: 0.23706, Validation loss: 0.20735\n",
      "Accuracy: 0.78027\n",
      "F1: 0.54609\n",
      "Hamming Loss: 0.06099\n",
      "\n",
      "\n",
      "Epoch 5/10\n",
      "Current learning rate: 1e-05\n",
      "Training loss: 0.19840, Validation loss: 0.18373\n",
      "Accuracy: 0.81839\n",
      "F1: 0.67983\n",
      "Hamming Loss: 0.05381\n",
      "\n",
      "\n",
      "Epoch 6/10\n",
      "Current learning rate: 1e-05\n",
      "Training loss: 0.17028, Validation loss: 0.16530\n",
      "Accuracy: 0.84978\n",
      "F1: 0.78129\n",
      "Hamming Loss: 0.04574\n",
      "\n",
      "\n",
      "Epoch 7/10\n",
      "Current learning rate: 1e-05\n",
      "Training loss: 0.15319, Validation loss: 0.15210\n",
      "Accuracy: 0.85426\n",
      "F1: 0.81767\n",
      "Hamming Loss: 0.04350\n",
      "\n",
      "\n",
      "Epoch 8/10\n",
      "Current learning rate: 1e-05\n",
      "Training loss: 0.13746, Validation loss: 0.14190\n",
      "Accuracy: 0.85874\n",
      "F1: 0.80331\n",
      "Hamming Loss: 0.04395\n",
      "\n",
      "\n",
      "Epoch 9/10\n",
      "Current learning rate: 1e-05\n",
      "Training loss: 0.12235, Validation loss: 0.14056\n",
      "Accuracy: 0.86099\n",
      "F1: 0.81451\n",
      "Hamming Loss: 0.04439\n",
      "\n",
      "\n",
      "Epoch 10/10\n",
      "Current learning rate: 1e-05\n",
      "Training loss: 0.11158, Validation loss: 0.13315\n",
      "Accuracy: 0.85874\n",
      "F1: 0.83883\n",
      "Hamming Loss: 0.04126\n",
      "\n",
      "\n"
     ]
    }
   ],
   "execution_count": 311
  },
  {
   "metadata": {},
   "cell_type": "markdown",
   "source": "## Results Interpretation",
   "id": "6f5760987ab06b61"
  },
  {
   "metadata": {
    "ExecuteTime": {
     "end_time": "2024-09-30T22:24:10.384218Z",
     "start_time": "2024-09-30T22:24:09.824948Z"
    }
   },
   "cell_type": "code",
   "source": [
    "fig, (ax1, ax2) = plt.subplots(2, 1, figsize=(10, 14))\n",
    "\n",
    "ax1.plot(train_losses, label='Training Loss')\n",
    "ax1.plot(val_losses, label='Validation Loss')\n",
    "ax1.set_xlabel('Epoch')\n",
    "ax1.set_ylabel('Loss')\n",
    "ax1.set_title('Training and Validation Loss')\n",
    "ax1.legend()\n",
    "\n",
    "ax2.plot(hamming_loss_scores, label='Hamming Loss')\n",
    "ax2.plot(f1_scores, label='F1 Score')\n",
    "ax2.plot(accuracy_scores, label='Accuracy')\n",
    "ax2.set_xlabel('Epoch')\n",
    "ax2.set_ylabel('Score')\n",
    "ax2.set_title('Hamming Loss, F1 Score, and Accuracy')\n",
    "ax2.legend()\n",
    "\n",
    "plt.tight_layout()\n",
    "plt.show()"
   ],
   "id": "d510fc7b8271e067",
   "outputs": [
    {
     "data": {
      "text/plain": [
       "<Figure size 1000x1400 with 2 Axes>"
      ],
      "image/png": "[encoded data removed]"
     },
     "metadata": {},
     "output_type": "display_data"
    }
   ],
   "execution_count": 312
  },
  {
   "metadata": {
    "ExecuteTime": {
     "end_time": "2024-09-30T22:24:11.228855Z",
     "start_time": "2024-09-30T22:24:10.430358Z"
    }
   },
   "cell_type": "code",
   "source": [
    "cm = multilabel_confusion_matrix(np.array(all_targets), np.array(all_predictions))\n",
    "\n",
    "f, axes = plt.subplots(2, 3, figsize=(16, 10))\n",
    "f.suptitle(\"Confusion Matrix for each Label\")\n",
    "\n",
    "for i, matrix in enumerate(cm):\n",
    "    with np.errstate(invalid='ignore'):\n",
    "        normalized_matrix = matrix.astype('float') / matrix.sum(axis=1)[:, np.newaxis] * 100\n",
    "        normalized_matrix[np.isnan(normalized_matrix)] = 0 \n",
    "    ax = axes[i//3, i % 3]\n",
    "    sns.heatmap(normalized_matrix, annot=True, cmap='Blues', ax = ax)\n",
    "    ax.set_xlabel('Predicted')\n",
    "    ax.set_ylabel('True')\n",
    "    ax.set_title(classes_labels[i])\n",
    "\n",
    "plt.show()"
   ],
   "id": "39085ede8f1d24ad",
   "outputs": [
    {
     "data": {
      "text/plain": [
       "<Figure size 1600x1000 with 11 Axes>"
      ],
      "image/png": "[encoded data removed]"
     },
     "metadata": {},
     "output_type": "display_data"
    }
   ],
   "execution_count": 313
  }
 ],
 "metadata": {
  "kernelspec": {
   "display_name": "Python 3",
   "language": "python",
   "name": "python3"
  },
  "language_info": {
   "codemirror_mode": {
    "name": "ipython",
    "version": 2
   },
   "file_extension": ".py",
   "mimetype": "text/x-python",
   "name": "python",
   "nbconvert_exporter": "python",
   "pygments_lexer": "ipython2",
   "version": "2.7.6"
  }
 },
 "nbformat": 4,
 "nbformat_minor": 5
}
